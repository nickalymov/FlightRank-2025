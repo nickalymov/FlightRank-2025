{
 "cells": [
  {
   "cell_type": "code",
   "outputs": [],
   "source": [
    "# --------------------------------------------------------------------------\n",
    "# | БЛОК 1: Импорт необходимых библиотек                                   |\n",
    "# --------------------------------------------------------------------------\n",
    "\n",
    "import pandas as pd\n",
    "import numpy as np\n",
    "import torch\n",
    "import torch.nn as nn\n",
    "from torch.optim import Adam\n",
    "from tqdm import tqdm\n",
    "import gc "
   ],
   "metadata": {
    "collapsed": false,
    "ExecuteTime": {
     "end_time": "2025-08-08T00:12:36.426712500Z",
     "start_time": "2025-08-08T00:12:33.487912Z"
    }
   },
   "id": "e56c094aa9561d42",
   "execution_count": 1
  },
  {
   "cell_type": "code",
   "outputs": [],
   "source": [
    "# --------------------------------------------------------------------------\n",
    "# | БЛОК 2: Конфигурация проекта                                           |\n",
    "# --------------------------------------------------------------------------\n",
    "\n",
    "VER = 14\n",
    "CONFIG = {\n",
    "    'train_path': f'C:/Users/Николай/PycharmProjects/FlightRank_2025/mydata/1/1_train.parquet',\n",
    "    'test_path': f'C:/Users/Николай/PycharmProjects/FlightRank_2025/mydata/1/1_test.parquet',\n",
    "    'sample_submission_path': f'C:/Users/Николай/PycharmProjects/FlightRank_2025/data/sample_submission.parquet',\n",
    "\n",
    "    'DEVICE': 'cuda' if torch.cuda.is_available() else 'cpu', \n",
    "    'SEED': 42,\n",
    "    'BATCH_SIZE': 8192*4, \n",
    "    'LR': 0.001, \n",
    "    'EPOCHS': 3, \n",
    "    'WEIGHT_DECAY': 1e-5, \n",
    "\n",
    "    'embedding_dims': {},\n",
    "    'dropout_rate': 0.1, \n",
    "    'mlp_dims': [1024, 512, 256], \n",
    "    'num_cross_layers': 4,\n",
    "    'output_dim': 1 \n",
    "}\n",
    "\n",
    "np.random.seed(CONFIG['SEED'])\n",
    "torch.manual_seed(CONFIG['SEED'])\n",
    "if torch.cuda.is_available():\n",
    "    torch.cuda.manual_seed_all(CONFIG['SEED'])"
   ],
   "metadata": {
    "collapsed": false,
    "ExecuteTime": {
     "end_time": "2025-08-08T00:12:37.748811200Z",
     "start_time": "2025-08-08T00:12:37.729642400Z"
    }
   },
   "id": "17317e521eab514c",
   "execution_count": 2
  },
  {
   "cell_type": "code",
   "outputs": [
    {
     "name": "stdout",
     "output_type": "stream",
     "text": [
      "--- Предварительный расчет всех групповых фичей ---\n",
      "--- Предрасчет предпочтений компании по авиалиниям ---\n",
      "Все предварительные расчеты завершены.\n"
     ]
    }
   ],
   "source": [
    "# --------------------------------------------------------------------------\n",
    "# | БЛОК 3: Загрузка данных и Feature Engineering (ИСПРАВЛЕННЫЙ)           |\n",
    "# --------------------------------------------------------------------------\n",
    "\n",
    "train_df = pd.read_parquet(CONFIG['train_path'], engine='pyarrow')\n",
    "test_df = pd.read_parquet(CONFIG['test_path'], engine='pyarrow')\n",
    "\n",
    "# --- 1. Определение списков колонок ---\n",
    "# ... (остается без изменений) ...\n",
    "data_cols= ['legs0_arrivalAt', 'legs0_departureAt', 'legs1_arrivalAt', 'legs1_departureAt', 'requestDate']\n",
    "num_cols = ['legs0_duration', 'legs0_segments0_duration', 'legs0_segments1_duration', 'legs0_segments2_duration', 'legs0_segments3_duration', 'legs1_duration', 'legs1_segments0_duration', 'legs1_segments1_duration', 'legs1_segments2_duration', 'legs1_segments3_duration', 'miniRules0_monetaryAmount', 'miniRules1_monetaryAmount', 'taxes', 'totalPrice']\n",
    "bool_cols = ['isAccess3D', 'isVip', 'sex']\n",
    "cat_cols = [col for col in train_df.columns if col not in data_cols and col not in num_cols and col not in bool_cols and col not in  ['ranker_id', 'selected', 'frequentFlyer']]\n",
    "frequentFlyer_col = 'frequentFlyer'\n",
    "\n",
    "# --- 2. Определение размеров эмбеддингов ---\n",
    "# ... (остается без изменений) ...\n",
    "for col in cat_cols:\n",
    "    num_unique_values = train_df[col].nunique() + 1\n",
    "    embedding_dim = int(np.sqrt(num_unique_values))\n",
    "    CONFIG['embedding_dims'][col] = (num_unique_values, embedding_dim)\n",
    "all_ff_codes = train_df[frequentFlyer_col].str.split('/').explode().dropna().unique()\n",
    "ff_code_to_idx = {code: i for i, code in enumerate(all_ff_codes)}\n",
    "ff_unknown_idx = len(ff_code_to_idx)\n",
    "ff_embedding_dim = int(np.sqrt(len(all_ff_codes) + 1))\n",
    "CONFIG['embedding_dims'][frequentFlyer_col] = (len(ff_code_to_idx) + 1, ff_embedding_dim)\n",
    "\n",
    "# --- 3. ПРЕДВАРИТЕЛЬНЫЙ РАСЧЕТ ВСЕХ ГРУППОВЫХ ФИЧЕЙ ---\n",
    "print(\"--- Предварительный расчет всех групповых фичей ---\")\n",
    "# Используем combined_df для всех расчетов, чтобы сохранить исходный индекс\n",
    "combined_df = pd.concat([\n",
    "    train_df[['ranker_id', 'totalPrice', 'legs0_duration']], \n",
    "    test_df[['ranker_id', 'totalPrice', 'legs0_duration']]\n",
    "], ignore_index=True)\n",
    "\n",
    "# Рассчитываем ранги - они привязаны к каждой строке\n",
    "combined_df['price_rank'] = combined_df.groupby('ranker_id')['totalPrice'].rank(method='first').astype(int)\n",
    "combined_df['duration_rank'] = combined_df.groupby('ranker_id')['legs0_duration'].rank(method='first').astype(int)\n",
    "\n",
    "# Рассчитываем статистики и \"растягиваем\" их на все строки группы с помощью transform\n",
    "# Это самый эффективный способ для последующего merge\n",
    "group = combined_df.groupby('ranker_id')\n",
    "combined_df['price_min'] = group['totalPrice'].transform('min')\n",
    "combined_df['price_max'] = group['totalPrice'].transform('max')\n",
    "combined_df['price_mean'] = group['totalPrice'].transform('mean')\n",
    "combined_df['price_std'] = group['totalPrice'].transform('std').fillna(0)\n",
    "combined_df['duration_min'] = group['legs0_duration'].transform('min')\n",
    "combined_df['duration_max'] = group['legs0_duration'].transform('max')\n",
    "\n",
    "# Создаем финальную справочную таблицу, сбрасывая исходные колонки\n",
    "# Теперь group_features_df имеет тот же индекс, что и train_df/test_df\n",
    "group_features_df = combined_df.drop(columns=['totalPrice', 'legs0_duration'])\n",
    "\n",
    "# --- 4. ПРЕДРАСЧЕТ ПРЕДПОЧТЕНИЙ КОМПАНИИ ---\n",
    "print(\"--- Предрасчет предпочтений компании по авиалиниям ---\")\n",
    "company_prefs = train_df[train_df['selected'] == 1].groupby('companyID')['legs0_segments0_marketingCarrier_code'].agg(lambda x: x.value_counts().index[0]).to_dict()\n",
    "\n",
    "# --- 5. Определение списков новых фичей ---\n",
    "# Ранги теперь будут числовыми фичами\n",
    "new_numerical_cols = [\n",
    "    'price_diff_from_min', 'price_norm_by_group', 'tax_ratio',\n",
    "    'duration_diff_from_min', 'total_layover_time', 'price_rank', 'duration_rank'\n",
    "]\n",
    "new_bool_cols = [\n",
    "    'is_cheapest', 'is_fastest', 'is_frequent_flyer_airline',\n",
    "    'is_company_preferred_airline', 'is_airport_change'\n",
    "]\n",
    "\n",
    "print(\"Все предварительные расчеты завершены.\")\n",
    "del combined_df"
   ],
   "metadata": {
    "collapsed": false,
    "ExecuteTime": {
     "end_time": "2025-08-08T00:13:33.246164100Z",
     "start_time": "2025-08-08T00:12:37.753881600Z"
    }
   },
   "id": "5fee9a38ca18a332",
   "execution_count": 3
  },
  {
   "cell_type": "code",
   "outputs": [],
   "source": [
    "# --------------------------------------------------------------------------\n",
    "# | БЛОК 4: Определение модели (с учетом всех новых фичей)                 |\n",
    "# --------------------------------------------------------------------------\n",
    "\n",
    "class FlightRankModel(nn.Module):\n",
    "    def __init__(self, config, num_cols, cat_cols, bool_cols, data_cols, frequentFlyer_col, new_numerical_cols, new_bool_cols):\n",
    "        super().__init__()\n",
    "        # ... сохранение всех параметров ...\n",
    "        self.config, self.num_cols, self.cat_cols, self.bool_cols, self.data_cols, self.frequentFlyer_col, self.new_numerical_cols, self.new_bool_cols = \\\n",
    "            config, num_cols, cat_cols, bool_cols, data_cols, frequentFlyer_col, new_numerical_cols, new_bool_cols\n",
    "\n",
    "        # --- 1. ВХОДНАЯ ЧАСТЬ ---\n",
    "        self.embedding_layers = nn.ModuleDict({\n",
    "            col: nn.Embedding(num_embeddings=dims[0], embedding_dim=dims[1])\n",
    "            for col, dims in config['embedding_dims'].items() if col != frequentFlyer_col\n",
    "        })\n",
    "        ff_dims = config['embedding_dims'][frequentFlyer_col]\n",
    "        self.ff_embedding_layer = nn.Embedding(num_embeddings=ff_dims[0], embedding_dim=ff_dims[1])\n",
    "\n",
    "        # Расчет размеров\n",
    "        cat_embedding_dim = sum(dims[1] for col, dims in config['embedding_dims'].items() if col != frequentFlyer_col)\n",
    "        ff_embedding_dim = ff_dims[1]\n",
    "        numerical_dim = len(self.num_cols) + len(self.new_numerical_cols)\n",
    "        boolean_dim = len(self.bool_cols) + len(self.new_bool_cols)\n",
    "        cyclical_dim = len(self.data_cols) * 8\n",
    "        time_to_departure_dim = 1\n",
    "        \n",
    "        self.input_dim = cat_embedding_dim + ff_embedding_dim + numerical_dim + boolean_dim + cyclical_dim + time_to_departure_dim\n",
    "        \n",
    "        self.all_numerical_batch_norm = nn.BatchNorm1d(numerical_dim + boolean_dim + cyclical_dim + time_to_departure_dim)\n",
    "        \n",
    "        # --- 2. CROSS & DEEP NETWORK ---\n",
    "        self.cross_net = nn.ModuleList([nn.Linear(self.input_dim, self.input_dim) for _ in range(config['num_cross_layers'])])\n",
    "        layer_dims = [self.input_dim] + config['mlp_dims']\n",
    "        deep_layers = [nn.Sequential(nn.Linear(layer_dims[i], layer_dims[i+1]), nn.ReLU()) for i in range(len(layer_dims) - 1)]\n",
    "        self.deep_net = nn.Sequential(*deep_layers)\n",
    "        self.final_layer = nn.Linear(config['mlp_dims'][-1], config['output_dim'])\n",
    "\n",
    "    def forward(self, x_dict):\n",
    "        # --- 1. Формирование входного вектора x_0 ---\n",
    "        embedded_features = [self.embedding_layers[col](x_dict[col]) for col in self.cat_cols]\n",
    "        ff_indices, ff_mask = x_dict[self.frequentFlyer_col], x_dict[f'{self.frequentFlyer_col}_mask']\n",
    "        ff_embeddings = self.ff_embedding_layer(ff_indices)\n",
    "        avg_ff_embedding = torch.sum(ff_embeddings * ff_mask, dim=1) / torch.clamp(torch.sum(ff_mask, dim=1), min=1e-9)\n",
    "        embedded_features.append(avg_ff_embedding)\n",
    "        concatenated_embeddings = torch.cat(embedded_features, dim=1)\n",
    "\n",
    "        # Собираем все не-эмбеддинговые признаки\n",
    "        numerical_inputs = [x_dict['numerical'], x_dict['new_numerical'], x_dict['boolean'], x_dict['new_boolean']]\n",
    "        for col in self.data_cols:\n",
    "            date_tensor = x_dict[f'{col}_components']\n",
    "            numerical_inputs.extend([torch.sin(2*np.pi*date_tensor[:, i]/d).unsqueeze(1) for i, d in [(0,59),(1,23),(2,6),(3,365)] for _ in range(2)]) # Компактная запись\n",
    "            numerical_inputs[-7], numerical_inputs[-5], numerical_inputs[-3], numerical_inputs[-1] = \\\n",
    "                torch.cos(2*np.pi*date_tensor[:,0]/59).unsqueeze(1), torch.cos(2*np.pi*date_tensor[:,1]/23).unsqueeze(1), \\\n",
    "                torch.cos(2*np.pi*date_tensor[:,2]/6).unsqueeze(1), torch.cos(2*np.pi*date_tensor[:,3]/365).unsqueeze(1)\n",
    "        \n",
    "        time_to_departure = (x_dict['legs0_departureAt_unix'] - x_dict['requestDate_unix']) / 60.0\n",
    "        numerical_inputs.append(time_to_departure.unsqueeze(1))\n",
    "        \n",
    "        processed_numerical_all = self.all_numerical_batch_norm(torch.cat(numerical_inputs, dim=1))\n",
    "        x_0 = torch.cat([concatenated_embeddings, processed_numerical_all], dim=1)\n",
    "        \n",
    "        # --- 2. Cross -> Deep -> Output ---\n",
    "        x_cross = x_0\n",
    "        for layer in self.cross_net:\n",
    "            x_cross = x_0 * torch.sigmoid(layer(x_cross)) + x_cross\n",
    "        deep_output = self.deep_net(x_cross)\n",
    "        return self.final_layer(deep_output)"
   ],
   "metadata": {
    "collapsed": false,
    "ExecuteTime": {
     "end_time": "2025-08-08T00:13:33.284170700Z",
     "start_time": "2025-08-08T00:13:33.258274200Z"
    }
   },
   "id": "e2044657e7cd5b3f",
   "execution_count": 4
  },
  {
   "cell_type": "code",
   "outputs": [
    {
     "name": "stdout",
     "output_type": "stream",
     "text": [
      "--- Начало предобработки для обучения ---\n",
      "Статистика для нормализации рассчитана.\n",
      "\n",
      "--- Начало обучения на 3 эпох ---\n"
     ]
    },
    {
     "name": "stderr",
     "output_type": "stream",
     "text": [
      "Эпоха 1/3: 100%|██████████| 554/554 [25:39<00:00,  2.78s/it, avg_loss=0.0253]\n"
     ]
    },
    {
     "name": "stdout",
     "output_type": "stream",
     "text": [
      "Итоговый средний лосс за эпоху 1: 0.0253\n"
     ]
    },
    {
     "name": "stderr",
     "output_type": "stream",
     "text": [
      "Эпоха 2/3: 100%|██████████| 554/554 [22:47<00:00,  2.47s/it, avg_loss=0.0208]\n"
     ]
    },
    {
     "name": "stdout",
     "output_type": "stream",
     "text": [
      "Итоговый средний лосс за эпоху 2: 0.0208\n"
     ]
    },
    {
     "name": "stderr",
     "output_type": "stream",
     "text": [
      "Эпоха 3/3: 100%|██████████| 554/554 [28:20<00:00,  3.07s/it, avg_loss=0.0196]\n"
     ]
    },
    {
     "name": "stdout",
     "output_type": "stream",
     "text": [
      "Итоговый средний лосс за эпоху 3: 0.0196\n",
      "\n",
      "--- Генерация предсказаний для теста ---\n"
     ]
    },
    {
     "name": "stderr",
     "output_type": "stream",
     "text": [
      "Предсказание: 100%|██████████| 211/211 [06:28<00:00,  1.84s/it]\n"
     ]
    }
   ],
   "source": [
    "# --------------------------------------------------------------------------\n",
    "# | БЛОК 5: Предобработка и цикл обучения (ИСПРАВЛЕННЫЙ)                   |\n",
    "# --------------------------------------------------------------------------\n",
    "\n",
    "# --- 1. Подготовительный этап ---\n",
    "print(\"--- Начало предобработки для обучения ---\")\n",
    "combined_df_num = pd.concat([train_df[num_cols], test_df[num_cols]], ignore_index=True)\n",
    "num_mean = torch.tensor(combined_df_num.astype(np.float32).mean().values, dtype=torch.float32)\n",
    "num_std = torch.tensor(combined_df_num.astype(np.float32).std().values, dtype=torch.float32)\n",
    "num_std[num_std == 0] = 1.0 \n",
    "del combined_df_num; gc.collect()\n",
    "print(\"Статистика для нормализации рассчитана.\")\n",
    "\n",
    "# --- 2. Функция для подготовки батчей (с полным набором фичей) ---\n",
    "# Определение функции get_batch остается БЕЗ ИЗМЕНЕНИЙ, оно корректно\n",
    "def get_batch(df, indices, group_features, company_prefs, device):\n",
    "    batch_df = df.iloc[indices].copy()\n",
    "    # Получаем предрассчитанные фичи для нашего батча по тем же индексам\n",
    "    batch_features = group_features.iloc[indices]\n",
    "    x = {}\n",
    "    epsilon = 1e-6\n",
    "\n",
    "    # --- Создание новых фичей ---\n",
    "    # Группа 1 и 2: Флаги и взаимодействия\n",
    "    new_bool_features = pd.DataFrame({\n",
    "        'is_cheapest': (batch_df['totalPrice'] == batch_features['price_min']).astype(float),\n",
    "        'is_fastest': (batch_df['legs0_duration'] == batch_features['duration_min']).astype(float)\n",
    "    })\n",
    "    new_bool_features['is_frequent_flyer_airline'] = batch_df.apply(lambda row: str(row['legs0_segments0_marketingCarrier_code']) in str(row['frequentFlyer']), axis=1).astype(float)\n",
    "    batch_df['company_pref_airline'] = batch_df['companyID'].map(company_prefs)\n",
    "    new_bool_features['is_company_preferred_airline'] = (batch_df['legs0_segments0_marketingCarrier_code'] == batch_df['company_pref_airline']).astype(float)\n",
    "    \n",
    "    # Группа 3: Сложность маршрута\n",
    "    new_bool_features['is_airport_change'] = ((batch_df['legs0_segments0_arrivalTo_airport_iata'] != batch_df['legs0_segments1_departureFrom_airport_iata']) & \\\n",
    "                                              (batch_df['legs0_segments1_departureFrom_airport_iata'] != -2)).astype(float)\n",
    "\n",
    "    # Собираем числовые тензоры\n",
    "    new_numerical_df = pd.DataFrame({\n",
    "        'price_diff_from_min': batch_df['totalPrice'] - batch_features['price_min'],\n",
    "        'price_norm_by_group': (batch_df['totalPrice'] - batch_features['price_mean']) / (batch_features['price_std'] + epsilon),\n",
    "        'tax_ratio': batch_df['taxes'] / (batch_df['totalPrice'] + epsilon),\n",
    "        'duration_diff_from_min': batch_df['legs0_duration'] - batch_features['duration_min'],\n",
    "        'total_layover_time': batch_df['legs0_duration'] - batch_df[['legs0_segments0_duration', 'legs0_segments1_duration', 'legs0_segments2_duration', 'legs0_segments3_duration']].sum(axis=1),\n",
    "        'price_rank': batch_features['price_rank'],\n",
    "        'duration_rank': batch_features['duration_rank']\n",
    "    })\n",
    "    \n",
    "    x['new_numerical'] = torch.tensor(new_numerical_df[new_numerical_cols].fillna(0).values.astype(np.float32), device=device)\n",
    "    x['new_boolean'] = torch.tensor(new_bool_features[new_bool_cols].fillna(0).values.astype(np.float32), device=device)\n",
    "    \n",
    "    # --- Обработка остальных фичей (код без изменений) ---\n",
    "    for col in cat_cols: x[col] = torch.tensor(batch_df[col].values.astype(np.int64), dtype=torch.long, device=device)\n",
    "    numerical_tensor = torch.tensor(batch_df[num_cols].values.astype(np.float32), device=device)\n",
    "    x['numerical'] = (numerical_tensor - num_mean.to(device)) / num_std.to(device)\n",
    "    x['boolean'] = torch.tensor(batch_df[bool_cols].values.astype(np.float32), device=device)\n",
    "    for col in data_cols:\n",
    "        dt_series = pd.to_datetime(batch_df[col], errors='coerce')\n",
    "        x[f'{col}_components'] = torch.tensor(np.vstack([dt_series.dt.minute.fillna(0), dt_series.dt.hour.fillna(0), dt_series.dt.dayofweek.fillna(0), dt_series.dt.dayofyear.fillna(0)]).T, dtype=torch.float32, device=device)\n",
    "        x[f'{col}_unix'] = torch.tensor(dt_series.astype(np.int64).values // 10**9, dtype=torch.float32, device=device)\n",
    "    ff_str_list = batch_df[frequentFlyer_col].fillna('').tolist()\n",
    "    list_of_indices = [[ff_code_to_idx.get(code, ff_unknown_idx) for code in s.split('/') if code] for s in ff_str_list]\n",
    "    max_len = max(len(s) for s in list_of_indices) if any(list_of_indices) else 1\n",
    "    indices_tensor = torch.full((len(batch_df), max_len), ff_unknown_idx, dtype=torch.long, device=device)\n",
    "    mask_tensor = torch.zeros(len(batch_df), max_len, 1, dtype=torch.float32, device=device)\n",
    "    for i, codes in enumerate(list_of_indices):\n",
    "        if codes:\n",
    "            indices_tensor[i, :len(codes)] = torch.tensor(codes, dtype=torch.long)\n",
    "            mask_tensor[i, :len(codes)] = 1.0\n",
    "    x[frequentFlyer_col], x[f'{frequentFlyer_col}_mask'] = indices_tensor, mask_tensor\n",
    "    y = torch.tensor(batch_df['selected'].values.astype(float), dtype=torch.float32, device=device).unsqueeze(1) if 'selected' in batch_df.columns else None\n",
    "    return x, y\n",
    "\n",
    "# --- 3. Инициализация и цикл обучения ---\n",
    "model = FlightRankModel(CONFIG, num_cols, cat_cols, bool_cols, data_cols, frequentFlyer_col, new_numerical_cols, new_bool_cols).to(CONFIG['DEVICE'])\n",
    "criterion = nn.BCEWithLogitsLoss()\n",
    "optimizer = Adam(model.parameters(), lr=CONFIG['LR'])\n",
    "\n",
    "print(f\"\\n--- Начало обучения на {CONFIG['EPOCHS']} эпох ---\")\n",
    "for epoch in range(CONFIG['EPOCHS']):\n",
    "    model.train()\n",
    "    running_loss = 0.0\n",
    "    shuffled_indices = np.random.permutation(len(train_df))\n",
    "    num_batches = (len(train_df) + CONFIG['BATCH_SIZE'] - 1) // CONFIG['BATCH_SIZE']\n",
    "    \n",
    "    progress_bar = tqdm(range(num_batches), desc=f\"Эпоха {epoch + 1}/{CONFIG['EPOCHS']}\")\n",
    "    \n",
    "    for i in progress_bar:\n",
    "        batch_indices = shuffled_indices[i * CONFIG['BATCH_SIZE'] : (i + 1) * CONFIG['BATCH_SIZE']]\n",
    "        # ИСПРАВЛЕНИЕ: используем правильное имя переменной `group_features_df`\n",
    "        x_batch, y_batch = get_batch(train_df, batch_indices, group_features_df, company_prefs, CONFIG['DEVICE'])\n",
    "        \n",
    "        optimizer.zero_grad()\n",
    "        outputs = model(x_batch)\n",
    "        loss = criterion(outputs, y_batch)\n",
    "        loss.backward()\n",
    "        optimizer.step()\n",
    "        \n",
    "        running_loss += loss.item()\n",
    "        current_avg_loss = running_loss / (i + 1)\n",
    "        progress_bar.set_postfix(avg_loss=f'{current_avg_loss:.4f}')\n",
    "        \n",
    "    print(f\"Итоговый средний лосс за эпоху {epoch + 1}: {running_loss / num_batches:.4f}\")\n",
    "\n",
    "# --- 4. Цикл предсказания ---\n",
    "print(\"\\n--- Генерация предсказаний для теста ---\")\n",
    "model.eval()\n",
    "test_preds = []\n",
    "# Совмещаем test_df с его предрассчитанными фичами для предсказания\n",
    "# Это нужно сделать один раз, чтобы индексы совпадали\n",
    "test_with_features = test_df.join(group_features_df.drop(columns=['ranker_id']))\n",
    "num_test_batches = (len(test_with_features) + CONFIG['BATCH_SIZE'] - 1) // CONFIG['BATCH_SIZE']\n",
    "\n",
    "with torch.no_grad():\n",
    "    for i in tqdm(range(num_test_batches), desc=\"Предсказание\"):\n",
    "        test_indices = list(range(i * CONFIG['BATCH_SIZE'], min((i + 1) * CONFIG['BATCH_SIZE'], len(test_with_features))))\n",
    "        # ИСПРАВЛЕНИЕ: используем правильное имя переменной `group_features_df`\n",
    "        x_batch, _ = get_batch(test_with_features, test_indices, group_features_df.iloc[len(train_df):].reset_index(drop=True), company_prefs, CONFIG['DEVICE'])\n",
    "        \n",
    "        outputs = model(x_batch)\n",
    "        preds = torch.sigmoid(outputs).cpu().numpy().flatten()\n",
    "        test_preds.extend(preds)\n",
    "\n",
    "test_df['score'] = test_preds"
   ],
   "metadata": {
    "collapsed": false,
    "ExecuteTime": {
     "end_time": "2025-08-08T01:37:08.870808400Z",
     "start_time": "2025-08-08T00:13:33.280170100Z"
    }
   },
   "id": "565575d6a44fae3b",
   "execution_count": 5
  },
  {
   "cell_type": "code",
   "outputs": [
    {
     "name": "stdout",
     "output_type": "stream",
     "text": [
      "\n",
      "--- Формирование файла для отправки ---\n"
     ]
    },
    {
     "name": "stderr",
     "output_type": "stream",
     "text": [
      "C:\\Users\\Николай\\AppData\\Local\\Temp\\ipykernel_9448\\4176084543.py:19: FutureWarning: The default of observed=False is deprecated and will be changed to True in a future version of pandas. Pass observed=False to retain current behavior or observed=True to adopt the future default and silence this warning.\n",
      "  test_df['selected'] = test_df.groupby('ranker_id')['score'].rank(method='first', ascending=False).astype(int)\n"
     ]
    },
    {
     "name": "stdout",
     "output_type": "stream",
     "text": [
      "\n",
      "Готово! Файл для отправки сохранен в: C:/Users/Николай/PycharmProjects/FlightRank_2025/submissions/submission_14.csv\n",
      "Пример содержимого submission файла:\n",
      "         Id                         ranker_id  selected\n",
      "0  18144679  c9373e5f772e43d593dd6ad2fa90f67a        46\n",
      "1  18144680  c9373e5f772e43d593dd6ad2fa90f67a        60\n",
      "2  18144681  c9373e5f772e43d593dd6ad2fa90f67a       205\n",
      "3  18144682  c9373e5f772e43d593dd6ad2fa90f67a        80\n",
      "4  18144683  c9373e5f772e43d593dd6ad2fa90f67a        50\n"
     ]
    }
   ],
   "source": [
    "# --------------------------------------------------------------------------\n",
    "# | БЛОК 6: Формирование файла для отправки (submission)                   |\n",
    "# --------------------------------------------------------------------------\n",
    "# --------------------------------------------------------------------------\n",
    "\n",
    "print(\"\\n--- Формирование файла для отправки ---\")\n",
    "\n",
    "# Обновляем CONFIG, чтобы указать путь для сохранения\n",
    "CONFIG['submission_path'] = f'C:/Users/Николай/PycharmProjects/FlightRank_2025/submissions/submission_{VER}.csv'\n",
    "\n",
    "sample_submission_df = pd.read_parquet(CONFIG['sample_submission_path'])\n",
    "test_df['Id'] = sample_submission_df['Id'].values\n",
    "\n",
    "\n",
    "# Ранжирование\n",
    "# Группируем по ranker_id и ранжируем строки внутри каждой группы по 'score'.\n",
    "# ascending=False, так как более высокий скор означает лучший ранг (ранг 1).\n",
    "# method='first' гарантирует, что не будет одинаковых рангов в группе.\n",
    "test_df['selected'] = test_df.groupby('ranker_id')['score'].rank(method='first', ascending=False).astype(int)\n",
    "\n",
    "# Создаем файл для отправки\n",
    "submission_df = test_df[['Id', 'ranker_id', 'selected']]\n",
    "\n",
    "# Убедимся, что порядок строк соответствует исходному файлу\n",
    "submission_df = submission_df.set_index('Id').loc[sample_submission_df['Id']].reset_index()\n",
    "\n",
    "submission_df.to_csv(CONFIG['submission_path'], index=False)\n",
    "\n",
    "print(f\"\\nГотово! Файл для отправки сохранен в: {CONFIG['submission_path']}\")\n",
    "print(\"Пример содержимого submission файла:\")\n",
    "print(submission_df.head())"
   ],
   "metadata": {
    "collapsed": false,
    "ExecuteTime": {
     "end_time": "2025-08-08T01:37:19.088085300Z",
     "start_time": "2025-08-08T01:37:08.870808400Z"
    }
   },
   "id": "2ed7a9e0b95ae013",
   "execution_count": 6
  },
  {
   "cell_type": "code",
   "outputs": [
    {
     "data": {
      "text/plain": "np.float32(0.007349402)"
     },
     "execution_count": 7,
     "metadata": {},
     "output_type": "execute_result"
    }
   ],
   "source": [
    "test_df['score'][1]"
   ],
   "metadata": {
    "collapsed": false,
    "ExecuteTime": {
     "end_time": "2025-08-08T01:37:19.127726600Z",
     "start_time": "2025-08-08T01:37:19.091349100Z"
    }
   },
   "id": "a12b9b73040a2cd",
   "execution_count": 7
  },
  {
   "cell_type": "code",
   "outputs": [],
   "source": [],
   "metadata": {
    "collapsed": false,
    "ExecuteTime": {
     "end_time": "2025-08-08T01:37:19.128850400Z",
     "start_time": "2025-08-08T01:37:19.103428800Z"
    }
   },
   "id": "2eca58a9d510cad4",
   "execution_count": 7
  }
 ],
 "metadata": {
  "kernelspec": {
   "display_name": "Python 3",
   "language": "python",
   "name": "python3"
  },
  "language_info": {
   "codemirror_mode": {
    "name": "ipython",
    "version": 2
   },
   "file_extension": ".py",
   "mimetype": "text/x-python",
   "name": "python",
   "nbconvert_exporter": "python",
   "pygments_lexer": "ipython2",
   "version": "2.7.6"
  }
 },
 "nbformat": 4,
 "nbformat_minor": 5
}
