{
 "cells": [
  {
   "cell_type": "code",
   "outputs": [],
   "source": [],
   "metadata": {
    "collapsed": false
   },
   "id": "4588a58c70a8bad"
  },
  {
   "cell_type": "code",
   "outputs": [],
   "source": [
    "# --------------------------------------------------------------------------\n",
    "# | БЛОК 4: Определение модели (Архитектура: Cross-сеть -> Deep-сеть)      |\n",
    "# --------------------------------------------------------------------------\n",
    "\n",
    "class FlightRankModel(nn.Module):\n",
    "    def __init__(self, config, num_cols, cat_cols, bool_cols, data_cols, frequentFlyer_col):\n",
    "        super().__init__()\n",
    "        # Сохраняем все параметры\n",
    "        self.config = config\n",
    "        self.num_cols = num_cols\n",
    "        self.cat_cols = cat_cols\n",
    "        self.bool_cols = bool_cols\n",
    "        self.data_cols = data_cols\n",
    "        self.frequentFlyer_col = frequentFlyer_col\n",
    "\n",
    "        # --- 1. ВХОДНАЯ ЧАСТЬ (Подготовка вектора x_0) ---\n",
    "        self.embedding_layers = nn.ModuleDict({\n",
    "            col: nn.Embedding(num_embeddings=dims[0], embedding_dim=dims[1])\n",
    "            for col, dims in config['embedding_dims'].items() if col != frequentFlyer_col\n",
    "        })\n",
    "        \n",
    "        ff_dims = config['embedding_dims'][frequentFlyer_col]\n",
    "        self.ff_embedding_layer = nn.Embedding(num_embeddings=ff_dims[0], embedding_dim=ff_dims[1])\n",
    "\n",
    "        cat_embedding_dim = sum(dims[1] for col, dims in config['embedding_dims'].items() if col != frequentFlyer_col)\n",
    "        ff_embedding_dim = ff_dims[1]\n",
    "        numerical_dim = len(self.num_cols)\n",
    "        boolean_dim = len(self.bool_cols)\n",
    "        cyclical_dim = len(self.data_cols) * 8\n",
    "        time_to_departure_dim = 1\n",
    "        \n",
    "        # Размер общего входного вектора\n",
    "        self.input_dim = (cat_embedding_dim + ff_embedding_dim + numerical_dim + \n",
    "                          boolean_dim + cyclical_dim + time_to_departure_dim)\n",
    "        \n",
    "        self.all_numerical_batch_norm = nn.BatchNorm1d(\n",
    "            numerical_dim + boolean_dim + cyclical_dim + time_to_departure_dim\n",
    "        )\n",
    "        \n",
    "        # --- 2. CROSS NETWORK (Первый блок в последовательности) ---\n",
    "        self.cross_net = nn.ModuleList([\n",
    "            nn.Linear(self.input_dim, self.input_dim) \n",
    "            for _ in range(config['num_cross_layers'])\n",
    "        ])\n",
    "\n",
    "        # --- 3. DEEP NETWORK (Второй блок в последовательности) ---\n",
    "        deep_layers = []\n",
    "        # Вход в Deep-сеть - это выход из Cross-сети, который имеет тот же размер self.input_dim\n",
    "        layer_dims = [self.input_dim] + config['mlp_dims']\n",
    "        for i in range(len(layer_dims) - 1):\n",
    "            deep_layers.append(nn.Linear(layer_dims[i], layer_dims[i+1]))\n",
    "            deep_layers.append(nn.BatchNorm1d(layer_dims[i+1]))\n",
    "            deep_layers.append(nn.ReLU())\n",
    "        self.deep_net = nn.Sequential(*deep_layers)\n",
    "        \n",
    "        # --- 4. ВЫХОДНАЯ ЧАСТЬ ---\n",
    "        # Финальный слой принимает выход из Deep-сети\n",
    "        self.final_layer = nn.Linear(config['mlp_dims'][-1], config['output_dim'])\n",
    "\n",
    "    def forward(self, x_dict):\n",
    "        # --- 1. Формирование общего входного вектора x_0 ---\n",
    "        embedded_features = [self.embedding_layers[col](x_dict[col]) for col in self.cat_cols]\n",
    "        \n",
    "        ff_indices = x_dict[self.frequentFlyer_col]\n",
    "        ff_mask = x_dict[f'{self.frequentFlyer_col}_mask']\n",
    "        ff_embeddings = self.ff_embedding_layer(ff_indices)\n",
    "        ff_sum = (ff_embeddings * ff_mask).sum(dim=1)\n",
    "        ff_count = torch.clamp(ff_mask.sum(dim=1), min=1e-9)\n",
    "        avg_ff_embedding = ff_sum / ff_count\n",
    "        embedded_features.append(avg_ff_embedding)\n",
    "        \n",
    "        concatenated_embeddings = torch.cat(embedded_features, dim=1)\n",
    "\n",
    "        numerical_inputs = [x_dict['numerical'], x_dict['boolean']]\n",
    "        for col in self.data_cols:\n",
    "            date_tensor = x_dict[f'{col}_components']\n",
    "            numerical_inputs.append(torch.sin(2 * np.pi * date_tensor[:, 0] / 59.0).unsqueeze(1))\n",
    "            numerical_inputs.append(torch.cos(2 * np.pi * date_tensor[:, 0] / 59.0).unsqueeze(1))\n",
    "            numerical_inputs.append(torch.sin(2 * np.pi * date_tensor[:, 1] / 23.0).unsqueeze(1))\n",
    "            numerical_inputs.append(torch.cos(2 * np.pi * date_tensor[:, 1] / 23.0).unsqueeze(1))\n",
    "            numerical_inputs.append(torch.sin(2 * np.pi * date_tensor[:, 2] / 6.0).unsqueeze(1))\n",
    "            numerical_inputs.append(torch.cos(2 * np.pi * date_tensor[:, 2] / 6.0).unsqueeze(1))\n",
    "            numerical_inputs.append(torch.sin(2 * np.pi * date_tensor[:, 3] / 365.0).unsqueeze(1))\n",
    "            numerical_inputs.append(torch.cos(2 * np.pi * date_tensor[:, 3] / 365.0).unsqueeze(1))\n",
    "        \n",
    "        time_to_departure = (x_dict['legs0_departureAt_unix'] - x_dict['requestDate_unix']) / 60.0\n",
    "        numerical_inputs.append(time_to_departure.unsqueeze(1))\n",
    "        \n",
    "        processed_numerical_all = torch.cat(numerical_inputs, dim=1)\n",
    "        processed_numerical_all = self.all_numerical_batch_norm(processed_numerical_all)\n",
    "\n",
    "        x_0 = torch.cat([concatenated_embeddings, processed_numerical_all], dim=1)\n",
    "        \n",
    "        # --- 2. Пропускаем данные через Cross-сеть ---\n",
    "        x_cross = x_0\n",
    "        for layer in self.cross_net:\n",
    "            # Основная формула DCN: x_0 * f(x_l) + x_l\n",
    "            x_cross = x_0 * torch.sigmoid(layer(x_cross)) + x_cross\n",
    "        \n",
    "        # --- 3. Выход из Cross-сети подаем в Deep-сеть ---\n",
    "        deep_output = self.deep_net(x_cross)\n",
    "        \n",
    "        # --- 4. Финальный результат ---\n",
    "        final_output = self.final_layer(deep_output)\n",
    "        \n",
    "        return final_output"
   ],
   "metadata": {
    "collapsed": false,
    "ExecuteTime": {
     "end_time": "2025-08-07T03:23:09.732920400Z",
     "start_time": "2025-08-07T03:23:09.678900900Z"
    }
   },
   "id": "a2fdc0258b7817fa",
   "execution_count": 4
  },
  {
   "cell_type": "code",
   "outputs": [
    {
     "name": "stdout",
     "output_type": "stream",
     "text": [
      "--- Начало предобработки для обучения ---\n",
      "Расчет статистики для нормализации (включая новые признаки)...\n",
      "Статистика для нормализации рассчитана.\n",
      "\n",
      "--- Начало обучения на 3 эпох ---\n"
     ]
    },
    {
     "name": "stderr",
     "output_type": "stream",
     "text": [
      "Эпоха 1/3: 100%|██████████| 554/554 [19:35<00:00,  2.12s/it, avg_loss=0.0331]\n"
     ]
    },
    {
     "name": "stdout",
     "output_type": "stream",
     "text": [
      "Итоговый средний лосс за эпоху 1: 0.0331\n"
     ]
    },
    {
     "name": "stderr",
     "output_type": "stream",
     "text": [
      "Эпоха 2/3: 100%|██████████| 554/554 [15:52<00:00,  1.72s/it, avg_loss=0.0222]\n"
     ]
    },
    {
     "name": "stdout",
     "output_type": "stream",
     "text": [
      "Итоговый средний лосс за эпоху 2: 0.0222\n"
     ]
    },
    {
     "name": "stderr",
     "output_type": "stream",
     "text": [
      "Эпоха 3/3: 100%|██████████| 554/554 [16:00<00:00,  1.73s/it, avg_loss=0.0208]\n"
     ]
    },
    {
     "name": "stdout",
     "output_type": "stream",
     "text": [
      "Итоговый средний лосс за эпоху 3: 0.0208\n",
      "\n",
      "--- Обновление эмбеддингов для неизвестных категорий ---\n",
      "\n",
      "--- Генерация предсказаний для теста ---\n"
     ]
    },
    {
     "name": "stderr",
     "output_type": "stream",
     "text": [
      "Предсказание: 100%|██████████| 211/211 [04:44<00:00,  1.35s/it]\n"
     ]
    }
   ],
   "source": [
    "# --------------------------------------------------------------------------\n",
    "# | БЛОК 5: Предобработка, цикл обучения и предсказания (ФИНАЛЬНАЯ ВЕРСИЯ)    |\n",
    "# --------------------------------------------------------------------------\n",
    "\n",
    "# --- 1. Подготовительный этап ---\n",
    "print(\"--- Начало предобработки для обучения ---\")\n",
    "print(\"Расчет статистики для нормализации (включая новые признаки)...\")\n",
    "temp_train_df = train_df.copy()\n",
    "for col_name in airport_df_cols:\n",
    "    lat_col, lon_col = f\"{col_name}_lat\", f\"{col_name}_lon\"\n",
    "    # ИСПРАВЛЕНИЕ: Применяем маппинг и fillna раздельно для lat и lon\n",
    "    lat_lookup = master_airport_lookup[col_name]['lat']\n",
    "    lon_lookup = master_airport_lookup[col_name]['lon']\n",
    "    temp_train_df[lat_col] = temp_train_df[col_name].map(lat_lookup).fillna(0)\n",
    "    temp_train_df[lon_col] = temp_train_df[col_name].map(lon_lookup).fillna(0)\n",
    "\n",
    "temp_test_df = test_df.copy()\n",
    "for col_name in airport_df_cols:\n",
    "    lat_col, lon_col = f\"{col_name}_lat\", f\"{col_name}_lon\"\n",
    "    lat_lookup = master_airport_lookup[col_name]['lat']\n",
    "    lon_lookup = master_airport_lookup[col_name]['lon']\n",
    "    temp_test_df[lat_col] = temp_test_df[col_name].map(lat_lookup).fillna(0)\n",
    "    temp_test_df[lon_col] = temp_test_df[col_name].map(lon_lookup).fillna(0)\n",
    "\n",
    "combined_df_num = pd.concat([temp_train_df[num_cols], temp_test_df[num_cols]], ignore_index=True)\n",
    "num_mean = torch.tensor(combined_df_num.astype(np.float32).mean().values, dtype=torch.float32)\n",
    "num_std = torch.tensor(combined_df_num.astype(np.float32).std().values, dtype=torch.float32)\n",
    "num_std[num_std == 0] = 1.0 \n",
    "del combined_df_num, temp_train_df, temp_test_df; gc.collect()\n",
    "print(\"Статистика для нормализации рассчитана.\")\n",
    "\n",
    "\n",
    "# --- 2. Функция для подготовки батчей (с обогащением) ---\n",
    "def get_batch(df, indices, device):\n",
    "    batch_df = df.iloc[indices]\n",
    "    x = {}\n",
    "\n",
    "    for col in cat_cols:\n",
    "        x[col] = torch.tensor(batch_df[col].values.astype(np.int64), dtype=torch.long, device=device)\n",
    "    \n",
    "    # --- Динамическое добавление признаков аэропортов ---\n",
    "    original_numerical_features = batch_df[original_num_cols].values.astype(np.float32)\n",
    "    airport_features_list = []\n",
    "    for col_name in airport_df_cols:\n",
    "        # ИСПРАВЛЕНИЕ: Используем два отдельных маппинга\n",
    "        lat_lookup = master_airport_lookup[col_name]['lat']\n",
    "        lon_lookup = master_airport_lookup[col_name]['lon']\n",
    "        lat_array = batch_df[col_name].map(lat_lookup).fillna(0).values\n",
    "        lon_array = batch_df[col_name].map(lon_lookup).fillna(0).values\n",
    "        # Объединяем их в массив (batch_size, 2)\n",
    "        coords_array = np.stack([lat_array, lon_array], axis=1).astype(np.float32)\n",
    "        airport_features_list.append(coords_array)\n",
    "    \n",
    "    all_airport_features = np.concatenate(airport_features_list, axis=1)\n",
    "    full_numerical_array = np.concatenate([original_numerical_features, all_airport_features], axis=1)\n",
    "    \n",
    "    numerical_tensor = torch.tensor(full_numerical_array, device=device)\n",
    "    x['numerical'] = (numerical_tensor - num_mean.to(device)) / num_std.to(device)\n",
    "    # --- КОНЕЦ ИСПРАВЛЕНИЯ ---\n",
    "    \n",
    "    x['boolean'] = torch.tensor(batch_df[bool_cols].values.astype(np.float32), device=device)\n",
    "    \n",
    "    # ... (остальная часть get_batch без изменений) ...\n",
    "    for col in data_cols:\n",
    "        dt_series = pd.to_datetime(batch_df[col], errors='coerce')\n",
    "        x[f'{col}_components'] = torch.tensor(np.vstack([\n",
    "            dt_series.dt.minute.fillna(0), dt_series.dt.hour.fillna(0),\n",
    "            dt_series.dt.dayofweek.fillna(0), dt_series.dt.dayofyear.fillna(0)\n",
    "        ]).T, dtype=torch.float32, device=device)\n",
    "        x[f'{col}_unix'] = torch.tensor(dt_series.astype(np.int64).values // 10**9, dtype=torch.float32, device=device)\n",
    "        \n",
    "    ff_str_list = batch_df[frequentFlyer_col].fillna('').tolist()\n",
    "    list_of_indices = [[ff_code_to_idx.get(code, ff_unknown_idx) for code in s.split('/') if code] for s in ff_str_list]\n",
    "    max_len = max(len(sublist) for sublist in list_of_indices) if any(list_of_indices) else 1\n",
    "    indices_tensor = torch.full((len(batch_df), max_len), ff_unknown_idx, dtype=torch.long, device=device)\n",
    "    mask_tensor = torch.zeros(len(batch_df), max_len, 1, dtype=torch.float32, device=device)\n",
    "    for i, codes in enumerate(list_of_indices):\n",
    "        if codes:\n",
    "            indices_tensor[i, :len(codes)] = torch.tensor(codes, dtype=torch.long)\n",
    "            mask_tensor[i, :len(codes)] = 1.0\n",
    "    x[frequentFlyer_col] = indices_tensor\n",
    "    x[f'{frequentFlyer_col}_mask'] = mask_tensor\n",
    "        \n",
    "    y = None\n",
    "    if 'selected' in batch_df.columns:\n",
    "        y = torch.tensor(batch_df['selected'].values.astype(float), dtype=torch.float32, device=device).unsqueeze(1)\n",
    "        \n",
    "    return x, y\n",
    "\n",
    "# --- 3. Инициализация и цикл обучения (без изменений) ---\n",
    "# ... (весь оставшийся код блока 5 для обучения и предсказания остается прежним) ...\n",
    "model = FlightRankModel(CONFIG, num_cols, cat_cols, bool_cols, data_cols, frequentFlyer_col).to(CONFIG['DEVICE'])\n",
    "# ... (остальной код обучения, обновления эмбеддингов и предсказания остается точно таким же) ...\n",
    "criterion = nn.BCEWithLogitsLoss()\n",
    "optimizer = Adam(model.parameters(), lr=CONFIG['LR'])\n",
    "\n",
    "print(f\"\\n--- Начало обучения на {CONFIG['EPOCHS']} эпох ---\")\n",
    "for epoch in range(CONFIG['EPOCHS']):\n",
    "    model.train()\n",
    "    running_loss = 0.0\n",
    "    shuffled_indices = np.random.permutation(len(train_df))\n",
    "    num_batches = (len(train_df) + CONFIG['BATCH_SIZE'] - 1) // CONFIG['BATCH_SIZE']\n",
    "    \n",
    "    # ИЗМЕНЕНИЕ 1: Сохраняем tqdm в переменную `progress_bar`\n",
    "    progress_bar = tqdm(range(num_batches), desc=f\"Эпоха {epoch + 1}/{CONFIG['EPOCHS']}\")\n",
    "    \n",
    "    # Цикл теперь идет по `progress_bar`\n",
    "    for i in progress_bar:\n",
    "        batch_indices = shuffled_indices[i * CONFIG['BATCH_SIZE'] : (i + 1) * CONFIG['BATCH_SIZE']]\n",
    "        x_batch, y_batch = get_batch(train_df, batch_indices, CONFIG['DEVICE'])\n",
    "        \n",
    "        optimizer.zero_grad()\n",
    "        outputs = model(x_batch)\n",
    "        loss = criterion(outputs, y_batch)\n",
    "        loss.backward()\n",
    "        optimizer.step()\n",
    "        \n",
    "        running_loss += loss.item()\n",
    "        \n",
    "        # ИЗМЕНЕНИЕ 2: Динамически обновляем информацию в прогресс-баре\n",
    "        # Вычисляем текущий средний лосс по эпохе\n",
    "        current_avg_loss = running_loss / (i + 1)\n",
    "        # Устанавливаем постфикс\n",
    "        progress_bar.set_postfix(avg_loss=f'{current_avg_loss:.4f}')\n",
    "        \n",
    "    # Печать итогового среднего лосса за эпоху теперь не обязательна,\n",
    "    # так как вы видите его в конце прогресс-бара, но можно оставить для логов.\n",
    "    print(f\"Итоговый средний лосс за эпоху {epoch + 1}: {running_loss / num_batches:.4f}\")\n",
    "\n",
    "# --- 4. Обработка эмбеддингов для неизвестных категорий ---\n",
    "print(\"\\n--- Обновление эмбеддингов для неизвестных категорий ---\")\n",
    "with torch.no_grad():\n",
    "    # Для обычных категориальных колонок\n",
    "    for col, layer in model.embedding_layers.items():\n",
    "        # Проверяем, есть ли колонка в конфиге, чтобы избежать ошибки с frequentFlyer\n",
    "        if col in CONFIG['embedding_dims']:\n",
    "            unknown_idx = CONFIG['embedding_dims'][col][0] - 1\n",
    "            mean_embedding = layer.weight.data[:unknown_idx].mean(dim=0)\n",
    "            layer.weight.data[unknown_idx] = mean_embedding\n",
    "\n",
    "    # Для frequentFlyer\n",
    "    mean_ff_embedding = model.ff_embedding_layer.weight.data[:ff_unknown_idx].mean(dim=0)\n",
    "    model.ff_embedding_layer.weight.data[ff_unknown_idx] = mean_ff_embedding\n",
    "\n",
    "# --- 5. Цикл предсказания ---\n",
    "print(\"\\n--- Генерация предсказаний для теста ---\")\n",
    "model.eval()\n",
    "test_preds = []\n",
    "num_test_batches = (len(test_df) + CONFIG['BATCH_SIZE'] - 1) // CONFIG['BATCH_SIZE']\n",
    "\n",
    "with torch.no_grad():\n",
    "    for i in tqdm(range(num_test_batches), desc=\"Предсказание\"):\n",
    "        test_indices = list(range(i * CONFIG['BATCH_SIZE'], min((i + 1) * CONFIG['BATCH_SIZE'], len(test_df))))\n",
    "        x_batch, _ = get_batch(test_df, test_indices, CONFIG['DEVICE'])\n",
    "        \n",
    "        outputs = model(x_batch)\n",
    "        preds = torch.sigmoid(outputs).cpu().numpy().flatten()\n",
    "        test_preds.extend(preds)\n",
    "\n",
    "test_df['score'] = test_preds"
   ],
   "metadata": {
    "collapsed": false,
    "ExecuteTime": {
     "end_time": "2025-08-07T04:20:23.707537300Z",
     "start_time": "2025-08-07T03:23:09.693902400Z"
    }
   },
   "id": "98c274af62d450e",
   "execution_count": 5
  },
  {
   "cell_type": "code",
   "outputs": [
    {
     "name": "stdout",
     "output_type": "stream",
     "text": [
      "\n",
      "--- Формирование файла для отправки ---\n"
     ]
    },
    {
     "name": "stderr",
     "output_type": "stream",
     "text": [
      "C:\\Users\\Николай\\AppData\\Local\\Temp\\ipykernel_1820\\4176084543.py:19: FutureWarning: The default of observed=False is deprecated and will be changed to True in a future version of pandas. Pass observed=False to retain current behavior or observed=True to adopt the future default and silence this warning.\n",
      "  test_df['selected'] = test_df.groupby('ranker_id')['score'].rank(method='first', ascending=False).astype(int)\n"
     ]
    },
    {
     "name": "stdout",
     "output_type": "stream",
     "text": [
      "\n",
      "Готово! Файл для отправки сохранен в: C:/Users/Николай/PycharmProjects/FlightRank_2025/submissions/submission_11.csv\n",
      "Пример содержимого submission файла:\n",
      "         Id                         ranker_id  selected\n",
      "0  18144679  c9373e5f772e43d593dd6ad2fa90f67a        37\n",
      "1  18144680  c9373e5f772e43d593dd6ad2fa90f67a        80\n",
      "2  18144681  c9373e5f772e43d593dd6ad2fa90f67a       238\n",
      "3  18144682  c9373e5f772e43d593dd6ad2fa90f67a        77\n",
      "4  18144683  c9373e5f772e43d593dd6ad2fa90f67a        82\n"
     ]
    }
   ],
   "source": [
    "# --------------------------------------------------------------------------\n",
    "# | БЛОК 6: Формирование файла для отправки (submission)                   |\n",
    "# --------------------------------------------------------------------------\n",
    "# --------------------------------------------------------------------------\n",
    "\n",
    "print(\"\\n--- Формирование файла для отправки ---\")\n",
    "\n",
    "# Обновляем CONFIG, чтобы указать путь для сохранения\n",
    "CONFIG['submission_path'] = f'C:/Users/Николай/PycharmProjects/FlightRank_2025/submissions/submission_{VER}.csv'\n",
    "\n",
    "sample_submission_df = pd.read_parquet(CONFIG['sample_submission_path'])\n",
    "test_df['Id'] = sample_submission_df['Id'].values\n",
    "\n",
    "\n",
    "# Ранжирование\n",
    "# Группируем по ranker_id и ранжируем строки внутри каждой группы по 'score'.\n",
    "# ascending=False, так как более высокий скор означает лучший ранг (ранг 1).\n",
    "# method='first' гарантирует, что не будет одинаковых рангов в группе.\n",
    "test_df['selected'] = test_df.groupby('ranker_id')['score'].rank(method='first', ascending=False).astype(int)\n",
    "\n",
    "# Создаем файл для отправки\n",
    "submission_df = test_df[['Id', 'ranker_id', 'selected']]\n",
    "\n",
    "# Убедимся, что порядок строк соответствует исходному файлу\n",
    "submission_df = submission_df.set_index('Id').loc[sample_submission_df['Id']].reset_index()\n",
    "\n",
    "submission_df.to_csv(CONFIG['submission_path'], index=False)\n",
    "\n",
    "print(f\"\\nГотово! Файл для отправки сохранен в: {CONFIG['submission_path']}\")\n",
    "print(\"Пример содержимого submission файла:\")\n",
    "print(submission_df.head())"
   ],
   "metadata": {
    "collapsed": false,
    "ExecuteTime": {
     "end_time": "2025-08-07T04:20:34.999946700Z",
     "start_time": "2025-08-07T04:20:23.709577100Z"
    }
   },
   "id": "2ed7a9e0b95ae013",
   "execution_count": 6
  },
  {
   "cell_type": "code",
   "outputs": [
    {
     "data": {
      "text/plain": "np.float32(0.004582824)"
     },
     "execution_count": 7,
     "metadata": {},
     "output_type": "execute_result"
    }
   ],
   "source": [
    "test_df['score'][1]"
   ],
   "metadata": {
    "collapsed": false,
    "ExecuteTime": {
     "end_time": "2025-08-07T04:20:35.465553Z",
     "start_time": "2025-08-07T04:20:34.999946700Z"
    }
   },
   "id": "a12b9b73040a2cd",
   "execution_count": 7
  },
  {
   "cell_type": "code",
   "outputs": [],
   "source": [],
   "metadata": {
    "collapsed": false,
    "ExecuteTime": {
     "end_time": "2025-08-07T04:20:35.493349200Z",
     "start_time": "2025-08-07T04:20:35.010654500Z"
    }
   },
   "id": "2eca58a9d510cad4",
   "execution_count": 7
  }
 ],
 "metadata": {
  "kernelspec": {
   "display_name": "Python 3",
   "language": "python",
   "name": "python3"
  },
  "language_info": {
   "codemirror_mode": {
    "name": "ipython",
    "version": 2
   },
   "file_extension": ".py",
   "mimetype": "text/x-python",
   "name": "python",
   "nbconvert_exporter": "python",
   "pygments_lexer": "ipython2",
   "version": "2.7.6"
  }
 },
 "nbformat": 4,
 "nbformat_minor": 5
}
