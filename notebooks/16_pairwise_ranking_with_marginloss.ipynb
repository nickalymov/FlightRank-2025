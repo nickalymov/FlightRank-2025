{
 "cells": [
  {
   "cell_type": "code",
   "outputs": [],
   "source": [
    "# --------------------------------------------------------------------------\n",
    "# | БЛОК 1: Импорт необходимых библиотек                                   |\n",
    "# --------------------------------------------------------------------------\n",
    "\n",
    "import pandas as pd\n",
    "import numpy as np\n",
    "import torch\n",
    "import torch.nn as nn\n",
    "from torch.optim import Adam\n",
    "from tqdm import tqdm\n",
    "import gc "
   ],
   "metadata": {
    "collapsed": false,
    "ExecuteTime": {
     "end_time": "2025-08-08T07:40:22.566265800Z",
     "start_time": "2025-08-08T07:40:19.628034500Z"
    }
   },
   "id": "e56c094aa9561d42",
   "execution_count": 1
  },
  {
   "cell_type": "code",
   "outputs": [],
   "source": [
    "# --------------------------------------------------------------------------\n",
    "# | БЛОК 2: Конфигурация проекта (ОБНОВЛЕННЫЙ)                             |\n",
    "# --------------------------------------------------------------------------\n",
    "\n",
    "VER = 16\n",
    "CONFIG = {\n",
    "    'train_path': f'C:/Users/Николай/PycharmProjects/FlightRank_2025/mydata/1/1_train.parquet',\n",
    "    'test_path': f'C:/Users/Николай/PycharmProjects/FlightRank_2025/mydata/1/1_test.parquet',\n",
    "    'sample_submission_path': f'C:/Users/Николай/PycharmProjects/FlightRank_2025/data/sample_submission.parquet',\n",
    "\n",
    "    'DEVICE': 'cuda' if torch.cuda.is_available() else 'cpu', \n",
    "    'SEED': 42,\n",
    "    'BATCH_SIZE': 8192*2, # Для pairwise батч содержит пары, поэтому можно уменьшить\n",
    "    'LR': 0.001, \n",
    "    'EPOCHS': 3, \n",
    "    'WEIGHT_DECAY': 1e-5, \n",
    "\n",
    "    'embedding_dims': {},\n",
    "    'dropout_rate': 0.1, \n",
    "    'mlp_dims': [1024, 512, 256], \n",
    "    'num_cross_layers': 4,\n",
    "    'output_dim': 1,\n",
    "    'MARGIN': 0.5 # ИЗМЕНЕНИЕ: Гиперпараметр для MarginRankingLoss\n",
    "}\n",
    "\n",
    "np.random.seed(CONFIG['SEED'])\n",
    "torch.manual_seed(CONFIG['SEED'])\n",
    "if torch.cuda.is_available():\n",
    "    torch.cuda.manual_seed_all(CONFIG['SEED'])"
   ],
   "metadata": {
    "collapsed": false,
    "ExecuteTime": {
     "end_time": "2025-08-08T07:40:23.858694300Z",
     "start_time": "2025-08-08T07:40:22.568472600Z"
    }
   },
   "id": "2e6aab0e3e437dd2",
   "execution_count": 2
  },
  {
   "cell_type": "code",
   "outputs": [
    {
     "name": "stdout",
     "output_type": "stream",
     "text": [
      "--- Предварительный расчет групповых статистик для новых фичей ---\n",
      "Справочная таблица статистик создана.\n",
      "\n",
      "--- Создание пар для Pairwise-обучения ---\n"
     ]
    },
    {
     "name": "stderr",
     "output_type": "stream",
     "text": [
      "C:\\Users\\Николай\\AppData\\Local\\Temp\\ipykernel_7120\\3388631400.py:42: FutureWarning: The default of observed=False is deprecated and will be changed to True in a future version of pandas. Pass observed=False to retain current behavior or observed=True to adopt the future default and silence this warning.\n",
      "  for _, group in tqdm(train_df.groupby('ranker_id'), desc=\"Формирование пар\"):\n",
      "Формирование пар: 100%|██████████| 105539/105539 [24:36<00:00, 71.46it/s] "
     ]
    },
    {
     "name": "stdout",
     "output_type": "stream",
     "text": [
      "Создано 18039833 обучающих пар.\n"
     ]
    },
    {
     "name": "stderr",
     "output_type": "stream",
     "text": [
      "\n"
     ]
    }
   ],
   "source": [
    "# --------------------------------------------------------------------------\n",
    "# | БЛОК 3: Загрузка данных и Feature Engineering (ОБНОВЛЕННЫЙ)             |\n",
    "# --------------------------------------------------------------------------\n",
    "\n",
    "train_df = pd.read_parquet(CONFIG['train_path'], engine='pyarrow')\n",
    "test_df = pd.read_parquet(CONFIG['test_path'], engine='pyarrow')\n",
    "\n",
    "# --- 1. Определение списков колонок (без изменений) ---\n",
    "# ... (весь код определения колонок остается прежним) ...\n",
    "data_cols= ['legs0_arrivalAt', 'legs0_departureAt', 'legs1_arrivalAt', 'legs1_departureAt', 'requestDate']\n",
    "num_cols = ['legs0_duration', 'legs0_segments0_duration', 'legs0_segments1_duration', 'legs0_segments2_duration', 'legs0_segments3_duration', 'legs1_duration', 'legs1_segments0_duration', 'legs1_segments1_duration', 'legs1_segments2_duration', 'legs1_segments3_duration', 'miniRules0_monetaryAmount', 'miniRules1_monetaryAmount', 'taxes', 'totalPrice']\n",
    "bool_cols = ['isAccess3D', 'isVip', 'sex']\n",
    "cat_cols = [col for col in train_df.columns if col not in data_cols and col not in num_cols and col not in bool_cols and col not in  ['ranker_id', 'selected', 'frequentFlyer']]\n",
    "frequentFlyer_col = 'frequentFlyer'\n",
    "\n",
    "# --- 2. Определение размеров эмбеддингов (без изменений) ---\n",
    "# ... (код для CONFIG['embedding_dims'] и ff_code_to_idx остается прежним) ...\n",
    "for col in cat_cols:\n",
    "    num_unique_values = train_df[col].nunique() + 1\n",
    "    embedding_dim = int(np.sqrt(num_unique_values))\n",
    "    CONFIG['embedding_dims'][col] = (num_unique_values, embedding_dim)\n",
    "all_ff_codes = train_df[frequentFlyer_col].str.split('/').explode().dropna().unique()\n",
    "ff_code_to_idx = {code: i for i, code in enumerate(all_ff_codes)}\n",
    "ff_unknown_idx = len(ff_code_to_idx)\n",
    "ff_embedding_dim = int(np.sqrt(len(all_ff_codes) + 1))\n",
    "CONFIG['embedding_dims'][frequentFlyer_col] = (len(ff_code_to_idx) + 1, ff_embedding_dim)\n",
    "\n",
    "# --- 3. Предварительный расчет статистик для фичей (без изменений) ---\n",
    "# ... (код для group_stats_df остается прежним) ...\n",
    "print(\"--- Предварительный расчет групповых статистик для новых фичей ---\")\n",
    "combined_df_ids = pd.concat([train_df[['ranker_id', 'totalPrice', 'legs0_duration']], test_df[['ranker_id', 'totalPrice', 'legs0_duration']]], ignore_index=True)\n",
    "group_stats_df = combined_df_ids.groupby('ranker_id').agg(price_min=('totalPrice', 'min'), price_max=('totalPrice', 'max'), price_mean=('totalPrice', 'mean'), price_std=('totalPrice', 'std'), duration_min=('legs0_duration', 'min'), duration_max=('legs0_duration', 'max')).reset_index()\n",
    "group_stats_df.fillna(0, inplace=True)\n",
    "new_numerical_cols = ['price_diff_from_min', 'price_diff_from_max', 'price_norm_by_group', 'tax_ratio', 'duration_diff_from_min', 'duration_diff_from_max']\n",
    "print(\"Справочная таблица статистик создана.\")\n",
    "del combined_df_ids\n",
    "\n",
    "# --- 4. ИЗМЕНЕНИЕ: СОЗДАНИЕ ПАР ДЛЯ ОБУЧЕНИЯ ---\n",
    "print(\"\\n--- Создание пар для Pairwise-обучения ---\")\n",
    "training_pairs = []\n",
    "# Группируем по ranker_id и итерируемся по каждой группе\n",
    "for _, group in tqdm(train_df.groupby('ranker_id'), desc=\"Формирование пар\"):\n",
    "    # Находим индекс выбранного рейса (позитивный пример)\n",
    "    positive_row = group[group['selected'] == True]\n",
    "    if positive_row.empty:\n",
    "        continue\n",
    "    positive_idx = positive_row.index[0]\n",
    "    \n",
    "    # Находим индексы всех невыбранных рейсов (негативные примеры)\n",
    "    negative_indices = group[group['selected'] == False].index\n",
    "    \n",
    "    # Создаем пары (positive_idx, negative_idx)\n",
    "    for negative_idx in negative_indices:\n",
    "        training_pairs.append((positive_idx, negative_idx))\n",
    "print(f\"Создано {len(training_pairs)} обучающих пар.\")"
   ],
   "metadata": {
    "collapsed": false,
    "ExecuteTime": {
     "end_time": "2025-08-08T08:05:39.053728700Z",
     "start_time": "2025-08-08T07:40:23.863395300Z"
    }
   },
   "id": "b0387b3c99a216f6",
   "execution_count": 3
  },
  {
   "cell_type": "code",
   "outputs": [],
   "source": [
    "# --------------------------------------------------------------------------\n",
    "# | БЛОК 4: Определение модели (с учетом новых фичей)                      |\n",
    "# --------------------------------------------------------------------------\n",
    "\n",
    "class FlightRankModel(nn.Module):\n",
    "    def __init__(self, config, num_cols, cat_cols, bool_cols, data_cols, frequentFlyer_col, new_numerical_cols):\n",
    "        super().__init__()\n",
    "        # ... (сохранение параметров)\n",
    "        self.config = config\n",
    "        self.num_cols = num_cols\n",
    "        self.cat_cols = cat_cols\n",
    "        self.bool_cols = bool_cols\n",
    "        self.data_cols = data_cols\n",
    "        self.frequentFlyer_col = frequentFlyer_col\n",
    "        self.new_numerical_cols = new_numerical_cols # Новое поле\n",
    "\n",
    "        # --- 1. ВХОДНАЯ ЧАСТЬ (Подготовка вектора x_0) ---\n",
    "        self.embedding_layers = nn.ModuleDict({\n",
    "            col: nn.Embedding(num_embeddings=dims[0], embedding_dim=dims[1])\n",
    "            for col, dims in config['embedding_dims'].items() if col != frequentFlyer_col\n",
    "        })\n",
    "        ff_dims = config['embedding_dims'][frequentFlyer_col]\n",
    "        self.ff_embedding_layer = nn.Embedding(num_embeddings=ff_dims[0], embedding_dim=ff_dims[1])\n",
    "\n",
    "        # Расчет размеров\n",
    "        cat_embedding_dim = sum(dims[1] for col, dims in config['embedding_dims'].items() if col != frequentFlyer_col)\n",
    "        ff_embedding_dim = ff_dims[1]\n",
    "        numerical_dim = len(self.num_cols)\n",
    "        boolean_dim = len(self.bool_cols)\n",
    "        cyclical_dim = len(self.data_cols) * 8\n",
    "        time_to_departure_dim = 1\n",
    "        new_numerical_dim = len(self.new_numerical_cols) # ИЗМЕНЕНИЕ: размер новых фичей\n",
    "\n",
    "        self.input_dim = (cat_embedding_dim + ff_embedding_dim + numerical_dim + \n",
    "                          boolean_dim + cyclical_dim + time_to_departure_dim + new_numerical_dim) # ИЗМЕНЕНИЕ\n",
    "        \n",
    "        # Нормализация для ВСЕХ числовых фичей\n",
    "        self.all_numerical_batch_norm = nn.BatchNorm1d(\n",
    "            numerical_dim + boolean_dim + cyclical_dim + time_to_departure_dim + new_numerical_dim # ИЗМЕНЕНИЕ\n",
    "        )\n",
    "        \n",
    "        # --- 2. CROSS & DEEP NETWORK (без изменений в логике) ---\n",
    "        self.cross_net = nn.ModuleList([\n",
    "            nn.Linear(self.input_dim, self.input_dim) \n",
    "            for _ in range(config['num_cross_layers'])\n",
    "        ])\n",
    "        \n",
    "        layer_dims = [self.input_dim] + config['mlp_dims']\n",
    "        deep_layers = []\n",
    "        for i in range(len(layer_dims) - 1):\n",
    "            deep_layers.append(nn.Linear(layer_dims[i], layer_dims[i+1]))\n",
    "            deep_layers.append(nn.ReLU())\n",
    "        self.deep_net = nn.Sequential(*deep_layers)\n",
    "        \n",
    "        self.final_layer = nn.Linear(config['mlp_dims'][-1], config['output_dim'])\n",
    "\n",
    "    def forward(self, x_dict):\n",
    "        # --- 1. Формирование входного вектора x_0 ---\n",
    "        # Эмбеддинги (без изменений)\n",
    "        embedded_features = [self.embedding_layers[col](x_dict[col]) for col in self.cat_cols]\n",
    "        ff_indices = x_dict[self.frequentFlyer_col]\n",
    "        ff_mask = x_dict[f'{self.frequentFlyer_col}_mask']\n",
    "        ff_embeddings = self.ff_embedding_layer(ff_indices)\n",
    "        ff_sum = (ff_embeddings * ff_mask).sum(dim=1)\n",
    "        ff_count = torch.clamp(ff_mask.sum(dim=1), min=1e-9)\n",
    "        avg_ff_embedding = ff_sum / ff_count\n",
    "        embedded_features.append(avg_ff_embedding)\n",
    "        concatenated_embeddings = torch.cat(embedded_features, dim=1)\n",
    "\n",
    "        # Числовые признаки\n",
    "        numerical_inputs = [x_dict['numerical'], x_dict['boolean']]\n",
    "        # ИЗМЕНЕНИЕ: добавляем новые динамические фичи\n",
    "        numerical_inputs.append(x_dict['new_numerical_features'])\n",
    "\n",
    "        # Циклические признаки и время до вылета (без изменений)\n",
    "        for col in self.data_cols:\n",
    "            date_tensor = x_dict[f'{col}_components']\n",
    "            numerical_inputs.append(torch.sin(2 * np.pi * date_tensor[:, 0] / 59.0).unsqueeze(1))\n",
    "            numerical_inputs.append(torch.cos(2 * np.pi * date_tensor[:, 0] / 59.0).unsqueeze(1))\n",
    "            # ... (остальные sin/cos)\n",
    "            numerical_inputs.append(torch.sin(2 * np.pi * date_tensor[:, 1] / 23.0).unsqueeze(1))\n",
    "            numerical_inputs.append(torch.cos(2 * np.pi * date_tensor[:, 1] / 23.0).unsqueeze(1))\n",
    "            numerical_inputs.append(torch.sin(2 * np.pi * date_tensor[:, 2] / 6.0).unsqueeze(1))\n",
    "            numerical_inputs.append(torch.cos(2 * np.pi * date_tensor[:, 2] / 6.0).unsqueeze(1))\n",
    "            numerical_inputs.append(torch.sin(2 * np.pi * date_tensor[:, 3] / 365.0).unsqueeze(1))\n",
    "            numerical_inputs.append(torch.cos(2 * np.pi * date_tensor[:, 3] / 365.0).unsqueeze(1))\n",
    "\n",
    "        time_to_departure = (x_dict['legs0_departureAt_unix'] - x_dict['requestDate_unix']) / 60.0\n",
    "        numerical_inputs.append(time_to_departure.unsqueeze(1))\n",
    "        \n",
    "        # Конкатенация и нормализация\n",
    "        processed_numerical_all = torch.cat(numerical_inputs, dim=1)\n",
    "        processed_numerical_all = self.all_numerical_batch_norm(processed_numerical_all)\n",
    "\n",
    "        x_0 = torch.cat([concatenated_embeddings, processed_numerical_all], dim=1)\n",
    "        \n",
    "        # --- 2. Cross -> Deep -> Output (без изменений) ---\n",
    "        x_cross = x_0\n",
    "        for layer in self.cross_net:\n",
    "            x_cross = x_0 * torch.sigmoid(layer(x_cross)) + x_cross\n",
    "        \n",
    "        deep_output = self.deep_net(x_cross)\n",
    "        final_output = self.final_layer(deep_output)\n",
    "        \n",
    "        return final_output"
   ],
   "metadata": {
    "collapsed": false,
    "ExecuteTime": {
     "end_time": "2025-08-08T08:05:39.091045900Z",
     "start_time": "2025-08-08T08:05:39.067665400Z"
    }
   },
   "id": "c14f131c14d67809",
   "execution_count": 4
  },
  {
   "cell_type": "code",
   "outputs": [
    {
     "name": "stdout",
     "output_type": "stream",
     "text": [
      "--- Начало предобработки для обучения ---\n",
      "Статистика для нормализации рассчитана.\n",
      "\n",
      "--- Начало обучения на 3 эпох ---\n"
     ]
    },
    {
     "name": "stderr",
     "output_type": "stream",
     "text": [
      "Эпоха 1/3: 100%|██████████| 1102/1102 [44:42<00:00,  2.43s/it, avg_loss=0.0018]\n"
     ]
    },
    {
     "name": "stdout",
     "output_type": "stream",
     "text": [
      "Итоговый средний лосс за эпоху 1: 0.0018\n"
     ]
    },
    {
     "name": "stderr",
     "output_type": "stream",
     "text": [
      "Эпоха 2/3: 100%|██████████| 1102/1102 [45:44<00:00,  2.49s/it, avg_loss=0.0000]\n"
     ]
    },
    {
     "name": "stdout",
     "output_type": "stream",
     "text": [
      "Итоговый средний лосс за эпоху 2: 0.0000\n"
     ]
    },
    {
     "name": "stderr",
     "output_type": "stream",
     "text": [
      "Эпоха 3/3: 100%|██████████| 1102/1102 [46:14<00:00,  2.52s/it, avg_loss=0.0000]\n"
     ]
    },
    {
     "name": "stdout",
     "output_type": "stream",
     "text": [
      "Итоговый средний лосс за эпоху 3: 0.0000\n",
      "\n",
      "--- Генерация предсказаний для теста ---\n"
     ]
    },
    {
     "name": "stderr",
     "output_type": "stream",
     "text": [
      "Предсказание: 100%|██████████| 422/422 [06:33<00:00,  1.07it/s]\n"
     ]
    }
   ],
   "source": [
    "# --------------------------------------------------------------------------\n",
    "# | БЛОК 5: Предобработка и цикл обучения (PAIRWISE ВЕРСИЯ)                |\n",
    "# --------------------------------------------------------------------------\n",
    "\n",
    "# --- 1. Подготовительный этап (без изменений) ---\n",
    "print(\"--- Начало предобработки для обучения ---\")\n",
    "# ... (код для num_mean, num_std остается прежним) ...\n",
    "combined_df_num = pd.concat([train_df[num_cols], test_df[num_cols]], ignore_index=True)\n",
    "num_mean = torch.tensor(combined_df_num.astype(np.float32).mean().values, dtype=torch.float32)\n",
    "num_std = torch.tensor(combined_df_num.astype(np.float32).std().values, dtype=torch.float32)\n",
    "num_std[num_std == 0] = 1.0 \n",
    "del combined_df_num; gc.collect()\n",
    "print(\"Статистика для нормализации рассчитана.\")\n",
    "\n",
    "# --- 2. Функция для подготовки батчей (остается для предсказания и как helper) ---\n",
    "# Эта функция теперь будет вызываться из get_pairwise_batch\n",
    "def get_pointwise_batch(df, indices, group_stats, device):\n",
    "    # ... (код этой функции остается ТОЧНО ТАКИМ ЖЕ, как в вашем предыдущем ноутбуке)\n",
    "    batch_df = df.iloc[indices]\n",
    "    x = {}\n",
    "    batch_with_stats = pd.merge(batch_df, group_stats, on='ranker_id', how='left')\n",
    "    epsilon = 1e-6\n",
    "    batch_with_stats['price_diff_from_min'] = batch_with_stats['totalPrice'] - batch_with_stats['price_min']\n",
    "    batch_with_stats['price_diff_from_max'] = batch_with_stats['totalPrice'] - batch_with_stats['price_max']\n",
    "    batch_with_stats['price_norm_by_group'] = (batch_with_stats['totalPrice'] - batch_with_stats['price_mean']) / (batch_with_stats['price_std'] + epsilon)\n",
    "    batch_with_stats['tax_ratio'] = batch_with_stats['taxes'] / (batch_with_stats['totalPrice'] + epsilon)\n",
    "    batch_with_stats['duration_diff_from_min'] = batch_with_stats['legs0_duration'] - batch_with_stats['duration_min']\n",
    "    batch_with_stats['duration_diff_from_max'] = batch_with_stats['legs0_duration'] - batch_with_stats['duration_max']\n",
    "    x['new_numerical_features'] = torch.tensor(batch_with_stats[new_numerical_cols].fillna(0).values.astype(np.float32), device=device)\n",
    "    for col in cat_cols:\n",
    "        x[col] = torch.tensor(batch_df[col].values.astype(np.int64), dtype=torch.long, device=device)\n",
    "    numerical_tensor = torch.tensor(batch_df[num_cols].values.astype(np.float32), device=device)\n",
    "    x['numerical'] = (numerical_tensor - num_mean.to(device)) / num_std.to(device)\n",
    "    x['boolean'] = torch.tensor(batch_df[bool_cols].values.astype(np.float32), device=device)\n",
    "    for col in data_cols:\n",
    "        dt_series = pd.to_datetime(batch_df[col], errors='coerce')\n",
    "        x[f'{col}_components'] = torch.tensor(np.vstack([dt_series.dt.minute.fillna(0), dt_series.dt.hour.fillna(0), dt_series.dt.dayofweek.fillna(0), dt_series.dt.dayofyear.fillna(0)]).T, dtype=torch.float32, device=device)\n",
    "        x[f'{col}_unix'] = torch.tensor(dt_series.astype(np.int64).values // 10**9, dtype=torch.float32, device=device)\n",
    "    ff_str_list = batch_df[frequentFlyer_col].fillna('').tolist()\n",
    "    list_of_indices = [[ff_code_to_idx.get(code, ff_unknown_idx) for code in s.split('/') if code] for s in ff_str_list]\n",
    "    max_len = max(len(s) for s in list_of_indices) if any(list_of_indices) else 1\n",
    "    indices_tensor = torch.full((len(batch_df), max_len), ff_unknown_idx, dtype=torch.long, device=device)\n",
    "    mask_tensor = torch.zeros(len(batch_df), max_len, 1, dtype=torch.float32, device=device)\n",
    "    for i, codes in enumerate(list_of_indices):\n",
    "        if codes:\n",
    "            indices_tensor[i, :len(codes)] = torch.tensor(codes, dtype=torch.long)\n",
    "            mask_tensor[i, :len(codes)] = 1.0\n",
    "    x[frequentFlyer_col] = indices_tensor\n",
    "    x[f'{frequentFlyer_col}_mask'] = mask_tensor\n",
    "    return x # y нам тут не нужен\n",
    "\n",
    "# --- 3. Инициализация и НОВЫЙ цикл обучения ---\n",
    "model = FlightRankModel(CONFIG, num_cols, cat_cols, bool_cols, data_cols, frequentFlyer_col, new_numerical_cols).to(CONFIG['DEVICE'])\n",
    "# ИЗМЕНЕНИЕ: Новая функция потерь\n",
    "criterion = nn.MarginRankingLoss(margin=CONFIG['MARGIN'])\n",
    "optimizer = Adam(model.parameters(), lr=CONFIG['LR'], weight_decay=CONFIG['WEIGHT_DECAY'])\n",
    "\n",
    "print(f\"\\n--- Начало обучения на {CONFIG['EPOCHS']} эпох ---\")\n",
    "for epoch in range(CONFIG['EPOCHS']):\n",
    "    model.train()\n",
    "    running_loss = 0.0\n",
    "    \n",
    "    # Перемешиваем наш список пар в начале каждой эпохи\n",
    "    np.random.shuffle(training_pairs)\n",
    "    num_batches = (len(training_pairs) + CONFIG['BATCH_SIZE'] - 1) // CONFIG['BATCH_SIZE']\n",
    "    \n",
    "    progress_bar = tqdm(range(num_batches), desc=f\"Эпоха {epoch + 1}/{CONFIG['EPOCHS']}\")\n",
    "    \n",
    "    for i in progress_bar:\n",
    "        # Берем батч пар\n",
    "        batch_pairs = training_pairs[i * CONFIG['BATCH_SIZE'] : (i + 1) * CONFIG['BATCH_SIZE']]\n",
    "        if not batch_pairs: continue\n",
    "        \n",
    "        # Разделяем на позитивные и негативные индексы\n",
    "        pos_indices, neg_indices = zip(*batch_pairs)\n",
    "        \n",
    "        # Получаем фичи для обоих наборов\n",
    "        x_pos = get_pointwise_batch(train_df, list(pos_indices), group_stats_df, CONFIG['DEVICE'])\n",
    "        x_neg = get_pointwise_batch(train_df, list(neg_indices), group_stats_df, CONFIG['DEVICE'])\n",
    "        \n",
    "        optimizer.zero_grad()\n",
    "        \n",
    "        # Пропускаем оба набора через модель, чтобы получить скоры\n",
    "        scores_pos = model(x_pos)\n",
    "        scores_neg = model(x_neg)\n",
    "        \n",
    "        # Целевой тензор для MarginLoss: всегда 1, так как мы хотим, чтобы pos > neg\n",
    "        target = torch.ones_like(scores_pos)\n",
    "        \n",
    "        loss = criterion(scores_pos, scores_neg, target)\n",
    "        loss.backward()\n",
    "        optimizer.step()\n",
    "        \n",
    "        running_loss += loss.item()\n",
    "        current_avg_loss = running_loss / (i + 1)\n",
    "        progress_bar.set_postfix(avg_loss=f'{current_avg_loss:.4f}')\n",
    "        \n",
    "    print(f\"Итоговый средний лосс за эпоху {epoch + 1}: {running_loss / num_batches:.4f}\")\n",
    "\n",
    "# --- 4. Цикл предсказания (без изменений, т.к. предсказание всегда pointwise) ---\n",
    "print(\"\\n--- Генерация предсказаний для теста ---\")\n",
    "model.eval()\n",
    "test_preds = []\n",
    "num_test_batches = (len(test_df) + CONFIG['BATCH_SIZE'] - 1) // CONFIG['BATCH_SIZE']\n",
    "\n",
    "with torch.no_grad():\n",
    "    for i in tqdm(range(num_test_batches), desc=\"Предсказание\"):\n",
    "        test_indices = list(range(i * CONFIG['BATCH_SIZE'], min((i + 1) * CONFIG['BATCH_SIZE'], len(test_df))))\n",
    "        # Используем старую pointwise функцию, так как на тесте нам нужны скоры для каждой строки\n",
    "        x_batch = get_pointwise_batch(test_df, test_indices, group_stats_df, CONFIG['DEVICE'])\n",
    "        \n",
    "        outputs = model(x_batch)\n",
    "        # Sigmoid здесь уже не нужен, так как модель выдает скор, а не логит\n",
    "        preds = outputs.cpu().numpy().flatten()\n",
    "        test_preds.extend(preds)\n",
    "\n",
    "test_df['score'] = test_preds"
   ],
   "metadata": {
    "collapsed": false,
    "ExecuteTime": {
     "end_time": "2025-08-08T10:29:07.236463600Z",
     "start_time": "2025-08-08T08:05:39.097347200Z"
    }
   },
   "id": "3bd3de68ebedbf4d",
   "execution_count": 5
  },
  {
   "cell_type": "code",
   "outputs": [
    {
     "name": "stdout",
     "output_type": "stream",
     "text": [
      "\n",
      "--- Формирование файла для отправки ---\n"
     ]
    },
    {
     "name": "stderr",
     "output_type": "stream",
     "text": [
      "C:\\Users\\Николай\\AppData\\Local\\Temp\\ipykernel_7120\\4176084543.py:19: FutureWarning: The default of observed=False is deprecated and will be changed to True in a future version of pandas. Pass observed=False to retain current behavior or observed=True to adopt the future default and silence this warning.\n",
      "  test_df['selected'] = test_df.groupby('ranker_id')['score'].rank(method='first', ascending=False).astype(int)\n"
     ]
    },
    {
     "name": "stdout",
     "output_type": "stream",
     "text": [
      "\n",
      "Готово! Файл для отправки сохранен в: C:/Users/Николай/PycharmProjects/FlightRank_2025/submissions/submission_16.csv\n",
      "Пример содержимого submission файла:\n",
      "         Id                         ranker_id  selected\n",
      "0  18144679  c9373e5f772e43d593dd6ad2fa90f67a        42\n",
      "1  18144680  c9373e5f772e43d593dd6ad2fa90f67a        50\n",
      "2  18144681  c9373e5f772e43d593dd6ad2fa90f67a       176\n",
      "3  18144682  c9373e5f772e43d593dd6ad2fa90f67a       252\n",
      "4  18144683  c9373e5f772e43d593dd6ad2fa90f67a       217\n"
     ]
    }
   ],
   "source": [
    "# --------------------------------------------------------------------------\n",
    "# | БЛОК 6: Формирование файла для отправки (submission)                   |\n",
    "# --------------------------------------------------------------------------\n",
    "# --------------------------------------------------------------------------\n",
    "\n",
    "print(\"\\n--- Формирование файла для отправки ---\")\n",
    "\n",
    "# Обновляем CONFIG, чтобы указать путь для сохранения\n",
    "CONFIG['submission_path'] = f'C:/Users/Николай/PycharmProjects/FlightRank_2025/submissions/submission_{VER}.csv'\n",
    "\n",
    "sample_submission_df = pd.read_parquet(CONFIG['sample_submission_path'])\n",
    "test_df['Id'] = sample_submission_df['Id'].values\n",
    "\n",
    "\n",
    "# Ранжирование\n",
    "# Группируем по ranker_id и ранжируем строки внутри каждой группы по 'score'.\n",
    "# ascending=False, так как более высокий скор означает лучший ранг (ранг 1).\n",
    "# method='first' гарантирует, что не будет одинаковых рангов в группе.\n",
    "test_df['selected'] = test_df.groupby('ranker_id')['score'].rank(method='first', ascending=False).astype(int)\n",
    "\n",
    "# Создаем файл для отправки\n",
    "submission_df = test_df[['Id', 'ranker_id', 'selected']]\n",
    "\n",
    "# Убедимся, что порядок строк соответствует исходному файлу\n",
    "submission_df = submission_df.set_index('Id').loc[sample_submission_df['Id']].reset_index()\n",
    "\n",
    "submission_df.to_csv(CONFIG['submission_path'], index=False)\n",
    "\n",
    "print(f\"\\nГотово! Файл для отправки сохранен в: {CONFIG['submission_path']}\")\n",
    "print(\"Пример содержимого submission файла:\")\n",
    "print(submission_df.head())"
   ],
   "metadata": {
    "collapsed": false,
    "ExecuteTime": {
     "end_time": "2025-08-08T10:29:17.076741400Z",
     "start_time": "2025-08-08T10:29:07.256440900Z"
    }
   },
   "id": "2ed7a9e0b95ae013",
   "execution_count": 6
  },
  {
   "cell_type": "code",
   "outputs": [
    {
     "data": {
      "text/plain": "np.float32(4.1045194)"
     },
     "execution_count": 9,
     "metadata": {},
     "output_type": "execute_result"
    }
   ],
   "source": [
    "test_df['score'][5]"
   ],
   "metadata": {
    "collapsed": false,
    "ExecuteTime": {
     "end_time": "2025-08-08T10:31:25.922460800Z",
     "start_time": "2025-08-08T10:31:25.913546200Z"
    }
   },
   "id": "a12b9b73040a2cd",
   "execution_count": 9
  },
  {
   "cell_type": "code",
   "outputs": [],
   "source": [],
   "metadata": {
    "collapsed": false,
    "ExecuteTime": {
     "end_time": "2025-08-08T10:29:17.123714200Z",
     "start_time": "2025-08-08T10:29:17.088726700Z"
    }
   },
   "id": "2eca58a9d510cad4",
   "execution_count": 7
  }
 ],
 "metadata": {
  "kernelspec": {
   "display_name": "Python 3",
   "language": "python",
   "name": "python3"
  },
  "language_info": {
   "codemirror_mode": {
    "name": "ipython",
    "version": 2
   },
   "file_extension": ".py",
   "mimetype": "text/x-python",
   "name": "python",
   "nbconvert_exporter": "python",
   "pygments_lexer": "ipython2",
   "version": "2.7.6"
  }
 },
 "nbformat": 4,
 "nbformat_minor": 5
}
