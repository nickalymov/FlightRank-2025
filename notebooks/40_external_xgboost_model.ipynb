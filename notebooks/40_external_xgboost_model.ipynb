{
 "cells": [
  {
   "cell_type": "code",
   "execution_count": 2,
   "id": "07bf81e9",
   "metadata": {
    "execution": {
     "iopub.execute_input": "2025-08-11T17:41:42.662138Z",
     "iopub.status.busy": "2025-08-11T17:41:42.661896Z",
     "iopub.status.idle": "2025-08-11T17:41:49.271581Z",
     "shell.execute_reply": "2025-08-11T17:41:49.267113Z"
    },
    "papermill": {
     "duration": 6.624193,
     "end_time": "2025-08-11T17:41:49.274809",
     "exception": false,
     "start_time": "2025-08-11T17:41:42.650616",
     "status": "completed"
    },
    "tags": []
   },
   "outputs": [],
   "source": [
    "import os\n",
    "import math\n",
    "import gc\n",
    "from typing import List, Dict, Tuple\n",
    "\n",
    "import numpy as np\n",
    "import polars as pl\n",
    "import xgboost as xgb\n",
    "\n",
    "from sklearn.model_selection import GroupKFold\n"
   ]
  },
  {
   "cell_type": "code",
   "execution_count": 3,
   "id": "7d8434e4",
   "metadata": {
    "execution": {
     "iopub.execute_input": "2025-08-11T17:41:49.295997Z",
     "iopub.status.busy": "2025-08-11T17:41:49.295654Z",
     "iopub.status.idle": "2025-08-11T17:41:49.305470Z",
     "shell.execute_reply": "2025-08-11T17:41:49.301487Z"
    },
    "papermill": {
     "duration": 0.023299,
     "end_time": "2025-08-11T17:41:49.307942",
     "exception": false,
     "start_time": "2025-08-11T17:41:49.284643",
     "status": "completed"
    },
    "tags": []
   },
   "outputs": [],
   "source": [
    "# -----------------------------\n",
    "# Config\n",
    "# -----------------------------\n",
    "DATA_DIR = \"/kaggle/input/aeroclub-recsys-2025\"\n",
    "TRAIN_PATH = os.path.join(DATA_DIR, \"train.parquet\")\n",
    "TEST_PATH  = os.path.join(DATA_DIR, \"test.parquet\")\n",
    "\n",
    "RANDOM_STATE = 42\n",
    "np.random.seed(RANDOM_STATE)\n",
    "\n",
    "# Outer data split\n",
    "HOLDOUT_FRAC = 0.05   # validator_ share\n",
    "N_FOLDS       = 5     # folds on the remaining 95%\n",
    "USE_FOLD      = 0     # train on fold==0 to start\n",
    "\n",
    "# Target encoding (m-estimate smoothing)\n",
    "TE_PRIOR_M = 50.0\n",
    "\n",
    "\n"
   ]
  },
  {
   "cell_type": "code",
   "execution_count": 4,
   "id": "c76a90ba",
   "metadata": {
    "execution": {
     "iopub.execute_input": "2025-08-11T17:41:49.326498Z",
     "iopub.status.busy": "2025-08-11T17:41:49.326288Z",
     "iopub.status.idle": "2025-08-11T17:41:49.342737Z",
     "shell.execute_reply": "2025-08-11T17:41:49.337590Z"
    },
    "papermill": {
     "duration": 0.029657,
     "end_time": "2025-08-11T17:41:49.345145",
     "exception": false,
     "start_time": "2025-08-11T17:41:49.315488",
     "status": "completed"
    },
    "tags": []
   },
   "outputs": [],
   "source": [
    "# -----------------------------\n",
    "# Columns / helpers\n",
    "# -----------------------------\n",
    "BASIC_CAT_COLS = [\n",
    "    \"nationality\", \"searchRoute\", \"corporateTariffCode\", \"bySelf\", \"sex\", \"companyID\",\n",
    "    # leg 0 segments 0-1\n",
    "    \"legs0_segments0_aircraft_code\", \"legs0_segments0_arrivalTo_airport_city_iata\",\n",
    "    \"legs0_segments0_arrivalTo_airport_iata\", \"legs0_segments0_departureFrom_airport_iata\",\n",
    "    \"legs0_segments0_marketingCarrier_code\", \"legs0_segments0_operatingCarrier_code\",\n",
    "    \"legs0_segments0_flightNumber\",\n",
    "    \"legs0_segments1_aircraft_code\", \"legs0_segments1_arrivalTo_airport_city_iata\",\n",
    "    \"legs0_segments1_arrivalTo_airport_iata\", \"legs0_segments1_departureFrom_airport_iata\",\n",
    "    \"legs0_segments1_marketingCarrier_code\", \"legs0_segments1_operatingCarrier_code\",\n",
    "    \"legs0_segments1_flightNumber\",\n",
    "    # leg 1 segments 0-1\n",
    "    \"legs1_segments0_aircraft_code\", \"legs1_segments0_arrivalTo_airport_city_iata\",\n",
    "    \"legs1_segments0_arrivalTo_airport_iata\", \"legs1_segments0_departureFrom_airport_iata\",\n",
    "    \"legs1_segments0_marketingCarrier_code\", \"legs1_segments0_operatingCarrier_code\",\n",
    "    \"legs1_segments0_flightNumber\",\n",
    "    \"legs1_segments1_aircraft_code\", \"legs1_segments1_arrivalTo_airport_city_iata\",\n",
    "    \"legs1_segments1_arrivalTo_airport_iata\", \"legs1_segments1_departureFrom_airport_iata\",\n",
    "    \"legs1_segments1_marketingCarrier_code\", \"legs1_segments1_operatingCarrier_code\",\n",
    "    \"legs1_segments1_flightNumber\",\n",
    "]\n",
    "CARRIER_COLS = [\n",
    "    \"legs0_segments0_marketingCarrier_code\",\n",
    "    \"legs1_segments0_marketingCarrier_code\",\n",
    "]\n",
    "EXCLUDE_COLS = set([\n",
    "    \"Id\", \"ranker_id\", \"selected\", \"profileId\", \"requestDate\",\n",
    "    \"legs0_departureAt\", \"legs0_arrivalAt\", \"legs1_departureAt\", \"legs1_arrivalAt\",\n",
    "    \"miniRules0_percentage\", \"miniRules1_percentage\",\n",
    "    \"pricingInfo_passengerCount\",\n",
    "])"
   ]
  },
  {
   "cell_type": "code",
   "execution_count": 5,
   "id": "ddef6b2c",
   "metadata": {
    "execution": {
     "iopub.execute_input": "2025-08-11T17:41:49.364131Z",
     "iopub.status.busy": "2025-08-11T17:41:49.363922Z",
     "iopub.status.idle": "2025-08-11T17:41:49.413552Z",
     "shell.execute_reply": "2025-08-11T17:41:49.408577Z"
    },
    "papermill": {
     "duration": 0.062987,
     "end_time": "2025-08-11T17:41:49.415912",
     "exception": false,
     "start_time": "2025-08-11T17:41:49.352925",
     "status": "completed"
    },
    "tags": []
   },
   "outputs": [],
   "source": [
    "# -----------------------------\n",
    "# IO\n",
    "# -----------------------------\n",
    "def read_data() -> Tuple[pl.DataFrame, pl.DataFrame]:\n",
    "    train = pl.read_parquet(TRAIN_PATH)\n",
    "    test  = pl.read_parquet(TEST_PATH)\n",
    "    for c in [\"Id\", \"ranker_id\"]:\n",
    "        if c not in train.columns or c not in test.columns:\n",
    "            raise ValueError(f\"Missing required column `{c}` in train or test.\")\n",
    "    if \"selected\" not in train.columns:\n",
    "        raise ValueError(\"Train must contain `selected`.\")\n",
    "    return train, test\n",
    "\n",
    "# -----------------------------\n",
    "# datetime handling for requestDate\n",
    "# -----------------------------\n",
    "def _ensure_datetime_column(df: pl.DataFrame, col: str, out_col: str) -> pl.DataFrame:\n",
    "    if col not in df.columns:\n",
    "        return df.with_columns(pl.lit(None).alias(out_col))\n",
    "    dtype = df.schema[col]\n",
    "    dtype_str = str(dtype)\n",
    "    if dtype_str.startswith(\"Utf8\"):\n",
    "        return df.with_columns(pl.col(col).str.to_datetime(strict=False).alias(out_col))\n",
    "    elif \"Datetime\" in dtype_str:\n",
    "        return df.with_columns(pl.col(col).cast(pl.Datetime).alias(out_col))\n",
    "    elif \"Date\" in dtype_str:\n",
    "        return df.with_columns(pl.col(col).cast(pl.Datetime).alias(out_col))\n",
    "    else:\n",
    "        # last-resort cast\n",
    "        return df.with_columns(pl.col(col).cast(pl.Datetime, strict=False).alias(out_col))\n",
    "\n",
    "\n",
    "# -----------------------------\n",
    "# Feature engineering (label-free)\n",
    "# -----------------------------\n",
    "def dur_to_min(expr: pl.Expr) -> pl.Expr:\n",
    "    \"\"\"\n",
    "    Robustly convert duration-like fields to minutes.\n",
    "    - If the column is already numeric => return as-is.\n",
    "    - Else parse strings like \"D.HH:MM:SS\" or \"HH:MM:SS\".\n",
    "    \"\"\"\n",
    "    # If numeric, keep it (cast ensures we don't crash on non-numeric)\n",
    "    num = expr.cast(pl.Float64, strict=False)\n",
    "\n",
    "    # Parse string forms\n",
    "    s = expr.cast(pl.Utf8, strict=False)\n",
    "    # Remove leading \"D.\" (days prefix) when present, but also keep 'days' separately\n",
    "    t = pl.when(s.str.contains(r\"^\\d+\\.\", literal=True)).then(s.str.replace(r\"^\\d+\\.\", \"\")).otherwise(s)\n",
    "    days    = s.str.extract(r\"^(\\d+)\\.\", 1).cast(pl.Int64).fill_null(0) * 1440\n",
    "    hours   = t.str.extract(r\"^(\\d+):\", 1).cast(pl.Int64).fill_null(0) * 60\n",
    "    minutes = t.str.extract(r\":(\\d+):\", 1).cast(pl.Int64).fill_null(0)\n",
    "\n",
    "    parsed = (days + hours + minutes).cast(pl.Float64)\n",
    "\n",
    "    return pl.when(num.is_not_null()).then(num).otherwise(parsed).fill_null(0)\n",
    "\n",
    "\n",
    "def _ensure_datetime_column(df: pl.DataFrame, col: str, out_col: str) -> pl.DataFrame:\n",
    "    if col not in df.columns:\n",
    "        return df.with_columns(pl.lit(None).alias(out_col))\n",
    "    # robustly cast string/Date/Datetime -> Datetime without schema errors\n",
    "    return df.with_columns(pl.col(col).cast(pl.Datetime, strict=False).alias(out_col))\n",
    "\n",
    "\n",
    "def session_time_split(train: pl.DataFrame, holdout_frac=0.05, n_folds=5, seed=42):\n",
    "    if \"ranker_id\" not in train.columns:\n",
    "        raise ValueError(\"ranker_id is required.\")\n",
    "    if \"requestDate\" in train.columns:\n",
    "        df = _ensure_datetime_column(train.select([\"ranker_id\", \"requestDate\"]), \"requestDate\", \"requestDate_dt\")\n",
    "        sess_time = (\n",
    "            df.group_by(\"ranker_id\")\n",
    "              .agg(pl.col(\"requestDate_dt\").min().alias(\"session_time\"))\n",
    "              .sort(\"session_time\")\n",
    "        )\n",
    "    else:\n",
    "        sess_time = (\n",
    "            train.select(\"ranker_id\")\n",
    "                 .unique()\n",
    "                 .with_columns(pl.lit(None).alias(\"session_time\"))\n",
    "                 .sort(\"ranker_id\")\n",
    "        )\n",
    "\n",
    "    n_sessions = sess_time.height\n",
    "    n_holdout = max(1, int(math.ceil(n_sessions * holdout_frac)))\n",
    "\n",
    "    holdout_ids = set(sess_time.tail(n_holdout)[\"ranker_id\"].to_list())\n",
    "    train_ids   = set(sess_time.head(n_sessions - n_holdout)[\"ranker_id\"].to_list())\n",
    "\n",
    "    # GroupKFold over remaining 95% sessions (deterministic shuffle)\n",
    "    sessions = list(train_ids)\n",
    "    rng = np.random.default_rng(seed)\n",
    "    rng.shuffle(sessions)\n",
    "\n",
    "    X_dummy = np.zeros(len(sessions))\n",
    "    y_dummy = np.zeros(len(sessions))\n",
    "    groups  = np.array(sessions)\n",
    "\n",
    "    skf = GroupKFold(n_splits=n_folds)\n",
    "    fold_ids: List[set] = []\n",
    "    for _, val_idx in skf.split(X_dummy, y_dummy, groups=groups):\n",
    "        fold_ids.append(set(np.array(sessions)[val_idx].tolist()))\n",
    "    return train_ids, holdout_ids, fold_ids\n",
    "\n",
    "\n",
    "\n",
    "def build_features(df: pl.DataFrame) -> pl.DataFrame:\n",
    "    out = df.clone()\n",
    "\n",
    "    # --- Durations → minutes (robust to string/numeric) ---\n",
    "    dur_cols = [\"legs0_duration\", \"legs1_duration\"] + \\\n",
    "               [f\"legs{l}_segments{s}_duration\" for l in (0, 1) for s in (0, 1)]\n",
    "    dur_exprs = [dur_to_min(pl.col(c)).alias(c) for c in dur_cols if c in out.columns]\n",
    "    if dur_exprs:\n",
    "        out = out.with_columns(dur_exprs)\n",
    "\n",
    "    # --- Simple label-free features ---\n",
    "    mc_cols = [f\"legs{l}_segments{s}_marketingCarrier_code\" for l in (0,1) for s in range(4)]\n",
    "    mc_exists = [c for c in mc_cols if c in out.columns]\n",
    "\n",
    "    out = out.with_columns([\n",
    "        (pl.col(\"taxes\") / (pl.col(\"totalPrice\") + 1)).alias(\"tax_rate\"),\n",
    "        pl.col(\"totalPrice\").log1p().alias(\"log_price\"),\n",
    "        (pl.col(\"legs0_duration\").fill_null(0) + pl.col(\"legs1_duration\").fill_null(0)).alias(\"total_duration\"),\n",
    "        pl.when(pl.col(\"legs1_duration\").fill_null(0) > 0)\n",
    "          .then(pl.col(\"legs0_duration\") / (pl.col(\"legs1_duration\") + 1))\n",
    "          .otherwise(1.0).alias(\"duration_ratio\"),\n",
    "        (pl.sum_horizontal(pl.col(c).is_not_null().cast(pl.UInt8) for c in mc_exists) if mc_exists else pl.lit(0)).alias(\"n_marketing_codes_present\"),\n",
    "        (pl.col(\"frequentFlyer\").fill_null(\"\").str.count_matches(\"/\") + (pl.col(\"frequentFlyer\").fill_null(\"\") != \"\").cast(pl.Int32)).alias(\"n_ff_programs\"),\n",
    "        pl.col(\"corporateTariffCode\").is_not_null().cast(pl.Int32).alias(\"has_corporate_tariff\"),\n",
    "        (pl.col(\"pricingInfo_isAccessTP\") == 1).cast(pl.Int32).alias(\"has_access_tp\"),\n",
    "    ])\n",
    "\n",
    "    # --- Segment counts (per leg) ---\n",
    "    seg_exprs = []\n",
    "    for leg in (0, 1):\n",
    "        seg_cols = [f\"legs{leg}_segments{s}_duration\" for s in range(4) if f\"legs{leg}_segments{s}_duration\" in out.columns]\n",
    "        if seg_cols:\n",
    "            seg_exprs.append(pl.sum_horizontal(pl.col(c).is_not_null() for c in seg_cols).cast(pl.Int32).alias(f\"n_segments_leg{leg}\"))\n",
    "        else:\n",
    "            seg_exprs.append(pl.lit(0).cast(pl.Int32).alias(f\"n_segments_leg{leg}\"))\n",
    "    out = out.with_columns(seg_exprs).with_columns([\n",
    "        (pl.col(\"n_segments_leg0\") + pl.col(\"n_segments_leg1\")).alias(\"total_segments\"),\n",
    "        (pl.col(\"n_segments_leg0\") == 1).cast(pl.Int32).alias(\"is_direct_leg0\"),\n",
    "    ])\n",
    "\n",
    "    # --- One-way flag (needs to exist before is_direct_leg1) ---\n",
    "    out = out.with_columns([\n",
    "        pl.when(\n",
    "            pl.col(\"legs1_duration\").is_null() |\n",
    "            (pl.col(\"legs1_duration\") == 0) |\n",
    "            pl.col(\"legs1_segments0_departureFrom_airport_iata\").is_null()\n",
    "        ).then(1).otherwise(0).cast(pl.Int32).alias(\"is_one_way\"),\n",
    "    ])\n",
    "\n",
    "    # --- Direct leg1 depends on is_one_way (create in separate step) ---\n",
    "    out = out.with_columns([\n",
    "        pl.when(pl.col(\"is_one_way\") == 1)\n",
    "          .then(0)\n",
    "          .otherwise((pl.col(\"n_segments_leg1\") == 1).cast(pl.Int32))\n",
    "          .alias(\"is_direct_leg1\"),\n",
    "    ])\n",
    "\n",
    "    # --- Use direct flags; create group_size first, then group_size_log in a separate step ---\n",
    "    out = out.with_columns([\n",
    "        (pl.col(\"is_direct_leg0\") & pl.col(\"is_direct_leg1\")).cast(pl.Int32).alias(\"both_direct\"),\n",
    "        ((pl.col(\"isVip\") == 1) | (pl.col(\"n_ff_programs\") > 0)).cast(pl.Int32).alias(\"is_vip_freq\"),\n",
    "        pl.col(\"Id\").count().over(\"ranker_id\").alias(\"group_size\"),\n",
    "    ])\n",
    "    \n",
    "    # IMPORTANT: compute group_size_log in its own call so the column exists\n",
    "    out = out.with_columns([\n",
    "        pl.col(\"group_size\").log1p().alias(\"group_size_log\"),\n",
    "    ])\n",
    "\n",
    "    # --- Price/duration ranks within session (label-free) ---\n",
    "    out = out.with_columns([\n",
    "        pl.col(\"totalPrice\").rank().over(\"ranker_id\").alias(\"price_rank\"),\n",
    "        (pl.col(\"totalPrice\").rank(\"average\").over(\"ranker_id\") / pl.col(\"totalPrice\").count().over(\"ranker_id\")).alias(\"price_pct_rank\"),\n",
    "        (pl.col(\"totalPrice\") == pl.col(\"totalPrice\").min().over(\"ranker_id\")).cast(pl.Int32).alias(\"is_cheapest\"),\n",
    "        ((pl.col(\"totalPrice\") - pl.col(\"totalPrice\").median().over(\"ranker_id\")) / (pl.col(\"totalPrice\").std().over(\"ranker_id\") + 1)).alias(\"price_from_median\"),\n",
    "        pl.col(\"total_duration\").rank().over(\"ranker_id\").alias(\"duration_rank\"),\n",
    "    ])\n",
    "\n",
    "    # --- Time-of-day/week if timestamps exist (robust cast) ---\n",
    "    time_feats = []\n",
    "    for col in (\"legs0_departureAt\",\"legs0_arrivalAt\",\"legs1_departureAt\",\"legs1_arrivalAt\"):\n",
    "        if col in out.columns:\n",
    "            dt = pl.col(col).cast(pl.Datetime, strict=False)\n",
    "            h  = dt.dt.hour().fill_null(12)\n",
    "            time_feats += [\n",
    "                h.alias(f\"{col}_hour\"),\n",
    "                dt.dt.weekday().fill_null(0).alias(f\"{col}_weekday\"),\n",
    "                (((h >= 6) & (h <= 9)) | ((h >= 17) & (h <= 20))).cast(pl.Int32).alias(f\"{col}_business_time\"),\n",
    "            ]\n",
    "    if time_feats:\n",
    "        out = out.with_columns(time_feats)\n",
    "\n",
    "    # --- Fill nulls (numeric→0, strings→\"missing\") ---\n",
    "    num_cols = out.select(pl.selectors.numeric()).columns\n",
    "    str_cols = out.select(pl.selectors.string()).columns\n",
    "    out = out.with_columns([pl.col(c).fill_null(0) for c in num_cols] + [pl.col(c).fill_null(\"missing\") for c in str_cols])\n",
    "\n",
    "    return out\n",
    "\n",
    "# -----------------------------\n",
    "# Label encoders fit on 95% only (unsupervised) → map everywhere\n",
    "# -----------------------------\n",
    "def fit_label_maps(train_df: pl.DataFrame, cat_cols: List[str]) -> Dict[str, pl.DataFrame]:\n",
    "    maps = {}\n",
    "    for c in cat_cols:\n",
    "        if c not in train_df.columns:\n",
    "            continue\n",
    "        mapping = (train_df.select(c).unique().drop_nulls().with_row_index(name=f\"{c}__code\").rename({c: f\"{c}\"}))\n",
    "        maps[c] = mapping\n",
    "    return maps\n",
    "\n",
    "def apply_label_maps(df: pl.DataFrame, maps: Dict[str, pl.DataFrame]) -> pl.DataFrame:\n",
    "    out = df\n",
    "    for c, mapping in maps.items():\n",
    "        if c not in out.columns:\n",
    "            continue\n",
    "        out = (out.join(mapping, on=c, how=\"left\")\n",
    "                  .with_columns(pl.col(f\"{c}__code\").fill_null(-1).cast(pl.Int32).alias(f\"{c}__le\"))\n",
    "                  .drop(f\"{c}__code\"))\n",
    "    return out\n",
    "\n",
    "# -----------------------------\n",
    "# Target encoding: fit mappings on TRAIN ONLY (per-fold), apply to val/test\n",
    "# -----------------------------\n",
    "def fit_te_mappings(df_train: pl.DataFrame, cols: List[str], target_col: str, m: float) -> Tuple[Dict[str, pl.DataFrame], float]:\n",
    "    prior = df_train.select(pl.col(target_col).mean()).item()\n",
    "    maps = {}\n",
    "    for c in cols:\n",
    "        if c not in df_train.columns:\n",
    "            continue\n",
    "        mp = (\n",
    "            df_train.group_by(c)\n",
    "                    .agg([pl.len().alias(\"cnt\"), pl.col(target_col).sum().alias(\"sum_y\")])\n",
    "                    .with_columns(((pl.col(\"sum_y\") + m * prior) / (pl.col(\"cnt\") + m)).alias(f\"{c}_te\"))\n",
    "                    .select([c, f\"{c}_te\"])\n",
    "        )\n",
    "        maps[c] = mp\n",
    "    return maps, prior\n",
    "\n",
    "def apply_te_mappings(df: pl.DataFrame, maps: Dict[str, pl.DataFrame], prior: float) -> pl.DataFrame:\n",
    "    out = df\n",
    "    for c, mp in maps.items():\n",
    "        if c not in out.columns:\n",
    "            continue\n",
    "        te_col = f\"{c}_te\"\n",
    "        out = out.join(mp, on=c, how=\"left\").with_columns(pl.col(te_col).fill_null(prior).alias(te_col))\n",
    "    return out\n",
    "\n",
    "# -----------------------------\n",
    "# Build model matrices (grouped)\n",
    "# -----------------------------\n",
    "def select_feature_cols(df: pl.DataFrame) -> List[str]:\n",
    "    numeric = [c for c in df.select(pl.selectors.numeric()).columns if c not in EXCLUDE_COLS]\n",
    "    le_cols = [c for c in df.columns if c.endswith(\"__le\")]\n",
    "    te_cols = [c for c in df.columns if c.endswith(\"_te\")]\n",
    "    feat = sorted(set(numeric + le_cols + te_cols) - EXCLUDE_COLS)\n",
    "    return feat\n",
    "\n",
    "def to_dmatrix(df: pl.DataFrame, feat_cols: List[str]) -> Tuple[xgb.DMatrix, np.ndarray, np.ndarray]:\n",
    "    ordered = df.sort([\"ranker_id\"])\n",
    "    group_sizes = ordered.group_by(\"ranker_id\", maintain_order=True).agg(pl.len())[\"len\"].to_numpy()\n",
    "    X = ordered.select(feat_cols).to_numpy()\n",
    "    y = ordered[\"selected\"].to_numpy() if \"selected\" in ordered.columns else None\n",
    "    dmat = xgb.DMatrix(X, label=y, group=group_sizes, feature_names=feat_cols)\n",
    "    return dmat, group_sizes, ordered[\"Id\"].to_numpy()\n",
    "\n",
    "def hitrate_at_3(y_true: np.ndarray, y_pred: np.ndarray, group_sizes: np.ndarray) -> float:\n",
    "    start = 0\n",
    "    hits = 0\n",
    "    considered = 0\n",
    "    for g in group_sizes:\n",
    "        end = start + g\n",
    "        if g > 10:\n",
    "            considered += 1\n",
    "            order = np.argsort(-y_pred[start:end])\n",
    "            top_true = y_true[start:end][order][:3]\n",
    "            hits += int(top_true.max() == 1)\n",
    "        start = end\n",
    "    return hits / considered if considered > 0 else 0.0\n",
    "\n",
    "    \n"
   ]
  },
  {
   "cell_type": "code",
   "execution_count": 6,
   "id": "027396da",
   "metadata": {
    "execution": {
     "iopub.execute_input": "2025-08-11T17:41:49.434654Z",
     "iopub.status.busy": "2025-08-11T17:41:49.434447Z",
     "iopub.status.idle": "2025-08-11T17:41:54.447632Z",
     "shell.execute_reply": "2025-08-11T17:41:54.440147Z"
    },
    "papermill": {
     "duration": 5.026656,
     "end_time": "2025-08-11T17:41:54.450327",
     "exception": false,
     "start_time": "2025-08-11T17:41:49.423671",
     "status": "completed"
    },
    "tags": []
   },
   "outputs": [],
   "source": [
    "# 1) Load\n",
    "train_raw, test_raw = read_data()\n",
    "\n",
    "# 2) Split sessions FIRST (fixes your error by handling datetime robustly)\n",
    "train_ids, holdout_ids, fold_ids = session_time_split(\n",
    "    train_raw, holdout_frac=HOLDOUT_FRAC, n_folds=N_FOLDS, seed=RANDOM_STATE\n",
    ")\n",
    "\n",
    "train_95 = train_raw.filter(pl.col(\"ranker_id\").is_in(list(train_ids)))\n",
    "validator_ = train_raw.filter(pl.col(\"ranker_id\").is_in(list(holdout_ids)))\n"
   ]
  },
  {
   "cell_type": "code",
   "execution_count": 7,
   "id": "bde27968",
   "metadata": {
    "execution": {
     "iopub.execute_input": "2025-08-11T17:41:54.470220Z",
     "iopub.status.busy": "2025-08-11T17:41:54.469971Z",
     "iopub.status.idle": "2025-08-11T17:41:54.504117Z",
     "shell.execute_reply": "2025-08-11T17:41:54.499877Z"
    },
    "papermill": {
     "duration": 0.047179,
     "end_time": "2025-08-11T17:41:54.506134",
     "exception": false,
     "start_time": "2025-08-11T17:41:54.458955",
     "status": "completed"
    },
    "tags": []
   },
   "outputs": [
    {
     "data": {
      "text/html": [
       "<div><style>\n",
       ".dataframe > thead > tr,\n",
       ".dataframe > tbody > tr {\n",
       "  text-align: right;\n",
       "  white-space: pre-wrap;\n",
       "}\n",
       "</style>\n",
       "<small>shape: (5, 127)</small><table border=\"1\" class=\"dataframe\"><thead><tr><th>Id</th><th>bySelf</th><th>companyID</th><th>corporateTariffCode</th><th>frequentFlyer</th><th>nationality</th><th>isAccess3D</th><th>isVip</th><th>legs0_arrivalAt</th><th>legs0_departureAt</th><th>legs0_duration</th><th>legs0_segments0_aircraft_code</th><th>legs0_segments0_arrivalTo_airport_city_iata</th><th>legs0_segments0_arrivalTo_airport_iata</th><th>legs0_segments0_baggageAllowance_quantity</th><th>legs0_segments0_baggageAllowance_weightMeasurementType</th><th>legs0_segments0_cabinClass</th><th>legs0_segments0_departureFrom_airport_iata</th><th>legs0_segments0_duration</th><th>legs0_segments0_flightNumber</th><th>legs0_segments0_marketingCarrier_code</th><th>legs0_segments0_operatingCarrier_code</th><th>legs0_segments0_seatsAvailable</th><th>legs0_segments1_aircraft_code</th><th>legs0_segments1_arrivalTo_airport_city_iata</th><th>legs0_segments1_arrivalTo_airport_iata</th><th>legs0_segments1_baggageAllowance_quantity</th><th>legs0_segments1_baggageAllowance_weightMeasurementType</th><th>legs0_segments1_cabinClass</th><th>legs0_segments1_departureFrom_airport_iata</th><th>legs0_segments1_duration</th><th>legs0_segments1_flightNumber</th><th>legs0_segments1_marketingCarrier_code</th><th>legs0_segments1_operatingCarrier_code</th><th>legs0_segments1_seatsAvailable</th><th>legs0_segments2_aircraft_code</th><th>legs0_segments2_arrivalTo_airport_city_iata</th><th>&hellip;</th><th>legs1_segments2_baggageAllowance_weightMeasurementType</th><th>legs1_segments2_cabinClass</th><th>legs1_segments2_departureFrom_airport_iata</th><th>legs1_segments2_duration</th><th>legs1_segments2_flightNumber</th><th>legs1_segments2_marketingCarrier_code</th><th>legs1_segments2_operatingCarrier_code</th><th>legs1_segments2_seatsAvailable</th><th>legs1_segments3_aircraft_code</th><th>legs1_segments3_arrivalTo_airport_city_iata</th><th>legs1_segments3_arrivalTo_airport_iata</th><th>legs1_segments3_baggageAllowance_quantity</th><th>legs1_segments3_baggageAllowance_weightMeasurementType</th><th>legs1_segments3_cabinClass</th><th>legs1_segments3_departureFrom_airport_iata</th><th>legs1_segments3_duration</th><th>legs1_segments3_flightNumber</th><th>legs1_segments3_marketingCarrier_code</th><th>legs1_segments3_operatingCarrier_code</th><th>legs1_segments3_seatsAvailable</th><th>miniRules0_monetaryAmount</th><th>miniRules0_percentage</th><th>miniRules0_statusInfos</th><th>miniRules1_monetaryAmount</th><th>miniRules1_percentage</th><th>miniRules1_statusInfos</th><th>pricingInfo_isAccessTP</th><th>pricingInfo_passengerCount</th><th>profileId</th><th>ranker_id</th><th>requestDate</th><th>searchRoute</th><th>sex</th><th>taxes</th><th>totalPrice</th><th>selected</th><th>__index_level_0__</th></tr><tr><td>i64</td><td>bool</td><td>i64</td><td>i64</td><td>str</td><td>i64</td><td>bool</td><td>bool</td><td>str</td><td>str</td><td>str</td><td>str</td><td>str</td><td>str</td><td>f64</td><td>f64</td><td>f64</td><td>str</td><td>str</td><td>str</td><td>str</td><td>str</td><td>f64</td><td>str</td><td>str</td><td>str</td><td>f64</td><td>f64</td><td>f64</td><td>str</td><td>str</td><td>str</td><td>str</td><td>str</td><td>f64</td><td>str</td><td>str</td><td>&hellip;</td><td>f64</td><td>f64</td><td>str</td><td>str</td><td>str</td><td>str</td><td>str</td><td>f64</td><td>str</td><td>str</td><td>str</td><td>f64</td><td>f64</td><td>f64</td><td>str</td><td>str</td><td>str</td><td>str</td><td>str</td><td>f64</td><td>f64</td><td>f64</td><td>f64</td><td>f64</td><td>f64</td><td>f64</td><td>f64</td><td>i64</td><td>i64</td><td>str</td><td>datetime[ns]</td><td>str</td><td>bool</td><td>f64</td><td>f64</td><td>i64</td><td>i64</td></tr></thead><tbody><tr><td>0</td><td>true</td><td>57323</td><td>null</td><td>&quot;S7/SU/UT&quot;</td><td>36</td><td>false</td><td>false</td><td>&quot;2024-06-15T16:20:00&quot;</td><td>&quot;2024-06-15T15:40:00&quot;</td><td>&quot;02:40:00&quot;</td><td>&quot;YK2&quot;</td><td>&quot;KJA&quot;</td><td>&quot;KJA&quot;</td><td>1.0</td><td>0.0</td><td>1.0</td><td>&quot;TLK&quot;</td><td>&quot;02:40:00&quot;</td><td>&quot;216&quot;</td><td>&quot;KV&quot;</td><td>&quot;KV&quot;</td><td>9.0</td><td>null</td><td>null</td><td>null</td><td>null</td><td>null</td><td>null</td><td>null</td><td>null</td><td>null</td><td>null</td><td>null</td><td>null</td><td>null</td><td>null</td><td>&hellip;</td><td>null</td><td>null</td><td>null</td><td>null</td><td>null</td><td>null</td><td>null</td><td>null</td><td>null</td><td>null</td><td>null</td><td>null</td><td>null</td><td>null</td><td>null</td><td>null</td><td>null</td><td>null</td><td>null</td><td>null</td><td>null</td><td>null</td><td>null</td><td>null</td><td>null</td><td>null</td><td>1.0</td><td>1</td><td>2087645</td><td>&quot;98ce0dabf6964640b63079fbafd42c…</td><td>2024-05-17 03:03:08</td><td>&quot;TLKKJA/KJATLK&quot;</td><td>true</td><td>370.0</td><td>16884.0</td><td>1</td><td>0</td></tr><tr><td>1</td><td>true</td><td>57323</td><td>123</td><td>&quot;S7/SU/UT&quot;</td><td>36</td><td>true</td><td>false</td><td>&quot;2024-06-15T14:50:00&quot;</td><td>&quot;2024-06-15T09:25:00&quot;</td><td>&quot;07:25:00&quot;</td><td>&quot;E70&quot;</td><td>&quot;OVB&quot;</td><td>&quot;OVB&quot;</td><td>1.0</td><td>0.0</td><td>1.0</td><td>&quot;TLK&quot;</td><td>&quot;02:50:00&quot;</td><td>&quot;5358&quot;</td><td>&quot;S7&quot;</td><td>&quot;S7&quot;</td><td>4.0</td><td>&quot;E70&quot;</td><td>&quot;KJA&quot;</td><td>&quot;KJA&quot;</td><td>1.0</td><td>0.0</td><td>1.0</td><td>&quot;OVB&quot;</td><td>&quot;01:20:00&quot;</td><td>&quot;5311&quot;</td><td>&quot;S7&quot;</td><td>&quot;S7&quot;</td><td>4.0</td><td>null</td><td>null</td><td>&hellip;</td><td>null</td><td>null</td><td>null</td><td>null</td><td>null</td><td>null</td><td>null</td><td>null</td><td>null</td><td>null</td><td>null</td><td>null</td><td>null</td><td>null</td><td>null</td><td>null</td><td>null</td><td>null</td><td>null</td><td>null</td><td>2300.0</td><td>null</td><td>1.0</td><td>3500.0</td><td>null</td><td>1.0</td><td>1.0</td><td>1</td><td>2087645</td><td>&quot;98ce0dabf6964640b63079fbafd42c…</td><td>2024-05-17 03:03:08</td><td>&quot;TLKKJA/KJATLK&quot;</td><td>true</td><td>2240.0</td><td>51125.0</td><td>0</td><td>1</td></tr><tr><td>2</td><td>true</td><td>57323</td><td>null</td><td>&quot;S7/SU/UT&quot;</td><td>36</td><td>false</td><td>false</td><td>&quot;2024-06-15T14:50:00&quot;</td><td>&quot;2024-06-15T09:25:00&quot;</td><td>&quot;07:25:00&quot;</td><td>&quot;E70&quot;</td><td>&quot;OVB&quot;</td><td>&quot;OVB&quot;</td><td>1.0</td><td>0.0</td><td>1.0</td><td>&quot;TLK&quot;</td><td>&quot;02:50:00&quot;</td><td>&quot;5358&quot;</td><td>&quot;S7&quot;</td><td>&quot;S7&quot;</td><td>4.0</td><td>&quot;E70&quot;</td><td>&quot;KJA&quot;</td><td>&quot;KJA&quot;</td><td>1.0</td><td>0.0</td><td>1.0</td><td>&quot;OVB&quot;</td><td>&quot;01:20:00&quot;</td><td>&quot;5311&quot;</td><td>&quot;S7&quot;</td><td>&quot;S7&quot;</td><td>4.0</td><td>null</td><td>null</td><td>&hellip;</td><td>null</td><td>null</td><td>null</td><td>null</td><td>null</td><td>null</td><td>null</td><td>null</td><td>null</td><td>null</td><td>null</td><td>null</td><td>null</td><td>null</td><td>null</td><td>null</td><td>null</td><td>null</td><td>null</td><td>null</td><td>2300.0</td><td>null</td><td>1.0</td><td>3500.0</td><td>null</td><td>1.0</td><td>1.0</td><td>1</td><td>2087645</td><td>&quot;98ce0dabf6964640b63079fbafd42c…</td><td>2024-05-17 03:03:08</td><td>&quot;TLKKJA/KJATLK&quot;</td><td>true</td><td>2240.0</td><td>53695.0</td><td>0</td><td>2</td></tr><tr><td>3</td><td>true</td><td>57323</td><td>123</td><td>&quot;S7/SU/UT&quot;</td><td>36</td><td>true</td><td>false</td><td>&quot;2024-06-15T14:50:00&quot;</td><td>&quot;2024-06-15T09:25:00&quot;</td><td>&quot;07:25:00&quot;</td><td>&quot;E70&quot;</td><td>&quot;OVB&quot;</td><td>&quot;OVB&quot;</td><td>1.0</td><td>0.0</td><td>1.0</td><td>&quot;TLK&quot;</td><td>&quot;02:50:00&quot;</td><td>&quot;5358&quot;</td><td>&quot;S7&quot;</td><td>&quot;S7&quot;</td><td>4.0</td><td>&quot;E70&quot;</td><td>&quot;KJA&quot;</td><td>&quot;KJA&quot;</td><td>1.0</td><td>0.0</td><td>1.0</td><td>&quot;OVB&quot;</td><td>&quot;01:20:00&quot;</td><td>&quot;5311&quot;</td><td>&quot;S7&quot;</td><td>&quot;S7&quot;</td><td>4.0</td><td>null</td><td>null</td><td>&hellip;</td><td>null</td><td>null</td><td>null</td><td>null</td><td>null</td><td>null</td><td>null</td><td>null</td><td>null</td><td>null</td><td>null</td><td>null</td><td>null</td><td>null</td><td>null</td><td>null</td><td>null</td><td>null</td><td>null</td><td>null</td><td>0.0</td><td>null</td><td>1.0</td><td>0.0</td><td>null</td><td>1.0</td><td>1.0</td><td>1</td><td>2087645</td><td>&quot;98ce0dabf6964640b63079fbafd42c…</td><td>2024-05-17 03:03:08</td><td>&quot;TLKKJA/KJATLK&quot;</td><td>true</td><td>2240.0</td><td>81880.0</td><td>0</td><td>3</td></tr><tr><td>4</td><td>true</td><td>57323</td><td>null</td><td>&quot;S7/SU/UT&quot;</td><td>36</td><td>false</td><td>false</td><td>&quot;2024-06-15T14:50:00&quot;</td><td>&quot;2024-06-15T09:25:00&quot;</td><td>&quot;07:25:00&quot;</td><td>&quot;E70&quot;</td><td>&quot;OVB&quot;</td><td>&quot;OVB&quot;</td><td>1.0</td><td>0.0</td><td>1.0</td><td>&quot;TLK&quot;</td><td>&quot;02:50:00&quot;</td><td>&quot;5358&quot;</td><td>&quot;S7&quot;</td><td>&quot;S7&quot;</td><td>4.0</td><td>&quot;E70&quot;</td><td>&quot;KJA&quot;</td><td>&quot;KJA&quot;</td><td>1.0</td><td>0.0</td><td>1.0</td><td>&quot;OVB&quot;</td><td>&quot;01:20:00&quot;</td><td>&quot;5311&quot;</td><td>&quot;S7&quot;</td><td>&quot;S7&quot;</td><td>4.0</td><td>null</td><td>null</td><td>&hellip;</td><td>null</td><td>null</td><td>null</td><td>null</td><td>null</td><td>null</td><td>null</td><td>null</td><td>null</td><td>null</td><td>null</td><td>null</td><td>null</td><td>null</td><td>null</td><td>null</td><td>null</td><td>null</td><td>null</td><td>null</td><td>0.0</td><td>null</td><td>1.0</td><td>0.0</td><td>null</td><td>1.0</td><td>1.0</td><td>1</td><td>2087645</td><td>&quot;98ce0dabf6964640b63079fbafd42c…</td><td>2024-05-17 03:03:08</td><td>&quot;TLKKJA/KJATLK&quot;</td><td>true</td><td>2240.0</td><td>86070.0</td><td>0</td><td>4</td></tr></tbody></table></div>"
      ],
      "text/plain": [
       "shape: (5, 127)\n",
       "┌─────┬────────┬───────────┬─────────────────┬───┬────────┬────────────┬──────────┬────────────────┐\n",
       "│ Id  ┆ bySelf ┆ companyID ┆ corporateTariff ┆ … ┆ taxes  ┆ totalPrice ┆ selected ┆ __index_level_ │\n",
       "│ --- ┆ ---    ┆ ---       ┆ Code            ┆   ┆ ---    ┆ ---        ┆ ---      ┆ 0__            │\n",
       "│ i64 ┆ bool   ┆ i64       ┆ ---             ┆   ┆ f64    ┆ f64        ┆ i64      ┆ ---            │\n",
       "│     ┆        ┆           ┆ i64             ┆   ┆        ┆            ┆          ┆ i64            │\n",
       "╞═════╪════════╪═══════════╪═════════════════╪═══╪════════╪════════════╪══════════╪════════════════╡\n",
       "│ 0   ┆ true   ┆ 57323     ┆ null            ┆ … ┆ 370.0  ┆ 16884.0    ┆ 1        ┆ 0              │\n",
       "│ 1   ┆ true   ┆ 57323     ┆ 123             ┆ … ┆ 2240.0 ┆ 51125.0    ┆ 0        ┆ 1              │\n",
       "│ 2   ┆ true   ┆ 57323     ┆ null            ┆ … ┆ 2240.0 ┆ 53695.0    ┆ 0        ┆ 2              │\n",
       "│ 3   ┆ true   ┆ 57323     ┆ 123             ┆ … ┆ 2240.0 ┆ 81880.0    ┆ 0        ┆ 3              │\n",
       "│ 4   ┆ true   ┆ 57323     ┆ null            ┆ … ┆ 2240.0 ┆ 86070.0    ┆ 0        ┆ 4              │\n",
       "└─────┴────────┴───────────┴─────────────────┴───┴────────┴────────────┴──────────┴────────────────┘"
      ]
     },
     "execution_count": 7,
     "metadata": {},
     "output_type": "execute_result"
    }
   ],
   "source": [
    "train_95.head()"
   ]
  },
  {
   "cell_type": "code",
   "execution_count": 8,
   "id": "991820ee",
   "metadata": {
    "execution": {
     "iopub.execute_input": "2025-08-11T17:41:54.525969Z",
     "iopub.status.busy": "2025-08-11T17:41:54.525707Z",
     "iopub.status.idle": "2025-08-11T17:42:49.887631Z",
     "shell.execute_reply": "2025-08-11T17:42:49.882698Z"
    },
    "papermill": {
     "duration": 55.37744,
     "end_time": "2025-08-11T17:42:49.891699",
     "exception": false,
     "start_time": "2025-08-11T17:41:54.514259",
     "status": "completed"
    },
    "tags": []
   },
   "outputs": [],
   "source": [
    "\n",
    "# 3) Build base features (label-free) for 95%, validator_, and test\n",
    "train_95_f = build_features(train_95)\n",
    "validator_f = build_features(validator_)\n",
    "test_f = build_features(test_raw.with_columns(pl.lit(0, dtype=pl.Int8).alias(\"selected\")))  # dummy target\n"
   ]
  },
  {
   "cell_type": "code",
   "execution_count": 9,
   "id": "974e9637",
   "metadata": {
    "execution": {
     "iopub.execute_input": "2025-08-11T17:42:49.912433Z",
     "iopub.status.busy": "2025-08-11T17:42:49.912171Z",
     "iopub.status.idle": "2025-08-11T17:43:07.059744Z",
     "shell.execute_reply": "2025-08-11T17:43:07.055130Z"
    },
    "papermill": {
     "duration": 17.162259,
     "end_time": "2025-08-11T17:43:07.062611",
     "exception": false,
     "start_time": "2025-08-11T17:42:49.900352",
     "status": "completed"
    },
    "tags": []
   },
   "outputs": [],
   "source": [
    "# 4) Fit label encoders on 95% only, apply to all\n",
    "cat_cols = [c for c in BASIC_CAT_COLS if c in train_95_f.columns]\n",
    "le_maps = fit_label_maps(train_95_f, cat_cols)\n",
    "train_95_f = apply_label_maps(train_95_f, le_maps)\n",
    "validator_f = apply_label_maps(validator_f, le_maps)\n",
    "test_f = apply_label_maps(test_f, le_maps)\n"
   ]
  },
  {
   "cell_type": "markdown",
   "id": "7a8ab3a4",
   "metadata": {
    "papermill": {
     "duration": 0.008071,
     "end_time": "2025-08-11T17:43:07.079227",
     "exception": false,
     "start_time": "2025-08-11T17:43:07.071156",
     "status": "completed"
    },
    "tags": []
   },
   "source": [
    "## 95% Data Train"
   ]
  },
  {
   "cell_type": "code",
   "execution_count": 10,
   "id": "32b5f1c5",
   "metadata": {
    "execution": {
     "iopub.execute_input": "2025-08-11T17:43:07.098229Z",
     "iopub.status.busy": "2025-08-11T17:43:07.097981Z",
     "iopub.status.idle": "2025-08-11T17:43:07.107812Z",
     "shell.execute_reply": "2025-08-11T17:43:07.103822Z"
    },
    "papermill": {
     "duration": 0.022997,
     "end_time": "2025-08-11T17:43:07.110123",
     "exception": false,
     "start_time": "2025-08-11T17:43:07.087126",
     "status": "completed"
    },
    "tags": []
   },
   "outputs": [],
   "source": [
    "\n",
    "Identifier = 'SeriesA-R4_LOWER'\n",
    "\n",
    "NUM_BOOST_ROUND = 1500\n",
    "EARLY_STOPPING_ROUNDS = 200\n",
    "VERBOSE_EVAL = 50\n",
    "\n",
    "\n",
    "\n",
    "Identifier = 'SeriesA-R4_MORE'\n",
    "\n",
    "XGB_PARAMS = {\n",
    "    'objective': 'rank:pairwise',\n",
    "    'eval_metric': 'ndcg@3',\n",
    "    \"learning_rate\": 0.02222222,\n",
    "    \"max_depth\": 14,\n",
    "    \"min_child_weight\": 7,\n",
    "    \"subsample\": 0.93,\n",
    "    \"colsample_bytree\": 0.40,\n",
    "    \"gamma\": 3.3084297630544888,\n",
    "    \"lambda\": 5.952586917313028,\n",
    "    \"alpha\": 0.6395254133055179,\n",
    "    \"seed\": RANDOM_STATE,\n",
    "    \"n_jobs\": -1,\n",
    "    # \"tree_method\": \"gpu_hist\",  # enable if GPU is available\n",
    "}\n"
   ]
  },
  {
   "cell_type": "code",
   "execution_count": 11,
   "id": "8351c3c5",
   "metadata": {
    "execution": {
     "iopub.execute_input": "2025-08-11T17:43:07.129016Z",
     "iopub.status.busy": "2025-08-11T17:43:07.128784Z",
     "iopub.status.idle": "2025-08-11T19:26:52.470453Z",
     "shell.execute_reply": "2025-08-11T19:26:52.466348Z"
    },
    "papermill": {
     "duration": 6225.372864,
     "end_time": "2025-08-11T19:26:52.490860",
     "exception": false,
     "start_time": "2025-08-11T17:43:07.117996",
     "status": "completed"
    },
    "tags": []
   },
   "outputs": [
    {
     "name": "stdout",
     "output_type": "stream",
     "text": [
      "\n",
      "[OOF] Fold 0/4\n"
     ]
    },
    {
     "name": "stdout",
     "output_type": "stream",
     "text": [
      "[0]\ttrain-ndcg@3:0.34745\tval-ndcg@3:0.33562"
     ]
    },
    {
     "name": "stdout",
     "output_type": "stream",
     "text": []
    },
    {
     "name": "stdout",
     "output_type": "stream",
     "text": [
      "[50]\ttrain-ndcg@3:0.64232\tval-ndcg@3:0.48012"
     ]
    },
    {
     "name": "stdout",
     "output_type": "stream",
     "text": []
    },
    {
     "name": "stdout",
     "output_type": "stream",
     "text": [
      "[100]\ttrain-ndcg@3:0.68635\tval-ndcg@3:0.49441"
     ]
    },
    {
     "name": "stdout",
     "output_type": "stream",
     "text": []
    },
    {
     "name": "stdout",
     "output_type": "stream",
     "text": [
      "[150]\ttrain-ndcg@3:0.71457\tval-ndcg@3:0.50258\n"
     ]
    },
    {
     "name": "stdout",
     "output_type": "stream",
     "text": [
      "[200]\ttrain-ndcg@3:0.73986\tval-ndcg@3:0.50975\n"
     ]
    },
    {
     "name": "stdout",
     "output_type": "stream",
     "text": [
      "[250]\ttrain-ndcg@3:0.76612\tval-ndcg@3:0.51753"
     ]
    },
    {
     "name": "stdout",
     "output_type": "stream",
     "text": []
    },
    {
     "name": "stdout",
     "output_type": "stream",
     "text": [
      "[300]\ttrain-ndcg@3:0.78912\tval-ndcg@3:0.52611"
     ]
    },
    {
     "name": "stdout",
     "output_type": "stream",
     "text": []
    },
    {
     "name": "stdout",
     "output_type": "stream",
     "text": [
      "[350]\ttrain-ndcg@3:0.81173\tval-ndcg@3:0.53171"
     ]
    },
    {
     "name": "stdout",
     "output_type": "stream",
     "text": []
    },
    {
     "name": "stdout",
     "output_type": "stream",
     "text": [
      "[400]\ttrain-ndcg@3:0.83205\tval-ndcg@3:0.53746\n"
     ]
    },
    {
     "name": "stdout",
     "output_type": "stream",
     "text": [
      "[450]\ttrain-ndcg@3:0.84924\tval-ndcg@3:0.54205\n"
     ]
    },
    {
     "name": "stdout",
     "output_type": "stream",
     "text": [
      "[500]\ttrain-ndcg@3:0.86293\tval-ndcg@3:0.54587"
     ]
    },
    {
     "name": "stdout",
     "output_type": "stream",
     "text": []
    },
    {
     "name": "stdout",
     "output_type": "stream",
     "text": [
      "[550]\ttrain-ndcg@3:0.87281\tval-ndcg@3:0.54984"
     ]
    },
    {
     "name": "stdout",
     "output_type": "stream",
     "text": []
    },
    {
     "name": "stdout",
     "output_type": "stream",
     "text": [
      "[600]\ttrain-ndcg@3:0.88064\tval-ndcg@3:0.55188\n"
     ]
    },
    {
     "name": "stdout",
     "output_type": "stream",
     "text": [
      "[650]\ttrain-ndcg@3:0.88842\tval-ndcg@3:0.55511\n"
     ]
    },
    {
     "name": "stdout",
     "output_type": "stream",
     "text": [
      "[700]\ttrain-ndcg@3:0.89535\tval-ndcg@3:0.55704\n"
     ]
    },
    {
     "name": "stdout",
     "output_type": "stream",
     "text": [
      "[750]\ttrain-ndcg@3:0.90043\tval-ndcg@3:0.55987"
     ]
    },
    {
     "name": "stdout",
     "output_type": "stream",
     "text": []
    },
    {
     "name": "stdout",
     "output_type": "stream",
     "text": [
      "[800]\ttrain-ndcg@3:0.90463\tval-ndcg@3:0.56079"
     ]
    },
    {
     "name": "stdout",
     "output_type": "stream",
     "text": []
    },
    {
     "name": "stdout",
     "output_type": "stream",
     "text": [
      "[850]\ttrain-ndcg@3:0.90703\tval-ndcg@3:0.56192"
     ]
    },
    {
     "name": "stdout",
     "output_type": "stream",
     "text": []
    },
    {
     "name": "stdout",
     "output_type": "stream",
     "text": [
      "[900]\ttrain-ndcg@3:0.90890\tval-ndcg@3:0.56262"
     ]
    },
    {
     "name": "stdout",
     "output_type": "stream",
     "text": []
    },
    {
     "name": "stdout",
     "output_type": "stream",
     "text": [
      "[950]\ttrain-ndcg@3:0.91071\tval-ndcg@3:0.56393"
     ]
    },
    {
     "name": "stdout",
     "output_type": "stream",
     "text": []
    },
    {
     "name": "stdout",
     "output_type": "stream",
     "text": [
      "[1000]\ttrain-ndcg@3:0.91201\tval-ndcg@3:0.56366"
     ]
    },
    {
     "name": "stdout",
     "output_type": "stream",
     "text": []
    },
    {
     "name": "stdout",
     "output_type": "stream",
     "text": [
      "[1050]\ttrain-ndcg@3:0.91312\tval-ndcg@3:0.56410"
     ]
    },
    {
     "name": "stdout",
     "output_type": "stream",
     "text": []
    },
    {
     "name": "stdout",
     "output_type": "stream",
     "text": [
      "[1100]\ttrain-ndcg@3:0.91368\tval-ndcg@3:0.56468\n"
     ]
    },
    {
     "name": "stdout",
     "output_type": "stream",
     "text": [
      "[1150]\ttrain-ndcg@3:0.91398\tval-ndcg@3:0.56457\n"
     ]
    },
    {
     "name": "stdout",
     "output_type": "stream",
     "text": [
      "[1200]\ttrain-ndcg@3:0.91439\tval-ndcg@3:0.56512"
     ]
    },
    {
     "name": "stdout",
     "output_type": "stream",
     "text": []
    },
    {
     "name": "stdout",
     "output_type": "stream",
     "text": [
      "[1250]\ttrain-ndcg@3:0.91551\tval-ndcg@3:0.56509"
     ]
    },
    {
     "name": "stdout",
     "output_type": "stream",
     "text": []
    },
    {
     "name": "stdout",
     "output_type": "stream",
     "text": [
      "[1300]\ttrain-ndcg@3:0.91600\tval-ndcg@3:0.56534"
     ]
    },
    {
     "name": "stdout",
     "output_type": "stream",
     "text": []
    },
    {
     "name": "stdout",
     "output_type": "stream",
     "text": [
      "[1350]\ttrain-ndcg@3:0.91644\tval-ndcg@3:0.56533\n"
     ]
    },
    {
     "name": "stdout",
     "output_type": "stream",
     "text": [
      "[1400]\ttrain-ndcg@3:0.91665\tval-ndcg@3:0.56511\n"
     ]
    },
    {
     "name": "stdout",
     "output_type": "stream",
     "text": [
      "[1450]\ttrain-ndcg@3:0.91726\tval-ndcg@3:0.56559"
     ]
    },
    {
     "name": "stdout",
     "output_type": "stream",
     "text": []
    },
    {
     "name": "stdout",
     "output_type": "stream",
     "text": [
      "[1499]\ttrain-ndcg@3:0.91744\tval-ndcg@3:0.56564"
     ]
    },
    {
     "name": "stdout",
     "output_type": "stream",
     "text": []
    },
    {
     "name": "stdout",
     "output_type": "stream",
     "text": [
      "\n",
      "[OOF] Fold 1/4\n"
     ]
    },
    {
     "name": "stdout",
     "output_type": "stream",
     "text": [
      "[0]\ttrain-ndcg@3:0.34998\tval-ndcg@3:0.32955"
     ]
    },
    {
     "name": "stdout",
     "output_type": "stream",
     "text": []
    },
    {
     "name": "stdout",
     "output_type": "stream",
     "text": [
      "[50]\ttrain-ndcg@3:0.63989\tval-ndcg@3:0.47822"
     ]
    },
    {
     "name": "stdout",
     "output_type": "stream",
     "text": []
    },
    {
     "name": "stdout",
     "output_type": "stream",
     "text": [
      "[100]\ttrain-ndcg@3:0.68555\tval-ndcg@3:0.49250\n"
     ]
    },
    {
     "name": "stdout",
     "output_type": "stream",
     "text": [
      "[150]\ttrain-ndcg@3:0.71509\tval-ndcg@3:0.50207"
     ]
    },
    {
     "name": "stdout",
     "output_type": "stream",
     "text": []
    },
    {
     "name": "stdout",
     "output_type": "stream",
     "text": [
      "[200]\ttrain-ndcg@3:0.74242\tval-ndcg@3:0.51156"
     ]
    },
    {
     "name": "stdout",
     "output_type": "stream",
     "text": []
    },
    {
     "name": "stdout",
     "output_type": "stream",
     "text": [
      "[250]\ttrain-ndcg@3:0.76693\tval-ndcg@3:0.51757\n"
     ]
    },
    {
     "name": "stdout",
     "output_type": "stream",
     "text": [
      "[300]\ttrain-ndcg@3:0.78655\tval-ndcg@3:0.52411"
     ]
    },
    {
     "name": "stdout",
     "output_type": "stream",
     "text": []
    },
    {
     "name": "stdout",
     "output_type": "stream",
     "text": [
      "[350]\ttrain-ndcg@3:0.80588\tval-ndcg@3:0.52946\n"
     ]
    },
    {
     "name": "stdout",
     "output_type": "stream",
     "text": [
      "[400]\ttrain-ndcg@3:0.82589\tval-ndcg@3:0.53514"
     ]
    },
    {
     "name": "stdout",
     "output_type": "stream",
     "text": []
    },
    {
     "name": "stdout",
     "output_type": "stream",
     "text": [
      "[450]\ttrain-ndcg@3:0.84329\tval-ndcg@3:0.54080"
     ]
    },
    {
     "name": "stdout",
     "output_type": "stream",
     "text": []
    },
    {
     "name": "stdout",
     "output_type": "stream",
     "text": [
      "[500]\ttrain-ndcg@3:0.85699\tval-ndcg@3:0.54401\n"
     ]
    },
    {
     "name": "stdout",
     "output_type": "stream",
     "text": [
      "[550]\ttrain-ndcg@3:0.86819\tval-ndcg@3:0.54809"
     ]
    },
    {
     "name": "stdout",
     "output_type": "stream",
     "text": []
    },
    {
     "name": "stdout",
     "output_type": "stream",
     "text": [
      "[600]\ttrain-ndcg@3:0.87792\tval-ndcg@3:0.55046"
     ]
    },
    {
     "name": "stdout",
     "output_type": "stream",
     "text": []
    },
    {
     "name": "stdout",
     "output_type": "stream",
     "text": [
      "[650]\ttrain-ndcg@3:0.88521\tval-ndcg@3:0.55263\n"
     ]
    },
    {
     "name": "stdout",
     "output_type": "stream",
     "text": [
      "[700]\ttrain-ndcg@3:0.89186\tval-ndcg@3:0.55586"
     ]
    },
    {
     "name": "stdout",
     "output_type": "stream",
     "text": []
    },
    {
     "name": "stdout",
     "output_type": "stream",
     "text": [
      "[750]\ttrain-ndcg@3:0.89733\tval-ndcg@3:0.55738\n"
     ]
    },
    {
     "name": "stdout",
     "output_type": "stream",
     "text": [
      "[800]\ttrain-ndcg@3:0.90098\tval-ndcg@3:0.55822\n"
     ]
    },
    {
     "name": "stdout",
     "output_type": "stream",
     "text": [
      "[850]\ttrain-ndcg@3:0.90411\tval-ndcg@3:0.55816"
     ]
    },
    {
     "name": "stdout",
     "output_type": "stream",
     "text": []
    },
    {
     "name": "stdout",
     "output_type": "stream",
     "text": [
      "[900]\ttrain-ndcg@3:0.90620\tval-ndcg@3:0.55971\n"
     ]
    },
    {
     "name": "stdout",
     "output_type": "stream",
     "text": [
      "[950]\ttrain-ndcg@3:0.90754\tval-ndcg@3:0.56016"
     ]
    },
    {
     "name": "stdout",
     "output_type": "stream",
     "text": []
    },
    {
     "name": "stdout",
     "output_type": "stream",
     "text": [
      "[1000]\ttrain-ndcg@3:0.90911\tval-ndcg@3:0.56132"
     ]
    },
    {
     "name": "stdout",
     "output_type": "stream",
     "text": []
    },
    {
     "name": "stdout",
     "output_type": "stream",
     "text": [
      "[1050]\ttrain-ndcg@3:0.91042\tval-ndcg@3:0.56205"
     ]
    },
    {
     "name": "stdout",
     "output_type": "stream",
     "text": []
    },
    {
     "name": "stdout",
     "output_type": "stream",
     "text": [
      "[1100]\ttrain-ndcg@3:0.91109\tval-ndcg@3:0.56217"
     ]
    },
    {
     "name": "stdout",
     "output_type": "stream",
     "text": []
    },
    {
     "name": "stdout",
     "output_type": "stream",
     "text": [
      "[1150]\ttrain-ndcg@3:0.91202\tval-ndcg@3:0.56269"
     ]
    },
    {
     "name": "stdout",
     "output_type": "stream",
     "text": []
    },
    {
     "name": "stdout",
     "output_type": "stream",
     "text": [
      "[1200]\ttrain-ndcg@3:0.91298\tval-ndcg@3:0.56303"
     ]
    },
    {
     "name": "stdout",
     "output_type": "stream",
     "text": []
    },
    {
     "name": "stdout",
     "output_type": "stream",
     "text": [
      "[1250]\ttrain-ndcg@3:0.91354\tval-ndcg@3:0.56326"
     ]
    },
    {
     "name": "stdout",
     "output_type": "stream",
     "text": []
    },
    {
     "name": "stdout",
     "output_type": "stream",
     "text": [
      "[1300]\ttrain-ndcg@3:0.91409\tval-ndcg@3:0.56366"
     ]
    },
    {
     "name": "stdout",
     "output_type": "stream",
     "text": []
    },
    {
     "name": "stdout",
     "output_type": "stream",
     "text": [
      "[1350]\ttrain-ndcg@3:0.91449\tval-ndcg@3:0.56337\n"
     ]
    },
    {
     "name": "stdout",
     "output_type": "stream",
     "text": [
      "[1400]\ttrain-ndcg@3:0.91472\tval-ndcg@3:0.56366\n"
     ]
    },
    {
     "name": "stdout",
     "output_type": "stream",
     "text": [
      "[1450]\ttrain-ndcg@3:0.91495\tval-ndcg@3:0.56337"
     ]
    },
    {
     "name": "stdout",
     "output_type": "stream",
     "text": []
    },
    {
     "name": "stdout",
     "output_type": "stream",
     "text": [
      "[1499]\ttrain-ndcg@3:0.91534\tval-ndcg@3:0.56356\n"
     ]
    },
    {
     "name": "stdout",
     "output_type": "stream",
     "text": [
      "\n",
      "[OOF] Fold 2/4\n"
     ]
    },
    {
     "name": "stdout",
     "output_type": "stream",
     "text": [
      "[0]\ttrain-ndcg@3:0.34952\tval-ndcg@3:0.33231"
     ]
    },
    {
     "name": "stdout",
     "output_type": "stream",
     "text": []
    },
    {
     "name": "stdout",
     "output_type": "stream",
     "text": [
      "[50]\ttrain-ndcg@3:0.63471\tval-ndcg@3:0.48196"
     ]
    },
    {
     "name": "stdout",
     "output_type": "stream",
     "text": []
    },
    {
     "name": "stdout",
     "output_type": "stream",
     "text": [
      "[100]\ttrain-ndcg@3:0.68240\tval-ndcg@3:0.49910"
     ]
    },
    {
     "name": "stdout",
     "output_type": "stream",
     "text": []
    },
    {
     "name": "stdout",
     "output_type": "stream",
     "text": [
      "[150]\ttrain-ndcg@3:0.71044\tval-ndcg@3:0.50801\n"
     ]
    },
    {
     "name": "stdout",
     "output_type": "stream",
     "text": [
      "[200]\ttrain-ndcg@3:0.73698\tval-ndcg@3:0.51664\n"
     ]
    },
    {
     "name": "stdout",
     "output_type": "stream",
     "text": [
      "[250]\ttrain-ndcg@3:0.76478\tval-ndcg@3:0.52541"
     ]
    },
    {
     "name": "stdout",
     "output_type": "stream",
     "text": []
    },
    {
     "name": "stdout",
     "output_type": "stream",
     "text": [
      "[300]\ttrain-ndcg@3:0.78916\tval-ndcg@3:0.53153\n"
     ]
    },
    {
     "name": "stdout",
     "output_type": "stream",
     "text": [
      "[350]\ttrain-ndcg@3:0.81325\tval-ndcg@3:0.53815\n"
     ]
    },
    {
     "name": "stdout",
     "output_type": "stream",
     "text": [
      "[400]\ttrain-ndcg@3:0.83381\tval-ndcg@3:0.54421"
     ]
    },
    {
     "name": "stdout",
     "output_type": "stream",
     "text": []
    },
    {
     "name": "stdout",
     "output_type": "stream",
     "text": [
      "[450]\ttrain-ndcg@3:0.84866\tval-ndcg@3:0.54849"
     ]
    },
    {
     "name": "stdout",
     "output_type": "stream",
     "text": []
    },
    {
     "name": "stdout",
     "output_type": "stream",
     "text": [
      "[500]\ttrain-ndcg@3:0.86162\tval-ndcg@3:0.55219"
     ]
    },
    {
     "name": "stdout",
     "output_type": "stream",
     "text": []
    },
    {
     "name": "stdout",
     "output_type": "stream",
     "text": [
      "[550]\ttrain-ndcg@3:0.87209\tval-ndcg@3:0.55537"
     ]
    },
    {
     "name": "stdout",
     "output_type": "stream",
     "text": []
    },
    {
     "name": "stdout",
     "output_type": "stream",
     "text": [
      "[600]\ttrain-ndcg@3:0.88087\tval-ndcg@3:0.55785"
     ]
    },
    {
     "name": "stdout",
     "output_type": "stream",
     "text": []
    },
    {
     "name": "stdout",
     "output_type": "stream",
     "text": [
      "[650]\ttrain-ndcg@3:0.88906\tval-ndcg@3:0.55995\n"
     ]
    },
    {
     "name": "stdout",
     "output_type": "stream",
     "text": [
      "[700]\ttrain-ndcg@3:0.89626\tval-ndcg@3:0.56226"
     ]
    },
    {
     "name": "stdout",
     "output_type": "stream",
     "text": []
    },
    {
     "name": "stdout",
     "output_type": "stream",
     "text": [
      "[750]\ttrain-ndcg@3:0.90169\tval-ndcg@3:0.56393"
     ]
    },
    {
     "name": "stdout",
     "output_type": "stream",
     "text": []
    },
    {
     "name": "stdout",
     "output_type": "stream",
     "text": [
      "[800]\ttrain-ndcg@3:0.90550\tval-ndcg@3:0.56504\n"
     ]
    },
    {
     "name": "stdout",
     "output_type": "stream",
     "text": [
      "[850]\ttrain-ndcg@3:0.90825\tval-ndcg@3:0.56566\n"
     ]
    },
    {
     "name": "stdout",
     "output_type": "stream",
     "text": [
      "[900]\ttrain-ndcg@3:0.91052\tval-ndcg@3:0.56665"
     ]
    },
    {
     "name": "stdout",
     "output_type": "stream",
     "text": []
    },
    {
     "name": "stdout",
     "output_type": "stream",
     "text": [
      "[950]\ttrain-ndcg@3:0.91220\tval-ndcg@3:0.56755\n"
     ]
    },
    {
     "name": "stdout",
     "output_type": "stream",
     "text": [
      "[1000]\ttrain-ndcg@3:0.91318\tval-ndcg@3:0.56754"
     ]
    },
    {
     "name": "stdout",
     "output_type": "stream",
     "text": []
    },
    {
     "name": "stdout",
     "output_type": "stream",
     "text": [
      "[1050]\ttrain-ndcg@3:0.91511\tval-ndcg@3:0.56812"
     ]
    },
    {
     "name": "stdout",
     "output_type": "stream",
     "text": []
    },
    {
     "name": "stdout",
     "output_type": "stream",
     "text": [
      "[1100]\ttrain-ndcg@3:0.91620\tval-ndcg@3:0.56854\n"
     ]
    },
    {
     "name": "stdout",
     "output_type": "stream",
     "text": [
      "[1150]\ttrain-ndcg@3:0.91683\tval-ndcg@3:0.56898"
     ]
    },
    {
     "name": "stdout",
     "output_type": "stream",
     "text": []
    },
    {
     "name": "stdout",
     "output_type": "stream",
     "text": [
      "[1200]\ttrain-ndcg@3:0.91765\tval-ndcg@3:0.56850"
     ]
    },
    {
     "name": "stdout",
     "output_type": "stream",
     "text": []
    },
    {
     "name": "stdout",
     "output_type": "stream",
     "text": [
      "[1250]\ttrain-ndcg@3:0.91840\tval-ndcg@3:0.56880"
     ]
    },
    {
     "name": "stdout",
     "output_type": "stream",
     "text": []
    },
    {
     "name": "stdout",
     "output_type": "stream",
     "text": [
      "[1300]\ttrain-ndcg@3:0.91904\tval-ndcg@3:0.56934"
     ]
    },
    {
     "name": "stdout",
     "output_type": "stream",
     "text": []
    },
    {
     "name": "stdout",
     "output_type": "stream",
     "text": [
      "[1350]\ttrain-ndcg@3:0.91937\tval-ndcg@3:0.56937"
     ]
    },
    {
     "name": "stdout",
     "output_type": "stream",
     "text": []
    },
    {
     "name": "stdout",
     "output_type": "stream",
     "text": [
      "[1400]\ttrain-ndcg@3:0.91960\tval-ndcg@3:0.56951\n"
     ]
    },
    {
     "name": "stdout",
     "output_type": "stream",
     "text": [
      "[1450]\ttrain-ndcg@3:0.91978\tval-ndcg@3:0.56963\n"
     ]
    },
    {
     "name": "stdout",
     "output_type": "stream",
     "text": [
      "[1499]\ttrain-ndcg@3:0.92017\tval-ndcg@3:0.56990"
     ]
    },
    {
     "name": "stdout",
     "output_type": "stream",
     "text": []
    },
    {
     "name": "stdout",
     "output_type": "stream",
     "text": [
      "\n",
      "[OOF] Fold 3/4\n"
     ]
    },
    {
     "name": "stdout",
     "output_type": "stream",
     "text": [
      "[0]\ttrain-ndcg@3:0.34997\tval-ndcg@3:0.33092"
     ]
    },
    {
     "name": "stdout",
     "output_type": "stream",
     "text": []
    },
    {
     "name": "stdout",
     "output_type": "stream",
     "text": [
      "[50]\ttrain-ndcg@3:0.63514\tval-ndcg@3:0.48088"
     ]
    },
    {
     "name": "stdout",
     "output_type": "stream",
     "text": []
    },
    {
     "name": "stdout",
     "output_type": "stream",
     "text": [
      "[100]\ttrain-ndcg@3:0.68194\tval-ndcg@3:0.49612"
     ]
    },
    {
     "name": "stdout",
     "output_type": "stream",
     "text": []
    },
    {
     "name": "stdout",
     "output_type": "stream",
     "text": [
      "[150]\ttrain-ndcg@3:0.71275\tval-ndcg@3:0.50664\n"
     ]
    },
    {
     "name": "stdout",
     "output_type": "stream",
     "text": [
      "[200]\ttrain-ndcg@3:0.74101\tval-ndcg@3:0.51525"
     ]
    },
    {
     "name": "stdout",
     "output_type": "stream",
     "text": []
    },
    {
     "name": "stdout",
     "output_type": "stream",
     "text": [
      "[250]\ttrain-ndcg@3:0.76875\tval-ndcg@3:0.52350\n"
     ]
    },
    {
     "name": "stdout",
     "output_type": "stream",
     "text": [
      "[300]\ttrain-ndcg@3:0.79071\tval-ndcg@3:0.52916\n"
     ]
    },
    {
     "name": "stdout",
     "output_type": "stream",
     "text": [
      "[350]\ttrain-ndcg@3:0.81297\tval-ndcg@3:0.53577"
     ]
    },
    {
     "name": "stdout",
     "output_type": "stream",
     "text": []
    },
    {
     "name": "stdout",
     "output_type": "stream",
     "text": [
      "[400]\ttrain-ndcg@3:0.83298\tval-ndcg@3:0.54087\n"
     ]
    },
    {
     "name": "stdout",
     "output_type": "stream",
     "text": [
      "[450]\ttrain-ndcg@3:0.84911\tval-ndcg@3:0.54487"
     ]
    },
    {
     "name": "stdout",
     "output_type": "stream",
     "text": []
    },
    {
     "name": "stdout",
     "output_type": "stream",
     "text": [
      "[500]\ttrain-ndcg@3:0.86321\tval-ndcg@3:0.54894"
     ]
    },
    {
     "name": "stdout",
     "output_type": "stream",
     "text": []
    },
    {
     "name": "stdout",
     "output_type": "stream",
     "text": [
      "[550]\ttrain-ndcg@3:0.87396\tval-ndcg@3:0.55321"
     ]
    },
    {
     "name": "stdout",
     "output_type": "stream",
     "text": []
    },
    {
     "name": "stdout",
     "output_type": "stream",
     "text": [
      "[600]\ttrain-ndcg@3:0.88221\tval-ndcg@3:0.55643"
     ]
    },
    {
     "name": "stdout",
     "output_type": "stream",
     "text": []
    },
    {
     "name": "stdout",
     "output_type": "stream",
     "text": [
      "[650]\ttrain-ndcg@3:0.88990\tval-ndcg@3:0.55809"
     ]
    },
    {
     "name": "stdout",
     "output_type": "stream",
     "text": []
    },
    {
     "name": "stdout",
     "output_type": "stream",
     "text": [
      "[700]\ttrain-ndcg@3:0.89655\tval-ndcg@3:0.56017\n"
     ]
    },
    {
     "name": "stdout",
     "output_type": "stream",
     "text": [
      "[750]\ttrain-ndcg@3:0.90094\tval-ndcg@3:0.56155"
     ]
    },
    {
     "name": "stdout",
     "output_type": "stream",
     "text": []
    },
    {
     "name": "stdout",
     "output_type": "stream",
     "text": [
      "[800]\ttrain-ndcg@3:0.90494\tval-ndcg@3:0.56246\n"
     ]
    },
    {
     "name": "stdout",
     "output_type": "stream",
     "text": [
      "[850]\ttrain-ndcg@3:0.90786\tval-ndcg@3:0.56309"
     ]
    },
    {
     "name": "stdout",
     "output_type": "stream",
     "text": []
    },
    {
     "name": "stdout",
     "output_type": "stream",
     "text": [
      "[900]\ttrain-ndcg@3:0.90974\tval-ndcg@3:0.56403"
     ]
    },
    {
     "name": "stdout",
     "output_type": "stream",
     "text": []
    },
    {
     "name": "stdout",
     "output_type": "stream",
     "text": [
      "[950]\ttrain-ndcg@3:0.91114\tval-ndcg@3:0.56432"
     ]
    },
    {
     "name": "stdout",
     "output_type": "stream",
     "text": []
    },
    {
     "name": "stdout",
     "output_type": "stream",
     "text": [
      "[1000]\ttrain-ndcg@3:0.91267\tval-ndcg@3:0.56500"
     ]
    },
    {
     "name": "stdout",
     "output_type": "stream",
     "text": []
    },
    {
     "name": "stdout",
     "output_type": "stream",
     "text": [
      "[1050]\ttrain-ndcg@3:0.91371\tval-ndcg@3:0.56571"
     ]
    },
    {
     "name": "stdout",
     "output_type": "stream",
     "text": []
    },
    {
     "name": "stdout",
     "output_type": "stream",
     "text": [
      "[1100]\ttrain-ndcg@3:0.91493\tval-ndcg@3:0.56561"
     ]
    },
    {
     "name": "stdout",
     "output_type": "stream",
     "text": []
    },
    {
     "name": "stdout",
     "output_type": "stream",
     "text": [
      "[1150]\ttrain-ndcg@3:0.91582\tval-ndcg@3:0.56585"
     ]
    },
    {
     "name": "stdout",
     "output_type": "stream",
     "text": []
    },
    {
     "name": "stdout",
     "output_type": "stream",
     "text": [
      "[1200]\ttrain-ndcg@3:0.91629\tval-ndcg@3:0.56636"
     ]
    },
    {
     "name": "stdout",
     "output_type": "stream",
     "text": []
    },
    {
     "name": "stdout",
     "output_type": "stream",
     "text": [
      "[1250]\ttrain-ndcg@3:0.91680\tval-ndcg@3:0.56648"
     ]
    },
    {
     "name": "stdout",
     "output_type": "stream",
     "text": []
    },
    {
     "name": "stdout",
     "output_type": "stream",
     "text": [
      "[1300]\ttrain-ndcg@3:0.91736\tval-ndcg@3:0.56709\n"
     ]
    },
    {
     "name": "stdout",
     "output_type": "stream",
     "text": [
      "[1350]\ttrain-ndcg@3:0.91786\tval-ndcg@3:0.56718"
     ]
    },
    {
     "name": "stdout",
     "output_type": "stream",
     "text": []
    },
    {
     "name": "stdout",
     "output_type": "stream",
     "text": [
      "[1400]\ttrain-ndcg@3:0.91837\tval-ndcg@3:0.56698"
     ]
    },
    {
     "name": "stdout",
     "output_type": "stream",
     "text": []
    },
    {
     "name": "stdout",
     "output_type": "stream",
     "text": [
      "[1450]\ttrain-ndcg@3:0.91850\tval-ndcg@3:0.56694"
     ]
    },
    {
     "name": "stdout",
     "output_type": "stream",
     "text": []
    },
    {
     "name": "stdout",
     "output_type": "stream",
     "text": [
      "[1499]\ttrain-ndcg@3:0.91863\tval-ndcg@3:0.56728\n"
     ]
    },
    {
     "name": "stdout",
     "output_type": "stream",
     "text": [
      "\n",
      "[OOF] Fold 4/4\n"
     ]
    },
    {
     "name": "stdout",
     "output_type": "stream",
     "text": [
      "[0]\ttrain-ndcg@3:0.34765\tval-ndcg@3:0.33466\n"
     ]
    },
    {
     "name": "stdout",
     "output_type": "stream",
     "text": [
      "[50]\ttrain-ndcg@3:0.63777\tval-ndcg@3:0.48036"
     ]
    },
    {
     "name": "stdout",
     "output_type": "stream",
     "text": []
    },
    {
     "name": "stdout",
     "output_type": "stream",
     "text": [
      "[100]\ttrain-ndcg@3:0.68296\tval-ndcg@3:0.49597"
     ]
    },
    {
     "name": "stdout",
     "output_type": "stream",
     "text": []
    },
    {
     "name": "stdout",
     "output_type": "stream",
     "text": [
      "[150]\ttrain-ndcg@3:0.71163\tval-ndcg@3:0.50448"
     ]
    },
    {
     "name": "stdout",
     "output_type": "stream",
     "text": []
    },
    {
     "name": "stdout",
     "output_type": "stream",
     "text": [
      "[200]\ttrain-ndcg@3:0.73952\tval-ndcg@3:0.51303"
     ]
    },
    {
     "name": "stdout",
     "output_type": "stream",
     "text": []
    },
    {
     "name": "stdout",
     "output_type": "stream",
     "text": [
      "[250]\ttrain-ndcg@3:0.76651\tval-ndcg@3:0.51962"
     ]
    },
    {
     "name": "stdout",
     "output_type": "stream",
     "text": []
    },
    {
     "name": "stdout",
     "output_type": "stream",
     "text": [
      "[300]\ttrain-ndcg@3:0.79051\tval-ndcg@3:0.52736\n"
     ]
    },
    {
     "name": "stdout",
     "output_type": "stream",
     "text": [
      "[350]\ttrain-ndcg@3:0.81215\tval-ndcg@3:0.53443\n"
     ]
    },
    {
     "name": "stdout",
     "output_type": "stream",
     "text": [
      "[400]\ttrain-ndcg@3:0.83186\tval-ndcg@3:0.53869"
     ]
    },
    {
     "name": "stdout",
     "output_type": "stream",
     "text": []
    },
    {
     "name": "stdout",
     "output_type": "stream",
     "text": [
      "[450]\ttrain-ndcg@3:0.84815\tval-ndcg@3:0.54401"
     ]
    },
    {
     "name": "stdout",
     "output_type": "stream",
     "text": []
    },
    {
     "name": "stdout",
     "output_type": "stream",
     "text": [
      "[500]\ttrain-ndcg@3:0.86061\tval-ndcg@3:0.54694\n"
     ]
    },
    {
     "name": "stdout",
     "output_type": "stream",
     "text": [
      "[550]\ttrain-ndcg@3:0.87160\tval-ndcg@3:0.55072\n"
     ]
    },
    {
     "name": "stdout",
     "output_type": "stream",
     "text": [
      "[600]\ttrain-ndcg@3:0.88039\tval-ndcg@3:0.55298\n"
     ]
    },
    {
     "name": "stdout",
     "output_type": "stream",
     "text": [
      "[650]\ttrain-ndcg@3:0.88834\tval-ndcg@3:0.55537"
     ]
    },
    {
     "name": "stdout",
     "output_type": "stream",
     "text": []
    },
    {
     "name": "stdout",
     "output_type": "stream",
     "text": [
      "[700]\ttrain-ndcg@3:0.89381\tval-ndcg@3:0.55737"
     ]
    },
    {
     "name": "stdout",
     "output_type": "stream",
     "text": []
    },
    {
     "name": "stdout",
     "output_type": "stream",
     "text": [
      "[750]\ttrain-ndcg@3:0.89934\tval-ndcg@3:0.55927"
     ]
    },
    {
     "name": "stdout",
     "output_type": "stream",
     "text": []
    },
    {
     "name": "stdout",
     "output_type": "stream",
     "text": [
      "[800]\ttrain-ndcg@3:0.90302\tval-ndcg@3:0.56080"
     ]
    },
    {
     "name": "stdout",
     "output_type": "stream",
     "text": []
    },
    {
     "name": "stdout",
     "output_type": "stream",
     "text": [
      "[850]\ttrain-ndcg@3:0.90595\tval-ndcg@3:0.56203"
     ]
    },
    {
     "name": "stdout",
     "output_type": "stream",
     "text": []
    },
    {
     "name": "stdout",
     "output_type": "stream",
     "text": [
      "[900]\ttrain-ndcg@3:0.90849\tval-ndcg@3:0.56234"
     ]
    },
    {
     "name": "stdout",
     "output_type": "stream",
     "text": []
    },
    {
     "name": "stdout",
     "output_type": "stream",
     "text": [
      "[950]\ttrain-ndcg@3:0.91073\tval-ndcg@3:0.56324"
     ]
    },
    {
     "name": "stdout",
     "output_type": "stream",
     "text": []
    },
    {
     "name": "stdout",
     "output_type": "stream",
     "text": [
      "[1000]\ttrain-ndcg@3:0.91240\tval-ndcg@3:0.56384\n"
     ]
    },
    {
     "name": "stdout",
     "output_type": "stream",
     "text": [
      "[1050]\ttrain-ndcg@3:0.91401\tval-ndcg@3:0.56418"
     ]
    },
    {
     "name": "stdout",
     "output_type": "stream",
     "text": []
    },
    {
     "name": "stdout",
     "output_type": "stream",
     "text": [
      "[1100]\ttrain-ndcg@3:0.91453\tval-ndcg@3:0.56454"
     ]
    },
    {
     "name": "stdout",
     "output_type": "stream",
     "text": []
    },
    {
     "name": "stdout",
     "output_type": "stream",
     "text": [
      "[1150]\ttrain-ndcg@3:0.91535\tval-ndcg@3:0.56428"
     ]
    },
    {
     "name": "stdout",
     "output_type": "stream",
     "text": []
    },
    {
     "name": "stdout",
     "output_type": "stream",
     "text": [
      "[1200]\ttrain-ndcg@3:0.91572\tval-ndcg@3:0.56414"
     ]
    },
    {
     "name": "stdout",
     "output_type": "stream",
     "text": []
    },
    {
     "name": "stdout",
     "output_type": "stream",
     "text": [
      "[1250]\ttrain-ndcg@3:0.91619\tval-ndcg@3:0.56451\n"
     ]
    },
    {
     "name": "stdout",
     "output_type": "stream",
     "text": [
      "[1300]\ttrain-ndcg@3:0.91658\tval-ndcg@3:0.56489\n"
     ]
    },
    {
     "name": "stdout",
     "output_type": "stream",
     "text": [
      "[1350]\ttrain-ndcg@3:0.91698\tval-ndcg@3:0.56492\n"
     ]
    },
    {
     "name": "stdout",
     "output_type": "stream",
     "text": [
      "[1400]\ttrain-ndcg@3:0.91723\tval-ndcg@3:0.56517"
     ]
    },
    {
     "name": "stdout",
     "output_type": "stream",
     "text": []
    },
    {
     "name": "stdout",
     "output_type": "stream",
     "text": [
      "[1450]\ttrain-ndcg@3:0.91730\tval-ndcg@3:0.56533\n"
     ]
    },
    {
     "name": "stdout",
     "output_type": "stream",
     "text": [
      "[1499]\ttrain-ndcg@3:0.91745\tval-ndcg@3:0.56533"
     ]
    },
    {
     "name": "stdout",
     "output_type": "stream",
     "text": []
    },
    {
     "name": "stdout",
     "output_type": "stream",
     "text": [
      "\n",
      "[OOF] Done. Mean best_iteration across folds: 1449\n"
     ]
    }
   ],
   "source": [
    "# 6) FULL OOF on 95%: train K models, collect OOF preds and test preds\n",
    "# Pre-allocate OOF container\n",
    "train_95_f = train_95_f.with_row_index(name=\"__row__\")\n",
    "oof_pred = np.zeros(train_95_f.height, dtype=np.float32)\n",
    "best_iters = []\n",
    "test_fold_preds = []\n",
    "\n",
    "for k, val_ids in enumerate(fold_ids):\n",
    "    print(f\"\\n[OOF] Fold {k}/{N_FOLDS-1}\")\n",
    "    tr_ids_k = set(train_ids) - val_ids\n",
    "    tr_k = train_95_f.filter(pl.col(\"ranker_id\").is_in(list(tr_ids_k))).drop(\"__row__\")\n",
    "    va_k = train_95_f.filter(pl.col(\"ranker_id\").is_in(list(val_ids))).drop(\"__row__\")\n",
    "\n",
    "    te_cols = [c for c in CARRIER_COLS if c in tr_k.columns]\n",
    "\n",
    "\n",
    "    # Per-fold TE\n",
    "    te_maps_k, te_prior_k = fit_te_mappings(tr_k.select([\"selected\"] + te_cols), te_cols, \"selected\", TE_PRIOR_M)\n",
    "    tr_k = apply_te_mappings(tr_k, te_maps_k, te_prior_k)\n",
    "    va_k = apply_te_mappings(va_k, te_maps_k, te_prior_k)\n",
    "\n",
    "    feat_cols_k = select_feature_cols(tr_k)\n",
    "    dtr_k, gtr_k, _ = to_dmatrix(tr_k, feat_cols_k)\n",
    "    dva_k, gva_k, ids_va_order = to_dmatrix(va_k, feat_cols_k)\n",
    "\n",
    "    mdl_k = xgb.train(\n",
    "        XGB_PARAMS, dtr_k,\n",
    "        num_boost_round=NUM_BOOST_ROUND,\n",
    "        evals=[(dtr_k, \"train\"), (dva_k, \"val\")],\n",
    "        early_stopping_rounds=EARLY_STOPPING_ROUNDS,\n",
    "        verbose_eval=VERBOSE_EVAL\n",
    "    )\n",
    "    best_iters.append(mdl_k.best_iteration)\n",
    "\n",
    "    # OOF preds on validation fold\n",
    "    va_pred_k = mdl_k.predict(dva_k, iteration_range=(0, mdl_k.best_iteration + 1))\n",
    "\n",
    "    # Map back to original rows by Id (keeps safety)\n",
    "    fold_oof = pl.DataFrame({\"Id\": ids_va_order, \"oof_score\": va_pred_k})\n",
    "    # Align to train_95_f rows\n",
    "    idx_map = train_95_f.select([\"__row__\", \"Id\"]).join(fold_oof, on=\"Id\", how=\"left\")\n",
    "    mask = idx_map[\"oof_score\"].to_numpy()\n",
    "    valid_mask = ~np.isnan(mask)\n",
    "    oof_pred[idx_map[\"__row__\"].to_numpy()[valid_mask]] = mask[valid_mask].astype(np.float32)\n",
    "\n",
    "    # Test preds for this fold (using fold's TE mapping)\n",
    "    test_k = apply_te_mappings(test_f, te_maps_k, te_prior_k)\n",
    "    dtest_k, _, _ = to_dmatrix(test_k, feat_cols_k)\n",
    "    test_fold_preds.append(mdl_k.predict(dtest_k, iteration_range=(0, mdl_k.best_iteration + 1)))\n",
    "\n",
    "    # Clean\n",
    "    del dtr_k, dva_k, dtest_k, mdl_k\n",
    "    gc.collect()\n",
    "\n",
    "\n",
    "mean_best_iter = int(np.mean(best_iters))\n",
    "print(f\"\\n[OOF] Done. Mean best_iteration across folds: {mean_best_iter}\")"
   ]
  },
  {
   "cell_type": "code",
   "execution_count": 12,
   "id": "8f7725b5",
   "metadata": {
    "execution": {
     "iopub.execute_input": "2025-08-11T19:26:52.535986Z",
     "iopub.status.busy": "2025-08-11T19:26:52.535728Z",
     "iopub.status.idle": "2025-08-11T19:26:52.544267Z",
     "shell.execute_reply": "2025-08-11T19:26:52.539997Z"
    },
    "papermill": {
     "duration": 0.034446,
     "end_time": "2025-08-11T19:26:52.546364",
     "exception": false,
     "start_time": "2025-08-11T19:26:52.511918",
     "status": "completed"
    },
    "tags": []
   },
   "outputs": [],
   "source": [
    "# Save OOF for 95%\n",
    "\n",
    "#oof_df = train_95_f.select([\"Id\",\"ranker_id\"]).with_columns(pl.Series(\"xgb_ranker_oof\", oof_pred))\n",
    "#oof_path = f\"oof_95_xgb_ranker_{Identifier}.csv\"\n",
    "#oof_df.write_csv(oof_path)\n",
    "#print(f\"Saved OOF (95%) to {oof_path}\")\n"
   ]
  },
  {
   "cell_type": "markdown",
   "id": "c5993e25",
   "metadata": {
    "papermill": {
     "duration": 0.020181,
     "end_time": "2025-08-11T19:26:52.586901",
     "exception": false,
     "start_time": "2025-08-11T19:26:52.566720",
     "status": "completed"
    },
    "tags": []
   },
   "source": [
    "# We Usually train on full data & validate on holdout but not imporant here\n",
    "\n",
    "- Replace model_full with the last trained model"
   ]
  },
  {
   "cell_type": "code",
   "execution_count": 13,
   "id": "6001ccfc",
   "metadata": {
    "execution": {
     "iopub.execute_input": "2025-08-11T19:26:52.630438Z",
     "iopub.status.busy": "2025-08-11T19:26:52.630231Z",
     "iopub.status.idle": "2025-08-11T19:26:52.638820Z",
     "shell.execute_reply": "2025-08-11T19:26:52.634585Z"
    },
    "papermill": {
     "duration": 0.03428,
     "end_time": "2025-08-11T19:26:52.641366",
     "exception": false,
     "start_time": "2025-08-11T19:26:52.607086",
     "status": "completed"
    },
    "tags": []
   },
   "outputs": [],
   "source": [
    "RUN_holdout_evaluation = False"
   ]
  },
  {
   "cell_type": "code",
   "execution_count": 14,
   "id": "2219e444",
   "metadata": {
    "execution": {
     "iopub.execute_input": "2025-08-11T19:26:52.685902Z",
     "iopub.status.busy": "2025-08-11T19:26:52.685684Z",
     "iopub.status.idle": "2025-08-11T19:26:52.696688Z",
     "shell.execute_reply": "2025-08-11T19:26:52.691232Z"
    },
    "papermill": {
     "duration": 0.036841,
     "end_time": "2025-08-11T19:26:52.698807",
     "exception": false,
     "start_time": "2025-08-11T19:26:52.661966",
     "status": "completed"
    },
    "tags": []
   },
   "outputs": [],
   "source": [
    "if RUN_holdout_evaluation:\n",
    "    model_full = mdl_k.copy(deep=True)\n",
    "    \n",
    "    te_maps_full, te_prior_full = fit_te_mappings(train_95_f.drop(\"__row__\").select([\"selected\"] + te_cols), te_cols, \"selected\", TE_PRIOR_M)\n",
    "    tr_full = apply_te_mappings(train_95_f.drop(\"__row__\"), te_maps_full, te_prior_full)\n",
    "    val5 = apply_te_mappings(validator_f, te_maps_full, te_prior_full)\n",
    "    \n",
    "    feat_cols_full = select_feature_cols(tr_full)\n",
    "    dtr_full, gtr_full, _ = to_dmatrix(tr_full, feat_cols_full)\n",
    "    dval5,  gval5, id_val5_order = to_dmatrix(val5, feat_cols_full)"
   ]
  },
  {
   "cell_type": "code",
   "execution_count": 15,
   "id": "76c66b37",
   "metadata": {
    "execution": {
     "iopub.execute_input": "2025-08-11T19:26:52.743052Z",
     "iopub.status.busy": "2025-08-11T19:26:52.742821Z",
     "iopub.status.idle": "2025-08-11T19:26:52.753297Z",
     "shell.execute_reply": "2025-08-11T19:26:52.748382Z"
    },
    "papermill": {
     "duration": 0.037026,
     "end_time": "2025-08-11T19:26:52.756136",
     "exception": false,
     "start_time": "2025-08-11T19:26:52.719110",
     "status": "completed"
    },
    "tags": []
   },
   "outputs": [],
   "source": [
    "if RUN_holdout_evaluation:\n",
    "    \n",
    "    val5_pred = model_full.predict(dval5, iteration_range=(0, mean_best_iter))\n",
    "    \n",
    "    #val5_out = pl.DataFrame({\"Id\": id_val5_order, \"ranker_id\": val5.sort([\"ranker_id\"])[\"ranker_id\"], \"xgb_ranker_pred\": val5_pred})\n",
    "    #val5_path = f\"pred_5pct_from_95_xgb_ranker_{Identifier}.csv\"\n",
    "    #val5_out.write_csv(val5_path)\n",
    "    #print(f\"Saved 5% validator_ preds to {val5_path}\")\n",
    "    \n",
    "    \n",
    "    y_val5 = val5.sort([\"ranker_id\"])[\"selected\"].to_numpy()\n",
    "    hr3_holdout = hitrate_at_3(y_val5, val5_pred, gval5)\n",
    "    print(f\"[HOLDOUT 5%] HitRate@3: {hr3_holdout:.4f} (groups>10 only)\")\n"
   ]
  },
  {
   "cell_type": "code",
   "execution_count": 16,
   "id": "4f1ae8f9",
   "metadata": {
    "execution": {
     "iopub.execute_input": "2025-08-11T19:26:52.800309Z",
     "iopub.status.busy": "2025-08-11T19:26:52.800105Z",
     "iopub.status.idle": "2025-08-11T19:26:55.698403Z",
     "shell.execute_reply": "2025-08-11T19:26:55.692538Z"
    },
    "papermill": {
     "duration": 2.924579,
     "end_time": "2025-08-11T19:26:55.701213",
     "exception": false,
     "start_time": "2025-08-11T19:26:52.776634",
     "status": "completed"
    },
    "tags": []
   },
   "outputs": [
    {
     "name": "stdout",
     "output_type": "stream",
     "text": [
      "Saved test scores to pred_test_from_95cv_xgb_ranker_SeriesA-R4_MORE.csv\n",
      "Saved submission to submission.csv\n"
     ]
    }
   ],
   "source": [
    "# Submission\n",
    "test_avg = np.mean(np.vstack(test_fold_preds), axis=0).astype(np.float32)\n",
    "\n",
    "test_sorted = (\n",
    "    test_f.sort([\"ranker_id\"])\n",
    "          .select([\"Id\", \"ranker_id\"])\n",
    "          .with_columns(pl.Series(\"selected\", test_avg))\n",
    ")\n",
    "\n",
    "submission_sorted = (\n",
    "    test_sorted\n",
    "    .with_columns(\n",
    "        pl.col(\"selected\")\n",
    "          .rank(method=\"ordinal\", descending=True)\n",
    "          .over(\"ranker_id\")\n",
    "          .cast(pl.Int32)\n",
    "          .alias(\"selected\")\n",
    "    )\n",
    "    .select([\"Id\", \"ranker_id\", \"selected\"])\n",
    ")\n",
    "\n",
    "test_order = test_f.select(\"Id\").with_row_index(\"ord\")\n",
    "submission = (\n",
    "    submission_sorted.join(test_order, on=\"Id\", how=\"inner\")\n",
    "                     .sort(\"ord\")\n",
    "                     .select([\"Id\", \"ranker_id\", \"selected\"])\n",
    ")\n",
    "\n",
    "scores = (\n",
    "    test_sorted.join(test_order, on=\"Id\", how=\"inner\")\n",
    "               .sort(\"ord\")\n",
    "               .select([\"Id\", \"ranker_id\", \"selected\"])\n",
    ")\n",
    "\n",
    "# (f) write files\n",
    "scores_path = f\"pred_test_from_95cv_xgb_ranker_{Identifier}.csv\"\n",
    "sub_path    = f\"submission.csv\"\n",
    "scores.write_csv(scores_path)\n",
    "submission.write_csv(sub_path)\n",
    "print(f\"Saved test scores to {scores_path}\")\n",
    "print(f\"Saved submission to {sub_path}\")\n"
   ]
  },
  {
   "cell_type": "code",
   "execution_count": null,
   "id": "12bb5b65",
   "metadata": {
    "papermill": {
     "duration": 0.021147,
     "end_time": "2025-08-11T19:26:55.745504",
     "exception": false,
     "start_time": "2025-08-11T19:26:55.724357",
     "status": "completed"
    },
    "tags": []
   },
   "outputs": [],
   "source": []
  }
 ],
 "metadata": {
  "kaggle": {
   "accelerator": "tpu1vmV38",
   "dataSources": [
    {
     "databundleVersionId": 12733338,
     "sourceId": 105399,
     "sourceType": "competition"
    }
   ],
   "dockerImageVersionId": 31091,
   "isGpuEnabled": false,
   "isInternetEnabled": true,
   "language": "python",
   "sourceType": "notebook"
  },
  "kernelspec": {
   "display_name": "Python 3",
   "language": "python",
   "name": "python3"
  },
  "language_info": {
   "codemirror_mode": {
    "name": "ipython",
    "version": 3
   },
   "file_extension": ".py",
   "mimetype": "text/x-python",
   "name": "python",
   "nbconvert_exporter": "python",
   "pygments_lexer": "ipython3",
   "version": "3.10.18"
  },
  "papermill": {
   "default_parameters": {},
   "duration": 6343.409895,
   "end_time": "2025-08-11T19:27:05.865848",
   "environment_variables": {},
   "exception": null,
   "input_path": "__notebook__.ipynb",
   "output_path": "__notebook__.ipynb",
   "parameters": {},
   "start_time": "2025-08-11T17:41:22.455953",
   "version": "2.6.0"
  }
 },
 "nbformat": 4,
 "nbformat_minor": 5
}
