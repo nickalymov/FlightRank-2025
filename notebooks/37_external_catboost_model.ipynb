{
 "cells": [
  {
   "cell_type": "code",
   "execution_count": 1,
   "id": "f2c959ab",
   "metadata": {
    "execution": {
     "iopub.execute_input": "2025-08-14T16:27:02.049946Z",
     "iopub.status.busy": "2025-08-14T16:27:02.049702Z",
     "iopub.status.idle": "2025-08-14T16:27:41.213454Z",
     "shell.execute_reply": "2025-08-14T16:27:41.208523Z"
    },
    "papermill": {
     "duration": 39.177415,
     "end_time": "2025-08-14T16:27:41.217214",
     "exception": false,
     "start_time": "2025-08-14T16:27:02.039799",
     "status": "completed"
    },
    "tags": []
   },
   "outputs": [
    {
     "name": "stdout",
     "output_type": "stream",
     "text": [
      "Collecting xgboost\r\n"
     ]
    },
    {
     "name": "stdout",
     "output_type": "stream",
     "text": [
      "  Downloading xgboost-3.0.4-py3-none-manylinux_2_28_x86_64.whl (94.9 MB)\r\n",
      "\u001b[?25l     \u001b[90m━━━━━━━━━━━━━━━━━━━━━━━━━━━━━━━━━━━━━━━━\u001b[0m \u001b[32m0.0/94.9 MB\u001b[0m \u001b[31m?\u001b[0m eta \u001b[36m-:--:--\u001b[0m"
     ]
    },
    {
     "name": "stdout",
     "output_type": "stream",
     "text": [
      "\r",
      "\u001b[2K     \u001b[90m━━━━━━━━━━━━━━━━━━━━━━━━━━━━━━━━━━━━━━━━\u001b[0m \u001b[32m0.3/94.9 MB\u001b[0m \u001b[31m9.0 MB/s\u001b[0m eta \u001b[36m0:00:11\u001b[0m\r",
      "\u001b[2K     \u001b[90m━━━━━━━━━━━━━━━━━━━━━━━━━━━━━━━━━━━━━━━━\u001b[0m \u001b[32m0.8/94.9 MB\u001b[0m \u001b[31m12.2 MB/s\u001b[0m eta \u001b[36m0:00:08\u001b[0m"
     ]
    },
    {
     "name": "stdout",
     "output_type": "stream",
     "text": [
      "\r",
      "\u001b[2K     \u001b[91m╸\u001b[0m\u001b[90m━━━━━━━━━━━━━━━━━━━━━━━━━━━━━━━━━━━━━━━\u001b[0m \u001b[32m1.6/94.9 MB\u001b[0m \u001b[31m15.7 MB/s\u001b[0m eta \u001b[36m0:00:06\u001b[0m"
     ]
    },
    {
     "name": "stdout",
     "output_type": "stream",
     "text": [
      "\r",
      "\u001b[2K     \u001b[91m━\u001b[0m\u001b[90m╺\u001b[0m\u001b[90m━━━━━━━━━━━━━━━━━━━━━━━━━━━━━━━━━━━━━━\u001b[0m \u001b[32m2.6/94.9 MB\u001b[0m \u001b[31m18.8 MB/s\u001b[0m eta \u001b[36m0:00:05\u001b[0m\r",
      "\u001b[2K     \u001b[91m━\u001b[0m\u001b[91m╸\u001b[0m\u001b[90m━━━━━━━━━━━━━━━━━━━━━━━━━━━━━━━━━━━━━━\u001b[0m \u001b[32m4.0/94.9 MB\u001b[0m \u001b[31m22.9 MB/s\u001b[0m eta \u001b[36m0:00:04\u001b[0m"
     ]
    },
    {
     "name": "stdout",
     "output_type": "stream",
     "text": [
      "\r",
      "\u001b[2K     \u001b[91m━━\u001b[0m\u001b[90m╺\u001b[0m\u001b[90m━━━━━━━━━━━━━━━━━━━━━━━━━━━━━━━━━━━━━\u001b[0m \u001b[32m5.8/94.9 MB\u001b[0m \u001b[31m28.2 MB/s\u001b[0m eta \u001b[36m0:00:04\u001b[0m"
     ]
    },
    {
     "name": "stdout",
     "output_type": "stream",
     "text": [
      "\r",
      "\u001b[2K     \u001b[91m━━━\u001b[0m\u001b[91m╸\u001b[0m\u001b[90m━━━━━━━━━━━━━━━━━━━━━━━━━━━━━━━━━━━━\u001b[0m \u001b[32m8.5/94.9 MB\u001b[0m \u001b[31m35.1 MB/s\u001b[0m eta \u001b[36m0:00:03\u001b[0m\r",
      "\u001b[2K     \u001b[91m━━━━━\u001b[0m\u001b[90m╺\u001b[0m\u001b[90m━━━━━━━━━━━━━━━━━━━━━━━━━━━━━━━━━━\u001b[0m \u001b[32m12.1/94.9 MB\u001b[0m \u001b[31m63.0 MB/s\u001b[0m eta \u001b[36m0:00:02\u001b[0m"
     ]
    },
    {
     "name": "stdout",
     "output_type": "stream",
     "text": [
      "\r",
      "\u001b[2K     \u001b[91m━━━━━━━\u001b[0m\u001b[90m╺\u001b[0m\u001b[90m━━━━━━━━━━━━━━━━━━━━━━━━━━━━━━━\u001b[0m \u001b[32m17.2/94.9 MB\u001b[0m \u001b[31m115.9 MB/s\u001b[0m eta \u001b[36m0:00:01\u001b[0m"
     ]
    },
    {
     "name": "stdout",
     "output_type": "stream",
     "text": [
      "\r",
      "\u001b[2K     \u001b[91m━━━━━━━━━\u001b[0m\u001b[90m╺\u001b[0m\u001b[90m━━━━━━━━━━━━━━━━━━━━━━━━━━━━━\u001b[0m \u001b[32m22.4/94.9 MB\u001b[0m \u001b[31m150.4 MB/s\u001b[0m eta \u001b[36m0:00:01\u001b[0m\r",
      "\u001b[2K     \u001b[91m━━━━━━━━━━━\u001b[0m\u001b[91m╸\u001b[0m\u001b[90m━━━━━━━━━━━━━━━━━━━━━━━━━━━\u001b[0m \u001b[32m28.2/94.9 MB\u001b[0m \u001b[31m158.9 MB/s\u001b[0m eta \u001b[36m0:00:01\u001b[0m"
     ]
    },
    {
     "name": "stdout",
     "output_type": "stream",
     "text": [
      "\r",
      "\u001b[2K     \u001b[91m━━━━━━━━━━━━━\u001b[0m\u001b[91m╸\u001b[0m\u001b[90m━━━━━━━━━━━━━━━━━━━━━━━━━\u001b[0m \u001b[32m34.0/94.9 MB\u001b[0m \u001b[31m170.3 MB/s\u001b[0m eta \u001b[36m0:00:01\u001b[0m"
     ]
    },
    {
     "name": "stdout",
     "output_type": "stream",
     "text": [
      "\r",
      "\u001b[2K     \u001b[91m━━━━━━━━━━━━━━━━\u001b[0m\u001b[90m╺\u001b[0m\u001b[90m━━━━━━━━━━━━━━━━━━━━━━\u001b[0m \u001b[32m39.8/94.9 MB\u001b[0m \u001b[31m169.1 MB/s\u001b[0m eta \u001b[36m0:00:01\u001b[0m\r",
      "\u001b[2K     \u001b[91m━━━━━━━━━━━━━━━━━━\u001b[0m\u001b[91m╸\u001b[0m\u001b[90m━━━━━━━━━━━━━━━━━━━━\u001b[0m \u001b[32m45.6/94.9 MB\u001b[0m \u001b[31m169.9 MB/s\u001b[0m eta \u001b[36m0:00:01\u001b[0m"
     ]
    },
    {
     "name": "stdout",
     "output_type": "stream",
     "text": [
      "\r",
      "\u001b[2K     \u001b[91m━━━━━━━━━━━━━━━━━━━━━\u001b[0m\u001b[90m╺\u001b[0m\u001b[90m━━━━━━━━━━━━━━━━━\u001b[0m \u001b[32m51.5/94.9 MB\u001b[0m \u001b[31m170.6 MB/s\u001b[0m eta \u001b[36m0:00:01\u001b[0m"
     ]
    },
    {
     "name": "stdout",
     "output_type": "stream",
     "text": [
      "\r",
      "\u001b[2K     \u001b[91m━━━━━━━━━━━━━━━━━━━━━━━\u001b[0m\u001b[91m╸\u001b[0m\u001b[90m━━━━━━━━━━━━━━━\u001b[0m \u001b[32m57.3/94.9 MB\u001b[0m \u001b[31m171.3 MB/s\u001b[0m eta \u001b[36m0:00:01\u001b[0m\r",
      "\u001b[2K     \u001b[91m━━━━━━━━━━━━━━━━━━━━━━━━━━\u001b[0m\u001b[90m╺\u001b[0m\u001b[90m━━━━━━━━━━━━\u001b[0m \u001b[32m63.3/94.9 MB\u001b[0m \u001b[31m172.0 MB/s\u001b[0m eta \u001b[36m0:00:01\u001b[0m"
     ]
    },
    {
     "name": "stdout",
     "output_type": "stream",
     "text": [
      "\r",
      "\u001b[2K     \u001b[91m━━━━━━━━━━━━━━━━━━━━━━━━━━━━\u001b[0m\u001b[90m╺\u001b[0m\u001b[90m━━━━━━━━━━\u001b[0m \u001b[32m69.2/94.9 MB\u001b[0m \u001b[31m172.4 MB/s\u001b[0m eta \u001b[36m0:00:01\u001b[0m"
     ]
    },
    {
     "name": "stdout",
     "output_type": "stream",
     "text": [
      "\r",
      "\u001b[2K     \u001b[91m━━━━━━━━━━━━━━━━━━━━━━━━━━━━━━\u001b[0m\u001b[91m╸\u001b[0m\u001b[90m━━━━━━━━\u001b[0m \u001b[32m75.1/94.9 MB\u001b[0m \u001b[31m171.7 MB/s\u001b[0m eta \u001b[36m0:00:01\u001b[0m"
     ]
    },
    {
     "name": "stdout",
     "output_type": "stream",
     "text": [
      "\r",
      "\u001b[2K     \u001b[91m━━━━━━━━━━━━━━━━━━━━━━━━━━━━━━━━━\u001b[0m\u001b[90m╺\u001b[0m\u001b[90m━━━━━\u001b[0m \u001b[32m81.0/94.9 MB\u001b[0m \u001b[31m172.1 MB/s\u001b[0m eta \u001b[36m0:00:01\u001b[0m\r",
      "\u001b[2K     \u001b[91m━━━━━━━━━━━━━━━━━━━━━━━━━━━━━━━━━━━\u001b[0m\u001b[91m╸\u001b[0m\u001b[90m━━━\u001b[0m \u001b[32m86.9/94.9 MB\u001b[0m \u001b[31m171.4 MB/s\u001b[0m eta \u001b[36m0:00:01\u001b[0m"
     ]
    },
    {
     "name": "stdout",
     "output_type": "stream",
     "text": [
      "\r",
      "\u001b[2K     \u001b[91m━━━━━━━━━━━━━━━━━━━━━━━━━━━━━━━━━━━━━━\u001b[0m\u001b[90m╺\u001b[0m \u001b[32m92.9/94.9 MB\u001b[0m \u001b[31m172.9 MB/s\u001b[0m eta \u001b[36m0:00:01\u001b[0m"
     ]
    },
    {
     "name": "stdout",
     "output_type": "stream",
     "text": [
      "\r",
      "\u001b[2K     \u001b[91m━━━━━━━━━━━━━━━━━━━━━━━━━━━━━━━━━━━━━━\u001b[0m\u001b[91m╸\u001b[0m \u001b[32m94.9/94.9 MB\u001b[0m \u001b[31m169.8 MB/s\u001b[0m eta \u001b[36m0:00:01\u001b[0m\r",
      "\u001b[2K     \u001b[91m━━━━━━━━━━━━━━━━━━━━━━━━━━━━━━━━━━━━━━\u001b[0m\u001b[91m╸\u001b[0m \u001b[32m94.9/94.9 MB\u001b[0m \u001b[31m169.8 MB/s\u001b[0m eta \u001b[36m0:00:01\u001b[0m"
     ]
    },
    {
     "name": "stdout",
     "output_type": "stream",
     "text": [
      "\r",
      "\u001b[2K     \u001b[91m━━━━━━━━━━━━━━━━━━━━━━━━━━━━━━━━━━━━━━\u001b[0m\u001b[91m╸\u001b[0m \u001b[32m94.9/94.9 MB\u001b[0m \u001b[31m169.8 MB/s\u001b[0m eta \u001b[36m0:00:01\u001b[0m"
     ]
    },
    {
     "name": "stdout",
     "output_type": "stream",
     "text": [
      "\r",
      "\u001b[2K     \u001b[91m━━━━━━━━━━━━━━━━━━━━━━━━━━━━━━━━━━━━━━\u001b[0m\u001b[91m╸\u001b[0m \u001b[32m94.9/94.9 MB\u001b[0m \u001b[31m169.8 MB/s\u001b[0m eta \u001b[36m0:00:01\u001b[0m\r",
      "\u001b[2K     \u001b[91m━━━━━━━━━━━━━━━━━━━━━━━━━━━━━━━━━━━━━━\u001b[0m\u001b[91m╸\u001b[0m \u001b[32m94.9/94.9 MB\u001b[0m \u001b[31m169.8 MB/s\u001b[0m eta \u001b[36m0:00:01\u001b[0m"
     ]
    },
    {
     "name": "stdout",
     "output_type": "stream",
     "text": [
      "\r",
      "\u001b[2K     \u001b[91m━━━━━━━━━━━━━━━━━━━━━━━━━━━━━━━━━━━━━━\u001b[0m\u001b[91m╸\u001b[0m \u001b[32m94.9/94.9 MB\u001b[0m \u001b[31m169.8 MB/s\u001b[0m eta \u001b[36m0:00:01\u001b[0m"
     ]
    },
    {
     "name": "stdout",
     "output_type": "stream",
     "text": [
      "\r",
      "\u001b[2K     \u001b[91m━━━━━━━━━━━━━━━━━━━━━━━━━━━━━━━━━━━━━━\u001b[0m\u001b[91m╸\u001b[0m \u001b[32m94.9/94.9 MB\u001b[0m \u001b[31m169.8 MB/s\u001b[0m eta \u001b[36m0:00:01\u001b[0m"
     ]
    },
    {
     "name": "stdout",
     "output_type": "stream",
     "text": [
      "\r",
      "\u001b[2K     \u001b[91m━━━━━━━━━━━━━━━━━━━━━━━━━━━━━━━━━━━━━━\u001b[0m\u001b[91m╸\u001b[0m \u001b[32m94.9/94.9 MB\u001b[0m \u001b[31m169.8 MB/s\u001b[0m eta \u001b[36m0:00:01\u001b[0m\r",
      "\u001b[2K     \u001b[91m━━━━━━━━━━━━━━━━━━━━━━━━━━━━━━━━━━━━━━\u001b[0m\u001b[91m╸\u001b[0m \u001b[32m94.9/94.9 MB\u001b[0m \u001b[31m169.8 MB/s\u001b[0m eta \u001b[36m0:00:01\u001b[0m"
     ]
    },
    {
     "name": "stdout",
     "output_type": "stream",
     "text": [
      "\r",
      "\u001b[2K     \u001b[91m━━━━━━━━━━━━━━━━━━━━━━━━━━━━━━━━━━━━━━\u001b[0m\u001b[91m╸\u001b[0m \u001b[32m94.9/94.9 MB\u001b[0m \u001b[31m169.8 MB/s\u001b[0m eta \u001b[36m0:00:01\u001b[0m"
     ]
    },
    {
     "name": "stdout",
     "output_type": "stream",
     "text": [
      "\r",
      "\u001b[2K     \u001b[91m━━━━━━━━━━━━━━━━━━━━━━━━━━━━━━━━━━━━━━\u001b[0m\u001b[91m╸\u001b[0m \u001b[32m94.9/94.9 MB\u001b[0m \u001b[31m169.8 MB/s\u001b[0m eta \u001b[36m0:00:01\u001b[0m\r",
      "\u001b[2K     \u001b[91m━━━━━━━━━━━━━━━━━━━━━━━━━━━━━━━━━━━━━━\u001b[0m\u001b[91m╸\u001b[0m \u001b[32m94.9/94.9 MB\u001b[0m \u001b[31m169.8 MB/s\u001b[0m eta \u001b[36m0:00:01\u001b[0m"
     ]
    },
    {
     "name": "stdout",
     "output_type": "stream",
     "text": [
      "\r",
      "\u001b[2K     \u001b[91m━━━━━━━━━━━━━━━━━━━━━━━━━━━━━━━━━━━━━━\u001b[0m\u001b[91m╸\u001b[0m \u001b[32m94.9/94.9 MB\u001b[0m \u001b[31m169.8 MB/s\u001b[0m eta \u001b[36m0:00:01\u001b[0m"
     ]
    },
    {
     "name": "stdout",
     "output_type": "stream",
     "text": [
      "\r",
      "\u001b[2K     \u001b[91m━━━━━━━━━━━━━━━━━━━━━━━━━━━━━━━━━━━━━━\u001b[0m\u001b[91m╸\u001b[0m \u001b[32m94.9/94.9 MB\u001b[0m \u001b[31m169.8 MB/s\u001b[0m eta \u001b[36m0:00:01\u001b[0m\r",
      "\u001b[2K     \u001b[91m━━━━━━━━━━━━━━━━━━━━━━━━━━━━━━━━━━━━━━\u001b[0m\u001b[91m╸\u001b[0m \u001b[32m94.9/94.9 MB\u001b[0m \u001b[31m169.8 MB/s\u001b[0m eta \u001b[36m0:00:01\u001b[0m"
     ]
    },
    {
     "name": "stdout",
     "output_type": "stream",
     "text": [
      "\r",
      "\u001b[2K     \u001b[91m━━━━━━━━━━━━━━━━━━━━━━━━━━━━━━━━━━━━━━\u001b[0m\u001b[91m╸\u001b[0m \u001b[32m94.9/94.9 MB\u001b[0m \u001b[31m169.8 MB/s\u001b[0m eta \u001b[36m0:00:01\u001b[0m"
     ]
    },
    {
     "name": "stdout",
     "output_type": "stream",
     "text": [
      "\r",
      "\u001b[2K     \u001b[91m━━━━━━━━━━━━━━━━━━━━━━━━━━━━━━━━━━━━━━\u001b[0m\u001b[91m╸\u001b[0m \u001b[32m94.9/94.9 MB\u001b[0m \u001b[31m169.8 MB/s\u001b[0m eta \u001b[36m0:00:01\u001b[0m\r",
      "\u001b[2K     \u001b[91m━━━━━━━━━━━━━━━━━━━━━━━━━━━━━━━━━━━━━━\u001b[0m\u001b[91m╸\u001b[0m \u001b[32m94.9/94.9 MB\u001b[0m \u001b[31m169.8 MB/s\u001b[0m eta \u001b[36m0:00:01\u001b[0m"
     ]
    },
    {
     "name": "stdout",
     "output_type": "stream",
     "text": [
      "\r",
      "\u001b[2K     \u001b[91m━━━━━━━━━━━━━━━━━━━━━━━━━━━━━━━━━━━━━━\u001b[0m\u001b[91m╸\u001b[0m \u001b[32m94.9/94.9 MB\u001b[0m \u001b[31m169.8 MB/s\u001b[0m eta \u001b[36m0:00:01\u001b[0m"
     ]
    },
    {
     "name": "stdout",
     "output_type": "stream",
     "text": [
      "\r",
      "\u001b[2K     \u001b[91m━━━━━━━━━━━━━━━━━━━━━━━━━━━━━━━━━━━━━━\u001b[0m\u001b[91m╸\u001b[0m \u001b[32m94.9/94.9 MB\u001b[0m \u001b[31m169.8 MB/s\u001b[0m eta \u001b[36m0:00:01\u001b[0m\r",
      "\u001b[2K     \u001b[91m━━━━━━━━━━━━━━━━━━━━━━━━━━━━━━━━━━━━━━\u001b[0m\u001b[91m╸\u001b[0m \u001b[32m94.9/94.9 MB\u001b[0m \u001b[31m169.8 MB/s\u001b[0m eta \u001b[36m0:00:01\u001b[0m"
     ]
    },
    {
     "name": "stdout",
     "output_type": "stream",
     "text": [
      "\r",
      "\u001b[2K     \u001b[91m━━━━━━━━━━━━━━━━━━━━━━━━━━━━━━━━━━━━━━\u001b[0m\u001b[91m╸\u001b[0m \u001b[32m94.9/94.9 MB\u001b[0m \u001b[31m169.8 MB/s\u001b[0m eta \u001b[36m0:00:01\u001b[0m"
     ]
    },
    {
     "name": "stdout",
     "output_type": "stream",
     "text": [
      "\r",
      "\u001b[2K     \u001b[91m━━━━━━━━━━━━━━━━━━━━━━━━━━━━━━━━━━━━━━\u001b[0m\u001b[91m╸\u001b[0m \u001b[32m94.9/94.9 MB\u001b[0m \u001b[31m169.8 MB/s\u001b[0m eta \u001b[36m0:00:01\u001b[0m\r",
      "\u001b[2K     \u001b[91m━━━━━━━━━━━━━━━━━━━━━━━━━━━━━━━━━━━━━━\u001b[0m\u001b[91m╸\u001b[0m \u001b[32m94.9/94.9 MB\u001b[0m \u001b[31m169.8 MB/s\u001b[0m eta \u001b[36m0:00:01\u001b[0m"
     ]
    },
    {
     "name": "stdout",
     "output_type": "stream",
     "text": [
      "\r",
      "\u001b[2K     \u001b[91m━━━━━━━━━━━━━━━━━━━━━━━━━━━━━━━━━━━━━━\u001b[0m\u001b[91m╸\u001b[0m \u001b[32m94.9/94.9 MB\u001b[0m \u001b[31m169.8 MB/s\u001b[0m eta \u001b[36m0:00:01\u001b[0m"
     ]
    },
    {
     "name": "stdout",
     "output_type": "stream",
     "text": [
      "\r",
      "\u001b[2K     \u001b[91m━━━━━━━━━━━━━━━━━━━━━━━━━━━━━━━━━━━━━━\u001b[0m\u001b[91m╸\u001b[0m \u001b[32m94.9/94.9 MB\u001b[0m \u001b[31m169.8 MB/s\u001b[0m eta \u001b[36m0:00:01\u001b[0m\r",
      "\u001b[2K     \u001b[91m━━━━━━━━━━━━━━━━━━━━━━━━━━━━━━━━━━━━━━\u001b[0m\u001b[91m╸\u001b[0m \u001b[32m94.9/94.9 MB\u001b[0m \u001b[31m169.8 MB/s\u001b[0m eta \u001b[36m0:00:01\u001b[0m"
     ]
    },
    {
     "name": "stdout",
     "output_type": "stream",
     "text": [
      "\r",
      "\u001b[2K     \u001b[91m━━━━━━━━━━━━━━━━━━━━━━━━━━━━━━━━━━━━━━\u001b[0m\u001b[91m╸\u001b[0m \u001b[32m94.9/94.9 MB\u001b[0m \u001b[31m169.8 MB/s\u001b[0m eta \u001b[36m0:00:01\u001b[0m"
     ]
    },
    {
     "name": "stdout",
     "output_type": "stream",
     "text": [
      "\r",
      "\u001b[2K     \u001b[91m━━━━━━━━━━━━━━━━━━━━━━━━━━━━━━━━━━━━━━\u001b[0m\u001b[91m╸\u001b[0m \u001b[32m94.9/94.9 MB\u001b[0m \u001b[31m169.8 MB/s\u001b[0m eta \u001b[36m0:00:01\u001b[0m\r",
      "\u001b[2K     \u001b[90m━━━━━━━━━━━━━━━━━━━━━━━━━━━━━━━━━━━━━━━━\u001b[0m \u001b[32m94.9/94.9 MB\u001b[0m \u001b[31m9.0 MB/s\u001b[0m eta \u001b[36m0:00:00\u001b[0m\r\n",
      "\u001b[?25h"
     ]
    },
    {
     "name": "stdout",
     "output_type": "stream",
     "text": [
      "Requirement already satisfied: scipy in /usr/local/lib/python3.10/site-packages (from xgboost) (1.15.3)\r\n",
      "Requirement already satisfied: nvidia-nccl-cu12 in /usr/local/lib/python3.10/site-packages (from xgboost) (2.21.5)\r\n",
      "Requirement already satisfied: numpy in /usr/local/lib/python3.10/site-packages (from xgboost) (2.0.2)\r\n"
     ]
    },
    {
     "name": "stdout",
     "output_type": "stream",
     "text": [
      "Installing collected packages: xgboost\r\n"
     ]
    },
    {
     "name": "stdout",
     "output_type": "stream",
     "text": [
      "Successfully installed xgboost-3.0.4\r\n",
      "\u001b[33mWARNING: Running pip as the 'root' user can result in broken permissions and conflicting behaviour with the system package manager. It is recommended to use a virtual environment instead: https://pip.pypa.io/warnings/venv\u001b[0m\u001b[33m\r\n",
      "\u001b[0m"
     ]
    },
    {
     "name": "stdout",
     "output_type": "stream",
     "text": [
      "\r\n",
      "\u001b[1m[\u001b[0m\u001b[34;49mnotice\u001b[0m\u001b[1;39;49m]\u001b[0m\u001b[39;49m A new release of pip is available: \u001b[0m\u001b[31;49m23.0.1\u001b[0m\u001b[39;49m -> \u001b[0m\u001b[32;49m25.2\u001b[0m\r\n",
      "\u001b[1m[\u001b[0m\u001b[34;49mnotice\u001b[0m\u001b[1;39;49m]\u001b[0m\u001b[39;49m To update, run: \u001b[0m\u001b[32;49mpip install --upgrade pip\u001b[0m\r\n"
     ]
    },
    {
     "name": "stdout",
     "output_type": "stream",
     "text": [
      "Collecting polars\r\n"
     ]
    },
    {
     "name": "stdout",
     "output_type": "stream",
     "text": [
      "  Downloading polars-1.32.2-cp39-abi3-manylinux_2_17_x86_64.manylinux2014_x86_64.whl (38.3 MB)\r\n",
      "\u001b[?25l     \u001b[90m━━━━━━━━━━━━━━━━━━━━━━━━━━━━━━━━━━━━━━━━\u001b[0m \u001b[32m0.0/38.3 MB\u001b[0m \u001b[31m?\u001b[0m eta \u001b[36m-:--:--\u001b[0m"
     ]
    },
    {
     "name": "stdout",
     "output_type": "stream",
     "text": [
      "\r",
      "\u001b[2K     \u001b[91m╸\u001b[0m\u001b[90m━━━━━━━━━━━━━━━━━━━━━━━━━━━━━━━━━━━━━━━\u001b[0m \u001b[32m0.5/38.3 MB\u001b[0m \u001b[31m14.8 MB/s\u001b[0m eta \u001b[36m0:00:03\u001b[0m\r",
      "\u001b[2K     \u001b[91m━\u001b[0m\u001b[90m╺\u001b[0m\u001b[90m━━━━━━━━━━━━━━━━━━━━━━━━━━━━━━━━━━━━━━\u001b[0m \u001b[32m1.4/38.3 MB\u001b[0m \u001b[31m20.8 MB/s\u001b[0m eta \u001b[36m0:00:02\u001b[0m"
     ]
    },
    {
     "name": "stdout",
     "output_type": "stream",
     "text": [
      "\r",
      "\u001b[2K     \u001b[91m━━\u001b[0m\u001b[91m╸\u001b[0m\u001b[90m━━━━━━━━━━━━━━━━━━━━━━━━━━━━━━━━━━━━━\u001b[0m \u001b[32m2.8/38.3 MB\u001b[0m \u001b[31m26.7 MB/s\u001b[0m eta \u001b[36m0:00:02\u001b[0m"
     ]
    },
    {
     "name": "stdout",
     "output_type": "stream",
     "text": [
      "\r",
      "\u001b[2K     \u001b[91m━━━━\u001b[0m\u001b[91m╸\u001b[0m\u001b[90m━━━━━━━━━━━━━━━━━━━━━━━━━━━━━━━━━━━\u001b[0m \u001b[32m4.5/38.3 MB\u001b[0m \u001b[31m33.0 MB/s\u001b[0m eta \u001b[36m0:00:02\u001b[0m\r",
      "\u001b[2K     \u001b[91m━━━━━━━\u001b[0m\u001b[91m╸\u001b[0m\u001b[90m━━━━━━━━━━━━━━━━━━━━━━━━━━━━━━━━\u001b[0m \u001b[32m7.2/38.3 MB\u001b[0m \u001b[31m41.8 MB/s\u001b[0m eta \u001b[36m0:00:01\u001b[0m"
     ]
    },
    {
     "name": "stdout",
     "output_type": "stream",
     "text": [
      "\r",
      "\u001b[2K     \u001b[91m━━━━━━━━━━━\u001b[0m\u001b[91m╸\u001b[0m\u001b[90m━━━━━━━━━━━━━━━━━━━━━━━━━━━━\u001b[0m \u001b[32m11.1/38.3 MB\u001b[0m \u001b[31m64.4 MB/s\u001b[0m eta \u001b[36m0:00:01\u001b[0m"
     ]
    },
    {
     "name": "stdout",
     "output_type": "stream",
     "text": [
      "\r",
      "\u001b[2K     \u001b[91m━━━━━━━━━━━━━━━━\u001b[0m\u001b[91m╸\u001b[0m\u001b[90m━━━━━━━━━━━━━━━━━━━━━━\u001b[0m \u001b[32m16.7/38.3 MB\u001b[0m \u001b[31m129.8 MB/s\u001b[0m eta \u001b[36m0:00:01\u001b[0m"
     ]
    },
    {
     "name": "stdout",
     "output_type": "stream",
     "text": [
      "\r",
      "\u001b[2K     \u001b[91m━━━━━━━━━━━━━━━━━━━━━━\u001b[0m\u001b[91m╸\u001b[0m\u001b[90m━━━━━━━━━━━━━━━━\u001b[0m \u001b[32m22.5/38.3 MB\u001b[0m \u001b[31m166.9 MB/s\u001b[0m eta \u001b[36m0:00:01\u001b[0m\r",
      "\u001b[2K     \u001b[91m━━━━━━━━━━━━━━━━━━━━━━━━━━━━━\u001b[0m\u001b[90m╺\u001b[0m\u001b[90m━━━━━━━━━\u001b[0m \u001b[32m28.7/38.3 MB\u001b[0m \u001b[31m174.2 MB/s\u001b[0m eta \u001b[36m0:00:01\u001b[0m"
     ]
    },
    {
     "name": "stdout",
     "output_type": "stream",
     "text": [
      "\r",
      "\u001b[2K     \u001b[91m━━━━━━━━━━━━━━━━━━━━━━━━━━━━━━━━━━━\u001b[0m\u001b[90m╺\u001b[0m\u001b[90m━━━\u001b[0m \u001b[32m34.6/38.3 MB\u001b[0m \u001b[31m175.5 MB/s\u001b[0m eta \u001b[36m0:00:01\u001b[0m"
     ]
    },
    {
     "name": "stdout",
     "output_type": "stream",
     "text": [
      "\r",
      "\u001b[2K     \u001b[91m━━━━━━━━━━━━━━━━━━━━━━━━━━━━━━━━━━━━━━\u001b[0m\u001b[91m╸\u001b[0m \u001b[32m38.3/38.3 MB\u001b[0m \u001b[31m173.1 MB/s\u001b[0m eta \u001b[36m0:00:01\u001b[0m"
     ]
    },
    {
     "name": "stdout",
     "output_type": "stream",
     "text": [
      "\r",
      "\u001b[2K     \u001b[91m━━━━━━━━━━━━━━━━━━━━━━━━━━━━━━━━━━━━━━\u001b[0m\u001b[91m╸\u001b[0m \u001b[32m38.3/38.3 MB\u001b[0m \u001b[31m173.1 MB/s\u001b[0m eta \u001b[36m0:00:01\u001b[0m\r",
      "\u001b[2K     \u001b[91m━━━━━━━━━━━━━━━━━━━━━━━━━━━━━━━━━━━━━━\u001b[0m\u001b[91m╸\u001b[0m \u001b[32m38.3/38.3 MB\u001b[0m \u001b[31m173.1 MB/s\u001b[0m eta \u001b[36m0:00:01\u001b[0m"
     ]
    },
    {
     "name": "stdout",
     "output_type": "stream",
     "text": [
      "\r",
      "\u001b[2K     \u001b[91m━━━━━━━━━━━━━━━━━━━━━━━━━━━━━━━━━━━━━━\u001b[0m\u001b[91m╸\u001b[0m \u001b[32m38.3/38.3 MB\u001b[0m \u001b[31m173.1 MB/s\u001b[0m eta \u001b[36m0:00:01\u001b[0m"
     ]
    },
    {
     "name": "stdout",
     "output_type": "stream",
     "text": [
      "\r",
      "\u001b[2K     \u001b[91m━━━━━━━━━━━━━━━━━━━━━━━━━━━━━━━━━━━━━━\u001b[0m\u001b[91m╸\u001b[0m \u001b[32m38.3/38.3 MB\u001b[0m \u001b[31m173.1 MB/s\u001b[0m eta \u001b[36m0:00:01\u001b[0m\r",
      "\u001b[2K     \u001b[91m━━━━━━━━━━━━━━━━━━━━━━━━━━━━━━━━━━━━━━\u001b[0m\u001b[91m╸\u001b[0m \u001b[32m38.3/38.3 MB\u001b[0m \u001b[31m173.1 MB/s\u001b[0m eta \u001b[36m0:00:01\u001b[0m"
     ]
    },
    {
     "name": "stdout",
     "output_type": "stream",
     "text": [
      "\r",
      "\u001b[2K     \u001b[91m━━━━━━━━━━━━━━━━━━━━━━━━━━━━━━━━━━━━━━\u001b[0m\u001b[91m╸\u001b[0m \u001b[32m38.3/38.3 MB\u001b[0m \u001b[31m173.1 MB/s\u001b[0m eta \u001b[36m0:00:01\u001b[0m"
     ]
    },
    {
     "name": "stdout",
     "output_type": "stream",
     "text": [
      "\r",
      "\u001b[2K     \u001b[91m━━━━━━━━━━━━━━━━━━━━━━━━━━━━━━━━━━━━━━\u001b[0m\u001b[91m╸\u001b[0m \u001b[32m38.3/38.3 MB\u001b[0m \u001b[31m173.1 MB/s\u001b[0m eta \u001b[36m0:00:01\u001b[0m\r",
      "\u001b[2K     \u001b[90m━━━━━━━━━━━━━━━━━━━━━━━━━━━━━━━━━━━━━━━━\u001b[0m \u001b[32m38.3/38.3 MB\u001b[0m \u001b[31m27.4 MB/s\u001b[0m eta \u001b[36m0:00:00\u001b[0m\r\n",
      "\u001b[?25h"
     ]
    },
    {
     "name": "stdout",
     "output_type": "stream",
     "text": [
      "Installing collected packages: polars\r\n"
     ]
    },
    {
     "name": "stdout",
     "output_type": "stream",
     "text": [
      "Successfully installed polars-1.32.2\r\n",
      "\u001b[33mWARNING: Running pip as the 'root' user can result in broken permissions and conflicting behaviour with the system package manager. It is recommended to use a virtual environment instead: https://pip.pypa.io/warnings/venv\u001b[0m\u001b[33m\r\n",
      "\u001b[0m\r\n",
      "\u001b[1m[\u001b[0m\u001b[34;49mnotice\u001b[0m\u001b[1;39;49m]\u001b[0m\u001b[39;49m A new release of pip is available: \u001b[0m\u001b[31;49m23.0.1\u001b[0m\u001b[39;49m -> \u001b[0m\u001b[32;49m25.2\u001b[0m\r\n",
      "\u001b[1m[\u001b[0m\u001b[34;49mnotice\u001b[0m\u001b[1;39;49m]\u001b[0m\u001b[39;49m To update, run: \u001b[0m\u001b[32;49mpip install --upgrade pip\u001b[0m\r\n"
     ]
    },
    {
     "name": "stdout",
     "output_type": "stream",
     "text": [
      "Collecting optuna\r\n"
     ]
    },
    {
     "name": "stdout",
     "output_type": "stream",
     "text": [
      "  Downloading optuna-4.4.0-py3-none-any.whl (395 kB)\r\n",
      "\u001b[?25l     \u001b[90m━━━━━━━━━━━━━━━━━━━━━━━━━━━━━━━━━━━━━━━━\u001b[0m \u001b[32m0.0/395.9 kB\u001b[0m \u001b[31m?\u001b[0m eta \u001b[36m-:--:--\u001b[0m\r",
      "\u001b[2K     \u001b[91m━━━━━━━━━━━━━━━━━━━━━━━━━━━━━━━━━━━━━\u001b[0m\u001b[90m╺\u001b[0m \u001b[32m389.1/395.9 kB\u001b[0m \u001b[31m14.0 MB/s\u001b[0m eta \u001b[36m0:00:01\u001b[0m\r",
      "\u001b[2K     \u001b[90m━━━━━━━━━━━━━━━━━━━━━━━━━━━━━━━━━━━━━━━\u001b[0m \u001b[32m395.9/395.9 kB\u001b[0m \u001b[31m9.5 MB/s\u001b[0m eta \u001b[36m0:00:00\u001b[0m\r\n",
      "\u001b[?25h"
     ]
    },
    {
     "name": "stdout",
     "output_type": "stream",
     "text": [
      "Requirement already satisfied: numpy in /usr/local/lib/python3.10/site-packages (from optuna) (2.0.2)\r\n",
      "Requirement already satisfied: packaging>=20.0 in /usr/local/lib/python3.10/site-packages (from optuna) (25.0)\r\n"
     ]
    },
    {
     "name": "stdout",
     "output_type": "stream",
     "text": [
      "Collecting alembic>=1.5.0\r\n",
      "  Downloading alembic-1.16.4-py3-none-any.whl (247 kB)\r\n",
      "\u001b[?25l     \u001b[90m━━━━━━━━━━━━━━━━━━━━━━━━━━━━━━━━━━━━━━━━\u001b[0m \u001b[32m0.0/247.0 kB\u001b[0m \u001b[31m?\u001b[0m eta \u001b[36m-:--:--\u001b[0m"
     ]
    },
    {
     "name": "stdout",
     "output_type": "stream",
     "text": [
      "\r",
      "\u001b[2K     \u001b[90m━━━━━━━━━━━━━━━━━━━━━━━━━━━━━━━━━━━━━━\u001b[0m \u001b[32m247.0/247.0 kB\u001b[0m \u001b[31m15.0 MB/s\u001b[0m eta \u001b[36m0:00:00\u001b[0m\r\n",
      "\u001b[?25h"
     ]
    },
    {
     "name": "stdout",
     "output_type": "stream",
     "text": [
      "Collecting sqlalchemy>=1.4.2\r\n",
      "  Downloading sqlalchemy-2.0.43-cp310-cp310-manylinux_2_17_x86_64.manylinux2014_x86_64.whl (3.2 MB)\r\n",
      "\u001b[?25l     \u001b[90m━━━━━━━━━━━━━━━━━━━━━━━━━━━━━━━━━━━━━━━━\u001b[0m \u001b[32m0.0/3.2 MB\u001b[0m \u001b[31m?\u001b[0m eta \u001b[36m-:--:--\u001b[0m\r",
      "\u001b[2K     \u001b[91m━━━━━━━━━━━\u001b[0m\u001b[91m╸\u001b[0m\u001b[90m━━━━━━━━━━━━━━━━━━━━━━━━━━━━\u001b[0m \u001b[32m1.0/3.2 MB\u001b[0m \u001b[31m30.3 MB/s\u001b[0m eta \u001b[36m0:00:01\u001b[0m"
     ]
    },
    {
     "name": "stdout",
     "output_type": "stream",
     "text": [
      "\r",
      "\u001b[2K     \u001b[91m━━━━━━━━━━━━━━━━━━━━━━━━━━━━\u001b[0m\u001b[91m╸\u001b[0m\u001b[90m━━━━━━━━━━━\u001b[0m \u001b[32m2.3/3.2 MB\u001b[0m \u001b[31m34.7 MB/s\u001b[0m eta \u001b[36m0:00:01\u001b[0m"
     ]
    },
    {
     "name": "stdout",
     "output_type": "stream",
     "text": [
      "\r",
      "\u001b[2K     \u001b[91m━━━━━━━━━━━━━━━━━━━━━━━━━━━━━━━━━━━━━━━\u001b[0m\u001b[91m╸\u001b[0m \u001b[32m3.2/3.2 MB\u001b[0m \u001b[31m37.4 MB/s\u001b[0m eta \u001b[36m0:00:01\u001b[0m\r",
      "\u001b[2K     \u001b[90m━━━━━━━━━━━━━━━━━━━━━━━━━━━━━━━━━━━━━━━━\u001b[0m \u001b[32m3.2/3.2 MB\u001b[0m \u001b[31m27.8 MB/s\u001b[0m eta \u001b[36m0:00:00\u001b[0m\r\n",
      "\u001b[?25hRequirement already satisfied: PyYAML in /usr/local/lib/python3.10/site-packages (from optuna) (6.0.2)\r\n",
      "Requirement already satisfied: tqdm in /usr/local/lib/python3.10/site-packages (from optuna) (4.67.1)\r\n"
     ]
    },
    {
     "name": "stdout",
     "output_type": "stream",
     "text": [
      "Collecting colorlog\r\n",
      "  Downloading colorlog-6.9.0-py3-none-any.whl (11 kB)\r\n"
     ]
    },
    {
     "name": "stdout",
     "output_type": "stream",
     "text": [
      "Requirement already satisfied: typing-extensions>=4.12 in /usr/local/lib/python3.10/site-packages (from alembic>=1.5.0->optuna) (4.14.0)\r\n"
     ]
    },
    {
     "name": "stdout",
     "output_type": "stream",
     "text": [
      "Collecting Mako\r\n",
      "  Downloading mako-1.3.10-py3-none-any.whl (78 kB)\r\n"
     ]
    },
    {
     "name": "stdout",
     "output_type": "stream",
     "text": [
      "\u001b[?25l     \u001b[90m━━━━━━━━━━━━━━━━━━━━━━━━━━━━━━━━━━━━━━━━\u001b[0m \u001b[32m0.0/78.5 kB\u001b[0m \u001b[31m?\u001b[0m eta \u001b[36m-:--:--\u001b[0m\r",
      "\u001b[2K     \u001b[90m━━━━━━━━━━━━━━━━━━━━━━━━━━━━━━━━━━━━━━━━\u001b[0m \u001b[32m78.5/78.5 kB\u001b[0m \u001b[31m7.2 MB/s\u001b[0m eta \u001b[36m0:00:00\u001b[0m\r\n",
      "\u001b[?25hRequirement already satisfied: tomli in /usr/local/lib/python3.10/site-packages (from alembic>=1.5.0->optuna) (2.2.1)\r\n"
     ]
    },
    {
     "name": "stdout",
     "output_type": "stream",
     "text": [
      "Collecting greenlet>=1\r\n",
      "  Downloading greenlet-3.2.4-cp310-cp310-manylinux_2_24_x86_64.manylinux_2_28_x86_64.whl (584 kB)\r\n",
      "\u001b[?25l     \u001b[90m━━━━━━━━━━━━━━━━━━━━━━━━━━━━━━━━━━━━━━━━\u001b[0m \u001b[32m0.0/584.4 kB\u001b[0m \u001b[31m?\u001b[0m eta \u001b[36m-:--:--\u001b[0m"
     ]
    },
    {
     "name": "stdout",
     "output_type": "stream",
     "text": [
      "\r",
      "\u001b[2K     \u001b[91m━━━━━━━━━━━━━━━━━━━━━━━━━━━━━━━━━━━━━\u001b[0m\u001b[91m╸\u001b[0m \u001b[32m583.7/584.4 kB\u001b[0m \u001b[31m17.5 MB/s\u001b[0m eta \u001b[36m0:00:01\u001b[0m\r",
      "\u001b[2K     \u001b[90m━━━━━━━━━━━━━━━━━━━━━━━━━━━━━━━━━━━━━━\u001b[0m \u001b[32m584.4/584.4 kB\u001b[0m \u001b[31m11.1 MB/s\u001b[0m eta \u001b[36m0:00:00\u001b[0m\r\n",
      "\u001b[?25h"
     ]
    },
    {
     "name": "stdout",
     "output_type": "stream",
     "text": [
      "Requirement already satisfied: MarkupSafe>=0.9.2 in /usr/local/lib/python3.10/site-packages (from Mako->alembic>=1.5.0->optuna) (3.0.2)\r\n"
     ]
    },
    {
     "name": "stdout",
     "output_type": "stream",
     "text": [
      "Installing collected packages: Mako, greenlet, colorlog, sqlalchemy, alembic, optuna\r\n"
     ]
    },
    {
     "name": "stdout",
     "output_type": "stream",
     "text": [
      "Successfully installed Mako-1.3.10 alembic-1.16.4 colorlog-6.9.0 greenlet-3.2.4 optuna-4.4.0 sqlalchemy-2.0.43\r\n",
      "\u001b[33mWARNING: Running pip as the 'root' user can result in broken permissions and conflicting behaviour with the system package manager. It is recommended to use a virtual environment instead: https://pip.pypa.io/warnings/venv\u001b[0m\u001b[33m\r\n",
      "\u001b[0m\r\n",
      "\u001b[1m[\u001b[0m\u001b[34;49mnotice\u001b[0m\u001b[1;39;49m]\u001b[0m\u001b[39;49m A new release of pip is available: \u001b[0m\u001b[31;49m23.0.1\u001b[0m\u001b[39;49m -> \u001b[0m\u001b[32;49m25.2\u001b[0m\r\n",
      "\u001b[1m[\u001b[0m\u001b[34;49mnotice\u001b[0m\u001b[1;39;49m]\u001b[0m\u001b[39;49m To update, run: \u001b[0m\u001b[32;49mpip install --upgrade pip\u001b[0m\r\n"
     ]
    },
    {
     "name": "stdout",
     "output_type": "stream",
     "text": [
      "Collecting catboost\r\n"
     ]
    },
    {
     "name": "stdout",
     "output_type": "stream",
     "text": [
      "  Downloading catboost-1.2.8-cp310-cp310-manylinux2014_x86_64.whl (99.2 MB)\r\n",
      "\u001b[?25l     \u001b[90m━━━━━━━━━━━━━━━━━━━━━━━━━━━━━━━━━━━━━━━━\u001b[0m \u001b[32m0.0/99.2 MB\u001b[0m \u001b[31m?\u001b[0m eta \u001b[36m-:--:--\u001b[0m"
     ]
    },
    {
     "name": "stdout",
     "output_type": "stream",
     "text": [
      "\r",
      "\u001b[2K     \u001b[90m━━━━━━━━━━━━━━━━━━━━━━━━━━━━━━━━━━━━━━━━\u001b[0m \u001b[32m0.5/99.2 MB\u001b[0m \u001b[31m15.1 MB/s\u001b[0m eta \u001b[36m0:00:07\u001b[0m\r",
      "\u001b[2K     \u001b[91m╸\u001b[0m\u001b[90m━━━━━━━━━━━━━━━━━━━━━━━━━━━━━━━━━━━━━━━\u001b[0m \u001b[32m1.4/99.2 MB\u001b[0m \u001b[31m21.1 MB/s\u001b[0m eta \u001b[36m0:00:05\u001b[0m"
     ]
    },
    {
     "name": "stdout",
     "output_type": "stream",
     "text": [
      "\r",
      "\u001b[2K     \u001b[91m━\u001b[0m\u001b[90m╺\u001b[0m\u001b[90m━━━━━━━━━━━━━━━━━━━━━━━━━━━━━━━━━━━━━━\u001b[0m \u001b[32m2.7/99.2 MB\u001b[0m \u001b[31m25.9 MB/s\u001b[0m eta \u001b[36m0:00:04\u001b[0m"
     ]
    },
    {
     "name": "stdout",
     "output_type": "stream",
     "text": [
      "\r",
      "\u001b[2K     \u001b[91m━\u001b[0m\u001b[91m╸\u001b[0m\u001b[90m━━━━━━━━━━━━━━━━━━━━━━━━━━━━━━━━━━━━━━\u001b[0m \u001b[32m4.4/99.2 MB\u001b[0m \u001b[31m31.6 MB/s\u001b[0m eta \u001b[36m0:00:04\u001b[0m\r",
      "\u001b[2K     \u001b[91m━━\u001b[0m\u001b[91m╸\u001b[0m\u001b[90m━━━━━━━━━━━━━━━━━━━━━━━━━━━━━━━━━━━━━\u001b[0m \u001b[32m6.8/99.2 MB\u001b[0m \u001b[31m39.0 MB/s\u001b[0m eta \u001b[36m0:00:03\u001b[0m"
     ]
    },
    {
     "name": "stdout",
     "output_type": "stream",
     "text": [
      "\r",
      "\u001b[2K     \u001b[91m━━━━\u001b[0m\u001b[90m╺\u001b[0m\u001b[90m━━━━━━━━━━━━━━━━━━━━━━━━━━━━━━━━━━━\u001b[0m \u001b[32m10.1/99.2 MB\u001b[0m \u001b[31m48.4 MB/s\u001b[0m eta \u001b[36m0:00:02\u001b[0m"
     ]
    },
    {
     "name": "stdout",
     "output_type": "stream",
     "text": [
      "\r",
      "\u001b[2K     \u001b[91m━━━━━\u001b[0m\u001b[91m╸\u001b[0m\u001b[90m━━━━━━━━━━━━━━━━━━━━━━━━━━━━━━━━━━\u001b[0m \u001b[32m14.6/99.2 MB\u001b[0m \u001b[31m99.1 MB/s\u001b[0m eta \u001b[36m0:00:01\u001b[0m\r",
      "\u001b[2K     \u001b[91m━━━━━━━\u001b[0m\u001b[91m╸\u001b[0m\u001b[90m━━━━━━━━━━━━━━━━━━━━━━━━━━━━━━━\u001b[0m \u001b[32m19.8/99.2 MB\u001b[0m \u001b[31m137.5 MB/s\u001b[0m eta \u001b[36m0:00:01\u001b[0m"
     ]
    },
    {
     "name": "stdout",
     "output_type": "stream",
     "text": [
      "\r",
      "\u001b[2K     \u001b[91m━━━━━━━━━━\u001b[0m\u001b[90m╺\u001b[0m\u001b[90m━━━━━━━━━━━━━━━━━━━━━━━━━━━━\u001b[0m \u001b[32m25.6/99.2 MB\u001b[0m \u001b[31m160.6 MB/s\u001b[0m eta \u001b[36m0:00:01\u001b[0m"
     ]
    },
    {
     "name": "stdout",
     "output_type": "stream",
     "text": [
      "\r",
      "\u001b[2K     \u001b[91m━━━━━━━━━━━━\u001b[0m\u001b[90m╺\u001b[0m\u001b[90m━━━━━━━━━━━━━━━━━━━━━━━━━━\u001b[0m \u001b[32m30.7/99.2 MB\u001b[0m \u001b[31m157.1 MB/s\u001b[0m eta \u001b[36m0:00:01\u001b[0m"
     ]
    },
    {
     "name": "stdout",
     "output_type": "stream",
     "text": [
      "\r",
      "\u001b[2K     \u001b[91m━━━━━━━━━━━━\u001b[0m\u001b[91m╸\u001b[0m\u001b[90m━━━━━━━━━━━━━━━━━━━━━━━━━━\u001b[0m \u001b[32m32.7/99.2 MB\u001b[0m \u001b[31m115.3 MB/s\u001b[0m eta \u001b[36m0:00:01\u001b[0m\r",
      "\u001b[2K     \u001b[91m━━━━━━━━━━━━━\u001b[0m\u001b[90m╺\u001b[0m\u001b[90m━━━━━━━━━━━━━━━━━━━━━━━━━━\u001b[0m \u001b[32m33.1/99.2 MB\u001b[0m \u001b[31m84.2 MB/s\u001b[0m eta \u001b[36m0:00:01\u001b[0m"
     ]
    },
    {
     "name": "stdout",
     "output_type": "stream",
     "text": [
      "\r",
      "\u001b[2K     \u001b[91m━━━━━━━━━━━━━━\u001b[0m\u001b[90m╺\u001b[0m\u001b[90m━━━━━━━━━━━━━━━━━━━━━━━━━\u001b[0m \u001b[32m35.9/99.2 MB\u001b[0m \u001b[31m73.9 MB/s\u001b[0m eta \u001b[36m0:00:01\u001b[0m"
     ]
    },
    {
     "name": "stdout",
     "output_type": "stream",
     "text": [
      "\r",
      "\u001b[2K     \u001b[91m━━━━━━━━━━━━━━━━\u001b[0m\u001b[91m╸\u001b[0m\u001b[90m━━━━━━━━━━━━━━━━━━━━━━━\u001b[0m \u001b[32m41.3/99.2 MB\u001b[0m \u001b[31m75.1 MB/s\u001b[0m eta \u001b[36m0:00:01\u001b[0m\r",
      "\u001b[2K     \u001b[91m━━━━━━━━━━━━━━━━━━\u001b[0m\u001b[90m╺\u001b[0m\u001b[90m━━━━━━━━━━━━━━━━━━━━\u001b[0m \u001b[32m46.8/99.2 MB\u001b[0m \u001b[31m158.3 MB/s\u001b[0m eta \u001b[36m0:00:01\u001b[0m"
     ]
    },
    {
     "name": "stdout",
     "output_type": "stream",
     "text": [
      "\r",
      "\u001b[2K     \u001b[91m━━━━━━━━━━━━━━━━━━━━\u001b[0m\u001b[91m╸\u001b[0m\u001b[90m━━━━━━━━━━━━━━━━━━\u001b[0m \u001b[32m52.5/99.2 MB\u001b[0m \u001b[31m163.1 MB/s\u001b[0m eta \u001b[36m0:00:01\u001b[0m"
     ]
    },
    {
     "name": "stdout",
     "output_type": "stream",
     "text": [
      "\r",
      "\u001b[2K     \u001b[91m━━━━━━━━━━━━━━━━━━━━━━\u001b[0m\u001b[91m╸\u001b[0m\u001b[90m━━━━━━━━━━━━━━━━\u001b[0m \u001b[32m58.3/99.2 MB\u001b[0m \u001b[31m167.2 MB/s\u001b[0m eta \u001b[36m0:00:01\u001b[0m\r",
      "\u001b[2K     \u001b[91m━━━━━━━━━━━━━━━━━━━━━━━━━\u001b[0m\u001b[90m╺\u001b[0m\u001b[90m━━━━━━━━━━━━━\u001b[0m \u001b[32m63.9/99.2 MB\u001b[0m \u001b[31m166.6 MB/s\u001b[0m eta \u001b[36m0:00:01\u001b[0m"
     ]
    },
    {
     "name": "stdout",
     "output_type": "stream",
     "text": [
      "\r",
      "\u001b[2K     \u001b[91m━━━━━━━━━━━━━━━━━━━━━━━━━━━\u001b[0m\u001b[90m╺\u001b[0m\u001b[90m━━━━━━━━━━━\u001b[0m \u001b[32m69.7/99.2 MB\u001b[0m \u001b[31m164.9 MB/s\u001b[0m eta \u001b[36m0:00:01\u001b[0m"
     ]
    },
    {
     "name": "stdout",
     "output_type": "stream",
     "text": [
      "\r",
      "\u001b[2K     \u001b[91m━━━━━━━━━━━━━━━━━━━━━━━━━━━━━\u001b[0m\u001b[91m╸\u001b[0m\u001b[90m━━━━━━━━━\u001b[0m \u001b[32m75.5/99.2 MB\u001b[0m \u001b[31m167.8 MB/s\u001b[0m eta \u001b[36m0:00:01\u001b[0m\r",
      "\u001b[2K     \u001b[91m━━━━━━━━━━━━━━━━━━━━━━━━━━━━━━━━\u001b[0m\u001b[90m╺\u001b[0m\u001b[90m━━━━━━\u001b[0m \u001b[32m81.4/99.2 MB\u001b[0m \u001b[31m169.3 MB/s\u001b[0m eta \u001b[36m0:00:01\u001b[0m"
     ]
    },
    {
     "name": "stdout",
     "output_type": "stream",
     "text": [
      "\r",
      "\u001b[2K     \u001b[91m━━━━━━━━━━━━━━━━━━━━━━━━━━━━━━━━━━\u001b[0m\u001b[90m╺\u001b[0m\u001b[90m━━━━\u001b[0m \u001b[32m87.3/99.2 MB\u001b[0m \u001b[31m170.7 MB/s\u001b[0m eta \u001b[36m0:00:01\u001b[0m"
     ]
    },
    {
     "name": "stdout",
     "output_type": "stream",
     "text": [
      "\r",
      "\u001b[2K     \u001b[91m━━━━━━━━━━━━━━━━━━━━━━━━━━━━━━━━━━━━\u001b[0m\u001b[91m╸\u001b[0m\u001b[90m━━\u001b[0m \u001b[32m93.1/99.2 MB\u001b[0m \u001b[31m169.9 MB/s\u001b[0m eta \u001b[36m0:00:01\u001b[0m"
     ]
    },
    {
     "name": "stdout",
     "output_type": "stream",
     "text": [
      "\r",
      "\u001b[2K     \u001b[91m━━━━━━━━━━━━━━━━━━━━━━━━━━━━━━━━━━━━━━\u001b[0m\u001b[91m╸\u001b[0m \u001b[32m99.2/99.2 MB\u001b[0m \u001b[31m174.7 MB/s\u001b[0m eta \u001b[36m0:00:01\u001b[0m"
     ]
    },
    {
     "name": "stdout",
     "output_type": "stream",
     "text": [
      "\r",
      "\u001b[2K     \u001b[91m━━━━━━━━━━━━━━━━━━━━━━━━━━━━━━━━━━━━━━\u001b[0m\u001b[91m╸\u001b[0m \u001b[32m99.2/99.2 MB\u001b[0m \u001b[31m174.7 MB/s\u001b[0m eta \u001b[36m0:00:01\u001b[0m\r",
      "\u001b[2K     \u001b[91m━━━━━━━━━━━━━━━━━━━━━━━━━━━━━━━━━━━━━━\u001b[0m\u001b[91m╸\u001b[0m \u001b[32m99.2/99.2 MB\u001b[0m \u001b[31m174.7 MB/s\u001b[0m eta \u001b[36m0:00:01\u001b[0m"
     ]
    },
    {
     "name": "stdout",
     "output_type": "stream",
     "text": [
      "\r",
      "\u001b[2K     \u001b[91m━━━━━━━━━━━━━━━━━━━━━━━━━━━━━━━━━━━━━━\u001b[0m\u001b[91m╸\u001b[0m \u001b[32m99.2/99.2 MB\u001b[0m \u001b[31m174.7 MB/s\u001b[0m eta \u001b[36m0:00:01\u001b[0m"
     ]
    },
    {
     "name": "stdout",
     "output_type": "stream",
     "text": [
      "\r",
      "\u001b[2K     \u001b[91m━━━━━━━━━━━━━━━━━━━━━━━━━━━━━━━━━━━━━━\u001b[0m\u001b[91m╸\u001b[0m \u001b[32m99.2/99.2 MB\u001b[0m \u001b[31m174.7 MB/s\u001b[0m eta \u001b[36m0:00:01\u001b[0m\r",
      "\u001b[2K     \u001b[91m━━━━━━━━━━━━━━━━━━━━━━━━━━━━━━━━━━━━━━\u001b[0m\u001b[91m╸\u001b[0m \u001b[32m99.2/99.2 MB\u001b[0m \u001b[31m174.7 MB/s\u001b[0m eta \u001b[36m0:00:01\u001b[0m"
     ]
    },
    {
     "name": "stdout",
     "output_type": "stream",
     "text": [
      "\r",
      "\u001b[2K     \u001b[91m━━━━━━━━━━━━━━━━━━━━━━━━━━━━━━━━━━━━━━\u001b[0m\u001b[91m╸\u001b[0m \u001b[32m99.2/99.2 MB\u001b[0m \u001b[31m174.7 MB/s\u001b[0m eta \u001b[36m0:00:01\u001b[0m"
     ]
    },
    {
     "name": "stdout",
     "output_type": "stream",
     "text": [
      "\r",
      "\u001b[2K     \u001b[91m━━━━━━━━━━━━━━━━━━━━━━━━━━━━━━━━━━━━━━\u001b[0m\u001b[91m╸\u001b[0m \u001b[32m99.2/99.2 MB\u001b[0m \u001b[31m174.7 MB/s\u001b[0m eta \u001b[36m0:00:01\u001b[0m\r",
      "\u001b[2K     \u001b[91m━━━━━━━━━━━━━━━━━━━━━━━━━━━━━━━━━━━━━━\u001b[0m\u001b[91m╸\u001b[0m \u001b[32m99.2/99.2 MB\u001b[0m \u001b[31m174.7 MB/s\u001b[0m eta \u001b[36m0:00:01\u001b[0m"
     ]
    },
    {
     "name": "stdout",
     "output_type": "stream",
     "text": [
      "\r",
      "\u001b[2K     \u001b[91m━━━━━━━━━━━━━━━━━━━━━━━━━━━━━━━━━━━━━━\u001b[0m\u001b[91m╸\u001b[0m \u001b[32m99.2/99.2 MB\u001b[0m \u001b[31m174.7 MB/s\u001b[0m eta \u001b[36m0:00:01\u001b[0m"
     ]
    },
    {
     "name": "stdout",
     "output_type": "stream",
     "text": [
      "\r",
      "\u001b[2K     \u001b[91m━━━━━━━━━━━━━━━━━━━━━━━━━━━━━━━━━━━━━━\u001b[0m\u001b[91m╸\u001b[0m \u001b[32m99.2/99.2 MB\u001b[0m \u001b[31m174.7 MB/s\u001b[0m eta \u001b[36m0:00:01\u001b[0m\r",
      "\u001b[2K     \u001b[91m━━━━━━━━━━━━━━━━━━━━━━━━━━━━━━━━━━━━━━\u001b[0m\u001b[91m╸\u001b[0m \u001b[32m99.2/99.2 MB\u001b[0m \u001b[31m174.7 MB/s\u001b[0m eta \u001b[36m0:00:01\u001b[0m"
     ]
    },
    {
     "name": "stdout",
     "output_type": "stream",
     "text": [
      "\r",
      "\u001b[2K     \u001b[91m━━━━━━━━━━━━━━━━━━━━━━━━━━━━━━━━━━━━━━\u001b[0m\u001b[91m╸\u001b[0m \u001b[32m99.2/99.2 MB\u001b[0m \u001b[31m174.7 MB/s\u001b[0m eta \u001b[36m0:00:01\u001b[0m"
     ]
    },
    {
     "name": "stdout",
     "output_type": "stream",
     "text": [
      "\r",
      "\u001b[2K     \u001b[91m━━━━━━━━━━━━━━━━━━━━━━━━━━━━━━━━━━━━━━\u001b[0m\u001b[91m╸\u001b[0m \u001b[32m99.2/99.2 MB\u001b[0m \u001b[31m174.7 MB/s\u001b[0m eta \u001b[36m0:00:01\u001b[0m"
     ]
    },
    {
     "name": "stdout",
     "output_type": "stream",
     "text": [
      "\r",
      "\u001b[2K     \u001b[91m━━━━━━━━━━━━━━━━━━━━━━━━━━━━━━━━━━━━━━\u001b[0m\u001b[91m╸\u001b[0m \u001b[32m99.2/99.2 MB\u001b[0m \u001b[31m174.7 MB/s\u001b[0m eta \u001b[36m0:00:01\u001b[0m\r",
      "\u001b[2K     \u001b[91m━━━━━━━━━━━━━━━━━━━━━━━━━━━━━━━━━━━━━━\u001b[0m\u001b[91m╸\u001b[0m \u001b[32m99.2/99.2 MB\u001b[0m \u001b[31m174.7 MB/s\u001b[0m eta \u001b[36m0:00:01\u001b[0m"
     ]
    },
    {
     "name": "stdout",
     "output_type": "stream",
     "text": [
      "\r",
      "\u001b[2K     \u001b[91m━━━━━━━━━━━━━━━━━━━━━━━━━━━━━━━━━━━━━━\u001b[0m\u001b[91m╸\u001b[0m \u001b[32m99.2/99.2 MB\u001b[0m \u001b[31m174.7 MB/s\u001b[0m eta \u001b[36m0:00:01\u001b[0m"
     ]
    },
    {
     "name": "stdout",
     "output_type": "stream",
     "text": [
      "\r",
      "\u001b[2K     \u001b[91m━━━━━━━━━━━━━━━━━━━━━━━━━━━━━━━━━━━━━━\u001b[0m\u001b[91m╸\u001b[0m \u001b[32m99.2/99.2 MB\u001b[0m \u001b[31m174.7 MB/s\u001b[0m eta \u001b[36m0:00:01\u001b[0m\r",
      "\u001b[2K     \u001b[91m━━━━━━━━━━━━━━━━━━━━━━━━━━━━━━━━━━━━━━\u001b[0m\u001b[91m╸\u001b[0m \u001b[32m99.2/99.2 MB\u001b[0m \u001b[31m174.7 MB/s\u001b[0m eta \u001b[36m0:00:01\u001b[0m"
     ]
    },
    {
     "name": "stdout",
     "output_type": "stream",
     "text": [
      "\r",
      "\u001b[2K     \u001b[91m━━━━━━━━━━━━━━━━━━━━━━━━━━━━━━━━━━━━━━\u001b[0m\u001b[91m╸\u001b[0m \u001b[32m99.2/99.2 MB\u001b[0m \u001b[31m174.7 MB/s\u001b[0m eta \u001b[36m0:00:01\u001b[0m"
     ]
    },
    {
     "name": "stdout",
     "output_type": "stream",
     "text": [
      "\r",
      "\u001b[2K     \u001b[91m━━━━━━━━━━━━━━━━━━━━━━━━━━━━━━━━━━━━━━\u001b[0m\u001b[91m╸\u001b[0m \u001b[32m99.2/99.2 MB\u001b[0m \u001b[31m174.7 MB/s\u001b[0m eta \u001b[36m0:00:01\u001b[0m\r",
      "\u001b[2K     \u001b[91m━━━━━━━━━━━━━━━━━━━━━━━━━━━━━━━━━━━━━━\u001b[0m\u001b[91m╸\u001b[0m \u001b[32m99.2/99.2 MB\u001b[0m \u001b[31m174.7 MB/s\u001b[0m eta \u001b[36m0:00:01\u001b[0m"
     ]
    },
    {
     "name": "stdout",
     "output_type": "stream",
     "text": [
      "\r",
      "\u001b[2K     \u001b[91m━━━━━━━━━━━━━━━━━━━━━━━━━━━━━━━━━━━━━━\u001b[0m\u001b[91m╸\u001b[0m \u001b[32m99.2/99.2 MB\u001b[0m \u001b[31m174.7 MB/s\u001b[0m eta \u001b[36m0:00:01\u001b[0m"
     ]
    },
    {
     "name": "stdout",
     "output_type": "stream",
     "text": [
      "\r",
      "\u001b[2K     \u001b[91m━━━━━━━━━━━━━━━━━━━━━━━━━━━━━━━━━━━━━━\u001b[0m\u001b[91m╸\u001b[0m \u001b[32m99.2/99.2 MB\u001b[0m \u001b[31m174.7 MB/s\u001b[0m eta \u001b[36m0:00:01\u001b[0m\r",
      "\u001b[2K     \u001b[91m━━━━━━━━━━━━━━━━━━━━━━━━━━━━━━━━━━━━━━\u001b[0m\u001b[91m╸\u001b[0m \u001b[32m99.2/99.2 MB\u001b[0m \u001b[31m174.7 MB/s\u001b[0m eta \u001b[36m0:00:01\u001b[0m"
     ]
    },
    {
     "name": "stdout",
     "output_type": "stream",
     "text": [
      "\r",
      "\u001b[2K     \u001b[91m━━━━━━━━━━━━━━━━━━━━━━━━━━━━━━━━━━━━━━\u001b[0m\u001b[91m╸\u001b[0m \u001b[32m99.2/99.2 MB\u001b[0m \u001b[31m174.7 MB/s\u001b[0m eta \u001b[36m0:00:01\u001b[0m"
     ]
    },
    {
     "name": "stdout",
     "output_type": "stream",
     "text": [
      "\r",
      "\u001b[2K     \u001b[91m━━━━━━━━━━━━━━━━━━━━━━━━━━━━━━━━━━━━━━\u001b[0m\u001b[91m╸\u001b[0m \u001b[32m99.2/99.2 MB\u001b[0m \u001b[31m174.7 MB/s\u001b[0m eta \u001b[36m0:00:01\u001b[0m\r",
      "\u001b[2K     \u001b[91m━━━━━━━━━━━━━━━━━━━━━━━━━━━━━━━━━━━━━━\u001b[0m\u001b[91m╸\u001b[0m \u001b[32m99.2/99.2 MB\u001b[0m \u001b[31m174.7 MB/s\u001b[0m eta \u001b[36m0:00:01\u001b[0m"
     ]
    },
    {
     "name": "stdout",
     "output_type": "stream",
     "text": [
      "\r",
      "\u001b[2K     \u001b[91m━━━━━━━━━━━━━━━━━━━━━━━━━━━━━━━━━━━━━━\u001b[0m\u001b[91m╸\u001b[0m \u001b[32m99.2/99.2 MB\u001b[0m \u001b[31m174.7 MB/s\u001b[0m eta \u001b[36m0:00:01\u001b[0m"
     ]
    },
    {
     "name": "stdout",
     "output_type": "stream",
     "text": [
      "\r",
      "\u001b[2K     \u001b[91m━━━━━━━━━━━━━━━━━━━━━━━━━━━━━━━━━━━━━━\u001b[0m\u001b[91m╸\u001b[0m \u001b[32m99.2/99.2 MB\u001b[0m \u001b[31m174.7 MB/s\u001b[0m eta \u001b[36m0:00:01\u001b[0m\r",
      "\u001b[2K     \u001b[91m━━━━━━━━━━━━━━━━━━━━━━━━━━━━━━━━━━━━━━\u001b[0m\u001b[91m╸\u001b[0m \u001b[32m99.2/99.2 MB\u001b[0m \u001b[31m174.7 MB/s\u001b[0m eta \u001b[36m0:00:01\u001b[0m"
     ]
    },
    {
     "name": "stdout",
     "output_type": "stream",
     "text": [
      "\r",
      "\u001b[2K     \u001b[91m━━━━━━━━━━━━━━━━━━━━━━━━━━━━━━━━━━━━━━\u001b[0m\u001b[91m╸\u001b[0m \u001b[32m99.2/99.2 MB\u001b[0m \u001b[31m174.7 MB/s\u001b[0m eta \u001b[36m0:00:01\u001b[0m"
     ]
    },
    {
     "name": "stdout",
     "output_type": "stream",
     "text": [
      "\r",
      "\u001b[2K     \u001b[91m━━━━━━━━━━━━━━━━━━━━━━━━━━━━━━━━━━━━━━\u001b[0m\u001b[91m╸\u001b[0m \u001b[32m99.2/99.2 MB\u001b[0m \u001b[31m174.7 MB/s\u001b[0m eta \u001b[36m0:00:01\u001b[0m\r",
      "\u001b[2K     \u001b[91m━━━━━━━━━━━━━━━━━━━━━━━━━━━━━━━━━━━━━━\u001b[0m\u001b[91m╸\u001b[0m \u001b[32m99.2/99.2 MB\u001b[0m \u001b[31m174.7 MB/s\u001b[0m eta \u001b[36m0:00:01\u001b[0m"
     ]
    },
    {
     "name": "stdout",
     "output_type": "stream",
     "text": [
      "\r",
      "\u001b[2K     \u001b[90m━━━━━━━━━━━━━━━━━━━━━━━━━━━━━━━━━━━━━━━━\u001b[0m \u001b[32m99.2/99.2 MB\u001b[0m \u001b[31m7.8 MB/s\u001b[0m eta \u001b[36m0:00:00\u001b[0m\r\n",
      "\u001b[?25h"
     ]
    },
    {
     "name": "stdout",
     "output_type": "stream",
     "text": [
      "Collecting plotly\r\n",
      "  Downloading plotly-6.3.0-py3-none-any.whl (9.8 MB)\r\n",
      "\u001b[?25l     \u001b[90m━━━━━━━━━━━━━━━━━━━━━━━━━━━━━━━━━━━━━━━━\u001b[0m \u001b[32m0.0/9.8 MB\u001b[0m \u001b[31m?\u001b[0m eta \u001b[36m-:--:--\u001b[0m"
     ]
    },
    {
     "name": "stdout",
     "output_type": "stream",
     "text": [
      "\r",
      "\u001b[2K     \u001b[91m━━━━━━━━━━━━━━━━━━━━━━━\u001b[0m\u001b[91m╸\u001b[0m\u001b[90m━━━━━━━━━━━━━━━━\u001b[0m \u001b[32m5.8/9.8 MB\u001b[0m \u001b[31m173.0 MB/s\u001b[0m eta \u001b[36m0:00:01\u001b[0m"
     ]
    },
    {
     "name": "stdout",
     "output_type": "stream",
     "text": [
      "\r",
      "\u001b[2K     \u001b[91m━━━━━━━━━━━━━━━━━━━━━━━━━━━━━━━━━━━━━━━\u001b[0m\u001b[91m╸\u001b[0m \u001b[32m9.8/9.8 MB\u001b[0m \u001b[31m174.1 MB/s\u001b[0m eta \u001b[36m0:00:01\u001b[0m\r",
      "\u001b[2K     \u001b[91m━━━━━━━━━━━━━━━━━━━━━━━━━━━━━━━━━━━━━━━\u001b[0m\u001b[91m╸\u001b[0m \u001b[32m9.8/9.8 MB\u001b[0m \u001b[31m174.1 MB/s\u001b[0m eta \u001b[36m0:00:01\u001b[0m"
     ]
    },
    {
     "name": "stdout",
     "output_type": "stream",
     "text": [
      "\r",
      "\u001b[2K     \u001b[90m━━━━━━━━━━━━━━━━━━━━━━━━━━━━━━━━━━━━━━━━\u001b[0m \u001b[32m9.8/9.8 MB\u001b[0m \u001b[31m81.3 MB/s\u001b[0m eta \u001b[36m0:00:00\u001b[0m\r\n",
      "\u001b[?25hRequirement already satisfied: matplotlib in /usr/local/lib/python3.10/site-packages (from catboost) (3.10.3)\r\n",
      "Requirement already satisfied: numpy<3.0,>=1.16.0 in /usr/local/lib/python3.10/site-packages (from catboost) (2.0.2)\r\n"
     ]
    },
    {
     "name": "stdout",
     "output_type": "stream",
     "text": [
      "Collecting graphviz\r\n"
     ]
    },
    {
     "name": "stdout",
     "output_type": "stream",
     "text": [
      "  Downloading graphviz-0.21-py3-none-any.whl (47 kB)\r\n",
      "\u001b[?25l     \u001b[90m━━━━━━━━━━━━━━━━━━━━━━━━━━━━━━━━━━━━━━━━\u001b[0m \u001b[32m0.0/47.3 kB\u001b[0m \u001b[31m?\u001b[0m eta \u001b[36m-:--:--\u001b[0m\r",
      "\u001b[2K     \u001b[90m━━━━━━━━━━━━━━━━━━━━━━━━━━━━━━━━━━━━━━━━\u001b[0m \u001b[32m47.3/47.3 kB\u001b[0m \u001b[31m4.0 MB/s\u001b[0m eta \u001b[36m0:00:00\u001b[0m\r\n",
      "\u001b[?25hRequirement already satisfied: six in /usr/local/lib/python3.10/site-packages (from catboost) (1.17.0)\r\n",
      "Requirement already satisfied: pandas>=0.24 in /usr/local/lib/python3.10/site-packages (from catboost) (2.3.0)\r\n",
      "Requirement already satisfied: scipy in /usr/local/lib/python3.10/site-packages (from catboost) (1.15.3)\r\n"
     ]
    },
    {
     "name": "stdout",
     "output_type": "stream",
     "text": [
      "Requirement already satisfied: pytz>=2020.1 in /usr/local/lib/python3.10/site-packages (from pandas>=0.24->catboost) (2025.2)\r\n",
      "Requirement already satisfied: python-dateutil>=2.8.2 in /usr/local/lib/python3.10/site-packages (from pandas>=0.24->catboost) (2.9.0.post0)\r\n",
      "Requirement already satisfied: tzdata>=2022.7 in /usr/local/lib/python3.10/site-packages (from pandas>=0.24->catboost) (2025.2)\r\n",
      "Requirement already satisfied: kiwisolver>=1.3.1 in /usr/local/lib/python3.10/site-packages (from matplotlib->catboost) (1.4.8)\r\n",
      "Requirement already satisfied: packaging>=20.0 in /usr/local/lib/python3.10/site-packages (from matplotlib->catboost) (25.0)\r\n",
      "Requirement already satisfied: pillow>=8 in /usr/local/lib/python3.10/site-packages (from matplotlib->catboost) (11.3.0)\r\n",
      "Requirement already satisfied: cycler>=0.10 in /usr/local/lib/python3.10/site-packages (from matplotlib->catboost) (0.12.1)\r\n",
      "Requirement already satisfied: contourpy>=1.0.1 in /usr/local/lib/python3.10/site-packages (from matplotlib->catboost) (1.3.2)\r\n",
      "Requirement already satisfied: fonttools>=4.22.0 in /usr/local/lib/python3.10/site-packages (from matplotlib->catboost) (4.58.4)\r\n",
      "Requirement already satisfied: pyparsing>=2.3.1 in /usr/local/lib/python3.10/site-packages (from matplotlib->catboost) (3.2.3)\r\n"
     ]
    },
    {
     "name": "stdout",
     "output_type": "stream",
     "text": [
      "Collecting narwhals>=1.15.1\r\n",
      "  Downloading narwhals-2.1.1-py3-none-any.whl (389 kB)\r\n",
      "\u001b[?25l     \u001b[90m━━━━━━━━━━━━━━━━━━━━━━━━━━━━━━━━━━━━━━━━\u001b[0m \u001b[32m0.0/389.5 kB\u001b[0m \u001b[31m?\u001b[0m eta \u001b[36m-:--:--\u001b[0m"
     ]
    },
    {
     "name": "stdout",
     "output_type": "stream",
     "text": [
      "\r",
      "\u001b[2K     \u001b[90m━━━━━━━━━━━━━━━━━━━━━━━━━━━━━━━━━━━━━━\u001b[0m \u001b[32m389.5/389.5 kB\u001b[0m \u001b[31m27.5 MB/s\u001b[0m eta \u001b[36m0:00:00\u001b[0m\r\n",
      "\u001b[?25h"
     ]
    },
    {
     "name": "stdout",
     "output_type": "stream",
     "text": [
      "Installing collected packages: narwhals, graphviz, plotly, catboost\r\n"
     ]
    },
    {
     "name": "stdout",
     "output_type": "stream",
     "text": [
      "Successfully installed catboost-1.2.8 graphviz-0.21 narwhals-2.1.1 plotly-6.3.0\r\n",
      "\u001b[33mWARNING: Running pip as the 'root' user can result in broken permissions and conflicting behaviour with the system package manager. It is recommended to use a virtual environment instead: https://pip.pypa.io/warnings/venv\u001b[0m\u001b[33m\r\n",
      "\u001b[0m\r\n",
      "\u001b[1m[\u001b[0m\u001b[34;49mnotice\u001b[0m\u001b[1;39;49m]\u001b[0m\u001b[39;49m A new release of pip is available: \u001b[0m\u001b[31;49m23.0.1\u001b[0m\u001b[39;49m -> \u001b[0m\u001b[32;49m25.2\u001b[0m\r\n",
      "\u001b[1m[\u001b[0m\u001b[34;49mnotice\u001b[0m\u001b[1;39;49m]\u001b[0m\u001b[39;49m To update, run: \u001b[0m\u001b[32;49mpip install --upgrade pip\u001b[0m\r\n"
     ]
    },
    {
     "name": "stdout",
     "output_type": "stream",
     "text": [
      "Collecting lightgbm\r\n"
     ]
    },
    {
     "name": "stdout",
     "output_type": "stream",
     "text": [
      "  Downloading lightgbm-4.6.0-py3-none-manylinux_2_28_x86_64.whl (3.6 MB)\r\n",
      "\u001b[?25l     \u001b[90m━━━━━━━━━━━━━━━━━━━━━━━━━━━━━━━━━━━━━━━━\u001b[0m \u001b[32m0.0/3.6 MB\u001b[0m \u001b[31m?\u001b[0m eta \u001b[36m-:--:--\u001b[0m"
     ]
    },
    {
     "name": "stdout",
     "output_type": "stream",
     "text": [
      "\r",
      "\u001b[2K     \u001b[91m━━━━━\u001b[0m\u001b[90m╺\u001b[0m\u001b[90m━━━━━━━━━━━━━━━━━━━━━━━━━━━━━━━━━━\u001b[0m \u001b[32m0.5/3.6 MB\u001b[0m \u001b[31m15.1 MB/s\u001b[0m eta \u001b[36m0:00:01\u001b[0m"
     ]
    },
    {
     "name": "stdout",
     "output_type": "stream",
     "text": [
      "\r",
      "\u001b[2K     \u001b[91m━━━━━━━━━━━━━━━━\u001b[0m\u001b[91m╸\u001b[0m\u001b[90m━━━━━━━━━━━━━━━━━━━━━━━\u001b[0m \u001b[32m1.5/3.6 MB\u001b[0m \u001b[31m21.9 MB/s\u001b[0m eta \u001b[36m0:00:01\u001b[0m\r",
      "\u001b[2K     \u001b[91m━━━━━━━━━━━━━━━━━━━━━━━━━━━━━━━\u001b[0m\u001b[90m╺\u001b[0m\u001b[90m━━━━━━━━\u001b[0m \u001b[32m2.8/3.6 MB\u001b[0m \u001b[31m27.2 MB/s\u001b[0m eta \u001b[36m0:00:01\u001b[0m"
     ]
    },
    {
     "name": "stdout",
     "output_type": "stream",
     "text": [
      "\r",
      "\u001b[2K     \u001b[91m━━━━━━━━━━━━━━━━━━━━━━━━━━━━━━━━━━━━━━━\u001b[0m\u001b[91m╸\u001b[0m \u001b[32m3.6/3.6 MB\u001b[0m \u001b[31m29.5 MB/s\u001b[0m eta \u001b[36m0:00:01\u001b[0m\r",
      "\u001b[2K     \u001b[90m━━━━━━━━━━━━━━━━━━━━━━━━━━━━━━━━━━━━━━━━\u001b[0m \u001b[32m3.6/3.6 MB\u001b[0m \u001b[31m23.8 MB/s\u001b[0m eta \u001b[36m0:00:00\u001b[0m\r\n",
      "\u001b[?25h"
     ]
    },
    {
     "name": "stdout",
     "output_type": "stream",
     "text": [
      "Requirement already satisfied: scipy in /usr/local/lib/python3.10/site-packages (from lightgbm) (1.15.3)\r\n",
      "Requirement already satisfied: numpy>=1.17.0 in /usr/local/lib/python3.10/site-packages (from lightgbm) (2.0.2)\r\n"
     ]
    },
    {
     "name": "stdout",
     "output_type": "stream",
     "text": [
      "Installing collected packages: lightgbm\r\n"
     ]
    },
    {
     "name": "stdout",
     "output_type": "stream",
     "text": [
      "Successfully installed lightgbm-4.6.0\r\n",
      "\u001b[33mWARNING: Running pip as the 'root' user can result in broken permissions and conflicting behaviour with the system package manager. It is recommended to use a virtual environment instead: https://pip.pypa.io/warnings/venv\u001b[0m\u001b[33m\r\n",
      "\u001b[0m\r\n",
      "\u001b[1m[\u001b[0m\u001b[34;49mnotice\u001b[0m\u001b[1;39;49m]\u001b[0m\u001b[39;49m A new release of pip is available: \u001b[0m\u001b[31;49m23.0.1\u001b[0m\u001b[39;49m -> \u001b[0m\u001b[32;49m25.2\u001b[0m\r\n",
      "\u001b[1m[\u001b[0m\u001b[34;49mnotice\u001b[0m\u001b[1;39;49m]\u001b[0m\u001b[39;49m To update, run: \u001b[0m\u001b[32;49mpip install --upgrade pip\u001b[0m\r\n"
     ]
    }
   ],
   "source": [
    "!pip install -U xgboost\n",
    "!pip install -U polars\n",
    "!pip install -U optuna\n",
    "!pip install -U catboost\n",
    "!pip install -U lightgbm"
   ]
  },
  {
   "cell_type": "code",
   "execution_count": 2,
   "id": "9f9e2559",
   "metadata": {
    "_cell_guid": "b1076dfc-b9ad-4769-8c92-a6c4dae69d19",
    "_uuid": "8f2839f25d086af736a60e9eeb907d3b93b6e0e5",
    "execution": {
     "iopub.execute_input": "2025-08-14T16:27:41.250256Z",
     "iopub.status.busy": "2025-08-14T16:27:41.249943Z",
     "iopub.status.idle": "2025-08-14T16:27:43.039546Z",
     "shell.execute_reply": "2025-08-14T16:27:43.034271Z"
    },
    "papermill": {
     "duration": 1.809652,
     "end_time": "2025-08-14T16:27:43.041999",
     "exception": false,
     "start_time": "2025-08-14T16:27:41.232347",
     "status": "completed"
    },
    "tags": []
   },
   "outputs": [
    {
     "name": "stdout",
     "output_type": "stream",
     "text": [
      "/kaggle/input/aeroclub-recsys-2025/jsons_raw.tar.kaggle\n",
      "/kaggle/input/aeroclub-recsys-2025/train.parquet\n",
      "/kaggle/input/aeroclub-recsys-2025/sample_submission.parquet\n",
      "/kaggle/input/aeroclub-recsys-2025/jsons_structure.md\n",
      "/kaggle/input/aeroclub-recsys-2025/test.parquet\n"
     ]
    }
   ],
   "source": [
    "# This Python 3 environment comes with many helpful analytics libraries installed\n",
    "# It is defined by the kaggle/python Docker image: https://github.com/kaggle/docker-python\n",
    "# For example, here's several helpful packages to load\n",
    "\n",
    "import numpy as np # linear algebra\n",
    "import pandas as pd # data processing, CSV file I/O (e.g. pd.read_csv)\n",
    "\n",
    "# Input data files are available in the read-only \"../input/\" directory\n",
    "# For example, running this (by clicking run or pressing Shift+Enter) will list all files under the input directory\n",
    "\n",
    "import os\n",
    "for dirname, _, filenames in os.walk('/kaggle/input'):\n",
    "    for filename in filenames:\n",
    "        print(os.path.join(dirname, filename))\n",
    "\n",
    "# You can write up to 20GB to the current directory (/kaggle/working/) that gets preserved as output when you create a version using \"Save & Run All\" \n",
    "# You can also write temporary files to /kaggle/temp/, but they won't be saved outside of the current session"
   ]
  },
  {
   "cell_type": "code",
   "execution_count": null,
   "id": "953cd36e",
   "metadata": {
    "papermill": {
     "duration": 0.012806,
     "end_time": "2025-08-14T16:27:43.067959",
     "exception": false,
     "start_time": "2025-08-14T16:27:43.055153",
     "status": "completed"
    },
    "tags": []
   },
   "outputs": [],
   "source": []
  },
  {
   "cell_type": "code",
   "execution_count": 3,
   "id": "f41b6350",
   "metadata": {
    "execution": {
     "iopub.execute_input": "2025-08-14T16:27:43.097075Z",
     "iopub.status.busy": "2025-08-14T16:27:43.096774Z",
     "iopub.status.idle": "2025-08-14T16:27:51.427042Z",
     "shell.execute_reply": "2025-08-14T16:27:51.422841Z"
    },
    "papermill": {
     "duration": 8.348476,
     "end_time": "2025-08-14T16:27:51.429540",
     "exception": false,
     "start_time": "2025-08-14T16:27:43.081064",
     "status": "completed"
    },
    "tags": []
   },
   "outputs": [
    {
     "name": "stderr",
     "output_type": "stream",
     "text": [
      "/usr/local/lib/python3.10/site-packages/tqdm/auto.py:21: TqdmWarning: IProgress not found. Please update jupyter and ipywidgets. See https://ipywidgets.readthedocs.io/en/stable/user_install.html\n",
      "  from .autonotebook import tqdm as notebook_tqdm\n"
     ]
    }
   ],
   "source": [
    "import polars as pl\n",
    "import numpy as np\n",
    "import matplotlib.pyplot as plt\n",
    "import time\n",
    "import xgboost as xgb\n",
    "import catboost\n",
    "import lightgbm as lgb\n",
    "import optuna\n",
    "from sklearn.model_selection import GroupKFold\n",
    "from sklearn.metrics import ndcg_score\n",
    "\n",
    "RANDOM_STATE = 42\n",
    "np.random.seed(RANDOM_STATE)"
   ]
  },
  {
   "cell_type": "code",
   "execution_count": 4,
   "id": "cfa36fa9",
   "metadata": {
    "execution": {
     "iopub.execute_input": "2025-08-14T16:27:51.458914Z",
     "iopub.status.busy": "2025-08-14T16:27:51.458596Z",
     "iopub.status.idle": "2025-08-14T16:27:55.725758Z",
     "shell.execute_reply": "2025-08-14T16:27:55.720477Z"
    },
    "papermill": {
     "duration": 4.285236,
     "end_time": "2025-08-14T16:27:55.728191",
     "exception": false,
     "start_time": "2025-08-14T16:27:51.442955",
     "status": "completed"
    },
    "tags": []
   },
   "outputs": [],
   "source": [
    "# Load data\n",
    "train = pl.read_parquet('/kaggle/input/aeroclub-recsys-2025/train.parquet').drop('__index_level_0__')\n",
    "test = pl.read_parquet('/kaggle/input/aeroclub-recsys-2025/test.parquet').drop('__index_level_0__').with_columns(pl.lit(0, dtype=pl.Int64).alias(\"selected\"))\n",
    "\n",
    "data_raw = pl.concat((train, test))"
   ]
  },
  {
   "cell_type": "code",
   "execution_count": 5,
   "id": "a1028213",
   "metadata": {
    "execution": {
     "iopub.execute_input": "2025-08-14T16:27:55.758311Z",
     "iopub.status.busy": "2025-08-14T16:27:55.758070Z",
     "iopub.status.idle": "2025-08-14T16:27:55.927779Z",
     "shell.execute_reply": "2025-08-14T16:27:55.922129Z"
    },
    "papermill": {
     "duration": 0.188371,
     "end_time": "2025-08-14T16:27:55.930465",
     "exception": false,
     "start_time": "2025-08-14T16:27:55.742094",
     "status": "completed"
    },
    "tags": []
   },
   "outputs": [
    {
     "name": "stderr",
     "output_type": "stream",
     "text": [
      "/tmp/ipykernel_74/1324459448.py:5: DeprecationWarning: `pl.count()` is deprecated. Please use `pl.len()` instead.\n",
      "(Deprecated in version 0.20.5)\n",
      "  .agg(pl.count().alias(\"count\"))\n"
     ]
    },
    {
     "data": {
      "text/plain": [
       "['SVO', 'IST', 'OVB', 'SVX', 'DME', 'DXB', 'LED', 'AER', 'PEK', 'IKT']"
      ]
     },
     "execution_count": 5,
     "metadata": {},
     "output_type": "execute_result"
    }
   ],
   "source": [
    "top_hubs = (\n",
    "    train.select(\"legs0_segments1_departureFrom_airport_iata\")\n",
    "         .drop_nulls()\n",
    "         .group_by(\"legs0_segments1_departureFrom_airport_iata\")\n",
    "         .agg(pl.count().alias(\"count\"))\n",
    "         .sort(\"count\", descending=True)\n",
    "         .head(10)\n",
    ")\n",
    "\n",
    "hub_airports = top_hubs[\"legs0_segments1_departureFrom_airport_iata\"].to_list()\n",
    "hub_airports"
   ]
  },
  {
   "cell_type": "code",
   "execution_count": 6,
   "id": "2505ae1c",
   "metadata": {
    "execution": {
     "iopub.execute_input": "2025-08-14T16:27:55.961675Z",
     "iopub.status.busy": "2025-08-14T16:27:55.961422Z",
     "iopub.status.idle": "2025-08-14T16:27:55.971758Z",
     "shell.execute_reply": "2025-08-14T16:27:55.967370Z"
    },
    "papermill": {
     "duration": 0.029961,
     "end_time": "2025-08-14T16:27:55.974246",
     "exception": false,
     "start_time": "2025-08-14T16:27:55.944285",
     "status": "completed"
    },
    "tags": []
   },
   "outputs": [],
   "source": [
    "def hitrate_at_3(y_true, y_pred, groups):\n",
    "    df = pl.DataFrame({\n",
    "        'group': groups,\n",
    "        'pred': y_pred,\n",
    "        'true': y_true\n",
    "    })\n",
    "    \n",
    "    return (\n",
    "        df.filter(pl.col(\"group\").count().over(\"group\") > 10)\n",
    "        .sort([\"group\", \"pred\"], descending=[False, True])\n",
    "        .group_by(\"group\", maintain_order=True)\n",
    "        .head(3)\n",
    "        .group_by(\"group\")\n",
    "        .agg(pl.col(\"true\").max())\n",
    "        .select(pl.col(\"true\").mean())\n",
    "        .item()\n",
    "    )"
   ]
  },
  {
   "cell_type": "code",
   "execution_count": 7,
   "id": "94b9fdad",
   "metadata": {
    "execution": {
     "iopub.execute_input": "2025-08-14T16:27:56.003887Z",
     "iopub.status.busy": "2025-08-14T16:27:56.003639Z",
     "iopub.status.idle": "2025-08-14T16:29:03.508694Z",
     "shell.execute_reply": "2025-08-14T16:29:03.503866Z"
    },
    "papermill": {
     "duration": 67.526851,
     "end_time": "2025-08-14T16:29:03.514056",
     "exception": false,
     "start_time": "2025-08-14T16:27:55.987205",
     "status": "completed"
    },
    "tags": []
   },
   "outputs": [],
   "source": [
    "df = data_raw.clone()\n",
    "\n",
    "# More efficient duration to minutes converter\n",
    "def dur_to_min(col):\n",
    "    # Extract days and time parts in one pass\n",
    "    days = col.str.extract(r\"^(\\d+)\\.\", 1).cast(pl.Int64).fill_null(0) * 1440\n",
    "    time_str = pl.when(col.str.contains(r\"^\\d+\\.\")).then(col.str.replace(r\"^\\d+\\.\", \"\")).otherwise(col)\n",
    "    hours = time_str.str.extract(r\"^(\\d+):\", 1).cast(pl.Int64).fill_null(0) * 60\n",
    "    minutes = time_str.str.extract(r\":(\\d+):\", 1).cast(pl.Int64).fill_null(0)\n",
    "    return (days + hours + minutes).fill_null(0)\n",
    "\n",
    "# Process duration columns\n",
    "dur_cols = [\"legs0_duration\", \"legs1_duration\"] + [f\"legs{l}_segments{s}_duration\" for l in (0, 1) for s in (0, 1)]\n",
    "dur_exprs = [dur_to_min(pl.col(c)).alias(c) for c in dur_cols if c in df.columns]\n",
    "\n",
    "# Apply duration transformations first\n",
    "if dur_exprs:\n",
    "    df = df.with_columns(dur_exprs)\n",
    "\n",
    "# Precompute marketing carrier columns check\n",
    "mc_cols = [f'legs{l}_segments{s}_marketingCarrier_code' for l in (0, 1) for s in range(4)]\n",
    "mc_exists = [col for col in mc_cols if col in df.columns]\n",
    "\n",
    "# Combine all initial transformations\n",
    "df = df.with_columns([\n",
    "        # Price features\n",
    "        (pl.col(\"totalPrice\") / (pl.col(\"taxes\") + 1)).alias(\"price_per_tax\"),\n",
    "        (pl.col(\"taxes\") / (pl.col(\"totalPrice\") + 1)).alias(\"tax_rate\"),\n",
    "        pl.col(\"totalPrice\").log1p().alias(\"log_price\"),\n",
    "        \n",
    "        # Duration features\n",
    "        (pl.col(\"legs0_duration\").fill_null(0) + pl.col(\"legs1_duration\").fill_null(0)).alias(\"total_duration\"),\n",
    "        pl.when(pl.col(\"legs1_duration\").fill_null(0) > 0)\n",
    "            .then(pl.col(\"legs0_duration\") / (pl.col(\"legs1_duration\") + 1))\n",
    "            .otherwise(1.0).alias(\"duration_ratio\"),\n",
    "        \n",
    "        # Trip type\n",
    "        (pl.col(\"legs1_duration\").is_null() | \n",
    "         (pl.col(\"legs1_duration\") == 0) | \n",
    "         pl.col(\"legs1_segments0_departureFrom_airport_iata\").is_null()).cast(pl.Int32).alias(\"is_one_way\"),\n",
    "        \n",
    "        # Total segments count\n",
    "        (pl.sum_horizontal(pl.col(col).is_not_null().cast(pl.UInt8) for col in mc_exists) \n",
    "         if mc_exists else pl.lit(0)).alias(\"l0_seg\"),\n",
    "        \n",
    "        # FF features\n",
    "        (pl.col(\"frequentFlyer\").fill_null(\"\").str.count_matches(\"/\") + \n",
    "         (pl.col(\"frequentFlyer\").fill_null(\"\") != \"\").cast(pl.Int32)).alias(\"n_ff_programs\"),\n",
    "        \n",
    "        # Binary features\n",
    "        pl.col(\"corporateTariffCode\").is_not_null().cast(pl.Int32).alias(\"has_corporate_tariff\"),\n",
    "        (pl.col(\"pricingInfo_isAccessTP\") == 1).cast(pl.Int32).alias(\"has_access_tp\"),\n",
    "        \n",
    "        # Baggage & fees\n",
    "        # (pl.col(\"legs0_segments0_baggageAllowance_quantity\").fill_null(0) + \n",
    "        #  pl.col(\"legs1_segments0_baggageAllowance_quantity\").fill_null(0)).alias(\"baggage_total\"),\n",
    "        # (pl.col(\"miniRules0_monetaryAmount\").fill_null(0) + \n",
    "        #  pl.col(\"miniRules1_monetaryAmount\").fill_null(0)).alias(\"total_fees\"),\n",
    "\n",
    "        (\n",
    "            (pl.col(\"miniRules0_monetaryAmount\") == 0)\n",
    "            & (pl.col(\"miniRules0_statusInfos\") == 1)\n",
    "        )\n",
    "        .cast(pl.Int8)\n",
    "        .alias(\"free_cancel\"),\n",
    "        (\n",
    "            (pl.col(\"miniRules1_monetaryAmount\") == 0)\n",
    "            & (pl.col(\"miniRules1_statusInfos\") == 1)\n",
    "        )\n",
    "        .cast(pl.Int8)\n",
    "        .alias(\"free_exchange\"),\n",
    "    \n",
    "        # Routes & carriers\n",
    "        pl.col(\"searchRoute\").is_in([\"MOWLED/LEDMOW\", \"LEDMOW/MOWLED\", \"MOWLED\", \"LEDMOW\"])\n",
    "            .cast(pl.Int32).alias(\"is_popular_route\"),\n",
    "        \n",
    "        # Cabin\n",
    "        pl.mean_horizontal([\"legs0_segments0_cabinClass\", \"legs1_segments0_cabinClass\"]).alias(\"avg_cabin_class\"),\n",
    "        (pl.col(\"legs0_segments0_cabinClass\").fill_null(0) - \n",
    "         pl.col(\"legs1_segments0_cabinClass\").fill_null(0)).alias(\"cabin_class_diff\"),\n",
    "])\n",
    "\n",
    "# Segment counts - more efficient\n",
    "seg_exprs = []\n",
    "for leg in (0, 1):\n",
    "    seg_cols = [f\"legs{leg}_segments{s}_duration\" for s in range(4) if f\"legs{leg}_segments{s}_duration\" in df.columns]\n",
    "    if seg_cols:\n",
    "        seg_exprs.append(\n",
    "            pl.sum_horizontal(pl.col(c).is_not_null() for c in seg_cols)\n",
    "                .cast(pl.Int32).alias(f\"n_segments_leg{leg}\")\n",
    "        )\n",
    "    else:\n",
    "        seg_exprs.append(pl.lit(0).cast(pl.Int32).alias(f\"n_segments_leg{leg}\"))\n",
    "\n",
    "# Add segment-based features\n",
    "# First create segment counts\n",
    "df = df.with_columns(seg_exprs)\n",
    "\n",
    "# Then use them for derived features\n",
    "df = df.with_columns([\n",
    "    (pl.col(\"n_segments_leg0\") + pl.col(\"n_segments_leg1\")).alias(\"total_segments\"),\n",
    "    (pl.col(\"n_segments_leg0\") == 1).cast(pl.Int32).alias(\"is_direct_leg0\"),\n",
    "    pl.when(pl.col(\"is_one_way\") == 1).then(0)\n",
    "        .otherwise((pl.col(\"n_segments_leg1\") == 1).cast(pl.Int32)).alias(\"is_direct_leg1\"),\n",
    "])\n",
    "\n",
    "# More derived features\n",
    "df = df.with_columns([\n",
    "    (pl.col(\"is_direct_leg0\") & pl.col(\"is_direct_leg1\")).cast(pl.Int32).alias(\"both_direct\"),\n",
    "    ((pl.col(\"isVip\") == 1) | (pl.col(\"n_ff_programs\") > 0)).cast(pl.Int32).alias(\"is_vip_freq\"),\n",
    "    # (pl.col(\"baggage_total\") > 0).cast(pl.Int32).alias(\"has_baggage\"),\n",
    "    # (pl.col(\"total_fees\") > 0).cast(pl.Int32).alias(\"has_fees\"),\n",
    "    # (pl.col(\"total_fees\") / (pl.col(\"totalPrice\") + 1)).alias(\"fee_rate\"),\n",
    "    pl.col(\"Id\").count().over(\"ranker_id\").alias(\"group_size\"),\n",
    "])\n",
    "\n",
    "# Add major carrier flag if column exists\n",
    "if \"legs0_segments0_marketingCarrier_code\" in df.columns:\n",
    "    df = df.with_columns(\n",
    "        pl.col(\"legs0_segments0_marketingCarrier_code\").is_in([\"SU\", \"S7\"])\n",
    "            .cast(pl.Int32).alias(\"is_major_carrier\")\n",
    "    )\n",
    "else:\n",
    "    df = df.with_columns(pl.lit(0).alias(\"is_major_carrier\"))\n",
    "\n",
    "df = df.with_columns(pl.col(\"group_size\").log1p().alias(\"group_size_log\"))\n",
    "\n",
    "# Time features - batch process\n",
    "time_exprs = []\n",
    "for col in (\"legs0_departureAt\", \"legs0_arrivalAt\", \"legs1_departureAt\", \"legs1_arrivalAt\"):\n",
    "    if col in df.columns:\n",
    "        dt = pl.col(col).str.to_datetime(strict=False)\n",
    "        h = dt.dt.hour().fill_null(12)\n",
    "        time_exprs.extend([\n",
    "            h.alias(f\"{col}_hour\"),\n",
    "            dt.dt.weekday().fill_null(0).alias(f\"{col}_weekday\"),\n",
    "            (((h >= 6) & (h <= 9)) | ((h >= 17) & (h <= 20))).cast(pl.Int32).alias(f\"{col}_business_time\")\n",
    "        ])\n",
    "if time_exprs:\n",
    "    df = df.with_columns(time_exprs)\n",
    "\n",
    "# Batch rank computations - more efficient with single pass\n",
    "# First apply the columns that will be used for ranking\n",
    "df = df.with_columns([\n",
    "    pl.col(\"group_size\").log1p().alias(\"group_size_log\"),\n",
    "])\n",
    "\n",
    "# Price and duration basic ranks\n",
    "rank_exprs = []\n",
    "for col, alias in [(\"totalPrice\", \"price\"), (\"total_duration\", \"duration\")]:\n",
    "    rank_exprs.append(pl.col(col).rank().over(\"ranker_id\").alias(f\"{alias}_rank\"))\n",
    "\n",
    "# Price-specific features\n",
    "price_exprs = [\n",
    "    (pl.col(\"totalPrice\").rank(\"average\").over(\"ranker_id\") / \n",
    "     pl.col(\"totalPrice\").count().over(\"ranker_id\")).alias(\"price_pct_rank\"),\n",
    "    (pl.col(\"totalPrice\") == pl.col(\"totalPrice\").min().over(\"ranker_id\")).cast(pl.Int32).alias(\"is_cheapest\"),\n",
    "    ((pl.col(\"totalPrice\") - pl.col(\"totalPrice\").median().over(\"ranker_id\")) / \n",
    "     (pl.col(\"totalPrice\").std().over(\"ranker_id\") + 1)).alias(\"price_from_median\"),\n",
    "    (pl.col(\"l0_seg\") == pl.col(\"l0_seg\").min().over(\"ranker_id\")).cast(pl.Int32).alias(\"is_min_segments\"),\n",
    "]\n",
    "\n",
    "# Apply initial ranks\n",
    "df = df.with_columns(rank_exprs + price_exprs)\n",
    "\n",
    "# Cheapest direct - more efficient\n",
    "direct_cheapest = (\n",
    "    df.filter(pl.col(\"is_direct_leg0\") == 1)\n",
    "    .group_by(\"ranker_id\")\n",
    "    .agg(pl.col(\"totalPrice\").min().alias(\"min_direct\"))\n",
    ")\n",
    "\n",
    "df = df.join(direct_cheapest, on=\"ranker_id\", how=\"left\").with_columns(\n",
    "    ((pl.col(\"is_direct_leg0\") == 1) & \n",
    "     (pl.col(\"totalPrice\") == pl.col(\"min_direct\"))).cast(pl.Int32).fill_null(0).alias(\"is_direct_cheapest\")\n",
    ").drop(\"min_direct\")\n",
    "\n",
    "# Popularity features - efficient join\n",
    "df = (\n",
    "    df.join(\n",
    "        train.group_by('legs0_segments0_marketingCarrier_code').agg(pl.mean('selected').alias('carrier0_pop')),\n",
    "        on='legs0_segments0_marketingCarrier_code', \n",
    "        how='left'\n",
    "    )\n",
    "    .join(\n",
    "        train.group_by('legs1_segments0_marketingCarrier_code').agg(pl.mean('selected').alias('carrier1_pop')),\n",
    "        on='legs1_segments0_marketingCarrier_code', \n",
    "        how='left'\n",
    "    )\n",
    "    .with_columns([\n",
    "        pl.col('carrier0_pop').fill_null(0.0),\n",
    "        pl.col('carrier1_pop').fill_null(0.0),\n",
    "    ])\n",
    ")\n",
    "\n",
    "# Step 1: Add independent features\n",
    "df = df.with_columns([\n",
    "    # Carrier popularity\n",
    "    (pl.col('carrier0_pop') * pl.col('carrier1_pop')).alias('carrier_pop_product'),\n",
    "])\n",
    "\n",
    "df = df.with_columns(\n",
    "    (\n",
    "        # Policy compliance (25% weight)\n",
    "        (pl.col(\"pricingInfo_isAccessTP\") * 0.25) +\n",
    "        # Direct flights (25% weight)\n",
    "        (pl.col(\"is_direct_leg0\") * 0.25) +\n",
    "        # Business-hour departures/arrivals (25% weight)\n",
    "        ((pl.col(\"legs0_departureAt_business_time\") + pl.col(\"legs1_departureAt_business_time\")) * 0.125) +\n",
    "        # VIP preference for business class (25% weight)\n",
    "        ((pl.col(\"isVip\") == 1) & (pl.col(\"avg_cabin_class\") >= 1.5)).cast(pl.Int8) * 0.25\n",
    "    ).alias(\"business_traveler_perfect_match\"),\n",
    "\n",
    "    # Timezone diff only\n",
    "    (pl.col(\"legs0_arrivalAt_hour\") - pl.col(\"legs0_departureAt_hour\") -\n",
    "     (pl.col(\"legs0_duration\") / 60)).alias(\"timezone_diff_leg0\"),\n",
    ")\n",
    "\n",
    "df = df.with_columns(\n",
    "    (\n",
    "        (pl.col(\"is_one_way\") == 0) &  # Round-trip\n",
    "        (pl.col(\"legs0_arrivalAt_hour\") >= 8) &  # Arrive by morning\n",
    "        (pl.col(\"legs1_departureAt_hour\") <= 18) &  # Return by evening\n",
    "        (pl.col(\"timezone_diff_leg0\").abs() < 3)   # Minimal jetlag\n",
    "    ).cast(pl.Int8).alias(\"meeting_friendly_itinerary\")\n",
    ")\n",
    "\n"
   ]
  },
  {
   "cell_type": "code",
   "execution_count": 8,
   "id": "d19e4375",
   "metadata": {
    "execution": {
     "iopub.execute_input": "2025-08-14T16:29:03.544631Z",
     "iopub.status.busy": "2025-08-14T16:29:03.544364Z",
     "iopub.status.idle": "2025-08-14T16:29:06.035098Z",
     "shell.execute_reply": "2025-08-14T16:29:06.028083Z"
    },
    "papermill": {
     "duration": 2.51016,
     "end_time": "2025-08-14T16:29:06.038096",
     "exception": false,
     "start_time": "2025-08-14T16:29:03.527936",
     "status": "completed"
    },
    "tags": []
   },
   "outputs": [],
   "source": [
    "data = df.with_columns(\n",
    "    [pl.col(c).fill_null(0) for c in df.select(pl.selectors.numeric()).columns] +\n",
    "    [pl.col(c).fill_null(\"missing\") for c in df.select(pl.selectors.string()).columns]\n",
    ")"
   ]
  },
  {
   "cell_type": "code",
   "execution_count": 9,
   "id": "30d6d272",
   "metadata": {
    "execution": {
     "iopub.execute_input": "2025-08-14T16:29:06.070511Z",
     "iopub.status.busy": "2025-08-14T16:29:06.070138Z",
     "iopub.status.idle": "2025-08-14T16:29:06.081348Z",
     "shell.execute_reply": "2025-08-14T16:29:06.075597Z"
    },
    "papermill": {
     "duration": 0.032019,
     "end_time": "2025-08-14T16:29:06.084207",
     "exception": false,
     "start_time": "2025-08-14T16:29:06.052188",
     "status": "completed"
    },
    "tags": []
   },
   "outputs": [],
   "source": [
    "#df = df.with_columns([\n",
    "    #(df[\"legs0_segments0_departureFrom_airport_iata\"] == df[\"legs1_segments0_arrivalTo_airport_iata\"]).cast(pl.Int8).alias(\"roundtrip_symmetric\"),\n",
    "    #(df[\"carrier0_pop\"] - df[\"carrier1_pop\"]).fill_null(0).alias(\"carrier_popularity_diff\"),\n",
    "    #(1 / (df[\"group_size\"] + 1)).alias(\"inv_group_size\"),\n",
    "    # (pl.col(\"is_min_segments\") == True) & (pl.col(\"group_size\") <= 15).cast(pl.Int32).fill_null(0).alias(\"is_min_segmentand_group_size\")\n",
    "#])"
   ]
  },
  {
   "cell_type": "code",
   "execution_count": 10,
   "id": "addd2fe4",
   "metadata": {
    "execution": {
     "iopub.execute_input": "2025-08-14T16:29:06.115061Z",
     "iopub.status.busy": "2025-08-14T16:29:06.114779Z",
     "iopub.status.idle": "2025-08-14T16:29:06.138934Z",
     "shell.execute_reply": "2025-08-14T16:29:06.132061Z"
    },
    "papermill": {
     "duration": 0.043579,
     "end_time": "2025-08-14T16:29:06.141348",
     "exception": false,
     "start_time": "2025-08-14T16:29:06.097769",
     "status": "completed"
    },
    "tags": []
   },
   "outputs": [
    {
     "name": "stdout",
     "output_type": "stream",
     "text": [
      "Using 86 features (19 categorical)\n"
     ]
    }
   ],
   "source": [
    "cat_features = [\n",
    "    'nationality', 'searchRoute', 'corporateTariffCode',\n",
    "    'bySelf', 'sex', 'companyID',\n",
    "    # Leg 0 segments 0-1\n",
    "    'legs0_segments0_aircraft_code', 'legs0_segments0_arrivalTo_airport_city_iata',\n",
    "    'legs0_segments0_arrivalTo_airport_iata', 'legs0_segments0_departureFrom_airport_iata',\n",
    "    'legs0_segments0_marketingCarrier_code', 'legs0_segments0_operatingCarrier_code',\n",
    "    'legs0_segments0_flightNumber',\n",
    "    'legs0_segments1_aircraft_code', 'legs0_segments1_arrivalTo_airport_city_iata',\n",
    "    'legs0_segments1_arrivalTo_airport_iata', 'legs0_segments1_departureFrom_airport_iata',\n",
    "    'legs0_segments1_marketingCarrier_code', 'legs0_segments1_operatingCarrier_code',\n",
    "    'legs0_segments1_flightNumber',\n",
    "    # Leg 1 segments 0-1\n",
    "    'legs1_segments0_aircraft_code', 'legs1_segments0_arrivalTo_airport_city_iata',\n",
    "    'legs1_segments0_arrivalTo_airport_iata', 'legs1_segments0_departureFrom_airport_iata',\n",
    "    'legs1_segments0_marketingCarrier_code', 'legs1_segments0_operatingCarrier_code',\n",
    "    'legs1_segments0_flightNumber',\n",
    "    'legs1_segments1_aircraft_code', 'legs1_segments1_arrivalTo_airport_city_iata',\n",
    "    'legs1_segments1_arrivalTo_airport_iata', 'legs1_segments1_departureFrom_airport_iata',\n",
    "    'legs1_segments1_marketingCarrier_code', 'legs1_segments1_operatingCarrier_code',\n",
    "    'legs1_segments1_flightNumber'\n",
    "]\n",
    "\n",
    "# Columns to exclude (uninformative or problematic)\n",
    "exclude_cols = [\n",
    "    'Id', 'ranker_id', 'selected', 'profileId', 'requestDate',\n",
    "    'legs0_departureAt', 'legs0_arrivalAt', 'legs1_departureAt', 'legs1_arrivalAt',\n",
    "    'miniRules0_percentage', 'miniRules1_percentage',  # >90% missing\n",
    "    'frequentFlyer',  # Already processed\n",
    "    # Exclude constant columns\n",
    "    'pricingInfo_passengerCount','bySelf','n_segments_leg1','timezone_diff_leg0','meeting_friendly_itinerary','business_traveler_perfect_match'\n",
    "]\n",
    "\n",
    "for leg in [0, 1]:\n",
    "    for seg in [0, 1]:\n",
    "        if seg == 0:\n",
    "            suffixes = [\n",
    "                \"seatsAvailable\",\n",
    "            ]\n",
    "        else:\n",
    "            suffixes = [\n",
    "                \"cabinClass\",\n",
    "                \"seatsAvailable\",\n",
    "                \"baggageAllowance_quantity\",\n",
    "                \"baggageAllowance_weightMeasurementType\",\n",
    "                \"aircraft_code\",\n",
    "                \"arrivalTo_airport_city_iata\",\n",
    "                \"arrivalTo_airport_iata\",\n",
    "                \"departureFrom_airport_iata\",\n",
    "                \"flightNumber\",\n",
    "                \"marketingCarrier_code\",\n",
    "                \"operatingCarrier_code\",\n",
    "            ]\n",
    "        for suffix in suffixes:\n",
    "            exclude_cols.append(f\"legs{leg}_segments{seg}_{suffix}\")\n",
    "\n",
    "\n",
    "# Exclude segment 2-3 columns (>98% missing)\n",
    "for leg in [0, 1]:\n",
    "    for seg in [2, 3]:\n",
    "        for suffix in ['aircraft_code', 'arrivalTo_airport_city_iata', 'arrivalTo_airport_iata',\n",
    "                      'baggageAllowance_quantity', 'baggageAllowance_weightMeasurementType',\n",
    "                      'cabinClass', 'departureFrom_airport_iata', 'duration', 'flightNumber',\n",
    "                      'marketingCarrier_code', 'operatingCarrier_code', 'seatsAvailable']:\n",
    "            exclude_cols.append(f'legs{leg}_segments{seg}_{suffix}')\n",
    "\n",
    "feature_cols = [col for col in data.columns if col not in exclude_cols]\n",
    "cat_features_final = [col for col in cat_features if col in feature_cols]\n",
    "\n",
    "print(f\"Using {len(feature_cols)} features ({len(cat_features_final)} categorical)\")\n",
    "\n",
    "X = data.select(feature_cols + ['ranker_id'])\n",
    "y = data.select(['selected', 'ranker_id'])\n",
    "groups = data.select('ranker_id')"
   ]
  },
  {
   "cell_type": "code",
   "execution_count": 11,
   "id": "d21d353e",
   "metadata": {
    "execution": {
     "iopub.execute_input": "2025-08-14T16:29:06.172564Z",
     "iopub.status.busy": "2025-08-14T16:29:06.172295Z",
     "iopub.status.idle": "2025-08-14T16:29:12.052038Z",
     "shell.execute_reply": "2025-08-14T16:29:12.045817Z"
    },
    "papermill": {
     "duration": 5.900328,
     "end_time": "2025-08-14T16:29:12.055087",
     "exception": false,
     "start_time": "2025-08-14T16:29:06.154759",
     "status": "completed"
    },
    "tags": []
   },
   "outputs": [],
   "source": [
    "data_xgb = X.with_columns([(pl.col(c).rank(\"dense\") - 1).fill_null(-1).cast(pl.Int16) for c in cat_features_final])\n",
    "\n",
    "n1 = 16487352 # split train to train and val (10%) in time\n",
    "n2 = train.height\n",
    "data_xgb_tr, data_xgb_va, data_xgb_te = data_xgb[:n2], data_xgb[n1:n2], data_xgb[n2:]\n",
    "y_tr, y_va, y_te = y[:n2], y[n1:n2], y[n2:]\n",
    "groups_tr, groups_va, groups_te = groups[:n2], groups[n1:n2], groups[n2:]\n",
    "\n",
    "group_sizes_tr = groups_tr.group_by('ranker_id', maintain_order=True).agg(pl.len())['len'].to_numpy()\n",
    "group_sizes_va = groups_va.group_by('ranker_id', maintain_order=True).agg(pl.len())['len'].to_numpy()\n",
    "group_sizes_te = groups_te.group_by('ranker_id', maintain_order=True).agg(pl.len())['len'].to_numpy()\n",
    "\n",
    "group_sizes_tr_lgb = groups_tr.group_by('ranker_id').agg(pl.len()).sort('ranker_id')['len'].to_numpy()\n",
    "group_sizes_va_lgb = groups_va.group_by('ranker_id').agg(pl.len()).sort('ranker_id')['len'].to_numpy()\n",
    "group_sizes_te_lgb = groups_te.group_by('ranker_id').agg(pl.len()).sort('ranker_id')['len'].to_numpy()\n"
   ]
  },
  {
   "cell_type": "code",
   "execution_count": 12,
   "id": "b9088107",
   "metadata": {
    "execution": {
     "iopub.execute_input": "2025-08-14T16:29:12.088634Z",
     "iopub.status.busy": "2025-08-14T16:29:12.088325Z",
     "iopub.status.idle": "2025-08-14T16:29:20.417670Z",
     "shell.execute_reply": "2025-08-14T16:29:20.412333Z"
    },
    "papermill": {
     "duration": 8.350468,
     "end_time": "2025-08-14T16:29:20.420851",
     "exception": false,
     "start_time": "2025-08-14T16:29:12.070383",
     "status": "completed"
    },
    "tags": []
   },
   "outputs": [
    {
     "name": "stdout",
     "output_type": "stream",
     "text": [
      "Median group size: 50.0\n"
     ]
    }
   ],
   "source": [
    "# --- Step 1: group size & median ---\n",
    "ranker_group_sizes = groups_tr.group_by('ranker_id').agg(pl.len().alias('group_size'))\n",
    "median_group_size = ranker_group_sizes['group_size'].median()\n",
    "print(f\"Median group size: {median_group_size}\")\n",
    "\n",
    "# --- Step 2: get ranker_id lists ---\n",
    "small_rankers = ranker_group_sizes.filter(pl.col('group_size') < median_group_size)['ranker_id']\n",
    "big_rankers   = ranker_group_sizes.filter(pl.col('group_size') >= median_group_size)['ranker_id']\n",
    "\n",
    "# --- Step 3: rankers where is_min_segments == 0 ---\n",
    "min_segment_0 = (\n",
    "    data_xgb_tr\n",
    "    .filter(pl.col('is_min_segments') == 0)\n",
    "    .select('ranker_id')\n",
    "    .unique()\n",
    ")['ranker_id']\n",
    "\n",
    "min_segment_1 = (\n",
    "    data_xgb_tr\n",
    "    .filter(pl.col('is_min_segments') == 1)\n",
    "    .select('ranker_id')\n",
    "    .unique()\n",
    ")['ranker_id']\n",
    "\n",
    "is_one_way_ranker = (\n",
    "    data_xgb_tr\n",
    "    .filter(pl.col('is_one_way') == 1)\n",
    "    .select('ranker_id')\n",
    "    .unique()\n",
    ")['ranker_id']\n",
    "\n",
    "is_popular_route_ranker = (\n",
    "    data_xgb_tr\n",
    "    .filter(pl.col('is_popular_route') == 1)\n",
    "    .select('ranker_id')\n",
    "    .unique()\n",
    ")['ranker_id']\n",
    "\n",
    "# --- Step 4: filtering helper ---\n",
    "def split_data(ranker_ids):\n",
    "    ranker_list = ranker_ids.to_list() if hasattr(ranker_ids, \"to_list\") else list(ranker_ids)\n",
    "    data = data_xgb_tr.filter(pl.col('ranker_id').is_in(ranker_list))\n",
    "    y    = y_tr.filter(pl.col('ranker_id').is_in(ranker_list))\n",
    "    grp  = groups_tr.filter(pl.col('ranker_id').is_in(ranker_list))\n",
    "    return (\n",
    "        data.drop('ranker_id').to_pandas(),\n",
    "        y.drop('ranker_id')['selected'].to_numpy(),\n",
    "        grp\n",
    "    )\n",
    "\n",
    "\n",
    "# last_minute_rankers = (\n",
    "#     data_xgb_tr\n",
    "#     .with_columns(\n",
    "#         (pl.col(\"legs0_departureAt\").str.to_datetime() - pl.col(\"search_date\").str.to_datetime())\n",
    "#         .dt.days().alias(\"days_until_departure\")\n",
    "#     )\n",
    "#     .filter(pl.col(\"days_until_departure\") <= 3)\n",
    "#     .select(\"ranker_id\")\n",
    "#     .unique()[\"ranker_id\"]\n",
    "# )\n",
    "\n",
    "# 2. Cheapest flights in each search\n",
    "cheapest_rankers = (\n",
    "    data_xgb_tr\n",
    "    .filter(pl.col(\"is_cheapest\") == 1)\n",
    "    .select(\"ranker_id\")\n",
    "    .unique()[\"ranker_id\"]\n",
    ")\n",
    "\n",
    "# 3. Direct flights only\n",
    "direct_flight_rankers = (\n",
    "    data_xgb_tr\n",
    "    .filter((pl.col(\"is_direct_leg0\") == 1) & (pl.col(\"is_one_way\") == 1))\n",
    "    .select(\"ranker_id\")\n",
    "    .unique()[\"ranker_id\"]\n",
    ")\n",
    "\n",
    "# 4. High loyalty passengers\n",
    "loyalty_rankers = (\n",
    "    data_xgb_tr\n",
    "    .filter(pl.col(\"n_ff_programs\") >= 2)\n",
    "    .select(\"ranker_id\")\n",
    "    .unique()[\"ranker_id\"]\n",
    ")\n",
    "\n",
    "# 5. Business-friendly itineraries\n",
    "# biz_friendly_rankers = (\n",
    "#     data_xgb_tr\n",
    "#     .filter(pl.col(\"business_traveler_perfect_match\") >= 0.75)\n",
    "#     .select(\"ranker_id\")\n",
    "#     .unique()[\"ranker_id\"]\n",
    "# )\n",
    "\n",
    "# --- Step Z: create new scenario datasets ---\n",
    "data_xgb_tr_small_pd, y_tr_small_pd, groups_tr_small   = split_data(small_rankers)\n",
    "data_xgb_tr_big_pd,   y_tr_big_pd,   groups_tr_big     = split_data(big_rankers)\n",
    "data_xgb_tr_min0_pd,  y_tr_min0_pd,  groups_tr_min0    = split_data(min_segment_0)\n",
    "data_xgb_tr_one_way_pd,  y_tr_one_way_pd,  groups_tr_one_way    = split_data(is_one_way_ranker)\n",
    "data_xgb_tr_popular_route_pd,  y_tr_popular_route_pd,  groups_tr_popular_route_way    = split_data(is_popular_route_ranker)\n",
    "#data_xgb_tr_last_minute_pd, y_tr_last_minute_pd, groups_tr_last_minute = split_data(last_minute_rankers)\n",
    "#data_xgb_tr_cheapest_pd,   y_tr_cheapest_pd,   groups_tr_cheapest     = split_data(cheapest_rankers)\n",
    "#data_xgb_tr_direct_pd,     y_tr_direct_pd,     groups_tr_direct       = split_data(direct_flight_rankers)\n",
    "data_xgb_tr_loyalty_pd,    y_tr_loyalty_pd,    groups_tr_loyalty      = split_data(loyalty_rankers)\n",
    "#data_xgb_tr_biz_pd,        y_tr_biz_pd,        groups_tr_biz          = split_data(biz_friendly_rankers)\n"
   ]
  },
  {
   "cell_type": "code",
   "execution_count": 13,
   "id": "d264daef",
   "metadata": {
    "execution": {
     "iopub.execute_input": "2025-08-14T16:29:20.451300Z",
     "iopub.status.busy": "2025-08-14T16:29:20.451034Z",
     "iopub.status.idle": "2025-08-14T16:29:20.465293Z",
     "shell.execute_reply": "2025-08-14T16:29:20.460141Z"
    },
    "papermill": {
     "duration": 0.033304,
     "end_time": "2025-08-14T16:29:20.467698",
     "exception": false,
     "start_time": "2025-08-14T16:29:20.434394",
     "status": "completed"
    },
    "tags": []
   },
   "outputs": [
    {
     "data": {
      "text/plain": [
       "(18145372, 87)"
      ]
     },
     "execution_count": 13,
     "metadata": {},
     "output_type": "execute_result"
    }
   ],
   "source": [
    "data_xgb_tr.shape"
   ]
  },
  {
   "cell_type": "code",
   "execution_count": 14,
   "id": "82bbae22",
   "metadata": {
    "execution": {
     "iopub.execute_input": "2025-08-14T16:29:20.497084Z",
     "iopub.status.busy": "2025-08-14T16:29:20.496825Z",
     "iopub.status.idle": "2025-08-14T16:29:20.507295Z",
     "shell.execute_reply": "2025-08-14T16:29:20.502251Z"
    },
    "papermill": {
     "duration": 0.029689,
     "end_time": "2025-08-14T16:29:20.510404",
     "exception": false,
     "start_time": "2025-08-14T16:29:20.480715",
     "status": "completed"
    },
    "tags": []
   },
   "outputs": [
    {
     "name": "stdout",
     "output_type": "stream",
     "text": [
      "helloooo\n"
     ]
    }
   ],
   "source": [
    "print(\"helloooo\")"
   ]
  },
  {
   "cell_type": "code",
   "execution_count": 15,
   "id": "67a754de",
   "metadata": {
    "execution": {
     "iopub.execute_input": "2025-08-14T16:29:20.540183Z",
     "iopub.status.busy": "2025-08-14T16:29:20.539922Z",
     "iopub.status.idle": "2025-08-14T16:29:20.554052Z",
     "shell.execute_reply": "2025-08-14T16:29:20.547792Z"
    },
    "papermill": {
     "duration": 0.03301,
     "end_time": "2025-08-14T16:29:20.556427",
     "exception": false,
     "start_time": "2025-08-14T16:29:20.523417",
     "status": "completed"
    },
    "tags": []
   },
   "outputs": [
    {
     "data": {
      "text/plain": [
       "105539"
      ]
     },
     "execution_count": 15,
     "metadata": {},
     "output_type": "execute_result"
    }
   ],
   "source": [
    "len(min_segment_1) "
   ]
  },
  {
   "cell_type": "code",
   "execution_count": 16,
   "id": "b66f4af9",
   "metadata": {
    "execution": {
     "iopub.execute_input": "2025-08-14T16:29:20.586567Z",
     "iopub.status.busy": "2025-08-14T16:29:20.586298Z",
     "iopub.status.idle": "2025-08-14T17:28:24.601814Z",
     "shell.execute_reply": "2025-08-14T17:28:24.596854Z"
    },
    "papermill": {
     "duration": 3544.034804,
     "end_time": "2025-08-14T17:28:24.604487",
     "exception": false,
     "start_time": "2025-08-14T16:29:20.569683",
     "status": "completed"
    },
    "tags": []
   },
   "outputs": [
    {
     "name": "stdout",
     "output_type": "stream",
     "text": [
      "\n",
      "Training XGBoost model with portion: full...\n"
     ]
    },
    {
     "name": "stdout",
     "output_type": "stream",
     "text": [
      "[0]\ttrain-ndcg@3:0.34421\tval-ndcg@3:0.37796\n"
     ]
    },
    {
     "name": "stdout",
     "output_type": "stream",
     "text": [
      "[50]\ttrain-ndcg@3:0.59635\tval-ndcg@3:0.64229"
     ]
    },
    {
     "name": "stdout",
     "output_type": "stream",
     "text": [
      "\n"
     ]
    },
    {
     "name": "stdout",
     "output_type": "stream",
     "text": [
      "[100]\ttrain-ndcg@3:0.63850\tval-ndcg@3:0.68166"
     ]
    },
    {
     "name": "stdout",
     "output_type": "stream",
     "text": [
      "\n"
     ]
    },
    {
     "name": "stdout",
     "output_type": "stream",
     "text": [
      "[150]\ttrain-ndcg@3:0.66857\tval-ndcg@3:0.70839"
     ]
    },
    {
     "name": "stdout",
     "output_type": "stream",
     "text": [
      "\n"
     ]
    },
    {
     "name": "stdout",
     "output_type": "stream",
     "text": [
      "[200]\ttrain-ndcg@3:0.69526\tval-ndcg@3:0.73210\n"
     ]
    },
    {
     "name": "stdout",
     "output_type": "stream",
     "text": [
      "[250]\ttrain-ndcg@3:0.71705\tval-ndcg@3:0.74901\n"
     ]
    },
    {
     "name": "stdout",
     "output_type": "stream",
     "text": [
      "[300]\ttrain-ndcg@3:0.73691\tval-ndcg@3:0.76592\n"
     ]
    },
    {
     "name": "stdout",
     "output_type": "stream",
     "text": [
      "[350]\ttrain-ndcg@3:0.75579\tval-ndcg@3:0.78253\n"
     ]
    },
    {
     "name": "stdout",
     "output_type": "stream",
     "text": [
      "[400]\ttrain-ndcg@3:0.77286\tval-ndcg@3:0.79854\n"
     ]
    },
    {
     "name": "stdout",
     "output_type": "stream",
     "text": [
      "[450]\ttrain-ndcg@3:0.78856\tval-ndcg@3:0.81141\n"
     ]
    },
    {
     "name": "stdout",
     "output_type": "stream",
     "text": [
      "[500]\ttrain-ndcg@3:0.80170\tval-ndcg@3:0.82480"
     ]
    },
    {
     "name": "stdout",
     "output_type": "stream",
     "text": [
      "\n"
     ]
    },
    {
     "name": "stdout",
     "output_type": "stream",
     "text": [
      "[550]\ttrain-ndcg@3:0.81450\tval-ndcg@3:0.83574\n"
     ]
    },
    {
     "name": "stdout",
     "output_type": "stream",
     "text": [
      "[600]\ttrain-ndcg@3:0.82590\tval-ndcg@3:0.84660"
     ]
    },
    {
     "name": "stdout",
     "output_type": "stream",
     "text": [
      "\n"
     ]
    },
    {
     "name": "stdout",
     "output_type": "stream",
     "text": [
      "[650]\ttrain-ndcg@3:0.83549\tval-ndcg@3:0.85518\n"
     ]
    },
    {
     "name": "stdout",
     "output_type": "stream",
     "text": [
      "[700]\ttrain-ndcg@3:0.84266\tval-ndcg@3:0.86130\n"
     ]
    },
    {
     "name": "stdout",
     "output_type": "stream",
     "text": [
      "[750]\ttrain-ndcg@3:0.84954\tval-ndcg@3:0.86732"
     ]
    },
    {
     "name": "stdout",
     "output_type": "stream",
     "text": [
      "\n"
     ]
    },
    {
     "name": "stdout",
     "output_type": "stream",
     "text": [
      "[800]\ttrain-ndcg@3:0.85517\tval-ndcg@3:0.87288\n"
     ]
    },
    {
     "name": "stdout",
     "output_type": "stream",
     "text": [
      "[850]\ttrain-ndcg@3:0.85946\tval-ndcg@3:0.87604"
     ]
    },
    {
     "name": "stdout",
     "output_type": "stream",
     "text": [
      "\n"
     ]
    },
    {
     "name": "stdout",
     "output_type": "stream",
     "text": [
      "[859]\ttrain-ndcg@3:0.86053\tval-ndcg@3:0.87687\n"
     ]
    },
    {
     "name": "stdout",
     "output_type": "stream",
     "text": [
      "\n",
      "Training XGBoost model with portion: small...\n"
     ]
    },
    {
     "name": "stdout",
     "output_type": "stream",
     "text": [
      "[0]\ttrain-ndcg@3:0.54588\tval-ndcg@3:0.36050"
     ]
    },
    {
     "name": "stdout",
     "output_type": "stream",
     "text": [
      "\n"
     ]
    },
    {
     "name": "stdout",
     "output_type": "stream",
     "text": [
      "[50]\ttrain-ndcg@3:0.83685\tval-ndcg@3:0.56069\n"
     ]
    },
    {
     "name": "stdout",
     "output_type": "stream",
     "text": [
      "[100]\ttrain-ndcg@3:0.87272\tval-ndcg@3:0.58151"
     ]
    },
    {
     "name": "stdout",
     "output_type": "stream",
     "text": [
      "\n"
     ]
    },
    {
     "name": "stdout",
     "output_type": "stream",
     "text": [
      "[150]\ttrain-ndcg@3:0.88987\tval-ndcg@3:0.59277\n"
     ]
    },
    {
     "name": "stdout",
     "output_type": "stream",
     "text": [
      "[200]\ttrain-ndcg@3:0.90176\tval-ndcg@3:0.60052\n"
     ]
    },
    {
     "name": "stdout",
     "output_type": "stream",
     "text": [
      "[250]\ttrain-ndcg@3:0.91017\tval-ndcg@3:0.60473"
     ]
    },
    {
     "name": "stdout",
     "output_type": "stream",
     "text": [
      "\n"
     ]
    },
    {
     "name": "stdout",
     "output_type": "stream",
     "text": [
      "[300]\ttrain-ndcg@3:0.91694\tval-ndcg@3:0.60938"
     ]
    },
    {
     "name": "stdout",
     "output_type": "stream",
     "text": [
      "\n"
     ]
    },
    {
     "name": "stdout",
     "output_type": "stream",
     "text": [
      "[350]\ttrain-ndcg@3:0.92154\tval-ndcg@3:0.61238"
     ]
    },
    {
     "name": "stdout",
     "output_type": "stream",
     "text": [
      "\n"
     ]
    },
    {
     "name": "stdout",
     "output_type": "stream",
     "text": [
      "[400]\ttrain-ndcg@3:0.92484\tval-ndcg@3:0.61501"
     ]
    },
    {
     "name": "stdout",
     "output_type": "stream",
     "text": [
      "\n"
     ]
    },
    {
     "name": "stdout",
     "output_type": "stream",
     "text": [
      "[450]\ttrain-ndcg@3:0.92678\tval-ndcg@3:0.61677\n"
     ]
    },
    {
     "name": "stdout",
     "output_type": "stream",
     "text": [
      "[500]\ttrain-ndcg@3:0.92872\tval-ndcg@3:0.61847\n"
     ]
    },
    {
     "name": "stdout",
     "output_type": "stream",
     "text": [
      "[550]\ttrain-ndcg@3:0.93005\tval-ndcg@3:0.61932"
     ]
    },
    {
     "name": "stdout",
     "output_type": "stream",
     "text": [
      "\n"
     ]
    },
    {
     "name": "stdout",
     "output_type": "stream",
     "text": [
      "[600]\ttrain-ndcg@3:0.93103\tval-ndcg@3:0.61951"
     ]
    },
    {
     "name": "stdout",
     "output_type": "stream",
     "text": [
      "\n"
     ]
    },
    {
     "name": "stdout",
     "output_type": "stream",
     "text": [
      "[650]\ttrain-ndcg@3:0.93168\tval-ndcg@3:0.62062"
     ]
    },
    {
     "name": "stdout",
     "output_type": "stream",
     "text": [
      "\n"
     ]
    },
    {
     "name": "stdout",
     "output_type": "stream",
     "text": [
      "[700]\ttrain-ndcg@3:0.93257\tval-ndcg@3:0.62124"
     ]
    },
    {
     "name": "stdout",
     "output_type": "stream",
     "text": [
      "\n"
     ]
    },
    {
     "name": "stdout",
     "output_type": "stream",
     "text": [
      "[750]\ttrain-ndcg@3:0.93301\tval-ndcg@3:0.62162"
     ]
    },
    {
     "name": "stdout",
     "output_type": "stream",
     "text": [
      "\n"
     ]
    },
    {
     "name": "stdout",
     "output_type": "stream",
     "text": [
      "[800]\ttrain-ndcg@3:0.93338\tval-ndcg@3:0.62266"
     ]
    },
    {
     "name": "stdout",
     "output_type": "stream",
     "text": [
      "\n"
     ]
    },
    {
     "name": "stdout",
     "output_type": "stream",
     "text": [
      "[850]\ttrain-ndcg@3:0.93380\tval-ndcg@3:0.62302"
     ]
    },
    {
     "name": "stdout",
     "output_type": "stream",
     "text": [
      "\n"
     ]
    },
    {
     "name": "stdout",
     "output_type": "stream",
     "text": [
      "[859]\ttrain-ndcg@3:0.93379\tval-ndcg@3:0.62298"
     ]
    },
    {
     "name": "stdout",
     "output_type": "stream",
     "text": [
      "\n"
     ]
    },
    {
     "name": "stdout",
     "output_type": "stream",
     "text": [
      "\n",
      "Training XGBoost model with portion: big...\n"
     ]
    },
    {
     "name": "stdout",
     "output_type": "stream",
     "text": [
      "[0]\ttrain-ndcg@3:0.15905\tval-ndcg@3:0.35493\n"
     ]
    },
    {
     "name": "stdout",
     "output_type": "stream",
     "text": [
      "[50]\ttrain-ndcg@3:0.48766\tval-ndcg@3:0.57392\n"
     ]
    },
    {
     "name": "stdout",
     "output_type": "stream",
     "text": [
      "[100]\ttrain-ndcg@3:0.55207\tval-ndcg@3:0.60488\n"
     ]
    },
    {
     "name": "stdout",
     "output_type": "stream",
     "text": [
      "[150]\ttrain-ndcg@3:0.59288\tval-ndcg@3:0.62179"
     ]
    },
    {
     "name": "stdout",
     "output_type": "stream",
     "text": [
      "\n"
     ]
    },
    {
     "name": "stdout",
     "output_type": "stream",
     "text": [
      "[200]\ttrain-ndcg@3:0.62761\tval-ndcg@3:0.63790"
     ]
    },
    {
     "name": "stdout",
     "output_type": "stream",
     "text": [
      "\n"
     ]
    },
    {
     "name": "stdout",
     "output_type": "stream",
     "text": [
      "[250]\ttrain-ndcg@3:0.65894\tval-ndcg@3:0.65247"
     ]
    },
    {
     "name": "stdout",
     "output_type": "stream",
     "text": [
      "\n"
     ]
    },
    {
     "name": "stdout",
     "output_type": "stream",
     "text": [
      "[300]\ttrain-ndcg@3:0.69222\tval-ndcg@3:0.66996\n"
     ]
    },
    {
     "name": "stdout",
     "output_type": "stream",
     "text": [
      "[350]\ttrain-ndcg@3:0.72325\tval-ndcg@3:0.68460"
     ]
    },
    {
     "name": "stdout",
     "output_type": "stream",
     "text": [
      "\n"
     ]
    },
    {
     "name": "stdout",
     "output_type": "stream",
     "text": [
      "[400]\ttrain-ndcg@3:0.75062\tval-ndcg@3:0.69746\n"
     ]
    },
    {
     "name": "stdout",
     "output_type": "stream",
     "text": [
      "[450]\ttrain-ndcg@3:0.77310\tval-ndcg@3:0.70893\n"
     ]
    },
    {
     "name": "stdout",
     "output_type": "stream",
     "text": [
      "[500]\ttrain-ndcg@3:0.79431\tval-ndcg@3:0.71906\n"
     ]
    },
    {
     "name": "stdout",
     "output_type": "stream",
     "text": [
      "[550]\ttrain-ndcg@3:0.81038\tval-ndcg@3:0.72461\n"
     ]
    },
    {
     "name": "stdout",
     "output_type": "stream",
     "text": [
      "[600]\ttrain-ndcg@3:0.82317\tval-ndcg@3:0.72993"
     ]
    },
    {
     "name": "stdout",
     "output_type": "stream",
     "text": [
      "\n"
     ]
    },
    {
     "name": "stdout",
     "output_type": "stream",
     "text": [
      "[650]\ttrain-ndcg@3:0.83334\tval-ndcg@3:0.73595\n"
     ]
    },
    {
     "name": "stdout",
     "output_type": "stream",
     "text": [
      "[700]\ttrain-ndcg@3:0.84290\tval-ndcg@3:0.74005"
     ]
    },
    {
     "name": "stdout",
     "output_type": "stream",
     "text": [
      "\n"
     ]
    },
    {
     "name": "stdout",
     "output_type": "stream",
     "text": [
      "[750]\ttrain-ndcg@3:0.84978\tval-ndcg@3:0.74297"
     ]
    },
    {
     "name": "stdout",
     "output_type": "stream",
     "text": [
      "\n"
     ]
    },
    {
     "name": "stdout",
     "output_type": "stream",
     "text": [
      "[800]\ttrain-ndcg@3:0.85513\tval-ndcg@3:0.74458"
     ]
    },
    {
     "name": "stdout",
     "output_type": "stream",
     "text": [
      "\n"
     ]
    },
    {
     "name": "stdout",
     "output_type": "stream",
     "text": [
      "[850]\ttrain-ndcg@3:0.85967\tval-ndcg@3:0.74712"
     ]
    },
    {
     "name": "stdout",
     "output_type": "stream",
     "text": [
      "\n"
     ]
    },
    {
     "name": "stdout",
     "output_type": "stream",
     "text": [
      "[859]\ttrain-ndcg@3:0.86030\tval-ndcg@3:0.74737"
     ]
    },
    {
     "name": "stdout",
     "output_type": "stream",
     "text": [
      "\n"
     ]
    },
    {
     "name": "stdout",
     "output_type": "stream",
     "text": [
      "\n",
      "Training XGBoost model with portion: min0...\n"
     ]
    },
    {
     "name": "stdout",
     "output_type": "stream",
     "text": [
      "[0]\ttrain-ndcg@3:0.31526\tval-ndcg@3:0.36736\n"
     ]
    },
    {
     "name": "stdout",
     "output_type": "stream",
     "text": [
      "[50]\ttrain-ndcg@3:0.60659\tval-ndcg@3:0.60657"
     ]
    },
    {
     "name": "stdout",
     "output_type": "stream",
     "text": [
      "\n"
     ]
    },
    {
     "name": "stdout",
     "output_type": "stream",
     "text": [
      "[100]\ttrain-ndcg@3:0.65494\tval-ndcg@3:0.63620"
     ]
    },
    {
     "name": "stdout",
     "output_type": "stream",
     "text": [
      "\n"
     ]
    },
    {
     "name": "stdout",
     "output_type": "stream",
     "text": [
      "[150]\ttrain-ndcg@3:0.69064\tval-ndcg@3:0.66116\n"
     ]
    },
    {
     "name": "stdout",
     "output_type": "stream",
     "text": [
      "[200]\ttrain-ndcg@3:0.71866\tval-ndcg@3:0.67728\n"
     ]
    },
    {
     "name": "stdout",
     "output_type": "stream",
     "text": [
      "[250]\ttrain-ndcg@3:0.75234\tval-ndcg@3:0.70064"
     ]
    },
    {
     "name": "stdout",
     "output_type": "stream",
     "text": [
      "\n"
     ]
    },
    {
     "name": "stdout",
     "output_type": "stream",
     "text": [
      "[300]\ttrain-ndcg@3:0.77671\tval-ndcg@3:0.71762"
     ]
    },
    {
     "name": "stdout",
     "output_type": "stream",
     "text": [
      "\n"
     ]
    },
    {
     "name": "stdout",
     "output_type": "stream",
     "text": [
      "[350]\ttrain-ndcg@3:0.79775\tval-ndcg@3:0.73324"
     ]
    },
    {
     "name": "stdout",
     "output_type": "stream",
     "text": [
      "\n"
     ]
    },
    {
     "name": "stdout",
     "output_type": "stream",
     "text": [
      "[400]\ttrain-ndcg@3:0.81172\tval-ndcg@3:0.74160\n"
     ]
    },
    {
     "name": "stdout",
     "output_type": "stream",
     "text": [
      "[450]\ttrain-ndcg@3:0.82404\tval-ndcg@3:0.75005\n"
     ]
    },
    {
     "name": "stdout",
     "output_type": "stream",
     "text": [
      "[500]\ttrain-ndcg@3:0.83545\tval-ndcg@3:0.75637"
     ]
    },
    {
     "name": "stdout",
     "output_type": "stream",
     "text": [
      "\n"
     ]
    },
    {
     "name": "stdout",
     "output_type": "stream",
     "text": [
      "[550]\ttrain-ndcg@3:0.84471\tval-ndcg@3:0.76204"
     ]
    },
    {
     "name": "stdout",
     "output_type": "stream",
     "text": [
      "\n"
     ]
    },
    {
     "name": "stdout",
     "output_type": "stream",
     "text": [
      "[600]\ttrain-ndcg@3:0.85192\tval-ndcg@3:0.76675\n"
     ]
    },
    {
     "name": "stdout",
     "output_type": "stream",
     "text": [
      "[650]\ttrain-ndcg@3:0.85829\tval-ndcg@3:0.77165"
     ]
    },
    {
     "name": "stdout",
     "output_type": "stream",
     "text": [
      "\n"
     ]
    },
    {
     "name": "stdout",
     "output_type": "stream",
     "text": [
      "[700]\ttrain-ndcg@3:0.86441\tval-ndcg@3:0.77569\n"
     ]
    },
    {
     "name": "stdout",
     "output_type": "stream",
     "text": [
      "[750]\ttrain-ndcg@3:0.86893\tval-ndcg@3:0.77774\n"
     ]
    },
    {
     "name": "stdout",
     "output_type": "stream",
     "text": [
      "[800]\ttrain-ndcg@3:0.87230\tval-ndcg@3:0.78011\n"
     ]
    },
    {
     "name": "stdout",
     "output_type": "stream",
     "text": [
      "[850]\ttrain-ndcg@3:0.87514\tval-ndcg@3:0.78203\n"
     ]
    },
    {
     "name": "stdout",
     "output_type": "stream",
     "text": [
      "[859]\ttrain-ndcg@3:0.87592\tval-ndcg@3:0.78280\n"
     ]
    },
    {
     "name": "stdout",
     "output_type": "stream",
     "text": [
      "\n",
      "Training XGBoost model with portion: one_way...\n"
     ]
    },
    {
     "name": "stdout",
     "output_type": "stream",
     "text": [
      "[0]\ttrain-ndcg@3:0.41171\tval-ndcg@3:0.35305"
     ]
    },
    {
     "name": "stdout",
     "output_type": "stream",
     "text": [
      "\n"
     ]
    },
    {
     "name": "stdout",
     "output_type": "stream",
     "text": [
      "[50]\ttrain-ndcg@3:0.70988\tval-ndcg@3:0.54055\n"
     ]
    },
    {
     "name": "stdout",
     "output_type": "stream",
     "text": [
      "[100]\ttrain-ndcg@3:0.75862\tval-ndcg@3:0.55997"
     ]
    },
    {
     "name": "stdout",
     "output_type": "stream",
     "text": [
      "\n"
     ]
    },
    {
     "name": "stdout",
     "output_type": "stream",
     "text": [
      "[150]\ttrain-ndcg@3:0.78919\tval-ndcg@3:0.57781\n"
     ]
    },
    {
     "name": "stdout",
     "output_type": "stream",
     "text": [
      "[200]\ttrain-ndcg@3:0.81744\tval-ndcg@3:0.58905"
     ]
    },
    {
     "name": "stdout",
     "output_type": "stream",
     "text": [
      "\n"
     ]
    },
    {
     "name": "stdout",
     "output_type": "stream",
     "text": [
      "[250]\ttrain-ndcg@3:0.83775\tval-ndcg@3:0.60063\n"
     ]
    },
    {
     "name": "stdout",
     "output_type": "stream",
     "text": [
      "[300]\ttrain-ndcg@3:0.85379\tval-ndcg@3:0.60746"
     ]
    },
    {
     "name": "stdout",
     "output_type": "stream",
     "text": [
      "\n"
     ]
    },
    {
     "name": "stdout",
     "output_type": "stream",
     "text": [
      "[350]\ttrain-ndcg@3:0.86538\tval-ndcg@3:0.61347"
     ]
    },
    {
     "name": "stdout",
     "output_type": "stream",
     "text": [
      "\n"
     ]
    },
    {
     "name": "stdout",
     "output_type": "stream",
     "text": [
      "[400]\ttrain-ndcg@3:0.87495\tval-ndcg@3:0.61907"
     ]
    },
    {
     "name": "stdout",
     "output_type": "stream",
     "text": [
      "\n"
     ]
    },
    {
     "name": "stdout",
     "output_type": "stream",
     "text": [
      "[450]\ttrain-ndcg@3:0.88153\tval-ndcg@3:0.62126"
     ]
    },
    {
     "name": "stdout",
     "output_type": "stream",
     "text": [
      "\n"
     ]
    },
    {
     "name": "stdout",
     "output_type": "stream",
     "text": [
      "[500]\ttrain-ndcg@3:0.88826\tval-ndcg@3:0.62499"
     ]
    },
    {
     "name": "stdout",
     "output_type": "stream",
     "text": [
      "\n"
     ]
    },
    {
     "name": "stdout",
     "output_type": "stream",
     "text": [
      "[550]\ttrain-ndcg@3:0.89215\tval-ndcg@3:0.62666"
     ]
    },
    {
     "name": "stdout",
     "output_type": "stream",
     "text": [
      "\n"
     ]
    },
    {
     "name": "stdout",
     "output_type": "stream",
     "text": [
      "[600]\ttrain-ndcg@3:0.89577\tval-ndcg@3:0.62929"
     ]
    },
    {
     "name": "stdout",
     "output_type": "stream",
     "text": [
      "\n"
     ]
    },
    {
     "name": "stdout",
     "output_type": "stream",
     "text": [
      "[650]\ttrain-ndcg@3:0.89776\tval-ndcg@3:0.62962"
     ]
    },
    {
     "name": "stdout",
     "output_type": "stream",
     "text": [
      "\n"
     ]
    },
    {
     "name": "stdout",
     "output_type": "stream",
     "text": [
      "[700]\ttrain-ndcg@3:0.90042\tval-ndcg@3:0.63045"
     ]
    },
    {
     "name": "stdout",
     "output_type": "stream",
     "text": [
      "\n"
     ]
    },
    {
     "name": "stdout",
     "output_type": "stream",
     "text": [
      "[750]\ttrain-ndcg@3:0.90158\tval-ndcg@3:0.63103"
     ]
    },
    {
     "name": "stdout",
     "output_type": "stream",
     "text": [
      "\n"
     ]
    },
    {
     "name": "stdout",
     "output_type": "stream",
     "text": [
      "[800]\ttrain-ndcg@3:0.90243\tval-ndcg@3:0.63168"
     ]
    },
    {
     "name": "stdout",
     "output_type": "stream",
     "text": [
      "\n"
     ]
    },
    {
     "name": "stdout",
     "output_type": "stream",
     "text": [
      "[850]\ttrain-ndcg@3:0.90424\tval-ndcg@3:0.63245\n"
     ]
    },
    {
     "name": "stdout",
     "output_type": "stream",
     "text": [
      "[859]\ttrain-ndcg@3:0.90461\tval-ndcg@3:0.63236\n"
     ]
    },
    {
     "name": "stdout",
     "output_type": "stream",
     "text": [
      "\n",
      "Training XGBoost model with portion: loyalty...\n"
     ]
    },
    {
     "name": "stdout",
     "output_type": "stream",
     "text": [
      "[0]\ttrain-ndcg@3:0.35959\tval-ndcg@3:0.34134\n"
     ]
    },
    {
     "name": "stdout",
     "output_type": "stream",
     "text": [
      "[50]\ttrain-ndcg@3:0.83210\tval-ndcg@3:0.50091\n"
     ]
    },
    {
     "name": "stdout",
     "output_type": "stream",
     "text": [
      "[100]\ttrain-ndcg@3:0.88227\tval-ndcg@3:0.51307"
     ]
    },
    {
     "name": "stdout",
     "output_type": "stream",
     "text": [
      "\n"
     ]
    },
    {
     "name": "stdout",
     "output_type": "stream",
     "text": [
      "[150]\ttrain-ndcg@3:0.90697\tval-ndcg@3:0.51679"
     ]
    },
    {
     "name": "stdout",
     "output_type": "stream",
     "text": [
      "\n"
     ]
    },
    {
     "name": "stdout",
     "output_type": "stream",
     "text": [
      "[200]\ttrain-ndcg@3:0.92012\tval-ndcg@3:0.52119"
     ]
    },
    {
     "name": "stdout",
     "output_type": "stream",
     "text": [
      "\n"
     ]
    },
    {
     "name": "stdout",
     "output_type": "stream",
     "text": [
      "[250]\ttrain-ndcg@3:0.92977\tval-ndcg@3:0.52224\n"
     ]
    },
    {
     "name": "stdout",
     "output_type": "stream",
     "text": [
      "[300]\ttrain-ndcg@3:0.93603\tval-ndcg@3:0.52449"
     ]
    },
    {
     "name": "stdout",
     "output_type": "stream",
     "text": [
      "\n"
     ]
    },
    {
     "name": "stdout",
     "output_type": "stream",
     "text": [
      "[350]\ttrain-ndcg@3:0.93997\tval-ndcg@3:0.52597"
     ]
    },
    {
     "name": "stdout",
     "output_type": "stream",
     "text": [
      "\n"
     ]
    },
    {
     "name": "stdout",
     "output_type": "stream",
     "text": [
      "[400]\ttrain-ndcg@3:0.94213\tval-ndcg@3:0.52653\n"
     ]
    },
    {
     "name": "stdout",
     "output_type": "stream",
     "text": [
      "[450]\ttrain-ndcg@3:0.94341\tval-ndcg@3:0.52702\n"
     ]
    },
    {
     "name": "stdout",
     "output_type": "stream",
     "text": [
      "[500]\ttrain-ndcg@3:0.94434\tval-ndcg@3:0.52775"
     ]
    },
    {
     "name": "stdout",
     "output_type": "stream",
     "text": [
      "\n"
     ]
    },
    {
     "name": "stdout",
     "output_type": "stream",
     "text": [
      "[550]\ttrain-ndcg@3:0.94534\tval-ndcg@3:0.52871"
     ]
    },
    {
     "name": "stdout",
     "output_type": "stream",
     "text": [
      "\n"
     ]
    },
    {
     "name": "stdout",
     "output_type": "stream",
     "text": [
      "[600]\ttrain-ndcg@3:0.94568\tval-ndcg@3:0.52888"
     ]
    },
    {
     "name": "stdout",
     "output_type": "stream",
     "text": [
      "\n"
     ]
    },
    {
     "name": "stdout",
     "output_type": "stream",
     "text": [
      "[650]\ttrain-ndcg@3:0.94590\tval-ndcg@3:0.52960"
     ]
    },
    {
     "name": "stdout",
     "output_type": "stream",
     "text": [
      "\n"
     ]
    },
    {
     "name": "stdout",
     "output_type": "stream",
     "text": [
      "[700]\ttrain-ndcg@3:0.94604\tval-ndcg@3:0.53005"
     ]
    },
    {
     "name": "stdout",
     "output_type": "stream",
     "text": [
      "\n"
     ]
    },
    {
     "name": "stdout",
     "output_type": "stream",
     "text": [
      "[750]\ttrain-ndcg@3:0.94647\tval-ndcg@3:0.53010"
     ]
    },
    {
     "name": "stdout",
     "output_type": "stream",
     "text": [
      "\n"
     ]
    },
    {
     "name": "stdout",
     "output_type": "stream",
     "text": [
      "[800]\ttrain-ndcg@3:0.94663\tval-ndcg@3:0.53003"
     ]
    },
    {
     "name": "stdout",
     "output_type": "stream",
     "text": [
      "\n"
     ]
    },
    {
     "name": "stdout",
     "output_type": "stream",
     "text": [
      "[850]\ttrain-ndcg@3:0.94671\tval-ndcg@3:0.53056\n"
     ]
    },
    {
     "name": "stdout",
     "output_type": "stream",
     "text": [
      "[859]\ttrain-ndcg@3:0.94668\tval-ndcg@3:0.53056\n"
     ]
    },
    {
     "name": "stdout",
     "output_type": "stream",
     "text": [
      "\n",
      "Training XGBoost model with portion: popular_route...\n"
     ]
    },
    {
     "name": "stdout",
     "output_type": "stream",
     "text": [
      "[0]\ttrain-ndcg@3:0.05348\tval-ndcg@3:0.19735\n"
     ]
    },
    {
     "name": "stdout",
     "output_type": "stream",
     "text": [
      "[50]\ttrain-ndcg@3:0.53433\tval-ndcg@3:0.33252"
     ]
    },
    {
     "name": "stdout",
     "output_type": "stream",
     "text": [
      "\n"
     ]
    },
    {
     "name": "stdout",
     "output_type": "stream",
     "text": [
      "[100]\ttrain-ndcg@3:0.62065\tval-ndcg@3:0.34487\n"
     ]
    },
    {
     "name": "stdout",
     "output_type": "stream",
     "text": [
      "[150]\ttrain-ndcg@3:0.67973\tval-ndcg@3:0.35304"
     ]
    },
    {
     "name": "stdout",
     "output_type": "stream",
     "text": [
      "\n"
     ]
    },
    {
     "name": "stdout",
     "output_type": "stream",
     "text": [
      "[200]\ttrain-ndcg@3:0.72326\tval-ndcg@3:0.35493"
     ]
    },
    {
     "name": "stdout",
     "output_type": "stream",
     "text": [
      "\n"
     ]
    },
    {
     "name": "stdout",
     "output_type": "stream",
     "text": [
      "[250]\ttrain-ndcg@3:0.75490\tval-ndcg@3:0.35729\n"
     ]
    },
    {
     "name": "stdout",
     "output_type": "stream",
     "text": [
      "[300]\ttrain-ndcg@3:0.78367\tval-ndcg@3:0.36076"
     ]
    },
    {
     "name": "stdout",
     "output_type": "stream",
     "text": [
      "\n"
     ]
    },
    {
     "name": "stdout",
     "output_type": "stream",
     "text": [
      "[350]\ttrain-ndcg@3:0.80849\tval-ndcg@3:0.36677"
     ]
    },
    {
     "name": "stdout",
     "output_type": "stream",
     "text": [
      "\n"
     ]
    },
    {
     "name": "stdout",
     "output_type": "stream",
     "text": [
      "[400]\ttrain-ndcg@3:0.82432\tval-ndcg@3:0.36957\n"
     ]
    },
    {
     "name": "stdout",
     "output_type": "stream",
     "text": [
      "[450]\ttrain-ndcg@3:0.83302\tval-ndcg@3:0.37241"
     ]
    },
    {
     "name": "stdout",
     "output_type": "stream",
     "text": [
      "\n"
     ]
    },
    {
     "name": "stdout",
     "output_type": "stream",
     "text": [
      "[500]\ttrain-ndcg@3:0.84213\tval-ndcg@3:0.37386"
     ]
    },
    {
     "name": "stdout",
     "output_type": "stream",
     "text": [
      "\n"
     ]
    },
    {
     "name": "stdout",
     "output_type": "stream",
     "text": [
      "[550]\ttrain-ndcg@3:0.84522\tval-ndcg@3:0.37551"
     ]
    },
    {
     "name": "stdout",
     "output_type": "stream",
     "text": [
      "\n"
     ]
    },
    {
     "name": "stdout",
     "output_type": "stream",
     "text": [
      "[600]\ttrain-ndcg@3:0.84824\tval-ndcg@3:0.37989\n"
     ]
    },
    {
     "name": "stdout",
     "output_type": "stream",
     "text": [
      "[650]\ttrain-ndcg@3:0.85025\tval-ndcg@3:0.38147"
     ]
    },
    {
     "name": "stdout",
     "output_type": "stream",
     "text": [
      "\n"
     ]
    },
    {
     "name": "stdout",
     "output_type": "stream",
     "text": [
      "[700]\ttrain-ndcg@3:0.85332\tval-ndcg@3:0.38226"
     ]
    },
    {
     "name": "stdout",
     "output_type": "stream",
     "text": [
      "\n"
     ]
    },
    {
     "name": "stdout",
     "output_type": "stream",
     "text": [
      "[750]\ttrain-ndcg@3:0.85517\tval-ndcg@3:0.38408"
     ]
    },
    {
     "name": "stdout",
     "output_type": "stream",
     "text": [
      "\n"
     ]
    },
    {
     "name": "stdout",
     "output_type": "stream",
     "text": [
      "[800]\ttrain-ndcg@3:0.85635\tval-ndcg@3:0.38476\n"
     ]
    },
    {
     "name": "stdout",
     "output_type": "stream",
     "text": [
      "[850]\ttrain-ndcg@3:0.85693\tval-ndcg@3:0.38618"
     ]
    },
    {
     "name": "stdout",
     "output_type": "stream",
     "text": [
      "\n"
     ]
    },
    {
     "name": "stdout",
     "output_type": "stream",
     "text": [
      "[859]\ttrain-ndcg@3:0.85693\tval-ndcg@3:0.38617\n"
     ]
    },
    {
     "name": "stdout",
     "output_type": "stream",
     "text": [
      "\n",
      "✅ Training completed. Total models: 7\n"
     ]
    }
   ],
   "source": [
    "import xgboost as xgb\n",
    "import lightgbm as lgb\n",
    "import numpy as np\n",
    "import pandas as pd\n",
    "from sklearn.metrics import ndcg_score\n",
    "\n",
    "# ----------------- Constants and Globals -----------------\n",
    "RANDOM_STATE = 42\n",
    "shap_lgbm_seed = {}\n",
    "xgb_seeds = [50]\n",
    "lgb_seeds = [42]\n",
    "all_models = []\n",
    "feature_importances = []\n",
    "\n",
    "# ----------------- XGBoost Params -----------------\n",
    "xgb_rank_params = {\n",
    "    'objective': 'rank:pairwise',\n",
    "    'eval_metric': 'ndcg@3',\n",
    "    \"learning_rate\": 0.022641389657079056,\n",
    "    \"max_depth\": 14,\n",
    "    \"min_child_weight\": 2,\n",
    "    \"subsample\": 0.8842234913702768,\n",
    "    \"colsample_bytree\": 0.45840689146263086,\n",
    "    \"gamma\": 3.3084297630544888,\n",
    "    \"lambda\": 6.952586917313028,\n",
    "    \"alpha\": 0.6395254133055179,\n",
    "    'seed': RANDOM_STATE,\n",
    "    'n_jobs': -1,\n",
    "}\n",
    "\n",
    "xgb_rank_params_small = {\n",
    "    'objective': 'rank:pairwise',\n",
    "    'eval_metric': 'ndcg@3',\n",
    "    \"learning_rate\": 0.022641389657079056,\n",
    "    \"max_depth\": 14,\n",
    "    \"min_child_weight\": 2,\n",
    "    \"subsample\": 0.8842234913702768,\n",
    "    \"colsample_bytree\": 0.45840689146263086,\n",
    "    \"gamma\": 3.3084297630544888,\n",
    "    \"lambda\": 6.952586917313028,\n",
    "    \"alpha\": 0.6395254133055179,\n",
    "    'seed': 22,\n",
    "    'n_jobs': -1,\n",
    "}\n",
    "\n",
    "xgb_rank_params_big = {\n",
    "    'objective': 'rank:pairwise',\n",
    "    'eval_metric': 'ndcg@3',\n",
    "    \"learning_rate\": 0.022641389657079056,\n",
    "    \"max_depth\": 14,\n",
    "    \"min_child_weight\": 2,\n",
    "    \"subsample\": 0.8842234913702768,\n",
    "    \"colsample_bytree\": 0.45840689146263086,\n",
    "    \"gamma\": 3.3084297630544888,\n",
    "    \"lambda\": 6.952586917313028,\n",
    "    \"alpha\": 0.6395254133055179,\n",
    "    'seed': 19,\n",
    "    'n_jobs': -1,\n",
    "}\n",
    "\n",
    "xgb_rank_params_min0 = {\n",
    "    'objective': 'rank:pairwise',\n",
    "    'eval_metric': 'ndcg@3',\n",
    "    \"learning_rate\": 0.022641389657079056,\n",
    "    \"max_depth\": 14,\n",
    "    \"min_child_weight\": 2,\n",
    "    \"subsample\": 0.8842234913702768,\n",
    "    \"colsample_bytree\": 0.45840689146263086,\n",
    "    \"gamma\": 3.3084297630544888,\n",
    "    \"lambda\": 6.952586917313028,\n",
    "    \"alpha\": 0.6395254133055179,\n",
    "    'seed': 19,\n",
    "    'n_jobs': -1,\n",
    "}\n",
    "\n",
    "xgb_params = {\n",
    "    'full':    xgb_rank_params,\n",
    "    'small':   xgb_rank_params,\n",
    "    'big':     xgb_rank_params,\n",
    "    'min0':    xgb_rank_params,\n",
    "    #'min1':    xgb_rank_params,\n",
    "    'one_way': xgb_rank_params,\n",
    "    #'last_minute': xgb_rank_params,\n",
    "    #'cheapest':    xgb_rank_params,\n",
    "    'loyalty':     xgb_rank_params,\n",
    "    'popular_route': xgb_rank_params,\n",
    "    #'biz':         xgb_rank_params\n",
    "}\n",
    "\n",
    "# ----------------- LightGBM Params -----------------\n",
    "lgb_rank_params = {\n",
    "    'objective': 'lambdarank',\n",
    "    'metric': 'ndcg',\n",
    "    'boosting_type': 'gbdt',\n",
    "    'eval_at': [3],\n",
    "    'num_leaves': 137,\n",
    "    'learning_rate': 0.1923609,\n",
    "    'min_child_samples': 69,\n",
    "    'lambda_l1': 0.0017863,\n",
    "    'lambda_l2': 7.8818,\n",
    "    'feature_fraction': 0.6015,\n",
    "    'bagging_fraction': 0.8536,\n",
    "    'bagging_freq': 7,\n",
    "    'verbosity': -1,\n",
    "    'label_gain': [0, 1]\n",
    "}\n",
    "\n",
    "# ----------------- Drop ranker_id from pandas frames -----------------\n",
    "for df in [\n",
    "    data_xgb_tr_small_pd, data_xgb_tr_big_pd, data_xgb_tr_min0_pd,\n",
    "    data_xgb_tr_one_way_pd, data_xgb_tr_popular_route_pd,\n",
    "    data_xgb_tr_loyalty_pd\n",
    "]:\n",
    "    if 'ranker_id' in df.columns:\n",
    "        df.drop(columns=['ranker_id'], inplace=True)\n",
    "\n",
    "# ----------------- Group sizes for small/big -----------------\n",
    "group_sizes_tr_small        = groups_tr_small.group_by('ranker_id', maintain_order=True).agg(pl.len())['len'].to_numpy()\n",
    "group_sizes_tr_big          = groups_tr_big.group_by('ranker_id', maintain_order=True).agg(pl.len())['len'].to_numpy()\n",
    "group_size_tr_min_0         = groups_tr_min0.group_by('ranker_id', maintain_order=True).agg(pl.len())['len'].to_numpy()\n",
    "#group_size_tr_min_1        = groups_tr_min1.group_by('ranker_id', maintain_order=True).agg(pl.len())['len'].to_numpy()\n",
    "group_size_tr_one_way        = groups_tr_one_way.group_by('ranker_id', maintain_order=True).agg(pl.len())['len'].to_numpy()\n",
    "group_size_tr_popular_route        = groups_tr_popular_route_way.group_by('ranker_id', maintain_order=True).agg(pl.len())['len'].to_numpy()\n",
    "#group_sizes_tr_last_minute  = groups_tr_last_minute.group_by('ranker_id', maintain_order=True).agg(pl.len())['len'].to_numpy()\n",
    "#group_sizes_tr_cheapest     = groups_tr_cheapest.group_by('ranker_id', maintain_order=True).agg(pl.len())['len'].to_numpy()\n",
    "#group_sizes_tr_direct       = groups_tr_direct.group_by('ranker_id', maintain_order=True).agg(pl.len())['len'].to_numpy()\n",
    "group_sizes_tr_loyalty      = groups_tr_loyalty.group_by('ranker_id', maintain_order=True).agg(pl.len())['len'].to_numpy()\n",
    "#group_sizes_tr_biz          = groups_tr_biz.group_by('ranker_id', maintain_order=True).agg(pl.len())['len'].to_numpy()\n",
    "\n",
    "# ----------------- DMatrix Setup -----------------\n",
    "dtrain_full = xgb.DMatrix(\n",
    "    data_xgb_tr.drop('ranker_id').to_pandas(),\n",
    "    label=y_tr['selected'].to_numpy(),\n",
    "    group=group_sizes_tr,\n",
    "    feature_names=data_xgb.drop('ranker_id').columns\n",
    ")\n",
    "\n",
    "dtrain_small = xgb.DMatrix(data_xgb_tr_small_pd, label=y_tr_small_pd, group=group_sizes_tr_small, feature_names=list(data_xgb_tr_small_pd.columns))\n",
    "dtrain_big   = xgb.DMatrix(data_xgb_tr_big_pd,   label=y_tr_big_pd,   group=group_sizes_tr_big,   feature_names=list(data_xgb_tr_big_pd.columns))\n",
    "dtrain_min_0 = xgb.DMatrix(data_xgb_tr_min0_pd,  label=y_tr_min0_pd,  group=group_size_tr_min_0,  feature_names=list(data_xgb_tr_min0_pd.columns))\n",
    "#dtrain_min_1 = xgb.DMatrix(data_xgb_tr_min1_pd,  label=y_tr_min1_pd,  group=group_size_tr_min_1,  feature_names=list(data_xgb_tr_min1_pd.columns))\n",
    "dtrain_one_way = xgb.DMatrix(data_xgb_tr_one_way_pd,  label=y_tr_one_way_pd,  group=group_size_tr_one_way,  feature_names=list(data_xgb_tr_one_way_pd.columns))\n",
    "dtrain_popular_route = xgb.DMatrix(data_xgb_tr_popular_route_pd,  label=y_tr_popular_route_pd,  group=group_size_tr_popular_route,  feature_names=list(data_xgb_tr_popular_route_pd.columns))\n",
    "\n",
    "# New scenarios\n",
    "#dtrain_last_minute = xgb.DMatrix(data_xgb_tr_last_minute_pd, label=y_tr_last_minute_pd, group=group_sizes_tr_last_minute, feature_names=list(data_xgb_tr_last_minute_pd.columns))\n",
    "#dtrain_cheapest    = xgb.DMatrix(data_xgb_tr_cheapest_pd,    label=y_tr_cheapest_pd,    group=group_sizes_tr_cheapest,    feature_names=list(data_xgb_tr_cheapest_pd.columns))\n",
    "dtrain_loyalty     = xgb.DMatrix(data_xgb_tr_loyalty_pd,     label=y_tr_loyalty_pd,     group=group_sizes_tr_loyalty,     feature_names=list(data_xgb_tr_loyalty_pd.columns))\n",
    "#dtrain_biz         = xgb.DMatrix(data_xgb_tr_biz_pd,         label=y_tr_biz_pd,         group=group_sizes_tr_biz,         feature_names=list(data_xgb_tr_biz_pd.columns))\n",
    "\n",
    "# Validation and Test remain unchanged\n",
    "dval = xgb.DMatrix(data_xgb_va.drop('ranker_id').to_pandas(), label=y_va['selected'].to_numpy(), group=group_sizes_va, feature_names=data_xgb.drop('ranker_id').columns)\n",
    "dtest = xgb.DMatrix(data_xgb_te.drop('ranker_id').to_pandas(), label=y_te['selected'].to_numpy(), group=group_sizes_te, feature_names=data_xgb.drop('ranker_id').columns)\n",
    "\n",
    "# ----------------- Train XGBoost Models -----------------\n",
    "for portion, params in xgb_params.items():\n",
    "    print(f\"\\nTraining XGBoost model with portion: {portion}...\")\n",
    "\n",
    "    train_map = {\n",
    "        'full':        dtrain_full,\n",
    "        'small':       dtrain_small,\n",
    "        'big':         dtrain_big,\n",
    "        'min0':        dtrain_min_0,\n",
    "        #'min1':        dtrain_min_1,\n",
    "        'one_way':     dtrain_one_way,\n",
    "        'popular_route': dtrain_popular_route,\n",
    "        #'last_minute': dtrain_last_minute,\n",
    "        #'cheapest':    dtrain_cheapest,\n",
    "        #'direct':      dtrain_direct,\n",
    "        'loyalty':     dtrain_loyalty,\n",
    "        #'biz':         dtrain_biz\n",
    "    }\n",
    "\n",
    "    train = train_map[portion]\n",
    "    val   = dval\n",
    "\n",
    "    params = params.copy()\n",
    "    params['seed'] = RANDOM_STATE\n",
    "\n",
    "    model = xgb.train(\n",
    "        params,\n",
    "        train,\n",
    "        num_boost_round=860,\n",
    "        evals=[(train, 'train'), (val, 'val')],\n",
    "        # early_stopping_rounds=100,\n",
    "        verbose_eval=50\n",
    "    )\n",
    "\n",
    "    all_models.append(('xgb', RANDOM_STATE, portion, model))\n",
    "\n",
    "    # Feature importance\n",
    "    xgb_fi = pd.DataFrame.from_dict(\n",
    "        model.get_score(importance_type='gain'),\n",
    "        orient='index',\n",
    "        columns=['importance_gain']\n",
    "    ).reset_index()\n",
    "    xgb_fi.columns = ['feature', 'importance_gain']\n",
    "    xgb_fi['importance_split'] = list(model.get_score(importance_type='weight').values())\n",
    "    xgb_fi['seed'] = RANDOM_STATE\n",
    "    xgb_fi['model_type'] = 'xgb'\n",
    "    xgb_fi['portion'] = portion\n",
    "    feature_importances.append(xgb_fi)\n",
    "\n",
    "# ----------------- Optional: Train LightGBM -----------------\n",
    "# Uncomment if needed\n",
    "\n",
    "# for seed in lgb_seeds:\n",
    "#     print(f\"\\nTraining LightGBM model with seed {seed}...\")\n",
    "#     lgb_train = lgb.Dataset(\n",
    "#         data=data_xgb_tr.drop('ranker_id').to_pandas(),\n",
    "#         label=y_tr['selected'].to_numpy(),\n",
    "#         group=group_sizes_tr_lgb,\n",
    "#         feature_name=data_xgb.drop('ranker_id').columns,\n",
    "#         free_raw_data=False\n",
    "#     )\n",
    "#     lgb_val = lgb.Dataset(\n",
    "#         data=data_xgb_va.drop('ranker_id').to_pandas(),\n",
    "#         label=y_va['selected'].to_numpy(),\n",
    "#         group=group_sizes_va_lgb,\n",
    "#         feature_name=data_xgb.drop('ranker_id').columns,\n",
    "#         reference=lgb_train,\n",
    "#         free_raw_data=False\n",
    "#     )\n",
    "#     params = lgb_rank_params.copy()\n",
    "#     params['seed'] = seed\n",
    "\n",
    "#     model = lgb.train(\n",
    "#         params,\n",
    "#         lgb_train,\n",
    "#         num_boost_round=1700,\n",
    "#         valid_sets=[lgb_train, lgb_val],\n",
    "#         callbacks=[lgb.early_stopping(300), lgb.log_evaluation(50)]\n",
    "#     )\n",
    "\n",
    "#     all_models.append(('lgb', seed, model))\n",
    "\n",
    "#     fi_df = pd.DataFrame({\n",
    "#         'feature': data_xgb.drop('ranker_id').columns,\n",
    "#         'importance_split': model.feature_importance(importance_type='split'),\n",
    "#         'importance_gain': model.feature_importance(importance_type='gain'),\n",
    "#         'seed': seed,\n",
    "#         'model_type': 'lgb'\n",
    "#     })\n",
    "#     feature_importances.append(fi_df)\n",
    "\n",
    "# ----------------- Combine Feature Importances -----------------\n",
    "all_feature_importance = pd.concat(feature_importances, ignore_index=True)\n",
    "\n",
    "print(\"\\n✅ Training completed. Total models:\", len(all_models))\n"
   ]
  },
  {
   "cell_type": "code",
   "execution_count": 17,
   "id": "08a39cd9",
   "metadata": {
    "execution": {
     "iopub.execute_input": "2025-08-14T17:28:24.656370Z",
     "iopub.status.busy": "2025-08-14T17:28:24.656078Z",
     "iopub.status.idle": "2025-08-14T17:28:24.686184Z",
     "shell.execute_reply": "2025-08-14T17:28:24.680343Z"
    },
    "papermill": {
     "duration": 0.060126,
     "end_time": "2025-08-14T17:28:24.688993",
     "exception": false,
     "start_time": "2025-08-14T17:28:24.628867",
     "status": "completed"
    },
    "tags": []
   },
   "outputs": [
    {
     "name": "stdout",
     "output_type": "stream",
     "text": [
      "   model_type                                                 feature  \\\n",
      "19        xgb                                         is_min_segments   \n",
      "10        xgb                                           free_exchange   \n",
      "23        xgb                                                  l0_seg   \n",
      "42        xgb                                legs0_segments1_duration   \n",
      "9         xgb                                             free_cancel   \n",
      "74        xgb                                  pricingInfo_isAccessTP   \n",
      "13        xgb                                           has_access_tp   \n",
      "36        xgb                              legs0_segments0_cabinClass   \n",
      "0         xgb                                         avg_cabin_class   \n",
      "34        xgb               legs0_segments0_baggageAllowance_quantity   \n",
      "18        xgb                                        is_major_carrier   \n",
      "30        xgb                                          legs0_duration   \n",
      "81        xgb                                          total_segments   \n",
      "35        xgb  legs0_segments0_baggageAllowance_weightMeasurementType   \n",
      "61        xgb                                legs1_segments1_duration   \n",
      "65        xgb                               miniRules1_monetaryAmount   \n",
      "63        xgb                               miniRules0_monetaryAmount   \n",
      "54        xgb  legs1_segments0_baggageAllowance_weightMeasurementType   \n",
      "1         xgb                                        cabin_class_diff   \n",
      "66        xgb                                  miniRules1_statusInfos   \n",
      "7         xgb                                           duration_rank   \n",
      "17        xgb                                             is_cheapest   \n",
      "16        xgb                                                   isVip   \n",
      "53        xgb               legs1_segments0_baggageAllowance_quantity   \n",
      "21        xgb                                        is_popular_route   \n",
      "80        xgb                                          total_duration   \n",
      "70        xgb                                       price_from_median   \n",
      "55        xgb                              legs1_segments0_cabinClass   \n",
      "4         xgb                                     carrier_pop_product   \n",
      "2         xgb                                            carrier0_pop   \n",
      "71        xgb                                          price_pct_rank   \n",
      "64        xgb                                  miniRules0_statusInfos   \n",
      "68        xgb                                         n_segments_leg0   \n",
      "14        xgb                                    has_corporate_tariff   \n",
      "22        xgb                                             is_vip_freq   \n",
      "40        xgb                   legs0_segments0_marketingCarrier_code   \n",
      "15        xgb                                              isAccess3D   \n",
      "3         xgb                                            carrier1_pop   \n",
      "73        xgb                                              price_rank   \n",
      "59        xgb                   legs1_segments0_marketingCarrier_code   \n",
      "49        xgb                                          legs1_duration   \n",
      "47        xgb                                  legs1_departureAt_hour   \n",
      "6         xgb                                     corporateTariffCode   \n",
      "78        xgb                                                   taxes   \n",
      "38        xgb                                legs0_segments0_duration   \n",
      "41        xgb                   legs0_segments0_operatingCarrier_code   \n",
      "60        xgb                   legs1_segments0_operatingCarrier_code   \n",
      "57        xgb                                legs1_segments0_duration   \n",
      "12        xgb                                          group_size_log   \n",
      "46        xgb                         legs1_departureAt_business_time   \n",
      "44        xgb                                    legs1_arrivalAt_hour   \n",
      "27        xgb                         legs0_departureAt_business_time   \n",
      "52        xgb                  legs1_segments0_arrivalTo_airport_iata   \n",
      "28        xgb                                  legs0_departureAt_hour   \n",
      "56        xgb              legs1_segments0_departureFrom_airport_iata   \n",
      "5         xgb                                               companyID   \n",
      "8         xgb                                          duration_ratio   \n",
      "58        xgb                            legs1_segments0_flightNumber   \n",
      "51        xgb             legs1_segments0_arrivalTo_airport_city_iata   \n",
      "79        xgb                                              totalPrice   \n",
      "39        xgb                            legs0_segments0_flightNumber   \n",
      "11        xgb                                              group_size   \n",
      "69        xgb                                             nationality   \n",
      "25        xgb                                    legs0_arrivalAt_hour   \n",
      "72        xgb                                           price_per_tax   \n",
      "32        xgb             legs0_segments0_arrivalTo_airport_city_iata   \n",
      "33        xgb                  legs0_segments0_arrivalTo_airport_iata   \n",
      "67        xgb                                           n_ff_programs   \n",
      "45        xgb                                 legs1_arrivalAt_weekday   \n",
      "75        xgb                                             searchRoute   \n",
      "48        xgb                               legs1_departureAt_weekday   \n",
      "62        xgb                                               log_price   \n",
      "37        xgb              legs0_segments0_departureFrom_airport_iata   \n",
      "77        xgb                                                tax_rate   \n",
      "31        xgb                           legs0_segments0_aircraft_code   \n",
      "29        xgb                               legs0_departureAt_weekday   \n",
      "26        xgb                                 legs0_arrivalAt_weekday   \n",
      "50        xgb                           legs1_segments0_aircraft_code   \n",
      "43        xgb                           legs1_arrivalAt_business_time   \n",
      "24        xgb                           legs0_arrivalAt_business_time   \n",
      "76        xgb                                                     sex   \n",
      "20        xgb                                              is_one_way   \n",
      "\n",
      "    importance_split  importance_gain  \n",
      "19        315.857143      1807.238236  \n",
      "10        711.714286       127.169076  \n",
      "23        594.142857       105.510987  \n",
      "42       4793.285714        45.763819  \n",
      "9         798.714286        44.702685  \n",
      "74       1633.428571        39.760798  \n",
      "13        854.571429        39.100580  \n",
      "36        842.428571        38.382359  \n",
      "0         965.428571        36.275652  \n",
      "34       4272.857143        30.972253  \n",
      "18        763.142857        26.385373  \n",
      "30      13362.285714        26.172038  \n",
      "81         46.000000        23.863989  \n",
      "35        222.666667        22.418020  \n",
      "61       1846.800000        20.625012  \n",
      "65       4364.142857        20.149327  \n",
      "63       4169.000000        18.753974  \n",
      "54         71.000000        18.614314  \n",
      "1         570.285714        17.577935  \n",
      "66       1634.857143        17.319712  \n",
      "7       28967.428571        16.888530  \n",
      "17       1148.142857        16.282607  \n",
      "16       2066.571429        16.095276  \n",
      "53       1722.833333        15.164773  \n",
      "21        517.500000        15.061580  \n",
      "80      13649.714286        14.341472  \n",
      "70      31095.714286        13.643708  \n",
      "55        329.333333        13.360014  \n",
      "4        1760.833333        12.895316  \n",
      "2        3540.714286        12.846287  \n",
      "71      30707.857143        12.340762  \n",
      "64        722.000000        12.313733  \n",
      "68         45.333333        12.168881  \n",
      "14        761.142857        12.028294  \n",
      "22       3138.166667        12.011886  \n",
      "40       4183.571429        11.967047  \n",
      "15       1596.142857        11.906193  \n",
      "3        1603.833333        10.979258  \n",
      "73      27570.714286        10.806824  \n",
      "59       1892.000000        10.613855  \n",
      "49       6624.333333        10.420715  \n",
      "47      10975.000000        10.354718  \n",
      "6       13273.571429        10.154770  \n",
      "78      16754.428571        10.056058  \n",
      "38      12268.142857        10.049641  \n",
      "41       4508.857143         9.954423  \n",
      "60       2188.333333         9.619959  \n",
      "57       5287.500000         9.364699  \n",
      "12      15146.142857         9.364647  \n",
      "46       1301.500000         9.243568  \n",
      "44      11406.833333         9.179618  \n",
      "27       3141.285714         9.116364  \n",
      "52       3851.500000         8.999184  \n",
      "28      21020.000000         8.922222  \n",
      "56       5465.833333         8.880321  \n",
      "5       30964.428571         8.858834  \n",
      "8       15095.166667         8.693091  \n",
      "58      13569.833333         8.651573  \n",
      "51       3093.500000         8.626512  \n",
      "79      31280.428571         8.556968  \n",
      "39      28446.428571         8.534008  \n",
      "11      27425.000000         8.529088  \n",
      "69       1635.571429         8.492712  \n",
      "25      22670.571429         8.406525  \n",
      "72      29720.857143         8.373654  \n",
      "32       8046.285714         8.327449  \n",
      "33       9254.285714         8.216566  \n",
      "67       6093.857143         8.174828  \n",
      "45       4817.000000         8.145965  \n",
      "75      12761.571429         8.133866  \n",
      "48       5450.000000         8.109453  \n",
      "62      16869.428571         8.073381  \n",
      "37       9738.428571         7.967581  \n",
      "77      19959.428571         7.912030  \n",
      "31      10505.142857         7.880201  \n",
      "29      10549.000000         7.841086  \n",
      "26       9102.714286         7.792028  \n",
      "50       5333.333333         7.741544  \n",
      "43       1450.000000         7.635429  \n",
      "24       2925.000000         7.596027  \n",
      "76       3194.857143         7.400172  \n",
      "20          1.500000         5.432915  \n"
     ]
    }
   ],
   "source": [
    "# Group by feature and model_type\n",
    "agg_importance = (\n",
    "    all_feature_importance\n",
    "    .groupby([\"model_type\", \"feature\"])[[\"importance_split\", \"importance_gain\"]]\n",
    "    .mean()\n",
    "    .reset_index()\n",
    ")\n",
    "\n",
    "# Separate and sort LightGBM and XGBoost\n",
    "# lgb_fi_sorted = (\n",
    "#     agg_importance[agg_importance[\"model_type\"] == \"lgb\"]\n",
    "#     .sort_values(\"importance_gain\", ascending=False)\n",
    "# )\n",
    "\n",
    "xgb_fi_sorted = (\n",
    "    agg_importance[agg_importance[\"model_type\"] == \"xgb\"]\n",
    "    .sort_values(\"importance_gain\", ascending=False)\n",
    ")\n",
    "\n",
    "# # Display top features\n",
    "# print(\"🔝 Top LightGBM Features (by Gain):\")\n",
    "# print(lgb_fi_sorted.head(30))\n",
    "\n",
    "pd.set_option('display.max_rows', None)     # Show all rows\n",
    "pd.set_option('display.max_columns', None)  # Show all columns\n",
    "pd.set_option('display.width', 0)           # Auto-detect width\n",
    "pd.set_option('display.max_colwidth', None) # Show full content in cells\n",
    "\n",
    "print(xgb_fi_sorted.head(100))"
   ]
  },
  {
   "cell_type": "code",
   "execution_count": 18,
   "id": "83e1aceb",
   "metadata": {
    "execution": {
     "iopub.execute_input": "2025-08-14T17:28:24.742631Z",
     "iopub.status.busy": "2025-08-14T17:28:24.742314Z",
     "iopub.status.idle": "2025-08-14T17:28:36.957928Z",
     "shell.execute_reply": "2025-08-14T17:28:36.953899Z"
    },
    "papermill": {
     "duration": 12.24794,
     "end_time": "2025-08-14T17:28:36.961865",
     "exception": false,
     "start_time": "2025-08-14T17:28:24.713925",
     "status": "completed"
    },
    "tags": []
   },
   "outputs": [
    {
     "name": "stdout",
     "output_type": "stream",
     "text": [
      "\n",
      "📊 Averaging predictions on validation set...\n"
     ]
    },
    {
     "name": "stdout",
     "output_type": "stream",
     "text": [
      "✅ Ensemble NDCG@3: 0.5307\n"
     ]
    },
    {
     "name": "stdout",
     "output_type": "stream",
     "text": [
      "🎯 Ensemble HitRate@3: 0.8258\n"
     ]
    }
   ],
   "source": [
    "from sklearn.metrics import ndcg_score\n",
    "import numpy as np\n",
    "\n",
    "# --- Separate LGB and XGB models from all_models ---\n",
    "#lgb_models = [m for (typ, _, m) in all_models if typ == 'lgb']\n",
    "xgb_models = [model for (typ, _, _, model) in all_models if typ == 'xgb']\n",
    "\n",
    "# --- Predict on validation set and average ---\n",
    "print(\"\\n📊 Averaging predictions on validation set...\")\n",
    "\n",
    "# LightGBM predictions\n",
    "#preds_val_lgb = np.mean([model.predict(data_xgb_va) for model in lgb_models], axis=0)\n",
    "\n",
    "# XGBoost predictions\n",
    "data_xgb_va_pd = data_xgb_va.drop('ranker_id').to_pandas()\n",
    "dval = xgb.DMatrix(data_xgb_va_pd)\n",
    "preds_val_xgb = np.mean([model.predict(dval) for model in xgb_models], axis=0)\n",
    "\n",
    "# Combine XGBoost predictions\n",
    "preds_val = preds_val_xgb\n",
    "\n",
    "# Convert labels to numeric if needed\n",
    "y_true = y_va['selected'].to_numpy().flatten()\n",
    "\n",
    "# Evaluate NDCG@3\n",
    "ndcg_val = ndcg_score([y_true], [preds_val], k=3)\n",
    "print(f\"✅ Ensemble NDCG@3: {ndcg_val:.4f}\")\n",
    "\n",
    "# Evaluate HitRate@3 (if function is defined)\n",
    "ensemble_hr3 = hitrate_at_3(y_true, preds_val, groups_va['ranker_id'])\n",
    "print(f\"🎯 Ensemble HitRate@3: {ensemble_hr3:.4f}\")"
   ]
  },
  {
   "cell_type": "code",
   "execution_count": 19,
   "id": "dc547895",
   "metadata": {
    "execution": {
     "iopub.execute_input": "2025-08-14T17:28:37.015803Z",
     "iopub.status.busy": "2025-08-14T17:28:37.015511Z",
     "iopub.status.idle": "2025-08-14T17:28:37.030763Z",
     "shell.execute_reply": "2025-08-14T17:28:37.025460Z"
    },
    "papermill": {
     "duration": 0.045897,
     "end_time": "2025-08-14T17:28:37.033419",
     "exception": false,
     "start_time": "2025-08-14T17:28:36.987522",
     "status": "completed"
    },
    "tags": []
   },
   "outputs": [],
   "source": [
    "def re_rank(test: pl.DataFrame, submission_xgb: pl.DataFrame, penalty_factor=0.12):\n",
    "    COLS_TO_COMPARE = [\n",
    "        \"legs0_departureAt\",\n",
    "        \"legs0_arrivalAt\",\n",
    "        \"legs1_departureAt\",\n",
    "        \"legs1_arrivalAt\",\n",
    "        \"legs0_segments0_flightNumber\",\n",
    "        \"legs1_segments0_flightNumber\",\n",
    "        \"legs0_segments0_aircraft_code\",\n",
    "        \"legs1_segments0_aircraft_code\",\n",
    "        \"legs0_segments0_departureFrom_airport_iata\",\n",
    "        \"legs1_segments0_departureFrom_airport_iata\",\n",
    "    ]\n",
    "\n",
    "    test = test.with_columns(\n",
    "        [pl.col(c).cast(str).fill_null(\"NULL\") for c in COLS_TO_COMPARE]\n",
    "    )\n",
    "\n",
    "    df = submission_xgb.join(test, on=[\"Id\", \"ranker_id\"], how=\"left\")\n",
    "\n",
    "    df = df.with_columns(\n",
    "        (\n",
    "            pl.col(\"legs0_departureAt\")\n",
    "            + \"_\"\n",
    "            + pl.col(\"legs0_arrivalAt\")\n",
    "            + \"_\"\n",
    "            + pl.col(\"legs1_departureAt\")\n",
    "            + \"_\"\n",
    "            + pl.col(\"legs1_arrivalAt\")\n",
    "            + \"_\"\n",
    "            + pl.col(\"legs0_segments0_flightNumber\")\n",
    "            + \"_\"\n",
    "            + pl.col(\"legs1_segments0_flightNumber\")\n",
    "        ).alias(\"flight_hash\")\n",
    "    )\n",
    "\n",
    "    df = df.with_columns(\n",
    "        pl.max(\"pred_score\")\n",
    "        .over([\"ranker_id\", \"flight_hash\"])\n",
    "        .alias(\"max_score_same_flight\")\n",
    "    )\n",
    "\n",
    "    df = df.with_columns(\n",
    "        (\n",
    "            pl.col(\"pred_score\")\n",
    "            - penalty_factor * (pl.col(\"max_score_same_flight\") - pl.col(\"pred_score\"))\n",
    "        ).alias(\"reorder_score\")\n",
    "    )\n",
    "\n",
    "    df = df.with_columns(\n",
    "        pl.col(\"reorder_score\")\n",
    "        .rank(method=\"ordinal\", descending=True)\n",
    "        .over(\"ranker_id\")\n",
    "        .cast(pl.Int32)\n",
    "        .alias(\"new_selected\")\n",
    "    )\n",
    "\n",
    "    return df.select([\"Id\", \"ranker_id\", \"new_selected\", \"pred_score\", \"reorder_score\"])"
   ]
  },
  {
   "cell_type": "code",
   "execution_count": 20,
   "id": "7a645d24",
   "metadata": {
    "execution": {
     "iopub.execute_input": "2025-08-14T17:28:37.085372Z",
     "iopub.status.busy": "2025-08-14T17:28:37.085061Z",
     "iopub.status.idle": "2025-08-14T17:29:26.446229Z",
     "shell.execute_reply": "2025-08-14T17:29:26.439887Z"
    },
    "papermill": {
     "duration": 49.408282,
     "end_time": "2025-08-14T17:29:26.465991",
     "exception": false,
     "start_time": "2025-08-14T17:28:37.057709",
     "status": "completed"
    },
    "tags": []
   },
   "outputs": [
    {
     "name": "stdout",
     "output_type": "stream",
     "text": [
      "\n",
      "📦 Generating predictions on test set...\n"
     ]
    },
    {
     "name": "stdout",
     "output_type": "stream",
     "text": [
      "\n",
      "✅ Submission file 'submission.csv' created successfully.\n",
      "shape: (5, 3)\n",
      "┌──────────┬─────────────────────────────────┬──────────┐\n",
      "│ Id       ┆ ranker_id                       ┆ selected │\n",
      "│ ---      ┆ ---                             ┆ ---      │\n",
      "│ i64      ┆ str                             ┆ i32      │\n",
      "╞══════════╪═════════════════════════════════╪══════════╡\n",
      "│ 18144679 ┆ c9373e5f772e43d593dd6ad2fa90f6… ┆ 3        │\n",
      "│ 18144680 ┆ c9373e5f772e43d593dd6ad2fa90f6… ┆ 28       │\n",
      "│ 18144681 ┆ c9373e5f772e43d593dd6ad2fa90f6… ┆ 244      │\n",
      "│ 18144682 ┆ c9373e5f772e43d593dd6ad2fa90f6… ┆ 89       │\n",
      "│ 18144683 ┆ c9373e5f772e43d593dd6ad2fa90f6… ┆ 82       │\n",
      "└──────────┴─────────────────────────────────┴──────────┘\n"
     ]
    }
   ],
   "source": [
    "# --- Predict on test set ---\n",
    "print(\"\\n📦 Generating predictions on test set...\")\n",
    "\n",
    "# LightGBM test predictions\n",
    "#preds_test_lgb = np.mean([model.predict(data_xgb_te) for model in lgb_models], axis=0)\n",
    "\n",
    "# # XGBoost test predictions\n",
    "\n",
    "data_xgb_te_pd = data_xgb_te.drop('ranker_id').to_pandas()\n",
    "dtest = xgb.DMatrix(data_xgb_te_pd)\n",
    "preds_test_xgb = np.mean([model.predict(dtest) for model in xgb_models], axis=0)\n",
    "\n",
    "# Combined test ensemble\n",
    "ensemble_test_preds =  preds_test_xgb\n",
    "\n",
    "submission_df = (\n",
    "    test.select(['Id', 'ranker_id'])\n",
    "    .with_columns(pl.Series('pred_score', ensemble_test_preds))\n",
    "    .with_columns(\n",
    "        pl.col('pred_score')\n",
    "        .rank(method='ordinal', descending=True)\n",
    "        .over('ranker_id')\n",
    "        .cast(pl.Int32)\n",
    "        .alias('selected')\n",
    "    )\n",
    "    .select(['Id', 'ranker_id', 'selected', 'pred_score'])\n",
    ")\n",
    "\n",
    "top = re_rank(test, submission_df)\n",
    "\n",
    "submission_df = (\n",
    "    submission_df.join(top, on=[\"Id\", \"ranker_id\"], how=\"left\")\n",
    "    .with_columns(\n",
    "        [\n",
    "            pl.when(pl.col(\"new_selected\").is_not_null())\n",
    "            .then(pl.col(\"new_selected\"))\n",
    "            .otherwise(pl.col(\"selected\"))\n",
    "            .alias(\"selected\")\n",
    "        ]\n",
    "    )\n",
    "    .select([\"Id\", \"ranker_id\", \"selected\"])\n",
    ")\n",
    "\n",
    "\n",
    "# --- Save to CSV ---\n",
    "submission_df.write_csv('submission.csv')\n",
    "print(\"\\n✅ Submission file 'submission.csv' created successfully.\")\n",
    "print(submission_df.head())"
   ]
  },
  {
   "cell_type": "code",
   "execution_count": 21,
   "id": "3f4954ec",
   "metadata": {
    "execution": {
     "iopub.execute_input": "2025-08-14T17:29:26.518377Z",
     "iopub.status.busy": "2025-08-14T17:29:26.518045Z",
     "iopub.status.idle": "2025-08-14T17:29:26.527278Z",
     "shell.execute_reply": "2025-08-14T17:29:26.523376Z"
    },
    "papermill": {
     "duration": 0.039078,
     "end_time": "2025-08-14T17:29:26.530033",
     "exception": false,
     "start_time": "2025-08-14T17:29:26.490955",
     "status": "completed"
    },
    "tags": []
   },
   "outputs": [],
   "source": [
    "# import xgboost as xgb\n",
    "\n",
    "# xgb_rank_params = {\n",
    "#     'objective': 'rank:ndcg',       # or use 'rank:pairwise' as alternative\n",
    "#     'learning_rate': 0.1,\n",
    "#     'gamma': 1.0,\n",
    "#     'min_child_weight': 30,\n",
    "#     'max_depth': 6,\n",
    "#     'subsample': 0.85,\n",
    "#     'colsample_bytree': 0.6,\n",
    "#     'lambda': 1.0,\n",
    "#     'alpha': 0.1,\n",
    "#     'eval_metric': 'ndcg@3',\n",
    "#     'verbosity': 1,\n",
    "#     'seed': 42,\n",
    "#     'tree_method': 'hist',          # optional for speed\n",
    "# }\n",
    "\n",
    "# print(\"Training XGBoost ranker...\")\n",
    "\n",
    "# # Create DMatrix for XGBoost\n",
    "# xgb_train = xgb.DMatrix(data_xgb_tr, label=y_tr.to_numpy().flatten())\n",
    "# xgb_val = xgb.DMatrix(data_xgb_va, label=y_va.to_numpy().flatten())\n",
    "\n",
    "# xgb_train.set_group(group_sizes_tr)\n",
    "# xgb_val.set_group(group_sizes_va)\n",
    "\n",
    "# # Train XGBoost ranking model\n",
    "# xgb_model = xgb.train(\n",
    "#     xgb_rank_params,\n",
    "#     dtrain=xgb_train,\n",
    "#     num_boost_round=500,\n",
    "#     evals=[(xgb_train, \"train\"), (xgb_val, \"valid\")],\n",
    "#     early_stopping_rounds=50,\n",
    "#     verbose_eval=50\n",
    "# )\n",
    "\n",
    "# xgb_fi = pd.DataFrame.from_dict(xgb_model.get_score(importance_type='gain'), orient='index', columns=['importance_gain']).reset_index()\n",
    "# xgb_fi.columns = ['feature', 'importance_gain']\n",
    "# xgb_fi = xgb_fi.sort_values('importance_gain', ascending=False)\n"
   ]
  },
  {
   "cell_type": "code",
   "execution_count": 22,
   "id": "b2da0edf",
   "metadata": {
    "execution": {
     "iopub.execute_input": "2025-08-14T17:29:26.582948Z",
     "iopub.status.busy": "2025-08-14T17:29:26.582716Z",
     "iopub.status.idle": "2025-08-14T17:29:26.591586Z",
     "shell.execute_reply": "2025-08-14T17:29:26.587438Z"
    },
    "papermill": {
     "duration": 0.038831,
     "end_time": "2025-08-14T17:29:26.594275",
     "exception": false,
     "start_time": "2025-08-14T17:29:26.555444",
     "status": "completed"
    },
    "tags": []
   },
   "outputs": [],
   "source": [
    "# xgb_fi.head(30)"
   ]
  },
  {
   "cell_type": "code",
   "execution_count": 23,
   "id": "d119be91",
   "metadata": {
    "execution": {
     "iopub.execute_input": "2025-08-14T17:29:26.645166Z",
     "iopub.status.busy": "2025-08-14T17:29:26.644942Z",
     "iopub.status.idle": "2025-08-14T17:29:26.654395Z",
     "shell.execute_reply": "2025-08-14T17:29:26.650498Z"
    },
    "papermill": {
     "duration": 0.038503,
     "end_time": "2025-08-14T17:29:26.656692",
     "exception": false,
     "start_time": "2025-08-14T17:29:26.618189",
     "status": "completed"
    },
    "tags": []
   },
   "outputs": [],
   "source": [
    "# import lightgbm as lgb\n",
    "# import numpy as np\n",
    "# from sklearn.metrics import ndcg_score\n",
    "\n",
    "# lgb_rank_params = {\n",
    "#     'objective': 'lambdarank',\n",
    "#     'metric': 'ndcg',\n",
    "#     'boosting_type': 'gbdt',\n",
    "#     'eval_at': [3],\n",
    "#     'num_leaves': 137,\n",
    "#     'learning_rate': 0.1923609,\n",
    "#     'min_child_samples': 69,\n",
    "#     'lambda_l1': 0.0017863,\n",
    "#     'lambda_l2': 7.8818,\n",
    "#     'feature_fraction': 0.6015,\n",
    "#     'bagging_fraction': 0.8536,\n",
    "#     'bagging_freq': 7,\n",
    "#     'verbosity': -1,\n",
    "#     'label_gain': [0, 1]\n",
    "# }\n",
    "\n",
    "\n",
    "# models = []\n",
    "# lgb_seeds = [12, 32, 42]\n",
    "\n",
    "# feature_importances = []\n",
    "\n",
    "# for seed in lgb_seeds:\n",
    "#     params = lgb_rank_params.copy()\n",
    "#     params['seed'] = seed\n",
    "\n",
    "#     print(f\"Training LightGBM model with seed {seed}...\")\n",
    "    \n",
    "#     lgb_train = lgb.Dataset(\n",
    "#         data=data_xgb_tr,\n",
    "#         label=y_tr.to_numpy().flatten(),\n",
    "#         group=group_sizes_tr,\n",
    "#         feature_name=feature_cols,\n",
    "#         free_raw_data=False\n",
    "#     )\n",
    "\n",
    "#     lgb_val = lgb.Dataset(\n",
    "#         data=data_xgb_va,\n",
    "#         label=y_va.to_numpy().flatten(),\n",
    "#         group=group_sizes_va,\n",
    "#         feature_name=feature_cols,\n",
    "#         reference=lgb_train,\n",
    "#         free_raw_data=False\n",
    "#     )\n",
    "\n",
    "#     model = lgb.train(\n",
    "#         params,\n",
    "#         lgb_train,\n",
    "#         num_boost_round=1500,\n",
    "#         valid_sets=[lgb_train, lgb_val],\n",
    "#         callbacks=[lgb.early_stopping(100), lgb.log_evaluation(50)]\n",
    "#     )\n",
    "\n",
    "#     models.append(model)\n",
    "\n",
    "#     # Store feature importance\n",
    "#     fi_df = pd.DataFrame({\n",
    "#         'feature': feature_cols,\n",
    "#         'importance_split': model.feature_importance(importance_type='split'),\n",
    "#         'importance_gain': model.feature_importance(importance_type='gain'),\n",
    "#         'seed': seed\n",
    "#     })\n",
    "#     feature_importances.append(fi_df)"
   ]
  },
  {
   "cell_type": "code",
   "execution_count": 24,
   "id": "8ea35a9a",
   "metadata": {
    "execution": {
     "iopub.execute_input": "2025-08-14T17:29:26.707772Z",
     "iopub.status.busy": "2025-08-14T17:29:26.707533Z",
     "iopub.status.idle": "2025-08-14T17:29:26.715832Z",
     "shell.execute_reply": "2025-08-14T17:29:26.711939Z"
    },
    "papermill": {
     "duration": 0.037945,
     "end_time": "2025-08-14T17:29:26.718889",
     "exception": false,
     "start_time": "2025-08-14T17:29:26.680944",
     "status": "completed"
    },
    "tags": []
   },
   "outputs": [],
   "source": [
    "# # Combine all importance dataframes\n",
    "# all_fi_df = pd.concat(feature_importances)\n",
    "\n",
    "# # Average importance across seeds\n",
    "# avg_fi = all_fi_df.groupby(\"feature\")[[\"importance_split\", \"importance_gain\"]].mean().sort_values(\"importance_gain\", ascending=False)\n",
    "\n",
    "# # Show top 20 features\n",
    "# print(avg_fi.head(30))"
   ]
  },
  {
   "cell_type": "code",
   "execution_count": 25,
   "id": "deffdf4b",
   "metadata": {
    "execution": {
     "iopub.execute_input": "2025-08-14T17:29:26.770701Z",
     "iopub.status.busy": "2025-08-14T17:29:26.770494Z",
     "iopub.status.idle": "2025-08-14T17:29:26.778708Z",
     "shell.execute_reply": "2025-08-14T17:29:26.774483Z"
    },
    "papermill": {
     "duration": 0.037622,
     "end_time": "2025-08-14T17:29:26.781042",
     "exception": false,
     "start_time": "2025-08-14T17:29:26.743420",
     "status": "completed"
    },
    "tags": []
   },
   "outputs": [],
   "source": [
    "# avg_fi['norm_gain'] = 100 * avg_fi['importance_gain'] / avg_fi['importance_gain'].sum()\n",
    "# avg_fi['norm_gain'].head(20) "
   ]
  },
  {
   "cell_type": "code",
   "execution_count": 26,
   "id": "056de0d3",
   "metadata": {
    "execution": {
     "iopub.execute_input": "2025-08-14T17:29:26.835794Z",
     "iopub.status.busy": "2025-08-14T17:29:26.835589Z",
     "iopub.status.idle": "2025-08-14T17:29:26.845015Z",
     "shell.execute_reply": "2025-08-14T17:29:26.840052Z"
    },
    "papermill": {
     "duration": 0.038686,
     "end_time": "2025-08-14T17:29:26.847603",
     "exception": false,
     "start_time": "2025-08-14T17:29:26.808917",
     "status": "completed"
    },
    "tags": []
   },
   "outputs": [],
   "source": [
    "# import matplotlib.pyplot as plt\n",
    "# avg_fi.head(30).sort_values(\"importance_gain\").plot(kind='barh', figsize=(15, 12))\n",
    "# plt.title(\"Top 30 Features by Gain\")\n",
    "# plt.xlabel(\"Average Gain Importance\")\n",
    "# plt.tight_layout()\n",
    "# plt.show()"
   ]
  },
  {
   "cell_type": "code",
   "execution_count": null,
   "id": "58c2ac0f",
   "metadata": {
    "papermill": {
     "duration": 0.024223,
     "end_time": "2025-08-14T17:29:26.897827",
     "exception": false,
     "start_time": "2025-08-14T17:29:26.873604",
     "status": "completed"
    },
    "tags": []
   },
   "outputs": [],
   "source": []
  },
  {
   "cell_type": "code",
   "execution_count": 27,
   "id": "fddefc0c",
   "metadata": {
    "execution": {
     "iopub.execute_input": "2025-08-14T17:29:26.951018Z",
     "iopub.status.busy": "2025-08-14T17:29:26.950779Z",
     "iopub.status.idle": "2025-08-14T17:29:26.961582Z",
     "shell.execute_reply": "2025-08-14T17:29:26.955943Z"
    },
    "papermill": {
     "duration": 0.040244,
     "end_time": "2025-08-14T17:29:26.964019",
     "exception": false,
     "start_time": "2025-08-14T17:29:26.923775",
     "status": "completed"
    },
    "tags": []
   },
   "outputs": [],
   "source": [
    "# # Predict on validation set and average\n",
    "# preds_val = np.mean([model.predict(data_xgb_va) for model in models], axis=0)\n",
    "\n",
    "# from sklearn.metrics import ndcg_score\n",
    "# # Evaluate using NDCG@3\n",
    "# ndcg_val = ndcg_score([y_va.to_numpy().flatten()], [preds_val], k=3)\n",
    "# print(f\"✅ Ensemble NDCG@3: {ndcg_val:.4f}\")\n",
    "\n",
    "# lgb_ensemble_hr3 = hitrate_at_3(y_va['selected'], preds_val, groups_va['ranker_id'])\n",
    "# print(f\"LGBM ensemble HitRate@3:   {lgb_ensemble_hr3:.4f}\")\n",
    "\n",
    "# lgb_ensemble_test_preds  = np.mean([model.predict(data_xgb_te) for model in models], axis=0)\n",
    "\n",
    "# submission_df = test.select(['Id', 'ranker_id']).with_columns(\n",
    "#     pl.Series(name=\"lgb_score\", values=lgb_ensemble_test_preds)\n",
    "# ).with_columns(\n",
    "#     # Rank predictions descending (best scores first) within each group\n",
    "#     pl.col(\"lgb_score\").rank(method=\"ordinal\", descending=True).over(\"ranker_id\").cast(pl.Int32).alias(\"selected\")\n",
    "# ).select([\"Id\", \"ranker_id\", \"selected\"])\n",
    "\n",
    "# # Save to CSV\n",
    "# submission_df.write_csv('submission.csv')\n",
    "\n",
    "# print(\"\\n✅ Submission file 'submission.csv' created successfully.\")\n",
    "# print(submission_df.head())"
   ]
  },
  {
   "cell_type": "code",
   "execution_count": null,
   "id": "448487c7",
   "metadata": {
    "papermill": {
     "duration": 0.02385,
     "end_time": "2025-08-14T17:29:27.011760",
     "exception": false,
     "start_time": "2025-08-14T17:29:26.987910",
     "status": "completed"
    },
    "tags": []
   },
   "outputs": [],
   "source": []
  }
 ],
 "metadata": {
  "kaggle": {
   "accelerator": "tpu1vmV38",
   "dataSources": [
    {
     "databundleVersionId": 12733338,
     "sourceId": 105399,
     "sourceType": "competition"
    }
   ],
   "dockerImageVersionId": 31089,
   "isGpuEnabled": false,
   "isInternetEnabled": true,
   "language": "python",
   "sourceType": "notebook"
  },
  "kernelspec": {
   "display_name": "Python 3",
   "language": "python",
   "name": "python3"
  },
  "language_info": {
   "codemirror_mode": {
    "name": "ipython",
    "version": 3
   },
   "file_extension": ".py",
   "mimetype": "text/x-python",
   "name": "python",
   "nbconvert_exporter": "python",
   "pygments_lexer": "ipython3",
   "version": "3.10.18"
  },
  "papermill": {
   "default_parameters": {},
   "duration": 3758.584919,
   "end_time": "2025-08-14T17:29:37.491673",
   "environment_variables": {},
   "exception": null,
   "input_path": "__notebook__.ipynb",
   "output_path": "__notebook__.ipynb",
   "parameters": {},
   "start_time": "2025-08-14T16:26:58.906754",
   "version": "2.6.0"
  }
 },
 "nbformat": 4,
 "nbformat_minor": 5
}
