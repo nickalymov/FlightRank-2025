{
 "cells": [
  {
   "cell_type": "code",
   "execution_count": 1,
   "id": "1f31b6c2dd58901",
   "metadata": {
    "collapsed": false,
    "ExecuteTime": {
     "end_time": "2025-08-16T01:29:08.946252900Z",
     "start_time": "2025-08-16T01:29:08.582154900Z"
    }
   },
   "outputs": [],
   "source": [
    "import pandas as pd\n",
    "import numpy as np\n",
    "from tqdm import tqdm"
   ]
  },
  {
   "cell_type": "code",
   "outputs": [
    {
     "name": "stdout",
     "output_type": "stream",
     "text": [
      "--- Настройки ---\n",
      "Файл 1: C:/Users/Николай/PycharmProjects/FlightRank_2025/submissions/submission_34.csv (вес: 0.50004)\n",
      "Файл 2: C:/Users/Николай/PycharmProjects/FlightRank_2025/submissions/submission_37.csv (вес: 0.49912)\n",
      "Файл 3: C:/Users/Николай/PycharmProjects/FlightRank_2025/submissions/submission_40.csv (вес: 0.49664)\n",
      "Файл 4: C:/Users/Николай/PycharmProjects/FlightRank_2025/submissions/submission_36.csv (вес: 0.49793)\n",
      "Итоговый файл: C:/Users/Николай/PycharmProjects/FlightRank_2025/submissions/submission_42.csv\n"
     ]
    }
   ],
   "source": [
    "# --------------------------------------------------------------------------\n",
    "# | БЛОК 1: Настройка файлов и весов                                       |\n",
    "# --------------------------------------------------------------------------\n",
    "\n",
    "# Укажите пути к вашим файлам с предсказаниями\n",
    "file_1_path = 'C:/Users/Николай/PycharmProjects/FlightRank_2025/submissions/submission_34.csv'\n",
    "file_2_path = 'C:/Users/Николай/PycharmProjects/FlightRank_2025/submissions/submission_37.csv'\n",
    "file_3_path = 'C:/Users/Николай/PycharmProjects/FlightRank_2025/submissions/submission_40.csv'\n",
    "file_4_path = 'C:/Users/Николай/PycharmProjects/FlightRank_2025/submissions/submission_36.csv'\n",
    "\n",
    "# Укажите скоры (веса) ваших моделей.\n",
    "# Модели с более высоким скором будут иметь большее влияние.\n",
    "weight_1 = 0.50004\n",
    "weight_2 = 0.49912\n",
    "weight_3 = 0.49664\n",
    "weight_4 = 0.49793\n",
    "\n",
    "# Путь для сохранения итогового файла\n",
    "output_path = 'C:/Users/Николай/PycharmProjects/FlightRank_2025/submissions/submission_42.csv'\n",
    "\n",
    "print(\"--- Настройки ---\")\n",
    "print(f\"Файл 1: {file_1_path} (вес: {weight_1})\")\n",
    "print(f\"Файл 2: {file_2_path} (вес: {weight_2})\")\n",
    "print(f\"Файл 3: {file_3_path} (вес: {weight_3})\")\n",
    "print(f\"Файл 4: {file_4_path} (вес: {weight_4})\")\n",
    "print(f\"Итоговый файл: {output_path}\\n\")"
   ],
   "metadata": {
    "collapsed": false,
    "ExecuteTime": {
     "end_time": "2025-08-16T01:29:08.981188600Z",
     "start_time": "2025-08-16T01:29:08.917200300Z"
    }
   },
   "id": "852e7111bf376d3b",
   "execution_count": 2
  },
  {
   "cell_type": "code",
   "outputs": [
    {
     "name": "stdout",
     "output_type": "stream",
     "text": [
      "Шаг 1: Загрузка файлов с предсказаниями...\n"
     ]
    }
   ],
   "source": [
    "# --------------------------------------------------------------------------\n",
    "# | БЛОК 2: Загрузка и подготовка данных                                   |\n",
    "# --------------------------------------------------------------------------\n",
    "\n",
    "print(\"Шаг 1: Загрузка файлов с предсказаниями...\")\n",
    "df1 = pd.read_csv(file_1_path)\n",
    "df2 = pd.read_csv(file_2_path)\n",
    "df3 = pd.read_csv(file_3_path)\n",
    "df4 = pd.read_csv(file_4_path)"
   ],
   "metadata": {
    "collapsed": false,
    "ExecuteTime": {
     "end_time": "2025-08-16T01:29:17.042703700Z",
     "start_time": "2025-08-16T01:29:09.464737900Z"
    }
   },
   "id": "a0041568e2c2ee07",
   "execution_count": 3
  },
  {
   "cell_type": "code",
   "outputs": [
    {
     "name": "stdout",
     "output_type": "stream",
     "text": [
      "Шаг 2: Преобразование рангов в оценки для каждой группы...\n",
      "Преобразование завершено.\n"
     ]
    }
   ],
   "source": [
    "# --------------------------------------------------------------------------\n",
    "# | БЛОК 3: Преобразование рангов в оценки (Scores)                        |\n",
    "# --------------------------------------------------------------------------\n",
    "\n",
    "# Вспомогательная функция для преобразования рангов в оценки\n",
    "def rank_to_score(series):\n",
    "    n = len(series)\n",
    "    return 1.0 - (series - 1) / n\n",
    "\n",
    "print(\"Шаг 2: Преобразование рангов в оценки для каждой группы...\")\n",
    "\n",
    "df1['score_1'] = df1.groupby('ranker_id')['selected'].transform(rank_to_score)\n",
    "df2['score_2'] = df2.groupby('ranker_id')['selected'].transform(rank_to_score)\n",
    "df3['score_3'] = df3.groupby('ranker_id')['selected'].transform(rank_to_score)\n",
    "df4['score_4'] = df4.groupby('ranker_id')['selected'].transform(rank_to_score)\n",
    "\n",
    "print(\"Преобразование завершено.\\n\")"
   ],
   "metadata": {
    "collapsed": false,
    "ExecuteTime": {
     "end_time": "2025-08-16T01:29:44.888792500Z",
     "start_time": "2025-08-16T01:29:17.080703600Z"
    }
   },
   "id": "a2e2fc1a4cce9712",
   "execution_count": 4
  },
  {
   "cell_type": "code",
   "outputs": [
    {
     "name": "stdout",
     "output_type": "stream",
     "text": [
      "Шаг 3: Объединение оценок и взвешенное усреднение...\n",
      "Усреднение завершено.\n"
     ]
    }
   ],
   "source": [
    "# --------------------------------------------------------------------------\n",
    "# | БЛОК 4: Объединение и взвешенное усреднение                             |\n",
    "# --------------------------------------------------------------------------\n",
    "\n",
    "print(\"Шаг 3: Объединение оценок и взвешенное усреднение...\")\n",
    "\n",
    "# Последовательно объединяем DataFrame'ы по 'Id'\n",
    "merged_df = pd.merge(\n",
    "    df1[['Id', 'ranker_id', 'score_1']],\n",
    "    df2[['Id', 'score_2']],\n",
    "    on='Id'\n",
    ")\n",
    "merged_df = pd.merge(\n",
    "    merged_df,\n",
    "    df3[['Id', 'score_3']],\n",
    "    on='Id'\n",
    ")\n",
    "\n",
    "merged_df = pd.merge(\n",
    "    merged_df,\n",
    "    df4[['Id', 'score_4']],\n",
    "    on='Id'\n",
    ")\n",
    "\n",
    "# Вычисляем взвешенную среднюю оценку для трех моделей\n",
    "total_weight = weight_1 + weight_2 + weight_3 + weight_4 \n",
    "merged_df['blended_score'] = (\n",
    "    merged_df['score_1'] * weight_1 +\n",
    "    merged_df['score_2'] * weight_2 +\n",
    "    merged_df['score_3'] * weight_3 +\n",
    "    merged_df['score_4'] * weight_4\n",
    ") / total_weight\n",
    "\n",
    "print(\"Усреднение завершено.\\n\")"
   ],
   "metadata": {
    "collapsed": false,
    "ExecuteTime": {
     "end_time": "2025-08-16T01:29:46.024704Z",
     "start_time": "2025-08-16T01:29:44.891706700Z"
    }
   },
   "id": "bd0c6f0b5ff38e3e",
   "execution_count": 5
  },
  {
   "cell_type": "code",
   "outputs": [
    {
     "name": "stdout",
     "output_type": "stream",
     "text": [
      "Шаг 4: Преобразование итоговых оценок обратно в ранги...\n",
      "Ранжирование завершено.\n",
      "\n",
      "Шаг 5: Сохранение итогового файла в C:/Users/Николай/PycharmProjects/FlightRank_2025/submissions/submission_42.csv...\n",
      "\n",
      "--- Готово! ---\n",
      "Пример содержимого итогового файла:\n",
      "         Id                         ranker_id  selected\n",
      "0  18144679  c9373e5f772e43d593dd6ad2fa90f67a         9\n",
      "1  18144680  c9373e5f772e43d593dd6ad2fa90f67a        53\n",
      "2  18144681  c9373e5f772e43d593dd6ad2fa90f67a       240\n",
      "3  18144682  c9373e5f772e43d593dd6ad2fa90f67a        80\n",
      "4  18144683  c9373e5f772e43d593dd6ad2fa90f67a        92\n"
     ]
    }
   ],
   "source": [
    "# --------------------------------------------------------------------------\n",
    "# | БЛОК 5: Преобразование итоговых оценок в ранги и сохранение              |\n",
    "# --------------------------------------------------------------------------\n",
    "\n",
    "print(\"Шаг 4: Преобразование итоговых оценок обратно в ранги...\")\n",
    "\n",
    "# Группируем по ranker_id и ранжируем по новой усредненной оценке\n",
    "merged_df['selected'] = merged_df.groupby('ranker_id')['blended_score'].transform(\n",
    "    lambda s: s.rank(method='first', ascending=False)\n",
    ").astype(int)\n",
    "\n",
    "# Создаем финальный DataFrame в нужном формате\n",
    "submission_df = merged_df[['Id', 'ranker_id', 'selected']]\n",
    "\n",
    "print(\"Ранжирование завершено.\\n\")\n",
    "\n",
    "# Сохраняем результат\n",
    "print(f\"Шаг 5: Сохранение итогового файла в {output_path}...\")\n",
    "submission_df.to_csv(output_path, index=False)\n",
    "\n",
    "print(\"\\n--- Готово! ---\")\n",
    "print(\"Пример содержимого итогового файла:\")\n",
    "print(submission_df.head())"
   ],
   "metadata": {
    "collapsed": true,
    "ExecuteTime": {
     "end_time": "2025-08-16T01:30:00.964512400Z",
     "start_time": "2025-08-16T01:29:51.029296100Z"
    }
   },
   "id": "initial_id",
   "execution_count": 6
  },
  {
   "cell_type": "code",
   "outputs": [],
   "source": [],
   "metadata": {
    "collapsed": false
   },
   "id": "fe5d1c9d4b5359ea"
  }
 ],
 "metadata": {
  "kernelspec": {
   "display_name": "Python 3",
   "language": "python",
   "name": "python3"
  },
  "language_info": {
   "codemirror_mode": {
    "name": "ipython",
    "version": 2
   },
   "file_extension": ".py",
   "mimetype": "text/x-python",
   "name": "python",
   "nbconvert_exporter": "python",
   "pygments_lexer": "ipython2",
   "version": "2.7.6"
  }
 },
 "nbformat": 4,
 "nbformat_minor": 5
}
