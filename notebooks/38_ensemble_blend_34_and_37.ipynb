{
 "cells": [
  {
   "cell_type": "code",
   "execution_count": 3,
   "id": "f84a3a7f0016bf44",
   "metadata": {
    "collapsed": false,
    "ExecuteTime": {
     "end_time": "2025-08-16T01:07:47.156847400Z",
     "start_time": "2025-08-16T01:07:46.415809200Z"
    }
   },
   "outputs": [],
   "source": [
    "import pandas as pd\n",
    "import numpy as np\n",
    "from tqdm import tqdm"
   ]
  },
  {
   "cell_type": "code",
   "outputs": [
    {
     "name": "stdout",
     "output_type": "stream",
     "text": [
      "--- Настройки ---\n",
      "Файл 1: C:/Users/Николай/PycharmProjects/FlightRank_2025/submissions/submission_34.csv (вес: 0.50004)\n",
      "Файл 2: C:/Users/Николай/PycharmProjects/FlightRank_2025/submissions/submission_37.csv (вес: 0.49912)\n",
      "Итоговый файл: C:/Users/Николай/PycharmProjects/FlightRank_2025/submissions/submission_38.csv\n"
     ]
    }
   ],
   "source": [
    "# --------------------------------------------------------------------------\n",
    "# | БЛОК 1: Настройка файлов и весов                                       |\n",
    "# --------------------------------------------------------------------------\n",
    "\n",
    "# Укажите пути к вашим файлам с предсказаниями\n",
    "file_1_path = 'C:/Users/Николай/PycharmProjects/FlightRank_2025/submissions/submission_34.csv'\n",
    "file_2_path = 'C:/Users/Николай/PycharmProjects/FlightRank_2025/submissions/submission_37.csv'\n",
    "\n",
    "# Укажите скоры ваших моделей (они будут использоваться как веса)\n",
    "# Модели с более высоким скором будут иметь большее влияние\n",
    "weight_1 = 0.50004  # Вес для file_1\n",
    "weight_2 = 0.49912  # Вес для file_2\n",
    "\n",
    "# Путь для сохранения итогового файла\n",
    "output_path = 'C:/Users/Николай/PycharmProjects/FlightRank_2025/submissions/submission_38.csv'\n",
    "\n",
    "print(\"--- Настройки ---\")\n",
    "print(f\"Файл 1: {file_1_path} (вес: {weight_1})\")\n",
    "print(f\"Файл 2: {file_2_path} (вес: {weight_2})\")\n",
    "print(f\"Итоговый файл: {output_path}\\n\")\n"
   ],
   "metadata": {
    "collapsed": false,
    "ExecuteTime": {
     "end_time": "2025-08-16T01:08:52.233367400Z",
     "start_time": "2025-08-16T01:08:52.216345500Z"
    }
   },
   "id": "2b30faf158a3625f",
   "execution_count": 7
  },
  {
   "cell_type": "code",
   "outputs": [
    {
     "name": "stdout",
     "output_type": "stream",
     "text": [
      "Шаг 1: Загрузка файлов с предсказаниями...\n"
     ]
    }
   ],
   "source": [
    "# --------------------------------------------------------------------------\n",
    "# | БЛОК 2: Загрузка и подготовка данных                                   |\n",
    "# --------------------------------------------------------------------------\n",
    "\n",
    "print(\"Шаг 1: Загрузка файлов с предсказаниями...\")\n",
    "df1 = pd.read_csv(file_1_path)\n",
    "df2 = pd.read_csv(file_2_path)"
   ],
   "metadata": {
    "collapsed": false,
    "ExecuteTime": {
     "end_time": "2025-08-16T01:07:52.073065100Z",
     "start_time": "2025-08-16T01:07:48.427066700Z"
    }
   },
   "id": "bad737e5bf95932",
   "execution_count": 4
  },
  {
   "cell_type": "code",
   "outputs": [
    {
     "name": "stdout",
     "output_type": "stream",
     "text": [
      "Шаг 2: Преобразование рангов в оценки для каждой группы...\n",
      "Преобразование завершено.\n"
     ]
    }
   ],
   "source": [
    "# --------------------------------------------------------------------------\n",
    "# | БЛОК 3: Преобразование рангов в оценки (Scores)                        |\n",
    "# --------------------------------------------------------------------------\n",
    "\n",
    "# Вспомогательная функция для преобразования рангов в оценки\n",
    "# Чем ниже ранг (т.е. лучше), тем выше будет оценка\n",
    "def rank_to_score(series):\n",
    "    # n - количество элементов в группе\n",
    "    n = len(series)\n",
    "    # Формула: score = 1 - (rank - 1) / n\n",
    "    # Ранг 1 -> score 1.0\n",
    "    # Ранг n -> score 1/n\n",
    "    return 1.0 - (series - 1) / n\n",
    "\n",
    "print(\"Шаг 2: Преобразование рангов в оценки для каждой группы...\")\n",
    "\n",
    "# Применяем функцию к каждой группе ranker_id\n",
    "# .transform() позволяет применить функцию к группе и вернуть результат того же размера, что и исходный DataFrame\n",
    "df1['score_1'] = df1.groupby('ranker_id')['selected'].transform(rank_to_score)\n",
    "df2['score_2'] = df2.groupby('ranker_id')['selected'].transform(rank_to_score)\n",
    "\n",
    "print(\"Преобразование завершено.\\n\")"
   ],
   "metadata": {
    "collapsed": false,
    "ExecuteTime": {
     "end_time": "2025-08-16T01:08:20.368304600Z",
     "start_time": "2025-08-16T01:08:06.767323200Z"
    }
   },
   "id": "4491b154c583df84",
   "execution_count": 5
  },
  {
   "cell_type": "code",
   "outputs": [
    {
     "name": "stdout",
     "output_type": "stream",
     "text": [
      "Шаг 3: Объединение оценок и взвешенное усреднение...\n",
      "Усреднение завершено.\n"
     ]
    }
   ],
   "source": [
    "# --------------------------------------------------------------------------\n",
    "# | БЛОК 4: Объединение и взвешенное усреднение                             |\n",
    "# --------------------------------------------------------------------------\n",
    "\n",
    "print(\"Шаг 3: Объединение оценок и взвешенное усреднение...\")\n",
    "\n",
    "# Объединяем два DataFrame по 'Id', чтобы для каждой строки были обе оценки\n",
    "# Убираем лишние колонки, чтобы не было дубликатов\n",
    "merged_df = pd.merge(\n",
    "    df1[['Id', 'ranker_id', 'score_1']],\n",
    "    df2[['Id', 'score_2']],\n",
    "    on='Id'\n",
    ")\n",
    "\n",
    "# Вычисляем взвешенную среднюю оценку\n",
    "merged_df['blended_score'] = (\n",
    "    merged_df['score_1'] * weight_1 +\n",
    "    merged_df['score_2'] * weight_2\n",
    ") / (weight_1 + weight_2)\n",
    "\n",
    "print(\"Усреднение завершено.\\n\")"
   ],
   "metadata": {
    "collapsed": false,
    "ExecuteTime": {
     "end_time": "2025-08-16T01:08:23.294802100Z",
     "start_time": "2025-08-16T01:08:23.009786300Z"
    }
   },
   "id": "46086ee737b38f19",
   "execution_count": 6
  },
  {
   "cell_type": "code",
   "outputs": [
    {
     "name": "stdout",
     "output_type": "stream",
     "text": [
      "Шаг 4: Преобразование итоговых оценок обратно в ранги...\n",
      "Ранжирование завершено.\n",
      "\n",
      "Шаг 5: Сохранение итогового файла в C:/Users/Николай/PycharmProjects/FlightRank_2025/submissions/submission_38.csv...\n",
      "\n",
      "--- Готово! ---\n",
      "Пример содержимого итогового файла:\n",
      "         Id                         ranker_id  selected\n",
      "0  18144679  c9373e5f772e43d593dd6ad2fa90f67a         8\n",
      "1  18144680  c9373e5f772e43d593dd6ad2fa90f67a        51\n",
      "2  18144681  c9373e5f772e43d593dd6ad2fa90f67a       244\n",
      "3  18144682  c9373e5f772e43d593dd6ad2fa90f67a        70\n",
      "4  18144683  c9373e5f772e43d593dd6ad2fa90f67a        87\n"
     ]
    }
   ],
   "source": [
    "# --------------------------------------------------------------------------\n",
    "# | БЛОК 5: Преобразование итоговых оценок в ранги и сохранение              |\n",
    "# --------------------------------------------------------------------------\n",
    "\n",
    "print(\"Шаг 4: Преобразование итоговых оценок обратно в ранги...\")\n",
    "\n",
    "# Группируем по ranker_id и ранжируем по новой усредненной оценке\n",
    "# ascending=False, так как более высокая оценка означает лучший ранг (меньшее число)\n",
    "# method='first' гарантирует, что не будет одинаковых рангов в одной группе\n",
    "merged_df['selected'] = merged_df.groupby('ranker_id')['blended_score'].transform(\n",
    "    lambda s: s.rank(method='first', ascending=False)\n",
    ").astype(int)\n",
    "\n",
    "# Создаем финальный DataFrame в нужном формате\n",
    "submission_df = merged_df[['Id', 'ranker_id', 'selected']]\n",
    "\n",
    "print(\"Ранжирование завершено.\\n\")\n",
    "\n",
    "# Сохраняем результат\n",
    "print(f\"Шаг 5: Сохранение итогового файла в {output_path}...\")\n",
    "submission_df.to_csv(output_path, index=False)\n",
    "\n",
    "print(\"\\n--- Готово! ---\")\n",
    "print(\"Пример содержимого итогового файла:\")\n",
    "print(submission_df.head())"
   ],
   "metadata": {
    "collapsed": true,
    "ExecuteTime": {
     "end_time": "2025-08-16T01:09:06.075190700Z",
     "start_time": "2025-08-16T01:08:55.687161500Z"
    }
   },
   "id": "initial_id",
   "execution_count": 8
  },
  {
   "cell_type": "code",
   "outputs": [],
   "source": [],
   "metadata": {
    "collapsed": false
   },
   "id": "13ab4863d427ee"
  }
 ],
 "metadata": {
  "kernelspec": {
   "display_name": "Python 3",
   "language": "python",
   "name": "python3"
  },
  "language_info": {
   "codemirror_mode": {
    "name": "ipython",
    "version": 2
   },
   "file_extension": ".py",
   "mimetype": "text/x-python",
   "name": "python",
   "nbconvert_exporter": "python",
   "pygments_lexer": "ipython2",
   "version": "2.7.6"
  }
 },
 "nbformat": 4,
 "nbformat_minor": 5
}
