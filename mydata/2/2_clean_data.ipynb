{
 "cells": [
  {
   "cell_type": "code",
   "outputs": [],
   "source": [
    "import pandas as pd\n",
    "import numpy as np\n",
    "from tqdm import tqdm\n",
    "tqdm.pandas()\n",
    "import os\n",
    "import json\n",
    "\n",
    "pd.set_option('future.no_silent_downcasting', True)"
   ],
   "metadata": {
    "collapsed": true,
    "ExecuteTime": {
     "end_time": "2025-08-15T22:02:52.392919500Z",
     "start_time": "2025-08-15T22:02:52.131918300Z"
    }
   },
   "id": "initial_id",
   "execution_count": 1
  },
  {
   "cell_type": "code",
   "outputs": [],
   "source": [
    "RAW_DIR = \"C:/Users/Николай/PycharmProjects/FlightRank_2025/data/raw\""
   ],
   "metadata": {
    "collapsed": false,
    "ExecuteTime": {
     "end_time": "2025-08-15T22:02:52.441917500Z",
     "start_time": "2025-08-15T22:02:52.392919500Z"
    }
   },
   "id": "63e7241c4e72d17b",
   "execution_count": 2
  },
  {
   "cell_type": "code",
   "outputs": [],
   "source": [
    "train = pd.read_parquet('C:/Users/Николай/PycharmProjects/FlightRank_2025/mydata/1/1_train.parquet', engine='pyarrow')"
   ],
   "metadata": {
    "collapsed": false,
    "ExecuteTime": {
     "end_time": "2025-08-15T22:02:57.663918600Z",
     "start_time": "2025-08-15T22:02:52.407919900Z"
    }
   },
   "id": "53d00e3b52987796",
   "execution_count": 3
  },
  {
   "cell_type": "code",
   "outputs": [],
   "source": [
    "test = pd.read_parquet('C:/Users/Николай/PycharmProjects/FlightRank_2025/mydata/1/1_test.parquet', engine='pyarrow')"
   ],
   "metadata": {
    "collapsed": false,
    "ExecuteTime": {
     "end_time": "2025-08-15T22:02:59.346916800Z",
     "start_time": "2025-08-15T22:02:57.665917700Z"
    }
   },
   "id": "67ed2f3d3f3d346c",
   "execution_count": 4
  },
  {
   "cell_type": "code",
   "outputs": [
    {
     "name": "stderr",
     "output_type": "stream",
     "text": [
      "Loading JSON: 100%|██████████| 150770/150770 [16:34<00:00, 151.63it/s]\n"
     ]
    }
   ],
   "source": [
    "def load_ranker_info(ranker_ids, raw_dir=RAW_DIR):\n",
    "    \"\"\"Считываем json для каждого ranker_id и сохраняем в dict\"\"\"\n",
    "    data_list = []\n",
    "    for rid in tqdm(ranker_ids, desc=\"Loading JSON\"):\n",
    "        file_path = os.path.join(raw_dir, f\"{rid}.json\")\n",
    "        if not os.path.exists(file_path):\n",
    "            continue\n",
    "        with open(file_path, \"r\", encoding=\"utf-8\") as f:\n",
    "            data = json.load(f)\n",
    "        data_list.append({\n",
    "            \"ranker_id\": rid,\n",
    "            \"searchType\": data.get(\"metadata\", {}).get(\"searchType\"),\n",
    "            \"yearOfBirth\": data.get(\"personalData\", {}).get(\"yearOfBirth\"),\n",
    "            \"hasAssistant\": data.get(\"personalData\", {}).get(\"hasAssistant\"),\n",
    "            \"isGlobal\": data.get(\"personalData\", {}).get(\"isGlobal\"),\n",
    "            \"requestDepartureDate\": data.get(\"routeData\", {}).get(\"requestDepartureDate\"),\n",
    "        })\n",
    "    return pd.DataFrame(data_list).set_index(\"ranker_id\")\n",
    "\n",
    "\n",
    "def add_ranker_info(df, info_df):\n",
    "    \"\"\"Быстрое добавление через join по ranker_id\"\"\"\n",
    "    return df.join(info_df, on=\"ranker_id\")\n",
    "\n",
    "\n",
    "# Пример использования:\n",
    "# train = pd.read_csv(\"train.csv\")\n",
    "# test = pd.read_csv(\"test.csv\")\n",
    "\n",
    "all_rankers = pd.concat([train[\"ranker_id\"], test[\"ranker_id\"]]).unique()\n",
    "info_df = load_ranker_info(all_rankers, RAW_DIR)\n",
    "\n",
    "train = add_ranker_info(train, info_df)\n",
    "test = add_ranker_info(test, info_df)"
   ],
   "metadata": {
    "collapsed": false,
    "ExecuteTime": {
     "end_time": "2025-08-15T22:20:01.592578900Z",
     "start_time": "2025-08-15T22:02:59.370917200Z"
    }
   },
   "id": "966983c985539fc4",
   "execution_count": 5
  },
  {
   "cell_type": "code",
   "outputs": [
    {
     "data": {
      "text/plain": "companyID                       UInt16\ncorporateTariffCode              UInt8\nfrequentFlyer                   object\nnationality                      UInt8\nisAccess3D                        bool\n                             ...      \nsearchType                        bool\nyearOfBirth                      UInt8\nhasAssistant                      bool\nisGlobal                          bool\nrequestDepartureDate    datetime64[ns]\nLength: 131, dtype: object"
     },
     "execution_count": 27,
     "metadata": {},
     "output_type": "execute_result"
    }
   ],
   "source": [
    "train.dtypes"
   ],
   "metadata": {
    "collapsed": false,
    "ExecuteTime": {
     "end_time": "2025-08-15T22:30:04.120994300Z",
     "start_time": "2025-08-15T22:30:04.099977200Z"
    }
   },
   "id": "5dd5b237eff1bdd6",
   "execution_count": 27
  },
  {
   "cell_type": "code",
   "outputs": [],
   "source": [
    "train['searchType'] = train['searchType'].astype('bool')\n",
    "test['searchType'] = test['searchType'].astype('bool')"
   ],
   "metadata": {
    "collapsed": false,
    "ExecuteTime": {
     "end_time": "2025-08-15T22:22:18.387257900Z",
     "start_time": "2025-08-15T22:22:18.327120200Z"
    }
   },
   "id": "6d7aaadea11c6616",
   "execution_count": 12
  },
  {
   "cell_type": "code",
   "outputs": [],
   "source": [
    "test[\"yearOfBirth\"] = test[\"yearOfBirth\"].replace({\n",
    "    2007.0: 2006.0,\n",
    "    2014.0: 2013.0\n",
    "})"
   ],
   "metadata": {
    "collapsed": false,
    "ExecuteTime": {
     "end_time": "2025-08-15T22:26:04.464960700Z",
     "start_time": "2025-08-15T22:26:04.380961600Z"
    }
   },
   "id": "aff973262b2ed88",
   "execution_count": 19
  },
  {
   "cell_type": "code",
   "outputs": [],
   "source": [
    "yearOfBirth_map = {old_id: new_id for new_id, old_id in enumerate(train['yearOfBirth'].unique())}\n",
    "\n",
    "train['yearOfBirth'] = train['yearOfBirth'].map(yearOfBirth_map).astype('UInt8')\n",
    "test['yearOfBirth'] = test['yearOfBirth'].map(yearOfBirth_map).fillna(len(yearOfBirth_map)).astype('UInt8')"
   ],
   "metadata": {
    "collapsed": false,
    "ExecuteTime": {
     "end_time": "2025-08-15T22:26:40.309992400Z",
     "start_time": "2025-08-15T22:26:39.809969500Z"
    }
   },
   "id": "abe4726dc17030a1",
   "execution_count": 21
  },
  {
   "cell_type": "code",
   "outputs": [],
   "source": [
    "train['requestDepartureDate'] = pd.to_datetime(train['requestDepartureDate'])\n",
    "test['requestDepartureDate'] = pd.to_datetime(test['requestDepartureDate'])"
   ],
   "metadata": {
    "collapsed": false,
    "ExecuteTime": {
     "end_time": "2025-08-15T22:30:01.223784700Z",
     "start_time": "2025-08-15T22:29:59.980836700Z"
    }
   },
   "id": "ab07dd213f9a7db5",
   "execution_count": 26
  },
  {
   "cell_type": "code",
   "outputs": [
    {
     "name": "stdout",
     "output_type": "stream",
     "text": [
      "Размер DataFrame в памяти: 8306.63 МБ\n"
     ]
    }
   ],
   "source": [
    "memory_bytes = train.memory_usage(deep=True).sum()\n",
    "memory_mb = memory_bytes / (1024 ** 2)\n",
    "print(f\"Размер DataFrame в памяти: {memory_mb:.2f} МБ\")"
   ],
   "metadata": {
    "collapsed": false,
    "ExecuteTime": {
     "end_time": "2025-08-15T22:30:10.848404800Z",
     "start_time": "2025-08-15T22:30:08.396398300Z"
    }
   },
   "id": "99077c753c35aaff",
   "execution_count": 28
  },
  {
   "cell_type": "code",
   "outputs": [],
   "source": [
    "current_dir = os.getcwd()\n",
    "folder_name = os.path.basename(current_dir)\n",
    "\n",
    "train_path = f\"{folder_name}_train.parquet\"\n",
    "test_path = f\"{folder_name}_test.parquet\""
   ],
   "metadata": {
    "collapsed": false,
    "ExecuteTime": {
     "end_time": "2025-08-15T22:30:18.529860700Z",
     "start_time": "2025-08-15T22:30:18.509846700Z"
    }
   },
   "id": "f9683df7695f3e8b",
   "execution_count": 29
  },
  {
   "cell_type": "code",
   "outputs": [],
   "source": [
    "train.to_parquet(train_path, index=False)\n",
    "test.to_parquet(test_path, index=False)"
   ],
   "metadata": {
    "collapsed": false,
    "ExecuteTime": {
     "end_time": "2025-08-15T22:30:59.143459300Z",
     "start_time": "2025-08-15T22:30:25.428460300Z"
    }
   },
   "id": "1c1b405f70bcb182",
   "execution_count": 31
  },
  {
   "cell_type": "code",
   "outputs": [],
   "source": [],
   "metadata": {
    "collapsed": false
   },
   "id": "fec78f1462349266"
  }
 ],
 "metadata": {
  "kernelspec": {
   "display_name": "Python 3",
   "language": "python",
   "name": "python3"
  },
  "language_info": {
   "codemirror_mode": {
    "name": "ipython",
    "version": 2
   },
   "file_extension": ".py",
   "mimetype": "text/x-python",
   "name": "python",
   "nbconvert_exporter": "python",
   "pygments_lexer": "ipython2",
   "version": "2.7.6"
  }
 },
 "nbformat": 4,
 "nbformat_minor": 5
}
