{
 "cells": [
  {
   "cell_type": "code",
   "outputs": [],
   "source": [
    "import pandas as pd\n",
    "import numpy as np\n",
    "from tqdm import tqdm\n",
    "tqdm.pandas()\n",
    "import os\n",
    "\n",
    "pd.set_option('future.no_silent_downcasting', True)"
   ],
   "metadata": {
    "collapsed": true,
    "ExecuteTime": {
     "end_time": "2025-08-05T01:08:42.319189500Z",
     "start_time": "2025-08-05T01:08:41.627950400Z"
    }
   },
   "id": "initial_id",
   "execution_count": 1
  },
  {
   "cell_type": "code",
   "outputs": [],
   "source": [
    "def fix_duration_format(s):\n",
    "    if pd.isna(s):\n",
    "        return pd.NaT\n",
    "    if isinstance(s, (int, float)): \n",
    "        return pd.NaT\n",
    "    if '.' in s:\n",
    "        days, time = s.split('.', 1)\n",
    "        if days.isdigit():\n",
    "            return f\"{int(days)} days {time}\"\n",
    "    return s"
   ],
   "metadata": {
    "collapsed": false,
    "ExecuteTime": {
     "end_time": "2025-08-05T01:08:42.342435100Z",
     "start_time": "2025-08-05T01:08:42.276666400Z"
    }
   },
   "id": "748c9dd9fc7bee71",
   "execution_count": 2
  },
  {
   "cell_type": "code",
   "outputs": [],
   "source": [
    "unk_code = -1"
   ],
   "metadata": {
    "collapsed": false,
    "ExecuteTime": {
     "end_time": "2025-08-05T01:08:42.346813Z",
     "start_time": "2025-08-05T01:08:42.290433600Z"
    }
   },
   "id": "63e7241c4e72d17b",
   "execution_count": 3
  },
  {
   "cell_type": "code",
   "outputs": [],
   "source": [
    "train = pd.read_parquet('C:/Users/Николай/PycharmProjects/FlightRank_2025/data/train.parquet', engine='pyarrow')"
   ],
   "metadata": {
    "collapsed": false,
    "ExecuteTime": {
     "end_time": "2025-08-05T01:09:39.205704800Z",
     "start_time": "2025-08-05T01:08:42.306482900Z"
    }
   },
   "id": "53d00e3b52987796",
   "execution_count": 4
  },
  {
   "cell_type": "code",
   "outputs": [],
   "source": [
    "test = pd.read_parquet('C:/Users/Николай/PycharmProjects/FlightRank_2025/data/test.parquet', engine='pyarrow')"
   ],
   "metadata": {
    "collapsed": false,
    "ExecuteTime": {
     "end_time": "2025-08-05T01:10:08.774256800Z",
     "start_time": "2025-08-05T01:09:39.224149Z"
    }
   },
   "id": "67ed2f3d3f3d346c",
   "execution_count": 5
  },
  {
   "cell_type": "code",
   "outputs": [],
   "source": [
    "train.fillna(-2, inplace=True)\n",
    "test.fillna(-2, inplace=True)"
   ],
   "metadata": {
    "collapsed": false,
    "ExecuteTime": {
     "end_time": "2025-08-05T01:12:49.719679200Z",
     "start_time": "2025-08-05T01:10:08.787666300Z"
    }
   },
   "id": "702c06bbe9c2f944",
   "execution_count": 6
  },
  {
   "cell_type": "code",
   "outputs": [],
   "source": [
    "del train['Id'], test['Id']\n",
    "del train['bySelf'], test['bySelf']\n",
    "del train['pricingInfo_passengerCount'], test['pricingInfo_passengerCount']"
   ],
   "metadata": {
    "collapsed": false,
    "ExecuteTime": {
     "end_time": "2025-08-05T01:12:49.871172800Z",
     "start_time": "2025-08-05T01:12:49.717526Z"
    }
   },
   "id": "26aa783440840514",
   "execution_count": 7
  },
  {
   "cell_type": "code",
   "outputs": [],
   "source": [
    "companyID_map = {old_id: new_id for new_id, old_id in enumerate(train['companyID'].unique())}\n",
    "\n",
    "train['companyID'] = train['companyID'].map(companyID_map).astype('UInt16')\n",
    "test['companyID'] = test['companyID'].map(companyID_map).fillna(len(companyID_map)).astype('UInt16')"
   ],
   "metadata": {
    "collapsed": false,
    "ExecuteTime": {
     "end_time": "2025-08-05T01:12:50.790740200Z",
     "start_time": "2025-08-05T01:12:49.762226500Z"
    }
   },
   "id": "96e81f66b72b9aec",
   "execution_count": 8
  },
  {
   "cell_type": "code",
   "outputs": [],
   "source": [
    "corporateTariffCode_map = {old_id: new_id for new_id, old_id in enumerate(train['corporateTariffCode'].unique())}\n",
    "\n",
    "train['corporateTariffCode'] = train['corporateTariffCode'].map(corporateTariffCode_map).astype('UInt8')\n",
    "test['corporateTariffCode'] = test['corporateTariffCode'].map(corporateTariffCode_map).fillna(len(corporateTariffCode_map)).astype('UInt8')"
   ],
   "metadata": {
    "collapsed": false,
    "ExecuteTime": {
     "end_time": "2025-08-05T01:12:51.654241300Z",
     "start_time": "2025-08-05T01:12:50.792865900Z"
    }
   },
   "id": "1a49e0884cb761b0",
   "execution_count": 9
  },
  {
   "cell_type": "code",
   "outputs": [],
   "source": [
    "nationality_map = {old_id: new_id for new_id, old_id in enumerate(train['nationality'].unique())}\n",
    "\n",
    "train['nationality'] = train['nationality'].map(nationality_map).astype('UInt8')\n",
    "test['nationality'] = test['nationality'].map(nationality_map).fillna(len(nationality_map)).astype('UInt8')"
   ],
   "metadata": {
    "collapsed": false,
    "ExecuteTime": {
     "end_time": "2025-08-05T01:12:52.567518500Z",
     "start_time": "2025-08-05T01:12:51.656404800Z"
    }
   },
   "id": "697308dcb609c879",
   "execution_count": 10
  },
  {
   "cell_type": "markdown",
   "source": [
    "# CHECK"
   ],
   "metadata": {
    "collapsed": false
   },
   "id": "95188f27effe110a"
  },
  {
   "cell_type": "code",
   "outputs": [
    {
     "name": "stderr",
     "output_type": "stream",
     "text": [
      "100%|██████████| 18145372/18145372 [00:16<00:00, 1107151.08it/s]\n",
      "100%|██████████| 6897776/6897776 [00:06<00:00, 996907.58it/s] \n"
     ]
    }
   ],
   "source": [
    "values = train['frequentFlyer']\n",
    "all_codes = values.str.split('/').explode()\n",
    "frequentFlyer_mapping = {old_id: new_id for new_id, old_id in enumerate(all_codes.unique())}\n",
    "\n",
    "def encode_codes(s):\n",
    "    s = str(s)\n",
    "    return '/'.join(str(frequentFlyer_mapping.get(code, len(frequentFlyer_mapping))) for code in s.split('/'))\n",
    "\n",
    "# Применяем к train и test\n",
    "train['frequentFlyer'] = train['frequentFlyer'].progress_apply(encode_codes)\n",
    "test['frequentFlyer']  = test['frequentFlyer'].progress_apply(encode_codes)"
   ],
   "metadata": {
    "collapsed": false,
    "ExecuteTime": {
     "end_time": "2025-08-05T01:13:26.121377800Z",
     "start_time": "2025-08-05T01:12:52.572374500Z"
    }
   },
   "id": "19ac5ae91aaaf7e",
   "execution_count": 11
  },
  {
   "cell_type": "markdown",
   "source": [
    "# L_0"
   ],
   "metadata": {
    "collapsed": false
   },
   "id": "ec5bc837b1079a28"
  },
  {
   "cell_type": "code",
   "outputs": [],
   "source": [
    "train['legs0_arrivalAt'] = pd.to_datetime(train['legs0_arrivalAt'])\n",
    "test['legs0_arrivalAt'] = pd.to_datetime(test['legs0_arrivalAt'])"
   ],
   "metadata": {
    "collapsed": false,
    "ExecuteTime": {
     "end_time": "2025-08-05T01:13:27.935443800Z",
     "start_time": "2025-08-05T01:13:26.121377800Z"
    }
   },
   "id": "c74db11ab9fd5d73",
   "execution_count": 12
  },
  {
   "cell_type": "code",
   "outputs": [],
   "source": [
    "train['legs0_departureAt'] = pd.to_datetime(train['legs0_departureAt'])\n",
    "test['legs0_departureAt'] = pd.to_datetime(test['legs0_departureAt'])"
   ],
   "metadata": {
    "collapsed": false,
    "ExecuteTime": {
     "end_time": "2025-08-05T01:13:29.578601800Z",
     "start_time": "2025-08-05T01:13:27.931011400Z"
    }
   },
   "id": "bea0c8fd83a49d5d",
   "execution_count": 13
  },
  {
   "cell_type": "code",
   "outputs": [],
   "source": [
    "train['legs0_duration'] = pd.to_timedelta(train['legs0_duration'].apply(fix_duration_format))\n",
    "train['legs0_duration'] = (train['legs0_duration'].dt.total_seconds() // 60).astype('UInt16')\n",
    "\n",
    "test['legs0_duration'] = pd.to_timedelta(test['legs0_duration'].apply(fix_duration_format))\n",
    "test['legs0_duration'] = (test['legs0_duration'].dt.total_seconds() // 60).astype('UInt16')"
   ],
   "metadata": {
    "collapsed": false,
    "ExecuteTime": {
     "end_time": "2025-08-05T01:13:50.133504Z",
     "start_time": "2025-08-05T01:13:29.603122300Z"
    }
   },
   "id": "29e04bcd8c523e5a",
   "execution_count": 14
  },
  {
   "cell_type": "markdown",
   "source": [
    "# L_0_S_0"
   ],
   "metadata": {
    "collapsed": false
   },
   "id": "e864f7fb0e0a5650"
  },
  {
   "cell_type": "code",
   "outputs": [],
   "source": [
    "legs0_segments0_aircraft_code_map = {old_id: new_id for new_id, old_id in enumerate(train['legs0_segments0_aircraft_code'].unique())}\n",
    "\n",
    "train['legs0_segments0_aircraft_code'] = train['legs0_segments0_aircraft_code'].map(legs0_segments0_aircraft_code_map).astype('UInt8')\n",
    "test['legs0_segments0_aircraft_code'] = test['legs0_segments0_aircraft_code'].map(legs0_segments0_aircraft_code_map).fillna(len(legs0_segments0_aircraft_code_map)).astype('UInt8')"
   ],
   "metadata": {
    "collapsed": false,
    "ExecuteTime": {
     "end_time": "2025-08-05T01:13:51.503655800Z",
     "start_time": "2025-08-05T01:13:50.134533500Z"
    }
   },
   "id": "966a138de7011f73",
   "execution_count": 15
  },
  {
   "cell_type": "code",
   "outputs": [],
   "source": [
    "legs0_segments0_arrivalTo_airport_city_iata_map = {old_id: new_id for new_id, old_id in enumerate(train['legs0_segments0_arrivalTo_airport_city_iata'].unique())}\n",
    "\n",
    "train['legs0_segments0_arrivalTo_airport_city_iata'] = train['legs0_segments0_arrivalTo_airport_city_iata'].map(legs0_segments0_arrivalTo_airport_city_iata_map).astype('UInt16')\n",
    "test['legs0_segments0_arrivalTo_airport_city_iata'] = test['legs0_segments0_arrivalTo_airport_city_iata'].map(legs0_segments0_arrivalTo_airport_city_iata_map).fillna(len(legs0_segments0_arrivalTo_airport_city_iata_map)).astype('UInt16')"
   ],
   "metadata": {
    "collapsed": false,
    "ExecuteTime": {
     "end_time": "2025-08-05T01:13:52.694758400Z",
     "start_time": "2025-08-05T01:13:51.504696800Z"
    }
   },
   "id": "6f7433eb709599c",
   "execution_count": 16
  },
  {
   "cell_type": "code",
   "outputs": [],
   "source": [
    "legs0_segments0_arrivalTo_airport_iata_map = {old_id: new_id for new_id, old_id in enumerate(train['legs0_segments0_arrivalTo_airport_iata'].unique())}\n",
    "\n",
    "train['legs0_segments0_arrivalTo_airport_iata'] = train['legs0_segments0_arrivalTo_airport_iata'].map(legs0_segments0_arrivalTo_airport_iata_map).astype('UInt16')\n",
    "test['legs0_segments0_arrivalTo_airport_iata'] = test['legs0_segments0_arrivalTo_airport_iata'].map(legs0_segments0_arrivalTo_airport_iata_map).fillna(len(legs0_segments0_arrivalTo_airport_iata_map)).astype('UInt16')"
   ],
   "metadata": {
    "collapsed": false,
    "ExecuteTime": {
     "end_time": "2025-08-05T01:13:54.052482100Z",
     "start_time": "2025-08-05T01:13:52.695835400Z"
    }
   },
   "id": "963ba0b2cfbe3ccf",
   "execution_count": 17
  },
  {
   "cell_type": "code",
   "outputs": [],
   "source": [
    "legs0_segments0_baggageAllowance_quantity_map = {old_id: new_id for new_id, old_id in enumerate(train['legs0_segments0_baggageAllowance_quantity'].unique())}\n",
    "\n",
    "train['legs0_segments0_baggageAllowance_quantity'] = train['legs0_segments0_baggageAllowance_quantity'].map(legs0_segments0_baggageAllowance_quantity_map).astype('UInt8')\n",
    "test['legs0_segments0_baggageAllowance_quantity'] = test['legs0_segments0_baggageAllowance_quantity'].map(legs0_segments0_baggageAllowance_quantity_map).fillna(len(legs0_segments0_baggageAllowance_quantity_map)).astype('UInt8')"
   ],
   "metadata": {
    "collapsed": false,
    "ExecuteTime": {
     "end_time": "2025-08-05T01:13:54.607563900Z",
     "start_time": "2025-08-05T01:13:54.053484700Z"
    }
   },
   "id": "91a5e76967e7a2a7",
   "execution_count": 18
  },
  {
   "cell_type": "code",
   "outputs": [],
   "source": [
    "legs0_segments0_baggageAllowance_weightMeasurementType_map = {old_id: new_id for new_id, old_id in enumerate(train['legs0_segments0_baggageAllowance_weightMeasurementType'].unique())}\n",
    "\n",
    "train['legs0_segments0_baggageAllowance_weightMeasurementType'] = train['legs0_segments0_baggageAllowance_weightMeasurementType'].map(legs0_segments0_baggageAllowance_weightMeasurementType_map).astype('UInt8')\n",
    "test['legs0_segments0_baggageAllowance_weightMeasurementType'] = test['legs0_segments0_baggageAllowance_weightMeasurementType'].map(legs0_segments0_baggageAllowance_weightMeasurementType_map).fillna(len(legs0_segments0_baggageAllowance_weightMeasurementType_map)).astype('UInt8')"
   ],
   "metadata": {
    "collapsed": false,
    "ExecuteTime": {
     "end_time": "2025-08-05T01:13:55.089591500Z",
     "start_time": "2025-08-05T01:13:54.608583Z"
    }
   },
   "id": "443ba4bdde91f330",
   "execution_count": 19
  },
  {
   "cell_type": "code",
   "outputs": [],
   "source": [
    "legs0_segments0_cabinClass_map = {old_id: new_id for new_id, old_id in enumerate(train['legs0_segments0_cabinClass'].unique())}\n",
    "\n",
    "train['legs0_segments0_cabinClass'] = train['legs0_segments0_cabinClass'].map(legs0_segments0_cabinClass_map).astype('UInt8')\n",
    "test['legs0_segments0_cabinClass'] = test['legs0_segments0_cabinClass'].map(legs0_segments0_cabinClass_map).fillna(len(legs0_segments0_cabinClass_map)).astype('UInt8')"
   ],
   "metadata": {
    "collapsed": false,
    "ExecuteTime": {
     "end_time": "2025-08-05T01:13:55.645512600Z",
     "start_time": "2025-08-05T01:13:55.089591500Z"
    }
   },
   "id": "d3e0fdae5b8be753",
   "execution_count": 20
  },
  {
   "cell_type": "code",
   "outputs": [],
   "source": [
    "legs0_segments0_departureFrom_airport_iata_map = {old_id: new_id for new_id, old_id in enumerate(train['legs0_segments0_departureFrom_airport_iata'].unique())}\n",
    "\n",
    "train['legs0_segments0_departureFrom_airport_iata'] = train['legs0_segments0_departureFrom_airport_iata'].map(legs0_segments0_departureFrom_airport_iata_map).astype('UInt16')\n",
    "test['legs0_segments0_departureFrom_airport_iata'] = test['legs0_segments0_departureFrom_airport_iata'].map(legs0_segments0_departureFrom_airport_iata_map).fillna(len(legs0_segments0_departureFrom_airport_iata_map)).astype('UInt16')"
   ],
   "metadata": {
    "collapsed": false,
    "ExecuteTime": {
     "end_time": "2025-08-05T01:13:57.008107200Z",
     "start_time": "2025-08-05T01:13:55.646579200Z"
    }
   },
   "id": "434c48e5ab044087",
   "execution_count": 21
  },
  {
   "cell_type": "code",
   "outputs": [],
   "source": [
    "train['legs0_segments0_duration'] = pd.to_timedelta(train['legs0_segments0_duration'])\n",
    "train['legs0_segments0_duration'] = (train['legs0_segments0_duration'].dt.total_seconds() // 60).astype('UInt16')\n",
    "\n",
    "test['legs0_segments0_duration'] = pd.to_timedelta(test['legs0_segments0_duration'])\n",
    "test['legs0_segments0_duration'] = (test['legs0_segments0_duration'].dt.total_seconds() // 60).astype('UInt16')"
   ],
   "metadata": {
    "collapsed": false,
    "ExecuteTime": {
     "end_time": "2025-08-05T01:14:08.421957600Z",
     "start_time": "2025-08-05T01:13:57.009182500Z"
    }
   },
   "id": "fffcf75b5b9a0b8a",
   "execution_count": 22
  },
  {
   "cell_type": "code",
   "outputs": [],
   "source": [
    "legs0_segments0_flightNumber_map = {old_id: new_id for new_id, old_id in enumerate(train['legs0_segments0_flightNumber'].unique())}\n",
    "\n",
    "train['legs0_segments0_flightNumber'] = train['legs0_segments0_flightNumber'].map(legs0_segments0_flightNumber_map).astype('UInt16')\n",
    "test['legs0_segments0_flightNumber'] = test['legs0_segments0_flightNumber'].map(legs0_segments0_flightNumber_map).fillna(len(legs0_segments0_flightNumber_map)).astype('UInt16')"
   ],
   "metadata": {
    "collapsed": false,
    "ExecuteTime": {
     "end_time": "2025-08-05T01:14:10.000399400Z",
     "start_time": "2025-08-05T01:14:08.422959600Z"
    }
   },
   "id": "790e5a6f13ca8911",
   "execution_count": 23
  },
  {
   "cell_type": "code",
   "outputs": [],
   "source": [
    "legs0_segments0_marketingCarrier_code_map = {old_id: new_id for new_id, old_id in enumerate(train['legs0_segments0_marketingCarrier_code'].unique())}\n",
    "\n",
    "train['legs0_segments0_marketingCarrier_code'] = train['legs0_segments0_marketingCarrier_code'].map(legs0_segments0_marketingCarrier_code_map).astype('UInt8')\n",
    "test['legs0_segments0_marketingCarrier_code'] = test['legs0_segments0_marketingCarrier_code'].map(legs0_segments0_marketingCarrier_code_map).fillna(len(legs0_segments0_marketingCarrier_code_map)).astype('UInt8')"
   ],
   "metadata": {
    "collapsed": false,
    "ExecuteTime": {
     "end_time": "2025-08-05T01:14:11.498189900Z",
     "start_time": "2025-08-05T01:14:10.001426200Z"
    }
   },
   "id": "f8414337ad963502",
   "execution_count": 24
  },
  {
   "cell_type": "code",
   "outputs": [],
   "source": [
    "legs0_segments0_operatingCarrier_code_map = {old_id: new_id for new_id, old_id in enumerate(train['legs0_segments0_operatingCarrier_code'].unique())}\n",
    "\n",
    "train['legs0_segments0_operatingCarrier_code'] = train['legs0_segments0_operatingCarrier_code'].map(legs0_segments0_operatingCarrier_code_map).astype('UInt8')\n",
    "test['legs0_segments0_operatingCarrier_code'] = test['legs0_segments0_operatingCarrier_code'].map(legs0_segments0_operatingCarrier_code_map).fillna(len(legs0_segments0_operatingCarrier_code_map)).astype('UInt8')"
   ],
   "metadata": {
    "collapsed": false,
    "ExecuteTime": {
     "end_time": "2025-08-05T01:14:13.086328900Z",
     "start_time": "2025-08-05T01:14:11.498189900Z"
    }
   },
   "id": "54d62b283814dc9b",
   "execution_count": 25
  },
  {
   "cell_type": "code",
   "outputs": [],
   "source": [
    "legs0_segments0_seatsAvailable_map = {old_id: new_id for new_id, old_id in enumerate(train['legs0_segments0_seatsAvailable'].unique())}\n",
    "\n",
    "train['legs0_segments0_seatsAvailable'] = train['legs0_segments0_seatsAvailable'].map(legs0_segments0_seatsAvailable_map).astype('UInt8')\n",
    "test['legs0_segments0_seatsAvailable'] = test['legs0_segments0_seatsAvailable'].map(legs0_segments0_seatsAvailable_map).fillna(len(legs0_segments0_seatsAvailable_map)).astype('UInt8')"
   ],
   "metadata": {
    "collapsed": false,
    "ExecuteTime": {
     "end_time": "2025-08-05T01:14:13.735013100Z",
     "start_time": "2025-08-05T01:14:13.087412300Z"
    }
   },
   "id": "a449f2659c19721d",
   "execution_count": 26
  },
  {
   "cell_type": "markdown",
   "source": [
    "# L_0_S_1"
   ],
   "metadata": {
    "collapsed": false
   },
   "id": "557fea8baea93e13"
  },
  {
   "cell_type": "code",
   "outputs": [],
   "source": [
    "legs0_segments1_aircraft_code_map = {old_id: new_id for new_id, old_id in enumerate(train['legs0_segments1_aircraft_code'].unique())}\n",
    "\n",
    "train['legs0_segments1_aircraft_code'] = train['legs0_segments1_aircraft_code'].map(legs0_segments1_aircraft_code_map).astype('UInt8')\n",
    "test['legs0_segments1_aircraft_code'] = test['legs0_segments1_aircraft_code'].map(legs0_segments1_aircraft_code_map).fillna(len(legs0_segments1_aircraft_code_map)).astype('UInt8')"
   ],
   "metadata": {
    "collapsed": false,
    "ExecuteTime": {
     "end_time": "2025-08-05T01:14:14.887062200Z",
     "start_time": "2025-08-05T01:14:13.736014900Z"
    }
   },
   "id": "30084475d060ef1d",
   "execution_count": 27
  },
  {
   "cell_type": "code",
   "outputs": [],
   "source": [
    "legs0_segments1_arrivalTo_airport_city_iata_map = {old_id: new_id for new_id, old_id in enumerate(train['legs0_segments1_arrivalTo_airport_city_iata'].unique())}\n",
    "\n",
    "train['legs0_segments1_arrivalTo_airport_city_iata'] = train['legs0_segments1_arrivalTo_airport_city_iata'].map(legs0_segments1_arrivalTo_airport_city_iata_map).astype('UInt16')\n",
    "test['legs0_segments1_arrivalTo_airport_city_iata'] = test['legs0_segments1_arrivalTo_airport_city_iata'].map(legs0_segments1_arrivalTo_airport_city_iata_map).fillna(len(legs0_segments1_arrivalTo_airport_city_iata_map)).astype('UInt16')"
   ],
   "metadata": {
    "collapsed": false,
    "ExecuteTime": {
     "end_time": "2025-08-05T01:14:16.066596800Z",
     "start_time": "2025-08-05T01:14:14.882712Z"
    }
   },
   "id": "5895c7b98cb613a4",
   "execution_count": 28
  },
  {
   "cell_type": "code",
   "outputs": [],
   "source": [
    "legs0_segments1_arrivalTo_airport_iata_map = {old_id: new_id for new_id, old_id in enumerate(train['legs0_segments1_arrivalTo_airport_iata'].unique())}\n",
    "\n",
    "train['legs0_segments1_arrivalTo_airport_iata'] = train['legs0_segments1_arrivalTo_airport_iata'].map(legs0_segments1_arrivalTo_airport_iata_map).astype('UInt16')\n",
    "test['legs0_segments1_arrivalTo_airport_iata'] = test['legs0_segments1_arrivalTo_airport_iata'].map(legs0_segments1_arrivalTo_airport_iata_map).fillna(len(legs0_segments1_arrivalTo_airport_iata_map)).astype('UInt16')"
   ],
   "metadata": {
    "collapsed": false,
    "ExecuteTime": {
     "end_time": "2025-08-05T01:14:17.353025100Z",
     "start_time": "2025-08-05T01:14:16.074171300Z"
    }
   },
   "id": "5e74a52aaef74c06",
   "execution_count": 29
  },
  {
   "cell_type": "code",
   "outputs": [],
   "source": [
    "legs0_segments1_baggageAllowance_quantity_map = {old_id: new_id for new_id, old_id in enumerate(train['legs0_segments1_baggageAllowance_quantity'].unique())}\n",
    "\n",
    "train['legs0_segments1_baggageAllowance_quantity'] = train['legs0_segments1_baggageAllowance_quantity'].map(legs0_segments1_baggageAllowance_quantity_map).astype('UInt8')\n",
    "test['legs0_segments1_baggageAllowance_quantity'] = test['legs0_segments1_baggageAllowance_quantity'].map(legs0_segments1_baggageAllowance_quantity_map).fillna(len(legs0_segments1_baggageAllowance_quantity_map)).astype('UInt8')"
   ],
   "metadata": {
    "collapsed": false,
    "ExecuteTime": {
     "end_time": "2025-08-05T01:14:17.941563500Z",
     "start_time": "2025-08-05T01:14:17.353025100Z"
    }
   },
   "id": "31e218e300be7254",
   "execution_count": 30
  },
  {
   "cell_type": "code",
   "outputs": [],
   "source": [
    "legs0_segments1_baggageAllowance_weightMeasurementType_map = {old_id: new_id for new_id, old_id in enumerate(train['legs0_segments1_baggageAllowance_weightMeasurementType'].unique())}\n",
    "\n",
    "train['legs0_segments1_baggageAllowance_weightMeasurementType'] = train['legs0_segments1_baggageAllowance_weightMeasurementType'].map(legs0_segments1_baggageAllowance_weightMeasurementType_map).astype('UInt8')\n",
    "test['legs0_segments1_baggageAllowance_weightMeasurementType'] = test['legs0_segments1_baggageAllowance_weightMeasurementType'].map(legs0_segments1_baggageAllowance_weightMeasurementType_map).fillna(len(legs0_segments1_baggageAllowance_weightMeasurementType_map)).astype('UInt8')"
   ],
   "metadata": {
    "collapsed": false,
    "ExecuteTime": {
     "end_time": "2025-08-05T01:14:18.495958400Z",
     "start_time": "2025-08-05T01:14:17.941563500Z"
    }
   },
   "id": "94516f7f66ae2094",
   "execution_count": 31
  },
  {
   "cell_type": "code",
   "outputs": [],
   "source": [
    "legs0_segments1_cabinClass_map = {old_id: new_id for new_id, old_id in enumerate(train['legs0_segments1_cabinClass'].unique())}\n",
    "\n",
    "train['legs0_segments1_cabinClass'] = train['legs0_segments1_cabinClass'].map(legs0_segments1_cabinClass_map).astype('UInt8')\n",
    "test['legs0_segments1_cabinClass'] = test['legs0_segments1_cabinClass'].map(legs0_segments1_cabinClass_map).fillna(len(legs0_segments1_cabinClass_map)).astype('UInt8')"
   ],
   "metadata": {
    "collapsed": false,
    "ExecuteTime": {
     "end_time": "2025-08-05T01:14:19.069370400Z",
     "start_time": "2025-08-05T01:14:18.497071600Z"
    }
   },
   "id": "a3bf353c3d22424f",
   "execution_count": 32
  },
  {
   "cell_type": "code",
   "outputs": [],
   "source": [
    "legs0_segments1_departureFrom_airport_iata_map = {old_id: new_id for new_id, old_id in enumerate(train['legs0_segments1_departureFrom_airport_iata'].unique())}\n",
    "\n",
    "train['legs0_segments1_departureFrom_airport_iata'] = train['legs0_segments1_departureFrom_airport_iata'].map(legs0_segments1_departureFrom_airport_iata_map).astype('UInt16')\n",
    "test['legs0_segments1_departureFrom_airport_iata'] = test['legs0_segments1_departureFrom_airport_iata'].map(legs0_segments1_departureFrom_airport_iata_map).fillna(len(legs0_segments1_departureFrom_airport_iata_map)).astype('UInt16')"
   ],
   "metadata": {
    "collapsed": false,
    "ExecuteTime": {
     "end_time": "2025-08-05T01:14:20.278823Z",
     "start_time": "2025-08-05T01:14:19.069370400Z"
    }
   },
   "id": "5e39fef12ca6f4d3",
   "execution_count": 33
  },
  {
   "cell_type": "code",
   "outputs": [],
   "source": [
    "train['legs0_segments1_duration'] = pd.to_timedelta(train['legs0_segments1_duration'].apply(fix_duration_format))\n",
    "train['legs0_segments1_duration'] = (train['legs0_segments1_duration'].dt.total_seconds() // 60).fillna(0).astype('UInt16')\n",
    "\n",
    "test['legs0_segments1_duration'] = pd.to_timedelta(test['legs0_segments1_duration'].apply(fix_duration_format))\n",
    "test['legs0_segments1_duration'] = (test['legs0_segments1_duration'].dt.total_seconds() // 60).fillna(0).astype('UInt16')"
   ],
   "metadata": {
    "collapsed": false,
    "ExecuteTime": {
     "end_time": "2025-08-05T01:14:33.317199900Z",
     "start_time": "2025-08-05T01:14:20.317187800Z"
    }
   },
   "id": "763efa3b3d96e97e",
   "execution_count": 34
  },
  {
   "cell_type": "code",
   "outputs": [],
   "source": [
    "legs0_segments1_flightNumber_map = {old_id: new_id for new_id, old_id in enumerate(train['legs0_segments1_flightNumber'].unique())}\n",
    "\n",
    "train['legs0_segments1_flightNumber'] = train['legs0_segments1_flightNumber'].map(legs0_segments1_flightNumber_map).astype('UInt16')\n",
    "test['legs0_segments1_flightNumber'] = test['legs0_segments1_flightNumber'].map(legs0_segments1_flightNumber_map).fillna(len(legs0_segments1_flightNumber_map)).astype('UInt16')"
   ],
   "metadata": {
    "collapsed": false,
    "ExecuteTime": {
     "end_time": "2025-08-05T01:14:34.621537900Z",
     "start_time": "2025-08-05T01:14:33.318259300Z"
    }
   },
   "id": "b8104c482e127c12",
   "execution_count": 35
  },
  {
   "cell_type": "code",
   "outputs": [],
   "source": [
    "legs0_segments1_marketingCarrier_code_map = {old_id: new_id for new_id, old_id in enumerate(train['legs0_segments1_marketingCarrier_code'].unique())}\n",
    "\n",
    "train['legs0_segments1_marketingCarrier_code'] = train['legs0_segments1_marketingCarrier_code'].map(legs0_segments1_marketingCarrier_code_map).astype('UInt8')\n",
    "test['legs0_segments1_marketingCarrier_code'] = test['legs0_segments1_marketingCarrier_code'].map(legs0_segments1_marketingCarrier_code_map).fillna(len(legs0_segments1_marketingCarrier_code_map)).astype('UInt8')"
   ],
   "metadata": {
    "collapsed": false,
    "ExecuteTime": {
     "end_time": "2025-08-05T01:14:35.885485500Z",
     "start_time": "2025-08-05T01:14:34.622605200Z"
    }
   },
   "id": "a86e55d40cae98e5",
   "execution_count": 36
  },
  {
   "cell_type": "code",
   "outputs": [],
   "source": [
    "legs0_segments1_operatingCarrier_code_map = {old_id: new_id for new_id, old_id in enumerate(train['legs0_segments1_operatingCarrier_code'].unique())}\n",
    "\n",
    "train['legs0_segments1_operatingCarrier_code'] = train['legs0_segments1_operatingCarrier_code'].map(legs0_segments1_operatingCarrier_code_map).astype('UInt8')\n",
    "test['legs0_segments1_operatingCarrier_code'] = test['legs0_segments1_operatingCarrier_code'].map(legs0_segments1_operatingCarrier_code_map).fillna(len(legs0_segments1_operatingCarrier_code_map)).astype('UInt8')"
   ],
   "metadata": {
    "collapsed": false,
    "ExecuteTime": {
     "end_time": "2025-08-05T01:14:37.216977Z",
     "start_time": "2025-08-05T01:14:35.885485500Z"
    }
   },
   "id": "5604cd57fa1dc981",
   "execution_count": 37
  },
  {
   "cell_type": "code",
   "outputs": [],
   "source": [
    "legs0_segments1_seatsAvailable_map = {old_id: new_id for new_id, old_id in enumerate(train['legs0_segments1_seatsAvailable'].unique())}\n",
    "\n",
    "train['legs0_segments1_seatsAvailable'] = train['legs0_segments1_seatsAvailable'].map(legs0_segments1_seatsAvailable_map).astype('UInt8')\n",
    "test['legs0_segments1_seatsAvailable'] = test['legs0_segments1_seatsAvailable'].map(legs0_segments1_seatsAvailable_map).fillna(len(legs0_segments1_seatsAvailable_map)).astype('UInt8')"
   ],
   "metadata": {
    "collapsed": false,
    "ExecuteTime": {
     "end_time": "2025-08-05T01:14:37.811502100Z",
     "start_time": "2025-08-05T01:14:37.202164400Z"
    }
   },
   "id": "c087aec63fe7596d",
   "execution_count": 38
  },
  {
   "cell_type": "markdown",
   "source": [
    "# L_0_S_2"
   ],
   "metadata": {
    "collapsed": false
   },
   "id": "7343dccc41d7c656"
  },
  {
   "cell_type": "code",
   "outputs": [],
   "source": [
    "legs0_segments2_aircraft_code_map = {old_id: new_id for new_id, old_id in enumerate(train['legs0_segments2_aircraft_code'].unique())}\n",
    "\n",
    "train['legs0_segments2_aircraft_code'] = train['legs0_segments2_aircraft_code'].map(legs0_segments2_aircraft_code_map).astype('UInt8')\n",
    "test['legs0_segments2_aircraft_code'] = test['legs0_segments2_aircraft_code'].map(legs0_segments2_aircraft_code_map).fillna(len(legs0_segments2_aircraft_code_map)).astype('UInt8')"
   ],
   "metadata": {
    "collapsed": false,
    "ExecuteTime": {
     "end_time": "2025-08-05T01:14:39.087465300Z",
     "start_time": "2025-08-05T01:14:37.811502100Z"
    }
   },
   "id": "d79981e3d222f771",
   "execution_count": 39
  },
  {
   "cell_type": "code",
   "outputs": [],
   "source": [
    "legs0_segments2_arrivalTo_airport_city_iata_map = {old_id: new_id for new_id, old_id in enumerate(train['legs0_segments2_arrivalTo_airport_city_iata'].unique())}\n",
    "\n",
    "train['legs0_segments2_arrivalTo_airport_city_iata'] = train['legs0_segments2_arrivalTo_airport_city_iata'].map(legs0_segments2_arrivalTo_airport_city_iata_map).astype('UInt8')\n",
    "test['legs0_segments2_arrivalTo_airport_city_iata'] = test['legs0_segments2_arrivalTo_airport_city_iata'].map(legs0_segments2_arrivalTo_airport_city_iata_map).fillna(len(legs0_segments2_arrivalTo_airport_city_iata_map)).astype('UInt8')"
   ],
   "metadata": {
    "collapsed": false,
    "ExecuteTime": {
     "end_time": "2025-08-05T01:14:40.385062700Z",
     "start_time": "2025-08-05T01:14:39.088522300Z"
    }
   },
   "id": "239730f3093e99f5",
   "execution_count": 40
  },
  {
   "cell_type": "code",
   "outputs": [],
   "source": [
    "legs0_segments2_arrivalTo_airport_iata_map = {old_id: new_id for new_id, old_id in enumerate(train['legs0_segments2_arrivalTo_airport_iata'].unique())}\n",
    "\n",
    "train['legs0_segments2_arrivalTo_airport_iata'] = train['legs0_segments2_arrivalTo_airport_iata'].map(legs0_segments2_arrivalTo_airport_iata_map).astype('UInt16')\n",
    "test['legs0_segments2_arrivalTo_airport_iata'] = test['legs0_segments2_arrivalTo_airport_iata'].map(legs0_segments2_arrivalTo_airport_iata_map).fillna(len(legs0_segments2_arrivalTo_airport_iata_map)).astype('UInt16')"
   ],
   "metadata": {
    "collapsed": false,
    "ExecuteTime": {
     "end_time": "2025-08-05T01:14:41.734337700Z",
     "start_time": "2025-08-05T01:14:40.409296700Z"
    }
   },
   "id": "76d0378292753b63",
   "execution_count": 41
  },
  {
   "cell_type": "code",
   "outputs": [],
   "source": [
    "legs0_segments2_baggageAllowance_quantity_map = {old_id: new_id for new_id, old_id in enumerate(train['legs0_segments2_baggageAllowance_quantity'].unique())}\n",
    "\n",
    "train['legs0_segments2_baggageAllowance_quantity'] = train['legs0_segments2_baggageAllowance_quantity'].map(legs0_segments2_baggageAllowance_quantity_map).astype('UInt8')\n",
    "test['legs0_segments2_baggageAllowance_quantity'] = test['legs0_segments2_baggageAllowance_quantity'].map(legs0_segments2_baggageAllowance_quantity_map).fillna(len(legs0_segments2_baggageAllowance_quantity_map)).astype('UInt8')"
   ],
   "metadata": {
    "collapsed": false,
    "ExecuteTime": {
     "end_time": "2025-08-05T01:14:42.345703Z",
     "start_time": "2025-08-05T01:14:41.736337600Z"
    }
   },
   "id": "a5b5cfa46b30c99f",
   "execution_count": 42
  },
  {
   "cell_type": "code",
   "outputs": [],
   "source": [
    "legs0_segments2_baggageAllowance_weightMeasurementType_map = {old_id: new_id for new_id, old_id in enumerate(train['legs0_segments2_baggageAllowance_weightMeasurementType'].unique())}\n",
    "\n",
    "train['legs0_segments2_baggageAllowance_weightMeasurementType'] = train['legs0_segments2_baggageAllowance_weightMeasurementType'].map(legs0_segments2_baggageAllowance_weightMeasurementType_map).astype('UInt8')\n",
    "test['legs0_segments2_baggageAllowance_weightMeasurementType'] = test['legs0_segments2_baggageAllowance_weightMeasurementType'].map(legs0_segments2_baggageAllowance_weightMeasurementType_map).fillna(len(legs0_segments2_baggageAllowance_weightMeasurementType_map)).astype('UInt8')"
   ],
   "metadata": {
    "collapsed": false,
    "ExecuteTime": {
     "end_time": "2025-08-05T01:14:43.622586400Z",
     "start_time": "2025-08-05T01:14:42.347857400Z"
    }
   },
   "id": "b367134b3a8b0f8e",
   "execution_count": 43
  },
  {
   "cell_type": "code",
   "outputs": [],
   "source": [
    "legs0_segments2_cabinClass_map = {old_id: new_id for new_id, old_id in enumerate(train['legs0_segments2_cabinClass'].unique())}\n",
    "\n",
    "train['legs0_segments2_cabinClass'] = train['legs0_segments2_cabinClass'].map(legs0_segments2_cabinClass_map).astype('UInt8')\n",
    "test['legs0_segments2_cabinClass'] = test['legs0_segments2_cabinClass'].map(legs0_segments2_cabinClass_map).fillna(len(legs0_segments2_cabinClass_map)).astype('UInt8')"
   ],
   "metadata": {
    "collapsed": false,
    "ExecuteTime": {
     "end_time": "2025-08-05T01:14:44.200736700Z",
     "start_time": "2025-08-05T01:14:43.617045400Z"
    }
   },
   "id": "b2314963c1b12329",
   "execution_count": 44
  },
  {
   "cell_type": "code",
   "outputs": [],
   "source": [
    "legs0_segments2_departureFrom_airport_iata_map = {old_id: new_id for new_id, old_id in enumerate(train['legs0_segments2_departureFrom_airport_iata'].unique())}\n",
    "\n",
    "train['legs0_segments2_departureFrom_airport_iata'] = train['legs0_segments2_departureFrom_airport_iata'].map(legs0_segments2_departureFrom_airport_iata_map).astype('UInt16')\n",
    "test['legs0_segments2_departureFrom_airport_iata'] = test['legs0_segments2_departureFrom_airport_iata'].map(legs0_segments2_departureFrom_airport_iata_map).fillna(len(legs0_segments2_departureFrom_airport_iata_map)).astype('UInt16')"
   ],
   "metadata": {
    "collapsed": false,
    "ExecuteTime": {
     "end_time": "2025-08-05T01:14:45.731730800Z",
     "start_time": "2025-08-05T01:14:44.202927Z"
    }
   },
   "id": "477f69d0143922dc",
   "execution_count": 45
  },
  {
   "cell_type": "code",
   "outputs": [],
   "source": [
    "train['legs0_segments2_duration'] = pd.to_timedelta(train['legs0_segments2_duration'].apply(fix_duration_format))\n",
    "train['legs0_segments2_duration'] = (train['legs0_segments2_duration'].dt.total_seconds() // 60).fillna(0).astype('UInt16')\n",
    "\n",
    "test['legs0_segments2_duration'] = pd.to_timedelta(test['legs0_segments2_duration'].apply(fix_duration_format))\n",
    "test['legs0_segments2_duration'] = (test['legs0_segments2_duration'].dt.total_seconds() // 60).fillna(0).astype('UInt16')"
   ],
   "metadata": {
    "collapsed": false,
    "ExecuteTime": {
     "end_time": "2025-08-05T01:14:56.419781200Z",
     "start_time": "2025-08-05T01:14:45.732819400Z"
    }
   },
   "id": "e57f5737029946fd",
   "execution_count": 46
  },
  {
   "cell_type": "code",
   "outputs": [],
   "source": [
    "legs0_segments2_flightNumber_map = {old_id: new_id for new_id, old_id in enumerate(train['legs0_segments2_flightNumber'].unique())}\n",
    "\n",
    "train['legs0_segments2_flightNumber'] = train['legs0_segments2_flightNumber'].map(legs0_segments2_flightNumber_map).astype('UInt16')\n",
    "test['legs0_segments2_flightNumber'] = test['legs0_segments2_flightNumber'].map(legs0_segments2_flightNumber_map).fillna(len(legs0_segments2_flightNumber_map)).astype('UInt16')"
   ],
   "metadata": {
    "collapsed": false,
    "ExecuteTime": {
     "end_time": "2025-08-05T01:14:57.750018100Z",
     "start_time": "2025-08-05T01:14:56.420930400Z"
    }
   },
   "id": "662e2b21fa3e81c",
   "execution_count": 47
  },
  {
   "cell_type": "code",
   "outputs": [],
   "source": [
    "legs0_segments2_marketingCarrier_code_map = {old_id: new_id for new_id, old_id in enumerate(train['legs0_segments2_marketingCarrier_code'].unique())}\n",
    "\n",
    "train['legs0_segments2_marketingCarrier_code'] = train['legs0_segments2_marketingCarrier_code'].map(legs0_segments2_marketingCarrier_code_map).astype('UInt8')\n",
    "test['legs0_segments2_marketingCarrier_code'] = test['legs0_segments2_marketingCarrier_code'].map(legs0_segments2_marketingCarrier_code_map).fillna(len(legs0_segments2_marketingCarrier_code_map)).astype('UInt8')"
   ],
   "metadata": {
    "collapsed": false,
    "ExecuteTime": {
     "end_time": "2025-08-05T01:14:59.029452600Z",
     "start_time": "2025-08-05T01:14:57.752135400Z"
    }
   },
   "id": "535334ec9f320beb",
   "execution_count": 48
  },
  {
   "cell_type": "code",
   "outputs": [],
   "source": [
    "legs0_segments2_operatingCarrier_code_map = {old_id: new_id for new_id, old_id in enumerate(train['legs0_segments2_operatingCarrier_code'].unique())}\n",
    "\n",
    "train['legs0_segments2_operatingCarrier_code'] = train['legs0_segments2_operatingCarrier_code'].map(legs0_segments2_operatingCarrier_code_map).astype('UInt8')\n",
    "test['legs0_segments2_operatingCarrier_code'] = test['legs0_segments2_operatingCarrier_code'].map(legs0_segments2_operatingCarrier_code_map).fillna(len(legs0_segments2_operatingCarrier_code_map)).astype('UInt8')"
   ],
   "metadata": {
    "collapsed": false,
    "ExecuteTime": {
     "end_time": "2025-08-05T01:15:00.324653Z",
     "start_time": "2025-08-05T01:14:59.052040400Z"
    }
   },
   "id": "73d258c4bd98da3a",
   "execution_count": 49
  },
  {
   "cell_type": "code",
   "outputs": [],
   "source": [
    "legs0_segments2_seatsAvailable_map = {old_id: new_id for new_id, old_id in enumerate(train['legs0_segments2_seatsAvailable'].unique())}\n",
    "\n",
    "train['legs0_segments2_seatsAvailable'] = train['legs0_segments2_seatsAvailable'].map(legs0_segments2_seatsAvailable_map).astype('UInt8')\n",
    "test['legs0_segments2_seatsAvailable'] = test['legs0_segments2_seatsAvailable'].map(legs0_segments2_seatsAvailable_map).fillna(len(legs0_segments2_seatsAvailable_map)).astype('UInt8')"
   ],
   "metadata": {
    "collapsed": false,
    "ExecuteTime": {
     "end_time": "2025-08-05T01:15:00.891843800Z",
     "start_time": "2025-08-05T01:15:00.326775500Z"
    }
   },
   "id": "bcf29749cb9eb91d",
   "execution_count": 50
  },
  {
   "cell_type": "markdown",
   "source": [
    "# L_0_S_3"
   ],
   "metadata": {
    "collapsed": false
   },
   "id": "e9037286e45943dc"
  },
  {
   "cell_type": "code",
   "outputs": [],
   "source": [
    "legs0_segments3_aircraft_code_map = {old_id: new_id for new_id, old_id in enumerate(train['legs0_segments3_aircraft_code'].unique())}\n",
    "\n",
    "train['legs0_segments3_aircraft_code'] = train['legs0_segments3_aircraft_code'].map(legs0_segments3_aircraft_code_map).astype('UInt8')\n",
    "test['legs0_segments3_aircraft_code'] = test['legs0_segments3_aircraft_code'].map(legs0_segments3_aircraft_code_map).fillna(len(legs0_segments3_aircraft_code_map)).astype('UInt8')"
   ],
   "metadata": {
    "collapsed": false,
    "ExecuteTime": {
     "end_time": "2025-08-05T01:15:01.748700700Z",
     "start_time": "2025-08-05T01:15:01.156532900Z"
    }
   },
   "id": "d90f50ff4169467",
   "execution_count": 51
  },
  {
   "cell_type": "code",
   "outputs": [],
   "source": [
    "legs0_segments3_arrivalTo_airport_city_iata_map = {old_id: new_id for new_id, old_id in enumerate(train['legs0_segments3_arrivalTo_airport_city_iata'].unique())}\n",
    "\n",
    "train['legs0_segments3_arrivalTo_airport_city_iata'] = train['legs0_segments3_arrivalTo_airport_city_iata'].map(legs0_segments3_arrivalTo_airport_city_iata_map).astype('UInt8')\n",
    "test['legs0_segments3_arrivalTo_airport_city_iata'] = test['legs0_segments3_arrivalTo_airport_city_iata'].map(legs0_segments3_arrivalTo_airport_city_iata_map).fillna(len(legs0_segments3_arrivalTo_airport_city_iata_map)).astype('UInt8')"
   ],
   "metadata": {
    "collapsed": false,
    "ExecuteTime": {
     "end_time": "2025-08-05T01:15:02.591999100Z",
     "start_time": "2025-08-05T01:15:01.748786400Z"
    }
   },
   "id": "b5a6887fd8274a5d",
   "execution_count": 52
  },
  {
   "cell_type": "code",
   "outputs": [],
   "source": [
    "legs0_segments3_arrivalTo_airport_iata_map = {old_id: new_id for new_id, old_id in enumerate(train['legs0_segments3_arrivalTo_airport_iata'].unique())}\n",
    "\n",
    "train['legs0_segments3_arrivalTo_airport_iata'] = train['legs0_segments3_arrivalTo_airport_iata'].map(legs0_segments3_arrivalTo_airport_iata_map).astype('UInt8')\n",
    "test['legs0_segments3_arrivalTo_airport_iata'] = test['legs0_segments3_arrivalTo_airport_iata'].map(legs0_segments3_arrivalTo_airport_iata_map).fillna(len(legs0_segments3_arrivalTo_airport_iata_map)).astype('UInt8')"
   ],
   "metadata": {
    "collapsed": false,
    "ExecuteTime": {
     "end_time": "2025-08-05T01:15:03.444823200Z",
     "start_time": "2025-08-05T01:15:02.593062300Z"
    }
   },
   "id": "324fa10bd1236008",
   "execution_count": 53
  },
  {
   "cell_type": "code",
   "outputs": [],
   "source": [
    "legs0_segments3_baggageAllowance_quantity_map = {old_id: new_id for new_id, old_id in enumerate(train['legs0_segments3_baggageAllowance_quantity'].unique())}\n",
    "\n",
    "train['legs0_segments3_baggageAllowance_quantity'] = train['legs0_segments3_baggageAllowance_quantity'].map(legs0_segments3_baggageAllowance_quantity_map).astype('UInt8')\n",
    "test['legs0_segments3_baggageAllowance_quantity'] = test['legs0_segments3_baggageAllowance_quantity'].map(legs0_segments3_baggageAllowance_quantity_map).fillna(len(legs0_segments3_baggageAllowance_quantity_map)).astype('UInt8')"
   ],
   "metadata": {
    "collapsed": false,
    "ExecuteTime": {
     "end_time": "2025-08-05T01:15:04.047474200Z",
     "start_time": "2025-08-05T01:15:03.444881500Z"
    }
   },
   "id": "9122c9f99127fa54",
   "execution_count": 54
  },
  {
   "cell_type": "code",
   "outputs": [],
   "source": [
    "legs0_segments3_baggageAllowance_weightMeasurementType_map = {old_id: new_id for new_id, old_id in enumerate(train['legs0_segments3_baggageAllowance_weightMeasurementType'].unique())}\n",
    "\n",
    "train['legs0_segments3_baggageAllowance_weightMeasurementType'] = train['legs0_segments3_baggageAllowance_weightMeasurementType'].map(legs0_segments3_baggageAllowance_weightMeasurementType_map).astype('UInt8')\n",
    "test['legs0_segments3_baggageAllowance_weightMeasurementType'] = test['legs0_segments3_baggageAllowance_weightMeasurementType'].map(legs0_segments3_baggageAllowance_weightMeasurementType_map).fillna(len(legs0_segments3_baggageAllowance_weightMeasurementType_map)).astype('UInt8')"
   ],
   "metadata": {
    "collapsed": false,
    "ExecuteTime": {
     "end_time": "2025-08-05T01:15:04.735901500Z",
     "start_time": "2025-08-05T01:15:04.049597100Z"
    }
   },
   "id": "e56276fa3254c60",
   "execution_count": 55
  },
  {
   "cell_type": "code",
   "outputs": [],
   "source": [
    "legs0_segments3_cabinClass_map = {old_id: new_id for new_id, old_id in enumerate(train['legs0_segments3_cabinClass'].unique())}\n",
    "\n",
    "train['legs0_segments3_cabinClass'] = train['legs0_segments3_cabinClass'].map(legs0_segments3_cabinClass_map).astype('UInt8')\n",
    "test['legs0_segments3_cabinClass'] = test['legs0_segments3_cabinClass'].map(legs0_segments3_cabinClass_map).fillna(len(legs0_segments3_cabinClass_map)).astype('UInt8')"
   ],
   "metadata": {
    "collapsed": false,
    "ExecuteTime": {
     "end_time": "2025-08-05T01:15:06.163832200Z",
     "start_time": "2025-08-05T01:15:04.736974Z"
    }
   },
   "id": "eab86854bf271ed9",
   "execution_count": 56
  },
  {
   "cell_type": "code",
   "outputs": [],
   "source": [
    "legs0_segments3_departureFrom_airport_iata_map = {old_id: new_id for new_id, old_id in enumerate(train['legs0_segments3_departureFrom_airport_iata'].unique())}\n",
    "\n",
    "train['legs0_segments3_departureFrom_airport_iata'] = train['legs0_segments3_departureFrom_airport_iata'].map(legs0_segments3_departureFrom_airport_iata_map).astype('UInt8')\n",
    "test['legs0_segments3_departureFrom_airport_iata'] = test['legs0_segments3_departureFrom_airport_iata'].map(legs0_segments3_departureFrom_airport_iata_map).fillna(len(legs0_segments3_departureFrom_airport_iata_map)).astype('UInt8')"
   ],
   "metadata": {
    "collapsed": false,
    "ExecuteTime": {
     "end_time": "2025-08-05T01:15:07.048680100Z",
     "start_time": "2025-08-05T01:15:06.158832300Z"
    }
   },
   "id": "d71be5e1c07079fe",
   "execution_count": 57
  },
  {
   "cell_type": "code",
   "outputs": [],
   "source": [
    "train['legs0_segments3_duration'] = pd.to_timedelta(train['legs0_segments3_duration'].apply(fix_duration_format))\n",
    "train['legs0_segments3_duration'] = (train['legs0_segments3_duration'].dt.total_seconds() // 60).fillna(0).astype('UInt16')\n",
    "\n",
    "test['legs0_segments3_duration'] = test['legs0_segments3_duration'].replace(-2, pd.NA)\n",
    "test['legs0_segments3_duration'] = test['legs0_segments3_duration'].fillna(0).astype('UInt16')"
   ],
   "metadata": {
    "collapsed": false,
    "ExecuteTime": {
     "end_time": "2025-08-05T01:15:15.483438900Z",
     "start_time": "2025-08-05T01:15:07.057373700Z"
    }
   },
   "id": "e14a5f411db8a36b",
   "execution_count": 58
  },
  {
   "cell_type": "code",
   "outputs": [],
   "source": [
    "legs0_segments3_flightNumber_map = {old_id: new_id for new_id, old_id in enumerate(train['legs0_segments3_flightNumber'].unique())}\n",
    "\n",
    "train['legs0_segments3_flightNumber'] = train['legs0_segments3_flightNumber'].map(legs0_segments3_flightNumber_map).astype('UInt8')\n",
    "test['legs0_segments3_flightNumber'] = test['legs0_segments3_flightNumber'].map(legs0_segments3_flightNumber_map).fillna(len(legs0_segments3_flightNumber_map)).astype('UInt8')"
   ],
   "metadata": {
    "collapsed": false,
    "ExecuteTime": {
     "end_time": "2025-08-05T01:15:16.375518300Z",
     "start_time": "2025-08-05T01:15:15.484506100Z"
    }
   },
   "id": "81491eec05524492",
   "execution_count": 59
  },
  {
   "cell_type": "code",
   "outputs": [],
   "source": [
    "legs0_segments3_marketingCarrier_code_map = {old_id: new_id for new_id, old_id in enumerate(train['legs0_segments3_marketingCarrier_code'].unique())}\n",
    "\n",
    "train['legs0_segments3_marketingCarrier_code'] = train['legs0_segments3_marketingCarrier_code'].map(legs0_segments3_marketingCarrier_code_map).astype('UInt8')\n",
    "test['legs0_segments3_marketingCarrier_code'] = test['legs0_segments3_marketingCarrier_code'].map(legs0_segments3_marketingCarrier_code_map).fillna(len(legs0_segments3_marketingCarrier_code_map)).astype('UInt8')"
   ],
   "metadata": {
    "collapsed": false,
    "ExecuteTime": {
     "end_time": "2025-08-05T01:15:17.234899800Z",
     "start_time": "2025-08-05T01:15:16.384335300Z"
    }
   },
   "id": "63c50186bd53b56d",
   "execution_count": 60
  },
  {
   "cell_type": "code",
   "outputs": [],
   "source": [
    "legs0_segments3_operatingCarrier_code_map = {old_id: new_id for new_id, old_id in enumerate(train['legs0_segments3_operatingCarrier_code'].unique())}\n",
    "\n",
    "train['legs0_segments3_operatingCarrier_code'] = train['legs0_segments3_operatingCarrier_code'].map(legs0_segments3_operatingCarrier_code_map).astype('UInt8')\n",
    "test['legs0_segments3_operatingCarrier_code'] = test['legs0_segments3_operatingCarrier_code'].map(legs0_segments3_operatingCarrier_code_map).fillna(len(legs0_segments3_operatingCarrier_code_map)).astype('UInt8')"
   ],
   "metadata": {
    "collapsed": false,
    "ExecuteTime": {
     "end_time": "2025-08-05T01:15:18.120405200Z",
     "start_time": "2025-08-05T01:15:17.236031Z"
    }
   },
   "id": "533bb8a35ac9da3c",
   "execution_count": 61
  },
  {
   "cell_type": "code",
   "outputs": [],
   "source": [
    "legs0_segments3_seatsAvailable_map = {old_id: new_id for new_id, old_id in enumerate(train['legs0_segments3_seatsAvailable'].unique())}\n",
    "\n",
    "train['legs0_segments3_seatsAvailable'] = train['legs0_segments3_seatsAvailable'].map(legs0_segments3_seatsAvailable_map).astype('UInt8')\n",
    "test['legs0_segments3_seatsAvailable'] = test['legs0_segments3_seatsAvailable'].map(legs0_segments3_seatsAvailable_map).fillna(len(legs0_segments3_seatsAvailable_map)).astype('UInt8')"
   ],
   "metadata": {
    "collapsed": false,
    "ExecuteTime": {
     "end_time": "2025-08-05T01:15:18.796169600Z",
     "start_time": "2025-08-05T01:15:18.120405200Z"
    }
   },
   "id": "8363ee4648bbaf79",
   "execution_count": 62
  },
  {
   "cell_type": "markdown",
   "source": [
    "# L_1"
   ],
   "metadata": {
    "collapsed": false
   },
   "id": "42387313e04d44d1"
  },
  {
   "cell_type": "code",
   "outputs": [],
   "source": [
    "train['legs1_arrivalAt'] = pd.to_datetime(train['legs1_arrivalAt'], format='%Y-%m-%dT%H:%M:%S', errors='coerce')\n",
    "test['legs1_arrivalAt'] = pd.to_datetime(test['legs1_arrivalAt'], format='%Y-%m-%dT%H:%M:%S', errors='coerce')"
   ],
   "metadata": {
    "collapsed": false,
    "ExecuteTime": {
     "end_time": "2025-08-05T01:15:20.581693500Z",
     "start_time": "2025-08-05T01:15:18.792041300Z"
    }
   },
   "id": "264e3169cdfc6b91",
   "execution_count": 63
  },
  {
   "cell_type": "code",
   "outputs": [],
   "source": [
    "train['legs1_departureAt'] = pd.to_datetime(train['legs1_departureAt'], format='%Y-%m-%dT%H:%M:%S', errors='coerce')\n",
    "test['legs1_departureAt'] = pd.to_datetime(test['legs1_departureAt'], format='%Y-%m-%dT%H:%M:%S', errors='coerce')"
   ],
   "metadata": {
    "collapsed": false,
    "ExecuteTime": {
     "end_time": "2025-08-05T01:15:21.687903700Z",
     "start_time": "2025-08-05T01:15:20.582695800Z"
    }
   },
   "id": "7cd2b1dedcc43b3f",
   "execution_count": 64
  },
  {
   "cell_type": "code",
   "outputs": [],
   "source": [
    "train['legs1_arrivalAt'] = train['legs1_arrivalAt'].fillna(pd.Timestamp(\"2024-01-01 00:00:00\"))\n",
    "train['legs1_departureAt'] = train['legs1_departureAt'].fillna(pd.Timestamp(\"2024-01-01 00:00:00\"))\n",
    "\n",
    "test['legs1_arrivalAt'] = test['legs1_arrivalAt'].fillna(pd.Timestamp(\"2024-01-01 00:00:00\"))\n",
    "test['legs1_departureAt'] = test['legs1_departureAt'].fillna(pd.Timestamp(\"2024-01-01 00:00:00\"))"
   ],
   "metadata": {
    "collapsed": false,
    "ExecuteTime": {
     "end_time": "2025-08-05T01:15:22.201049600Z",
     "start_time": "2025-08-05T01:15:21.688983800Z"
    }
   },
   "id": "67622544627a6b96",
   "execution_count": 65
  },
  {
   "cell_type": "code",
   "outputs": [],
   "source": [
    "train['legs1_duration'] = pd.to_timedelta(train['legs1_duration'].apply(fix_duration_format))\n",
    "train['legs1_duration'] = (train['legs1_duration'].dt.total_seconds() // 60).fillna(0).astype('UInt16')\n",
    "\n",
    "test['legs1_duration'] = pd.to_timedelta(test['legs1_duration'].apply(fix_duration_format))\n",
    "test['legs1_duration'] = (test['legs1_duration'].dt.total_seconds() // 60).fillna(0).astype('UInt16')"
   ],
   "metadata": {
    "collapsed": false,
    "ExecuteTime": {
     "end_time": "2025-08-05T01:15:42.152791100Z",
     "start_time": "2025-08-05T01:15:22.193439800Z"
    }
   },
   "id": "d647e38528a8c7",
   "execution_count": 66
  },
  {
   "cell_type": "markdown",
   "source": [
    "# L_1_S_0"
   ],
   "metadata": {
    "collapsed": false
   },
   "id": "c0c46edcde1b1813"
  },
  {
   "cell_type": "code",
   "outputs": [],
   "source": [
    "legs1_segments0_aircraft_code_map = {old_id: new_id for new_id, old_id in enumerate(train['legs1_segments0_aircraft_code'].unique())}\n",
    "\n",
    "train['legs1_segments0_aircraft_code'] = train['legs1_segments0_aircraft_code'].map(legs1_segments0_aircraft_code_map).astype('UInt8')\n",
    "test['legs1_segments0_aircraft_code'] = test['legs1_segments0_aircraft_code'].map(legs1_segments0_aircraft_code_map).fillna(len(legs1_segments0_aircraft_code_map)).astype('UInt8')"
   ],
   "metadata": {
    "collapsed": false,
    "ExecuteTime": {
     "end_time": "2025-08-05T01:15:43.762996100Z",
     "start_time": "2025-08-05T01:15:42.162663900Z"
    }
   },
   "id": "2264a37e6c59070e",
   "execution_count": 67
  },
  {
   "cell_type": "code",
   "outputs": [],
   "source": [
    "legs1_segments0_arrivalTo_airport_city_iata_map = {old_id: new_id for new_id, old_id in enumerate(train['legs1_segments0_arrivalTo_airport_city_iata'].unique())}\n",
    "\n",
    "train['legs1_segments0_arrivalTo_airport_city_iata'] = train['legs1_segments0_arrivalTo_airport_city_iata'].map(legs1_segments0_arrivalTo_airport_city_iata_map).astype('UInt16')\n",
    "test['legs1_segments0_arrivalTo_airport_city_iata'] = test['legs1_segments0_arrivalTo_airport_city_iata'].map(legs1_segments0_arrivalTo_airport_city_iata_map).fillna(len(legs1_segments0_arrivalTo_airport_city_iata_map)).astype('UInt16')"
   ],
   "metadata": {
    "collapsed": false,
    "ExecuteTime": {
     "end_time": "2025-08-05T01:15:44.983412900Z",
     "start_time": "2025-08-05T01:15:43.765237200Z"
    }
   },
   "id": "297d5d65b67d6cfe",
   "execution_count": 68
  },
  {
   "cell_type": "code",
   "outputs": [],
   "source": [
    "legs1_segments0_arrivalTo_airport_iata_map = {old_id: new_id for new_id, old_id in enumerate(train['legs1_segments0_arrivalTo_airport_iata'].unique())}\n",
    "\n",
    "train['legs1_segments0_arrivalTo_airport_iata'] = train['legs1_segments0_arrivalTo_airport_iata'].map(legs1_segments0_arrivalTo_airport_iata_map).astype('UInt16')\n",
    "test['legs1_segments0_arrivalTo_airport_iata'] = test['legs1_segments0_arrivalTo_airport_iata'].map(legs1_segments0_arrivalTo_airport_iata_map).fillna(len(legs1_segments0_arrivalTo_airport_iata_map)).astype('UInt16')"
   ],
   "metadata": {
    "collapsed": false,
    "ExecuteTime": {
     "end_time": "2025-08-05T01:15:46.218250400Z",
     "start_time": "2025-08-05T01:15:45.001324300Z"
    }
   },
   "id": "b96d70b9d0595313",
   "execution_count": 69
  },
  {
   "cell_type": "code",
   "outputs": [],
   "source": [
    "legs1_segments0_baggageAllowance_quantity_map = {old_id: new_id for new_id, old_id in enumerate(train['legs1_segments0_baggageAllowance_quantity'].unique())}\n",
    "\n",
    "train['legs1_segments0_baggageAllowance_quantity'] = train['legs1_segments0_baggageAllowance_quantity'].map(legs1_segments0_baggageAllowance_quantity_map).astype('UInt8')\n",
    "test['legs1_segments0_baggageAllowance_quantity'] = test['legs1_segments0_baggageAllowance_quantity'].map(legs1_segments0_baggageAllowance_quantity_map).fillna(len(legs1_segments0_baggageAllowance_quantity_map)).astype('UInt8')"
   ],
   "metadata": {
    "collapsed": false,
    "ExecuteTime": {
     "end_time": "2025-08-05T01:15:47.088427900Z",
     "start_time": "2025-08-05T01:15:46.221475200Z"
    }
   },
   "id": "603669b11c627640",
   "execution_count": 70
  },
  {
   "cell_type": "code",
   "outputs": [],
   "source": [
    "legs1_segments0_baggageAllowance_weightMeasurementType_map = {old_id: new_id for new_id, old_id in enumerate(train['legs1_segments0_baggageAllowance_weightMeasurementType'].unique())}\n",
    "\n",
    "train['legs1_segments0_baggageAllowance_weightMeasurementType'] = train['legs1_segments0_baggageAllowance_weightMeasurementType'].map(legs1_segments0_baggageAllowance_weightMeasurementType_map).astype('UInt8')\n",
    "test['legs1_segments0_baggageAllowance_weightMeasurementType'] = test['legs1_segments0_baggageAllowance_weightMeasurementType'].map(legs1_segments0_baggageAllowance_weightMeasurementType_map).fillna(len(legs1_segments0_baggageAllowance_weightMeasurementType_map)).astype('UInt8')"
   ],
   "metadata": {
    "collapsed": false,
    "ExecuteTime": {
     "end_time": "2025-08-05T01:15:48.050357700Z",
     "start_time": "2025-08-05T01:15:47.088427900Z"
    }
   },
   "id": "b21cc9b06ce38fa5",
   "execution_count": 71
  },
  {
   "cell_type": "code",
   "outputs": [],
   "source": [
    "legs1_segments0_cabinClass_map = {old_id: new_id for new_id, old_id in enumerate(train['legs1_segments0_cabinClass'].unique())}\n",
    "\n",
    "train['legs1_segments0_cabinClass'] = train['legs1_segments0_cabinClass'].map(legs1_segments0_cabinClass_map).astype('UInt8')\n",
    "test['legs1_segments0_cabinClass'] = test['legs1_segments0_cabinClass'].map(legs1_segments0_cabinClass_map).fillna(len(legs1_segments0_cabinClass_map)).astype('UInt8')"
   ],
   "metadata": {
    "collapsed": false,
    "ExecuteTime": {
     "end_time": "2025-08-05T01:15:48.637476700Z",
     "start_time": "2025-08-05T01:15:48.058314200Z"
    }
   },
   "id": "f6d5e34039af1439",
   "execution_count": 72
  },
  {
   "cell_type": "code",
   "outputs": [],
   "source": [
    "legs1_segments0_departureFrom_airport_iata_map = {old_id: new_id for new_id, old_id in enumerate(train['legs1_segments0_departureFrom_airport_iata'].unique())}\n",
    "\n",
    "train['legs1_segments0_departureFrom_airport_iata'] = train['legs1_segments0_departureFrom_airport_iata'].map(legs1_segments0_departureFrom_airport_iata_map).astype('UInt16')\n",
    "test['legs1_segments0_departureFrom_airport_iata'] = test['legs1_segments0_departureFrom_airport_iata'].map(legs1_segments0_departureFrom_airport_iata_map).fillna(len(legs1_segments0_departureFrom_airport_iata_map)).astype('UInt16')"
   ],
   "metadata": {
    "collapsed": false,
    "ExecuteTime": {
     "end_time": "2025-08-05T01:15:50.089210800Z",
     "start_time": "2025-08-05T01:15:48.639595500Z"
    }
   },
   "id": "d18e82e0cebd3238",
   "execution_count": 73
  },
  {
   "cell_type": "code",
   "outputs": [],
   "source": [
    "train['legs1_segments0_duration'] = pd.to_timedelta(train['legs1_segments0_duration'].apply(fix_duration_format))\n",
    "train['legs1_segments0_duration'] = (train['legs1_segments0_duration'].dt.total_seconds() // 60).fillna(0).astype('UInt16')\n",
    "\n",
    "test['legs1_segments0_duration'] = pd.to_timedelta(test['legs1_segments0_duration'].apply(fix_duration_format))\n",
    "test['legs1_segments0_duration'] = (test['legs1_segments0_duration'].dt.total_seconds() // 60).fillna(0).astype('UInt16')"
   ],
   "metadata": {
    "collapsed": false,
    "ExecuteTime": {
     "end_time": "2025-08-05T01:16:07.218945Z",
     "start_time": "2025-08-05T01:15:50.166672900Z"
    }
   },
   "id": "a4500ef601740682",
   "execution_count": 74
  },
  {
   "cell_type": "code",
   "outputs": [],
   "source": [
    "legs1_segments0_flightNumber_map = {old_id: new_id for new_id, old_id in enumerate(train['legs1_segments0_flightNumber'].unique())}\n",
    "\n",
    "train['legs1_segments0_flightNumber'] = train['legs1_segments0_flightNumber'].map(legs1_segments0_flightNumber_map).astype('UInt16')\n",
    "test['legs1_segments0_flightNumber'] = test['legs1_segments0_flightNumber'].map(legs1_segments0_flightNumber_map).fillna(len(legs1_segments0_flightNumber_map)).astype('UInt16')"
   ],
   "metadata": {
    "collapsed": false,
    "ExecuteTime": {
     "end_time": "2025-08-05T01:16:08.748556500Z",
     "start_time": "2025-08-05T01:16:07.220003800Z"
    }
   },
   "id": "9238a876b0b23071",
   "execution_count": 75
  },
  {
   "cell_type": "code",
   "outputs": [],
   "source": [
    "legs1_segments0_marketingCarrier_code_map = {old_id: new_id for new_id, old_id in enumerate(train['legs1_segments0_marketingCarrier_code'].unique())}\n",
    "\n",
    "train['legs1_segments0_marketingCarrier_code'] = train['legs1_segments0_marketingCarrier_code'].map(legs1_segments0_marketingCarrier_code_map).astype('UInt8')\n",
    "test['legs1_segments0_marketingCarrier_code'] = test['legs1_segments0_marketingCarrier_code'].map(legs1_segments0_marketingCarrier_code_map).fillna(len(legs1_segments0_marketingCarrier_code_map)).astype('UInt8')"
   ],
   "metadata": {
    "collapsed": false,
    "ExecuteTime": {
     "end_time": "2025-08-05T01:16:10.535882900Z",
     "start_time": "2025-08-05T01:16:08.750646900Z"
    }
   },
   "id": "e4b5c4bc9ff01a3a",
   "execution_count": 76
  },
  {
   "cell_type": "code",
   "outputs": [],
   "source": [
    "legs1_segments0_operatingCarrier_code_map = {old_id: new_id for new_id, old_id in enumerate(train['legs1_segments0_operatingCarrier_code'].unique())}\n",
    "\n",
    "train['legs1_segments0_operatingCarrier_code'] = train['legs1_segments0_operatingCarrier_code'].map(legs1_segments0_operatingCarrier_code_map).astype('UInt8')\n",
    "test['legs1_segments0_operatingCarrier_code'] = test['legs1_segments0_operatingCarrier_code'].map(legs1_segments0_operatingCarrier_code_map).fillna(len(legs1_segments0_operatingCarrier_code_map)).astype('UInt8')"
   ],
   "metadata": {
    "collapsed": false,
    "ExecuteTime": {
     "end_time": "2025-08-05T01:16:12.089188300Z",
     "start_time": "2025-08-05T01:16:10.544218700Z"
    }
   },
   "id": "23f129993b120c4e",
   "execution_count": 77
  },
  {
   "cell_type": "code",
   "outputs": [],
   "source": [
    "legs1_segments0_seatsAvailable_map = {old_id: new_id for new_id, old_id in enumerate(train['legs1_segments0_seatsAvailable'].unique())}\n",
    "\n",
    "train['legs1_segments0_seatsAvailable'] = train['legs1_segments0_seatsAvailable'].map(legs1_segments0_seatsAvailable_map).astype('UInt8')\n",
    "test['legs1_segments0_seatsAvailable'] = test['legs1_segments0_seatsAvailable'].map(legs1_segments0_seatsAvailable_map).fillna(len(legs1_segments0_seatsAvailable_map)).astype('UInt8')"
   ],
   "metadata": {
    "collapsed": false,
    "ExecuteTime": {
     "end_time": "2025-08-05T01:16:13.269088100Z",
     "start_time": "2025-08-05T01:16:12.091263700Z"
    }
   },
   "id": "e2c70fdd54eebfdb",
   "execution_count": 78
  },
  {
   "cell_type": "markdown",
   "source": [
    "# L_1_S_1"
   ],
   "metadata": {
    "collapsed": false
   },
   "id": "54f32d64bac8c79f"
  },
  {
   "cell_type": "code",
   "outputs": [],
   "source": [
    "legs1_segments1_aircraft_code_map = {old_id: new_id for new_id, old_id in enumerate(train['legs1_segments1_aircraft_code'].unique())}\n",
    "\n",
    "train['legs1_segments1_aircraft_code'] = train['legs1_segments1_aircraft_code'].map(legs1_segments1_aircraft_code_map).astype('UInt8')\n",
    "test['legs1_segments1_aircraft_code'] = test['legs1_segments1_aircraft_code'].map(legs1_segments1_aircraft_code_map).fillna(len(legs1_segments1_aircraft_code_map)).astype('UInt8')"
   ],
   "metadata": {
    "collapsed": false,
    "ExecuteTime": {
     "end_time": "2025-08-05T01:16:14.537051400Z",
     "start_time": "2025-08-05T01:16:13.270162200Z"
    }
   },
   "id": "f38cac80b326789f",
   "execution_count": 79
  },
  {
   "cell_type": "code",
   "outputs": [],
   "source": [
    "legs1_segments1_arrivalTo_airport_city_iata_map = {old_id: new_id for new_id, old_id in enumerate(train['legs1_segments1_arrivalTo_airport_city_iata'].unique())}\n",
    "\n",
    "train['legs1_segments1_arrivalTo_airport_city_iata'] = train['legs1_segments1_arrivalTo_airport_city_iata'].map(legs1_segments1_arrivalTo_airport_city_iata_map).astype('UInt8')\n",
    "test['legs1_segments1_arrivalTo_airport_city_iata'] = test['legs1_segments1_arrivalTo_airport_city_iata'].map(legs1_segments1_arrivalTo_airport_city_iata_map).fillna(len(legs1_segments1_arrivalTo_airport_city_iata_map)).astype('UInt8')"
   ],
   "metadata": {
    "collapsed": false,
    "ExecuteTime": {
     "end_time": "2025-08-05T01:16:15.718437500Z",
     "start_time": "2025-08-05T01:16:14.537051400Z"
    }
   },
   "id": "a1143c6f4cf53ce2",
   "execution_count": 80
  },
  {
   "cell_type": "code",
   "outputs": [],
   "source": [
    "legs1_segments1_arrivalTo_airport_iata_map = {old_id: new_id for new_id, old_id in enumerate(train['legs1_segments1_arrivalTo_airport_iata'].unique())}\n",
    "\n",
    "train['legs1_segments1_arrivalTo_airport_iata'] = train['legs1_segments1_arrivalTo_airport_iata'].map(legs1_segments1_arrivalTo_airport_iata_map).astype('UInt8')\n",
    "test['legs1_segments1_arrivalTo_airport_iata'] = test['legs1_segments1_arrivalTo_airport_iata'].map(legs1_segments1_arrivalTo_airport_iata_map).fillna(len(legs1_segments1_arrivalTo_airport_iata_map)).astype('UInt8')"
   ],
   "metadata": {
    "collapsed": false,
    "ExecuteTime": {
     "end_time": "2025-08-05T01:16:16.906581300Z",
     "start_time": "2025-08-05T01:16:15.973739900Z"
    }
   },
   "id": "38b6fbd6eb707d",
   "execution_count": 81
  },
  {
   "cell_type": "code",
   "outputs": [],
   "source": [
    "legs1_segments1_baggageAllowance_quantity_map = {old_id: new_id for new_id, old_id in enumerate(train['legs1_segments1_baggageAllowance_quantity'].unique())}\n",
    "\n",
    "train['legs1_segments1_baggageAllowance_quantity'] = train['legs1_segments1_baggageAllowance_quantity'].map(legs1_segments1_baggageAllowance_quantity_map).astype('UInt8')\n",
    "test['legs1_segments1_baggageAllowance_quantity'] = test['legs1_segments1_baggageAllowance_quantity'].map(legs1_segments1_baggageAllowance_quantity_map).fillna(len(legs1_segments1_baggageAllowance_quantity_map)).astype('UInt8')"
   ],
   "metadata": {
    "collapsed": false,
    "ExecuteTime": {
     "end_time": "2025-08-05T01:16:17.533059300Z",
     "start_time": "2025-08-05T01:16:16.906670900Z"
    }
   },
   "id": "c427c5aeb13ee5bc",
   "execution_count": 82
  },
  {
   "cell_type": "code",
   "outputs": [],
   "source": [
    "legs1_segments1_baggageAllowance_weightMeasurementType_map = {old_id: new_id for new_id, old_id in enumerate(train['legs1_segments1_baggageAllowance_weightMeasurementType'].unique())}\n",
    "\n",
    "train['legs1_segments1_baggageAllowance_weightMeasurementType'] = train['legs1_segments1_baggageAllowance_weightMeasurementType'].map(legs1_segments1_baggageAllowance_weightMeasurementType_map).astype('UInt8')\n",
    "test['legs1_segments1_baggageAllowance_weightMeasurementType'] = test['legs1_segments1_baggageAllowance_weightMeasurementType'].map(legs1_segments1_baggageAllowance_weightMeasurementType_map).fillna(len(legs1_segments1_baggageAllowance_weightMeasurementType_map)).astype('UInt8')"
   ],
   "metadata": {
    "collapsed": false,
    "ExecuteTime": {
     "end_time": "2025-08-05T01:16:18.460692800Z",
     "start_time": "2025-08-05T01:16:17.534125800Z"
    }
   },
   "id": "a84f999e9b7acb33",
   "execution_count": 83
  },
  {
   "cell_type": "code",
   "outputs": [],
   "source": [
    "legs1_segments1_cabinClass_map = {old_id: new_id for new_id, old_id in enumerate(train['legs1_segments1_cabinClass'].unique())}\n",
    "\n",
    "train['legs1_segments1_cabinClass'] = train['legs1_segments1_cabinClass'].map(legs1_segments1_cabinClass_map).astype('UInt8')\n",
    "test['legs1_segments1_cabinClass'] = test['legs1_segments1_cabinClass'].map(legs1_segments1_cabinClass_map).fillna(len(legs1_segments1_cabinClass_map)).astype('UInt8')"
   ],
   "metadata": {
    "collapsed": false,
    "ExecuteTime": {
     "end_time": "2025-08-05T01:16:19.396919300Z",
     "start_time": "2025-08-05T01:16:18.462796600Z"
    }
   },
   "id": "6877c5648f9320e6",
   "execution_count": 84
  },
  {
   "cell_type": "code",
   "outputs": [],
   "source": [
    "legs1_segments1_departureFrom_airport_iata_map = {old_id: new_id for new_id, old_id in enumerate(train['legs1_segments1_departureFrom_airport_iata'].unique())}\n",
    "\n",
    "train['legs1_segments1_departureFrom_airport_iata'] = train['legs1_segments1_departureFrom_airport_iata'].map(legs1_segments1_departureFrom_airport_iata_map).astype('UInt16')\n",
    "test['legs1_segments1_departureFrom_airport_iata'] = test['legs1_segments1_departureFrom_airport_iata'].map(legs1_segments1_departureFrom_airport_iata_map).fillna(len(legs1_segments1_departureFrom_airport_iata_map)).astype('UInt16')"
   ],
   "metadata": {
    "collapsed": false,
    "ExecuteTime": {
     "end_time": "2025-08-05T01:16:20.870109900Z",
     "start_time": "2025-08-05T01:16:19.885487200Z"
    }
   },
   "id": "e53038e41a3568ef",
   "execution_count": 85
  },
  {
   "cell_type": "code",
   "outputs": [],
   "source": [
    "train['legs1_segments1_duration'] = pd.to_timedelta(train['legs1_segments1_duration'].apply(fix_duration_format))\n",
    "train['legs1_segments1_duration'] = (train['legs1_segments1_duration'].dt.total_seconds() // 60).fillna(0).astype('UInt16')\n",
    "\n",
    "test['legs1_segments1_duration'] = pd.to_timedelta(test['legs1_segments1_duration'].apply(fix_duration_format))\n",
    "test['legs1_segments1_duration'] = (test['legs1_segments1_duration'].dt.total_seconds() // 60).fillna(0).astype('UInt16')"
   ],
   "metadata": {
    "collapsed": false,
    "ExecuteTime": {
     "end_time": "2025-08-05T01:16:32.088093200Z",
     "start_time": "2025-08-05T01:16:20.906343700Z"
    }
   },
   "id": "f72208c096da367f",
   "execution_count": 86
  },
  {
   "cell_type": "code",
   "outputs": [],
   "source": [
    "legs1_segments1_flightNumber_map = {old_id: new_id for new_id, old_id in enumerate(train['legs1_segments1_flightNumber'].unique())}\n",
    "\n",
    "train['legs1_segments1_flightNumber'] = train['legs1_segments1_flightNumber'].map(legs1_segments1_flightNumber_map).astype('UInt16')\n",
    "test['legs1_segments1_flightNumber'] = test['legs1_segments1_flightNumber'].map(legs1_segments1_flightNumber_map).fillna(len(legs1_segments1_flightNumber_map)).astype('UInt16')"
   ],
   "metadata": {
    "collapsed": false,
    "ExecuteTime": {
     "end_time": "2025-08-05T01:16:33.434766600Z",
     "start_time": "2025-08-05T01:16:32.089139200Z"
    }
   },
   "id": "470f935f126aa91b",
   "execution_count": 87
  },
  {
   "cell_type": "code",
   "outputs": [],
   "source": [
    "legs1_segments1_marketingCarrier_code_map = {old_id: new_id for new_id, old_id in enumerate(train['legs1_segments1_marketingCarrier_code'].unique())}\n",
    "\n",
    "train['legs1_segments1_marketingCarrier_code'] = train['legs1_segments1_marketingCarrier_code'].map(legs1_segments1_marketingCarrier_code_map).astype('UInt8')\n",
    "test['legs1_segments1_marketingCarrier_code'] = test['legs1_segments1_marketingCarrier_code'].map(legs1_segments1_marketingCarrier_code_map).fillna(len(legs1_segments1_marketingCarrier_code_map)).astype('UInt8')"
   ],
   "metadata": {
    "collapsed": false,
    "ExecuteTime": {
     "end_time": "2025-08-05T01:16:34.739051800Z",
     "start_time": "2025-08-05T01:16:33.434877500Z"
    }
   },
   "id": "6d476b5784f3277e",
   "execution_count": 88
  },
  {
   "cell_type": "code",
   "outputs": [],
   "source": [
    "legs1_segments1_operatingCarrier_code_map = {old_id: new_id for new_id, old_id in enumerate(train['legs1_segments1_operatingCarrier_code'].unique())}\n",
    "\n",
    "train['legs1_segments1_operatingCarrier_code'] = train['legs1_segments1_operatingCarrier_code'].map(legs1_segments1_operatingCarrier_code_map).astype('UInt8')\n",
    "test['legs1_segments1_operatingCarrier_code'] = test['legs1_segments1_operatingCarrier_code'].map(legs1_segments1_operatingCarrier_code_map).fillna(len(legs1_segments1_operatingCarrier_code_map)).astype('UInt8')"
   ],
   "metadata": {
    "collapsed": false,
    "ExecuteTime": {
     "end_time": "2025-08-05T01:16:36.063812900Z",
     "start_time": "2025-08-05T01:16:34.740102200Z"
    }
   },
   "id": "3dd73e35e623a217",
   "execution_count": 89
  },
  {
   "cell_type": "code",
   "outputs": [],
   "source": [
    "legs1_segments1_seatsAvailable_map = {old_id: new_id for new_id, old_id in enumerate(train['legs1_segments1_seatsAvailable'].unique())}\n",
    "\n",
    "train['legs1_segments1_seatsAvailable'] = train['legs1_segments1_seatsAvailable'].map(legs1_segments1_seatsAvailable_map).astype('UInt8')\n",
    "test['legs1_segments1_seatsAvailable'] = test['legs1_segments1_seatsAvailable'].map(legs1_segments1_seatsAvailable_map).fillna(len(legs1_segments1_seatsAvailable_map)).astype('UInt8')"
   ],
   "metadata": {
    "collapsed": false,
    "ExecuteTime": {
     "end_time": "2025-08-05T01:16:36.666242600Z",
     "start_time": "2025-08-05T01:16:36.069311700Z"
    }
   },
   "id": "5e8340e6c963947d",
   "execution_count": 90
  },
  {
   "cell_type": "markdown",
   "source": [
    "# L_1_S_2"
   ],
   "metadata": {
    "collapsed": false
   },
   "id": "2cb37a6ea0781eea"
  },
  {
   "cell_type": "code",
   "outputs": [],
   "source": [
    "legs1_segments2_aircraft_code_map = {old_id: new_id for new_id, old_id in enumerate(train['legs1_segments2_aircraft_code'].unique())}\n",
    "\n",
    "train['legs1_segments2_aircraft_code'] = train['legs1_segments2_aircraft_code'].map(legs1_segments2_aircraft_code_map).astype('UInt8')\n",
    "test['legs1_segments2_aircraft_code'] = test['legs1_segments2_aircraft_code'].map(legs1_segments2_aircraft_code_map).fillna(len(legs1_segments2_aircraft_code_map)).astype('UInt8')"
   ],
   "metadata": {
    "collapsed": false,
    "ExecuteTime": {
     "end_time": "2025-08-05T01:16:38.478859800Z",
     "start_time": "2025-08-05T01:16:36.666242600Z"
    }
   },
   "id": "f66dd7847568ee57",
   "execution_count": 91
  },
  {
   "cell_type": "code",
   "outputs": [],
   "source": [
    "legs1_segments2_arrivalTo_airport_city_iata_map = {old_id: new_id for new_id, old_id in enumerate(train['legs1_segments2_arrivalTo_airport_city_iata'].unique())}\n",
    "\n",
    "train['legs1_segments2_arrivalTo_airport_city_iata'] = train['legs1_segments2_arrivalTo_airport_city_iata'].map(legs1_segments2_arrivalTo_airport_city_iata_map).astype('UInt8')\n",
    "test['legs1_segments2_arrivalTo_airport_city_iata'] = test['legs1_segments2_arrivalTo_airport_city_iata'].map(legs1_segments2_arrivalTo_airport_city_iata_map).fillna(len(legs1_segments2_arrivalTo_airport_city_iata_map)).astype('UInt8')"
   ],
   "metadata": {
    "collapsed": false,
    "ExecuteTime": {
     "end_time": "2025-08-05T01:16:40.190151700Z",
     "start_time": "2025-08-05T01:16:38.480159600Z"
    }
   },
   "id": "f3dbd327a981763d",
   "execution_count": 92
  },
  {
   "cell_type": "code",
   "outputs": [],
   "source": [
    "legs1_segments2_arrivalTo_airport_iata_map = {old_id: new_id for new_id, old_id in enumerate(train['legs1_segments2_arrivalTo_airport_iata'].unique())}\n",
    "\n",
    "train['legs1_segments2_arrivalTo_airport_iata'] = train['legs1_segments2_arrivalTo_airport_iata'].map(legs1_segments2_arrivalTo_airport_iata_map).astype('UInt8')\n",
    "test['legs1_segments2_arrivalTo_airport_iata'] = test['legs1_segments2_arrivalTo_airport_iata'].map(legs1_segments2_arrivalTo_airport_iata_map).fillna(len(legs1_segments2_arrivalTo_airport_iata_map)).astype('UInt8')"
   ],
   "metadata": {
    "collapsed": false,
    "ExecuteTime": {
     "end_time": "2025-08-05T01:16:41.834549900Z",
     "start_time": "2025-08-05T01:16:40.777153700Z"
    }
   },
   "id": "1e74fa68bc086208",
   "execution_count": 93
  },
  {
   "cell_type": "code",
   "outputs": [],
   "source": [
    "test['legs1_segments2_baggageAllowance_quantity'] = test['legs1_segments2_baggageAllowance_quantity'].replace(45.0, 50.0)\n",
    "legs1_segments2_baggageAllowance_quantity_map = {old_id: new_id for new_id, old_id in enumerate(train['legs1_segments2_baggageAllowance_quantity'].unique())}\n",
    "\n",
    "train['legs1_segments2_baggageAllowance_quantity'] = train['legs1_segments2_baggageAllowance_quantity'].map(legs1_segments2_baggageAllowance_quantity_map).astype('UInt8')\n",
    "test['legs1_segments2_baggageAllowance_quantity'] = test['legs1_segments2_baggageAllowance_quantity'].map(legs1_segments2_baggageAllowance_quantity_map).fillna(len(legs1_segments2_baggageAllowance_quantity_map)).astype('UInt8')"
   ],
   "metadata": {
    "collapsed": false,
    "ExecuteTime": {
     "end_time": "2025-08-05T01:16:42.565456300Z",
     "start_time": "2025-08-05T01:16:41.834549900Z"
    }
   },
   "id": "f6ff981ea2a78cdc",
   "execution_count": 94
  },
  {
   "cell_type": "code",
   "outputs": [],
   "source": [
    "legs1_segments2_baggageAllowance_weightMeasurementType_map = {old_id: new_id for new_id, old_id in enumerate(train['legs1_segments2_baggageAllowance_weightMeasurementType'].unique())}\n",
    "\n",
    "train['legs1_segments2_baggageAllowance_weightMeasurementType'] = train['legs1_segments2_baggageAllowance_weightMeasurementType'].map(legs1_segments2_baggageAllowance_weightMeasurementType_map).astype('UInt8')\n",
    "test['legs1_segments2_baggageAllowance_weightMeasurementType'] = test['legs1_segments2_baggageAllowance_weightMeasurementType'].map(legs1_segments2_baggageAllowance_weightMeasurementType_map).fillna(len(legs1_segments2_baggageAllowance_weightMeasurementType_map)).astype('UInt8')"
   ],
   "metadata": {
    "collapsed": false,
    "ExecuteTime": {
     "end_time": "2025-08-05T01:16:43.359656Z",
     "start_time": "2025-08-05T01:16:42.565456300Z"
    }
   },
   "id": "dd4cd193cb249299",
   "execution_count": 95
  },
  {
   "cell_type": "code",
   "outputs": [],
   "source": [
    "legs1_segments2_cabinClass_map = {old_id: new_id for new_id, old_id in enumerate(train['legs1_segments2_cabinClass'].unique())}\n",
    "\n",
    "train['legs1_segments2_cabinClass'] = train['legs1_segments2_cabinClass'].map(legs1_segments2_cabinClass_map).astype('UInt8')\n",
    "test['legs1_segments2_cabinClass'] = test['legs1_segments2_cabinClass'].map(legs1_segments2_cabinClass_map).fillna(len(legs1_segments2_cabinClass_map)).astype('UInt8')"
   ],
   "metadata": {
    "collapsed": false,
    "ExecuteTime": {
     "end_time": "2025-08-05T01:16:44.094417600Z",
     "start_time": "2025-08-05T01:16:43.359656Z"
    }
   },
   "id": "b491a30d29c4aeda",
   "execution_count": 96
  },
  {
   "cell_type": "code",
   "outputs": [],
   "source": [
    "legs1_segments2_departureFrom_airport_iata_map = {old_id: new_id for new_id, old_id in enumerate(train['legs1_segments2_departureFrom_airport_iata'].unique())}\n",
    "\n",
    "train['legs1_segments2_departureFrom_airport_iata'] = train['legs1_segments2_departureFrom_airport_iata'].map(legs1_segments2_departureFrom_airport_iata_map).astype('UInt8')\n",
    "test['legs1_segments2_departureFrom_airport_iata'] = test['legs1_segments2_departureFrom_airport_iata'].map(legs1_segments2_departureFrom_airport_iata_map).fillna(len(legs1_segments2_departureFrom_airport_iata_map)).astype('UInt8')"
   ],
   "metadata": {
    "collapsed": false,
    "ExecuteTime": {
     "end_time": "2025-08-05T01:16:45.644025700Z",
     "start_time": "2025-08-05T01:16:44.097632400Z"
    }
   },
   "id": "29a8a04ef69f4355",
   "execution_count": 97
  },
  {
   "cell_type": "code",
   "outputs": [],
   "source": [
    "train['legs1_segments2_duration'] = pd.to_timedelta(train['legs1_segments2_duration'].apply(fix_duration_format))\n",
    "train['legs1_segments2_duration'] = (train['legs1_segments2_duration'].dt.total_seconds() // 60).fillna(0).astype('UInt16')\n",
    "\n",
    "test['legs1_segments2_duration'] = pd.to_timedelta(test['legs1_segments2_duration'].apply(fix_duration_format))\n",
    "test['legs1_segments2_duration'] = (test['legs1_segments2_duration'].dt.total_seconds() // 60).fillna(0).astype('UInt16')"
   ],
   "metadata": {
    "collapsed": false,
    "ExecuteTime": {
     "end_time": "2025-08-05T01:16:55.520625700Z",
     "start_time": "2025-08-05T01:16:45.662758500Z"
    }
   },
   "id": "f9ea1f783650c62a",
   "execution_count": 98
  },
  {
   "cell_type": "code",
   "outputs": [],
   "source": [
    "legs1_segments2_flightNumber_map = {old_id: new_id for new_id, old_id in enumerate(train['legs1_segments2_flightNumber'].unique())}\n",
    "\n",
    "train['legs1_segments2_flightNumber'] = train['legs1_segments2_flightNumber'].map(legs1_segments2_flightNumber_map).astype('UInt16')\n",
    "test['legs1_segments2_flightNumber'] = test['legs1_segments2_flightNumber'].map(legs1_segments2_flightNumber_map).fillna(len(legs1_segments2_flightNumber_map)).astype('UInt16')"
   ],
   "metadata": {
    "collapsed": false,
    "ExecuteTime": {
     "end_time": "2025-08-05T01:16:57.045514100Z",
     "start_time": "2025-08-05T01:16:55.531756500Z"
    }
   },
   "id": "1ee1ead80c31ae84",
   "execution_count": 99
  },
  {
   "cell_type": "code",
   "outputs": [],
   "source": [
    "legs1_segments2_marketingCarrier_code_map = {old_id: new_id for new_id, old_id in enumerate(train['legs1_segments2_marketingCarrier_code'].unique())}\n",
    "\n",
    "train['legs1_segments2_marketingCarrier_code'] = train['legs1_segments2_marketingCarrier_code'].map(legs1_segments2_marketingCarrier_code_map).astype('UInt8')\n",
    "test['legs1_segments2_marketingCarrier_code'] = test['legs1_segments2_marketingCarrier_code'].map(legs1_segments2_marketingCarrier_code_map).fillna(len(legs1_segments2_marketingCarrier_code_map)).astype('UInt8')"
   ],
   "metadata": {
    "collapsed": false,
    "ExecuteTime": {
     "end_time": "2025-08-05T01:16:58.424110900Z",
     "start_time": "2025-08-05T01:16:57.046586900Z"
    }
   },
   "id": "16d6dddd8b709751",
   "execution_count": 100
  },
  {
   "cell_type": "code",
   "outputs": [],
   "source": [
    "legs1_segments2_operatingCarrier_code_map = {old_id: new_id for new_id, old_id in enumerate(train['legs1_segments2_operatingCarrier_code'].unique())}\n",
    "\n",
    "train['legs1_segments2_operatingCarrier_code'] = train['legs1_segments2_operatingCarrier_code'].map(legs1_segments2_operatingCarrier_code_map).astype('UInt8')\n",
    "test['legs1_segments2_operatingCarrier_code'] = test['legs1_segments2_operatingCarrier_code'].map(legs1_segments2_operatingCarrier_code_map).fillna(len(legs1_segments2_operatingCarrier_code_map)).astype('UInt8')"
   ],
   "metadata": {
    "collapsed": false,
    "ExecuteTime": {
     "end_time": "2025-08-05T01:16:59.985514Z",
     "start_time": "2025-08-05T01:16:58.439012500Z"
    }
   },
   "id": "64cf30b5e8b5cc8b",
   "execution_count": 101
  },
  {
   "cell_type": "code",
   "outputs": [],
   "source": [
    "legs1_segments2_seatsAvailable_map = {old_id: new_id for new_id, old_id in enumerate(train['legs1_segments2_seatsAvailable'].unique())}\n",
    "\n",
    "train['legs1_segments2_seatsAvailable'] = train['legs1_segments2_seatsAvailable'].map(legs1_segments2_seatsAvailable_map).astype('UInt8')\n",
    "test['legs1_segments2_seatsAvailable'] = test['legs1_segments2_seatsAvailable'].map(legs1_segments2_seatsAvailable_map).fillna(len(legs1_segments2_seatsAvailable_map)).astype('UInt8')"
   ],
   "metadata": {
    "collapsed": false,
    "ExecuteTime": {
     "end_time": "2025-08-05T01:17:00.688455800Z",
     "start_time": "2025-08-05T01:16:59.994465100Z"
    }
   },
   "id": "e7dff1c8a8792ef6",
   "execution_count": 102
  },
  {
   "cell_type": "markdown",
   "source": [
    "# L_1_S_3"
   ],
   "metadata": {
    "collapsed": false
   },
   "id": "7c9f047f5b72cdb1"
  },
  {
   "cell_type": "code",
   "outputs": [],
   "source": [
    "legs1_segments3_aircraft_code_map = {old_id: new_id for new_id, old_id in enumerate(train['legs1_segments3_aircraft_code'].unique())}\n",
    "\n",
    "train['legs1_segments3_aircraft_code'] = train['legs1_segments3_aircraft_code'].map(legs1_segments3_aircraft_code_map).astype('UInt8')\n",
    "test['legs1_segments3_aircraft_code'] = test['legs1_segments3_aircraft_code'].map(legs1_segments3_aircraft_code_map).fillna(len(legs1_segments3_aircraft_code_map)).astype('UInt8')"
   ],
   "metadata": {
    "collapsed": false,
    "ExecuteTime": {
     "end_time": "2025-08-05T01:17:01.656359500Z",
     "start_time": "2025-08-05T01:17:00.701876800Z"
    }
   },
   "id": "71d6430fe15ecb6c",
   "execution_count": 103
  },
  {
   "cell_type": "code",
   "outputs": [],
   "source": [
    "legs1_segments3_arrivalTo_airport_city_iata_map = {old_id: new_id for new_id, old_id in enumerate(train['legs1_segments3_arrivalTo_airport_city_iata'].unique())}\n",
    "\n",
    "train['legs1_segments3_arrivalTo_airport_city_iata'] = train['legs1_segments3_arrivalTo_airport_city_iata'].map(legs1_segments3_arrivalTo_airport_city_iata_map).astype('UInt8')\n",
    "test['legs1_segments3_arrivalTo_airport_city_iata'] = test['legs1_segments3_arrivalTo_airport_city_iata'].map(legs1_segments3_arrivalTo_airport_city_iata_map).fillna(len(legs1_segments3_arrivalTo_airport_city_iata_map)).astype('UInt8')"
   ],
   "metadata": {
    "collapsed": false,
    "ExecuteTime": {
     "end_time": "2025-08-05T01:17:02.587489500Z",
     "start_time": "2025-08-05T01:17:01.657434700Z"
    }
   },
   "id": "3b4f5bb2b822d994",
   "execution_count": 104
  },
  {
   "cell_type": "code",
   "outputs": [],
   "source": [
    "legs1_segments3_arrivalTo_airport_iata_map = {old_id: new_id for new_id, old_id in enumerate(train['legs1_segments3_arrivalTo_airport_iata'].unique())}\n",
    "\n",
    "train['legs1_segments3_arrivalTo_airport_iata'] = train['legs1_segments3_arrivalTo_airport_iata'].map(legs1_segments3_arrivalTo_airport_iata_map).astype('UInt8')\n",
    "test['legs1_segments3_arrivalTo_airport_iata'] = test['legs1_segments3_arrivalTo_airport_iata'].map(legs1_segments3_arrivalTo_airport_iata_map).fillna(len(legs1_segments3_arrivalTo_airport_iata_map)).astype('UInt8')"
   ],
   "metadata": {
    "collapsed": false,
    "ExecuteTime": {
     "end_time": "2025-08-05T01:17:03.681947700Z",
     "start_time": "2025-08-05T01:17:02.595569100Z"
    }
   },
   "id": "192256010974d8ef",
   "execution_count": 105
  },
  {
   "cell_type": "code",
   "outputs": [],
   "source": [
    "legs1_segments3_baggageAllowance_quantity_map = {old_id: new_id for new_id, old_id in enumerate(train['legs1_segments3_baggageAllowance_quantity'].unique())}\n",
    "\n",
    "train['legs1_segments3_baggageAllowance_quantity'] = train['legs1_segments3_baggageAllowance_quantity'].map(legs1_segments3_baggageAllowance_quantity_map).astype('UInt8')\n",
    "test['legs1_segments3_baggageAllowance_quantity'] = test['legs1_segments3_baggageAllowance_quantity'].map(legs1_segments3_baggageAllowance_quantity_map).fillna(len(legs1_segments3_baggageAllowance_quantity_map)).astype('UInt8')"
   ],
   "metadata": {
    "collapsed": false,
    "ExecuteTime": {
     "end_time": "2025-08-05T01:17:04.341477Z",
     "start_time": "2025-08-05T01:17:03.685194100Z"
    }
   },
   "id": "9452749ef78a8259",
   "execution_count": 106
  },
  {
   "cell_type": "code",
   "outputs": [],
   "source": [
    "legs1_segments3_baggageAllowance_weightMeasurementType_map = {old_id: new_id for new_id, old_id in enumerate(train['legs1_segments3_baggageAllowance_weightMeasurementType'].unique())}\n",
    "\n",
    "train['legs1_segments3_baggageAllowance_weightMeasurementType'] = train['legs1_segments3_baggageAllowance_weightMeasurementType'].map(legs1_segments3_baggageAllowance_weightMeasurementType_map).astype('UInt8')\n",
    "test['legs1_segments3_baggageAllowance_weightMeasurementType'] = test['legs1_segments3_baggageAllowance_weightMeasurementType'].map(legs1_segments3_baggageAllowance_weightMeasurementType_map).fillna(len(legs1_segments3_baggageAllowance_weightMeasurementType_map)).astype('UInt8')"
   ],
   "metadata": {
    "collapsed": false,
    "ExecuteTime": {
     "end_time": "2025-08-05T01:17:05.959011200Z",
     "start_time": "2025-08-05T01:17:04.343718300Z"
    }
   },
   "id": "7c088b8313a8074c",
   "execution_count": 107
  },
  {
   "cell_type": "code",
   "outputs": [],
   "source": [
    "legs1_segments3_cabinClass_map = {old_id: new_id for new_id, old_id in enumerate(train['legs1_segments3_cabinClass'].unique())}\n",
    "\n",
    "train['legs1_segments3_cabinClass'] = train['legs1_segments3_cabinClass'].map(legs1_segments3_cabinClass_map).astype('UInt8')\n",
    "test['legs1_segments3_cabinClass'] = test['legs1_segments3_cabinClass'].map(legs1_segments3_cabinClass_map).fillna(len(legs1_segments3_cabinClass_map)).astype('UInt8')"
   ],
   "metadata": {
    "collapsed": false,
    "ExecuteTime": {
     "end_time": "2025-08-05T01:17:06.723548400Z",
     "start_time": "2025-08-05T01:17:05.966942600Z"
    }
   },
   "id": "394bb93cfb4148b0",
   "execution_count": 108
  },
  {
   "cell_type": "code",
   "outputs": [],
   "source": [
    "legs1_segments3_departureFrom_airport_iata_map = {old_id: new_id for new_id, old_id in enumerate(train['legs1_segments3_departureFrom_airport_iata'].unique())}\n",
    "\n",
    "train['legs1_segments3_departureFrom_airport_iata'] = train['legs1_segments3_departureFrom_airport_iata'].map(legs1_segments3_departureFrom_airport_iata_map).astype('UInt8')\n",
    "test['legs1_segments3_departureFrom_airport_iata'] = test['legs1_segments3_departureFrom_airport_iata'].map(legs1_segments3_departureFrom_airport_iata_map).fillna(len(legs1_segments3_departureFrom_airport_iata_map)).astype('UInt8')"
   ],
   "metadata": {
    "collapsed": false,
    "ExecuteTime": {
     "end_time": "2025-08-05T01:17:07.749495400Z",
     "start_time": "2025-08-05T01:17:07.118316100Z"
    }
   },
   "id": "f2e582fa9087904d",
   "execution_count": 109
  },
  {
   "cell_type": "code",
   "outputs": [],
   "source": [
    "train['legs1_segments3_duration'] = pd.to_timedelta(train['legs1_segments3_duration'].apply(fix_duration_format))\n",
    "train['legs1_segments3_duration'] = (train['legs1_segments3_duration'].dt.total_seconds() // 60).fillna(0).astype('UInt16')\n",
    "\n",
    "test['legs1_segments3_duration'] = test['legs1_segments3_duration'].replace(-2, pd.NA)\n",
    "test['legs1_segments3_duration'] = test['legs1_segments3_duration'].fillna(0).astype('UInt16')"
   ],
   "metadata": {
    "collapsed": false,
    "ExecuteTime": {
     "end_time": "2025-08-05T01:17:15.744866300Z",
     "start_time": "2025-08-05T01:17:07.761522800Z"
    }
   },
   "id": "cfe70b71982f8fff",
   "execution_count": 110
  },
  {
   "cell_type": "code",
   "outputs": [],
   "source": [
    "legs1_segments3_flightNumber_map = {old_id: new_id for new_id, old_id in enumerate(train['legs1_segments3_flightNumber'].unique())}\n",
    "\n",
    "train['legs1_segments3_flightNumber'] = train['legs1_segments3_flightNumber'].map(legs1_segments3_flightNumber_map).astype('UInt8')\n",
    "test['legs1_segments3_flightNumber'] = test['legs1_segments3_flightNumber'].map(legs1_segments3_flightNumber_map).fillna(len(legs1_segments3_flightNumber_map)).astype('UInt8')"
   ],
   "metadata": {
    "collapsed": false,
    "ExecuteTime": {
     "end_time": "2025-08-05T01:17:16.547908700Z",
     "start_time": "2025-08-05T01:17:15.746998700Z"
    }
   },
   "id": "35caa1506752afaa",
   "execution_count": 111
  },
  {
   "cell_type": "code",
   "outputs": [],
   "source": [
    "legs1_segments3_marketingCarrier_code_map = {old_id: new_id for new_id, old_id in enumerate(train['legs1_segments3_marketingCarrier_code'].unique())}\n",
    "\n",
    "train['legs1_segments3_marketingCarrier_code'] = train['legs1_segments3_marketingCarrier_code'].map(legs1_segments3_marketingCarrier_code_map).astype('UInt8')\n",
    "test['legs1_segments3_marketingCarrier_code'] = test['legs1_segments3_marketingCarrier_code'].map(legs1_segments3_marketingCarrier_code_map).fillna(len(legs1_segments3_marketingCarrier_code_map)).astype('UInt8')"
   ],
   "metadata": {
    "collapsed": false,
    "ExecuteTime": {
     "end_time": "2025-08-05T01:17:17.398739300Z",
     "start_time": "2025-08-05T01:17:16.549055700Z"
    }
   },
   "id": "dc646b21ae446265",
   "execution_count": 112
  },
  {
   "cell_type": "code",
   "outputs": [],
   "source": [
    "legs1_segments3_operatingCarrier_code_map = {old_id: new_id for new_id, old_id in enumerate(train['legs1_segments3_operatingCarrier_code'].unique())}\n",
    "\n",
    "train['legs1_segments3_operatingCarrier_code'] = train['legs1_segments3_operatingCarrier_code'].map(legs1_segments3_operatingCarrier_code_map).astype('UInt8')\n",
    "test['legs1_segments3_operatingCarrier_code'] = test['legs1_segments3_operatingCarrier_code'].map(legs1_segments3_operatingCarrier_code_map).fillna(len(legs1_segments3_operatingCarrier_code_map)).astype('UInt8')"
   ],
   "metadata": {
    "collapsed": false,
    "ExecuteTime": {
     "end_time": "2025-08-05T01:17:18.267935800Z",
     "start_time": "2025-08-05T01:17:17.401051300Z"
    }
   },
   "id": "1c4704c4b5b8c18",
   "execution_count": 113
  },
  {
   "cell_type": "code",
   "outputs": [],
   "source": [
    "legs1_segments3_seatsAvailable_map = {old_id: new_id for new_id, old_id in enumerate(train['legs1_segments3_seatsAvailable'].unique())}\n",
    "\n",
    "train['legs1_segments3_seatsAvailable'] = train['legs1_segments3_seatsAvailable'].map(legs1_segments3_seatsAvailable_map).astype('UInt8')\n",
    "test['legs1_segments3_seatsAvailable'] = test['legs1_segments3_seatsAvailable'].map(legs1_segments3_seatsAvailable_map).fillna(len(legs1_segments3_seatsAvailable_map)).astype('UInt8')"
   ],
   "metadata": {
    "collapsed": false,
    "ExecuteTime": {
     "end_time": "2025-08-05T01:17:18.873423700Z",
     "start_time": "2025-08-05T01:17:18.269089Z"
    }
   },
   "id": "57291e56b089d1d2",
   "execution_count": 114
  },
  {
   "cell_type": "markdown",
   "source": [
    "# Others"
   ],
   "metadata": {
    "collapsed": false
   },
   "id": "47a2b28b986fd4c2"
  },
  {
   "cell_type": "code",
   "outputs": [],
   "source": [
    "train['miniRules0_monetaryAmount'] = train['miniRules0_monetaryAmount'].replace(-2, pd.NA).fillna(0).astype('UInt32')\n",
    "test['miniRules0_monetaryAmount'] = test['miniRules0_monetaryAmount'].replace(-2, pd.NA).fillna(0).astype('UInt32')"
   ],
   "metadata": {
    "collapsed": false,
    "ExecuteTime": {
     "end_time": "2025-08-05T01:17:22.806075200Z",
     "start_time": "2025-08-05T01:17:18.875584700Z"
    }
   },
   "id": "3d27f8a9ea023769",
   "execution_count": 115
  },
  {
   "cell_type": "code",
   "outputs": [],
   "source": [
    "miniRules0_percentage_map = {old_id: new_id for new_id, old_id in enumerate(train['miniRules0_percentage'].unique())}\n",
    "\n",
    "train['miniRules0_percentage'] = train['miniRules0_percentage'].map(miniRules0_percentage_map).astype('UInt8')\n",
    "test['miniRules0_percentage'] = test['miniRules0_percentage'].map(miniRules0_percentage_map).astype('UInt8')"
   ],
   "metadata": {
    "collapsed": false,
    "ExecuteTime": {
     "end_time": "2025-08-05T01:17:23.393168600Z",
     "start_time": "2025-08-05T01:17:22.813329400Z"
    }
   },
   "id": "8ca9b12479edb7cf",
   "execution_count": 116
  },
  {
   "cell_type": "code",
   "outputs": [],
   "source": [
    "miniRules0_statusInfos_map = {old_id: new_id for new_id, old_id in enumerate(train['miniRules0_statusInfos'].unique())}\n",
    "\n",
    "train['miniRules0_statusInfos'] = train['miniRules0_statusInfos'].map(miniRules0_statusInfos_map).astype('UInt8')\n",
    "test['miniRules0_statusInfos'] = test['miniRules0_statusInfos'].map(miniRules0_statusInfos_map).astype('UInt8')"
   ],
   "metadata": {
    "collapsed": false,
    "ExecuteTime": {
     "end_time": "2025-08-05T01:17:23.995457200Z",
     "start_time": "2025-08-05T01:17:23.394211100Z"
    }
   },
   "id": "245e8885db10ffb0",
   "execution_count": 117
  },
  {
   "cell_type": "code",
   "outputs": [],
   "source": [
    "train['miniRules1_monetaryAmount'] = train['miniRules1_monetaryAmount'].replace(-2, pd.NA).fillna(0).astype('UInt32')\n",
    "test['miniRules1_monetaryAmount'] = test['miniRules1_monetaryAmount'].replace(-2, pd.NA).fillna(0).astype('UInt32')"
   ],
   "metadata": {
    "collapsed": false,
    "ExecuteTime": {
     "end_time": "2025-08-05T01:17:27.657604100Z",
     "start_time": "2025-08-05T01:17:23.997592300Z"
    }
   },
   "id": "e32b44dd24e3ba91",
   "execution_count": 118
  },
  {
   "cell_type": "code",
   "outputs": [],
   "source": [
    "miniRules1_percentage_map = {old_id: new_id for new_id, old_id in enumerate(train['miniRules1_percentage'].unique())}\n",
    "\n",
    "train['miniRules1_percentage'] = train['miniRules1_percentage'].map(miniRules1_percentage_map).astype('UInt8')\n",
    "test['miniRules1_percentage'] = test['miniRules1_percentage'].map(miniRules1_percentage_map).astype('UInt8')"
   ],
   "metadata": {
    "collapsed": false,
    "ExecuteTime": {
     "end_time": "2025-08-05T01:17:28.215595600Z",
     "start_time": "2025-08-05T01:17:27.659798300Z"
    }
   },
   "id": "813ef9a7bfdc8d20",
   "execution_count": 119
  },
  {
   "cell_type": "code",
   "outputs": [],
   "source": [
    "miniRules1_statusInfos_map = {old_id: new_id for new_id, old_id in enumerate(train['miniRules1_statusInfos'].unique())}\n",
    "\n",
    "train['miniRules1_statusInfos'] = train['miniRules1_statusInfos'].map(miniRules1_statusInfos_map).astype('UInt8')\n",
    "test['miniRules1_statusInfos'] = test['miniRules1_statusInfos'].map(miniRules1_statusInfos_map).astype('UInt8')"
   ],
   "metadata": {
    "collapsed": false,
    "ExecuteTime": {
     "end_time": "2025-08-05T01:17:28.889093600Z",
     "start_time": "2025-08-05T01:17:28.217807400Z"
    }
   },
   "id": "e928aa88cf0e9453",
   "execution_count": 120
  },
  {
   "cell_type": "code",
   "outputs": [],
   "source": [
    "pricingInfo_isAccessTP_map = {old_id: new_id for new_id, old_id in enumerate(train['pricingInfo_isAccessTP'].unique())}\n",
    "\n",
    "train['pricingInfo_isAccessTP'] = train['pricingInfo_isAccessTP'].map(pricingInfo_isAccessTP_map).astype('UInt8')\n",
    "test['pricingInfo_isAccessTP'] = test['pricingInfo_isAccessTP'].map(pricingInfo_isAccessTP_map).fillna(len(pricingInfo_isAccessTP_map)).astype('UInt8')"
   ],
   "metadata": {
    "collapsed": false,
    "ExecuteTime": {
     "end_time": "2025-08-05T01:17:29.572975800Z",
     "start_time": "2025-08-05T01:17:28.891236Z"
    }
   },
   "id": "9df269fdf631a05",
   "execution_count": 121
  },
  {
   "cell_type": "code",
   "outputs": [],
   "source": [
    "profileId_map = {old_id: new_id for new_id, old_id in enumerate(train['profileId'].unique())}\n",
    "\n",
    "train['profileId'] = train['profileId'].map(profileId_map).astype('UInt16')\n",
    "test['profileId'] = test['profileId'].map(profileId_map).fillna(len(profileId_map)).astype('UInt16')"
   ],
   "metadata": {
    "collapsed": false,
    "ExecuteTime": {
     "end_time": "2025-08-05T01:17:30.638608800Z",
     "start_time": "2025-08-05T01:17:29.588245900Z"
    }
   },
   "id": "a7b8f14e10c8fb64",
   "execution_count": 122
  },
  {
   "cell_type": "code",
   "outputs": [],
   "source": [
    "train['ranker_id'] = train['ranker_id'].astype('category')\n",
    "test['ranker_id'] = test['ranker_id'].astype('category')"
   ],
   "metadata": {
    "collapsed": false,
    "ExecuteTime": {
     "end_time": "2025-08-05T01:17:32.499434800Z",
     "start_time": "2025-08-05T01:17:30.640615500Z"
    }
   },
   "id": "2698d5b9817ac7be",
   "execution_count": 123
  },
  {
   "cell_type": "code",
   "outputs": [],
   "source": [
    "train['searchRoute'] = train['searchRoute'].astype('category')\n",
    "test['searchRoute'] = test['searchRoute'].astype('category')"
   ],
   "metadata": {
    "collapsed": false,
    "ExecuteTime": {
     "end_time": "2025-08-05T01:17:35.996282800Z",
     "start_time": "2025-08-05T01:17:32.500672600Z"
    }
   },
   "id": "85ad0fecb1e41c36",
   "execution_count": 124
  },
  {
   "cell_type": "code",
   "outputs": [],
   "source": [
    "parts = train['searchRoute'].str.split('/', expand=True)\n",
    "\n",
    "train['departure_origin'] = parts[0].str.slice(0, 3)\n",
    "train['departure_destination'] = parts[0].str.slice(3, 6)\n",
    "\n",
    "train['return_origin'] = np.where(parts[1].notna(), parts[1].str.slice(0, 3), -2)\n",
    "train['return_destination'] = np.where(parts[1].notna(), parts[1].str.slice(3, 6), -2)\n",
    "\n",
    "parts = test['searchRoute'].str.split('/', expand=True)\n",
    "\n",
    "test['departure_origin'] = parts[0].str.slice(0, 3)\n",
    "test['departure_destination'] = parts[0].str.slice(3, 6)\n",
    "\n",
    "test['return_origin'] = np.where(parts[1].notna(), parts[1].str.slice(0, 3), -2)\n",
    "test['return_destination'] = np.where(parts[1].notna(), parts[1].str.slice(3, 6), -2)"
   ],
   "metadata": {
    "collapsed": false,
    "ExecuteTime": {
     "end_time": "2025-08-05T01:17:50.839572600Z",
     "start_time": "2025-08-05T01:17:35.999513700Z"
    }
   },
   "id": "76568dc442460b6",
   "execution_count": 125
  },
  {
   "cell_type": "code",
   "outputs": [],
   "source": [
    "departure_origin_map = {old_id: new_id for new_id, old_id in enumerate(train['departure_origin'].unique())}\n",
    "\n",
    "train['departure_origin'] = train['departure_origin'].map(departure_origin_map).astype('UInt16')\n",
    "test['departure_origin'] = test['departure_origin'].map(departure_origin_map).fillna(len(departure_origin_map)).astype('UInt16')"
   ],
   "metadata": {
    "collapsed": false,
    "ExecuteTime": {
     "end_time": "2025-08-05T01:17:53.042137800Z",
     "start_time": "2025-08-05T01:17:50.839572600Z"
    }
   },
   "id": "5d37395ece1b72a4",
   "execution_count": 126
  },
  {
   "cell_type": "code",
   "outputs": [],
   "source": [
    "departure_destination_map = {old_id: new_id for new_id, old_id in enumerate(train['departure_destination'].unique())}\n",
    "\n",
    "train['departure_destination'] = train['departure_destination'].map(departure_destination_map).astype('UInt16')\n",
    "test['departure_destination'] = test['departure_destination'].map(departure_destination_map).fillna(len(departure_destination_map)).astype('UInt16')"
   ],
   "metadata": {
    "collapsed": false,
    "ExecuteTime": {
     "end_time": "2025-08-05T01:17:55.266537600Z",
     "start_time": "2025-08-05T01:17:53.042137800Z"
    }
   },
   "id": "c95851975d52944f",
   "execution_count": 127
  },
  {
   "cell_type": "code",
   "outputs": [],
   "source": [
    "return_origin_map = {old_id: new_id for new_id, old_id in enumerate(train['return_origin'].unique())}\n",
    "\n",
    "train['return_origin'] = train['return_origin'].map(return_origin_map).astype('UInt16')\n",
    "test['return_origin'] = test['return_origin'].map(return_origin_map).fillna(len(return_origin_map)).astype('UInt16')"
   ],
   "metadata": {
    "collapsed": false,
    "ExecuteTime": {
     "end_time": "2025-08-05T01:17:56.975281700Z",
     "start_time": "2025-08-05T01:17:55.266537600Z"
    }
   },
   "id": "3a8da49d9da6cd5c",
   "execution_count": 128
  },
  {
   "cell_type": "code",
   "outputs": [],
   "source": [
    "return_destination_map = {old_id: new_id for new_id, old_id in enumerate(train['return_destination'].unique())}\n",
    "\n",
    "train['return_destination'] = train['return_destination'].map(return_destination_map).astype('UInt8')\n",
    "test['return_destination'] = test['return_destination'].map(return_destination_map).fillna(len(return_destination_map)).astype('UInt8')"
   ],
   "metadata": {
    "collapsed": false,
    "ExecuteTime": {
     "end_time": "2025-08-05T01:17:58.705657Z",
     "start_time": "2025-08-05T01:17:56.982800600Z"
    }
   },
   "id": "591059b63a5b8b32",
   "execution_count": 129
  },
  {
   "cell_type": "code",
   "outputs": [],
   "source": [
    "del train['searchRoute']\n",
    "del test['searchRoute']"
   ],
   "metadata": {
    "collapsed": false,
    "ExecuteTime": {
     "end_time": "2025-08-05T01:17:58.724794100Z",
     "start_time": "2025-08-05T01:17:58.706897200Z"
    }
   },
   "id": "d876c01b92ba36f5",
   "execution_count": 130
  },
  {
   "cell_type": "code",
   "outputs": [],
   "source": [
    "train['taxes'] = train['taxes'].round().astype('UInt32')\n",
    "test['taxes'] = test['taxes'].round().astype('UInt32')"
   ],
   "metadata": {
    "collapsed": false,
    "ExecuteTime": {
     "end_time": "2025-08-05T01:18:00.614941200Z",
     "start_time": "2025-08-05T01:17:58.723746600Z"
    }
   },
   "id": "4eb721d0c80ff0e",
   "execution_count": 131
  },
  {
   "cell_type": "code",
   "outputs": [],
   "source": [
    "train['totalPrice'] = train['totalPrice'].round().astype('UInt32')\n",
    "test['totalPrice'] = test['totalPrice'].round().astype('UInt32')"
   ],
   "metadata": {
    "collapsed": false,
    "ExecuteTime": {
     "end_time": "2025-08-05T01:18:02.843586100Z",
     "start_time": "2025-08-05T01:18:00.614941200Z"
    }
   },
   "id": "6a3f09bc0422e980",
   "execution_count": 132
  },
  {
   "cell_type": "code",
   "outputs": [],
   "source": [
    "train['selected'] = train['selected'].astype('bool')"
   ],
   "metadata": {
    "collapsed": false,
    "ExecuteTime": {
     "end_time": "2025-08-05T01:18:03.029335100Z",
     "start_time": "2025-08-05T01:18:02.850071600Z"
    }
   },
   "id": "1bda8b30730a2b55",
   "execution_count": 133
  },
  {
   "cell_type": "code",
   "outputs": [
    {
     "name": "stdout",
     "output_type": "stream",
     "text": [
      "Размер DataFrame в памяти: 6762.19 МБ\n"
     ]
    }
   ],
   "source": [
    "memory_bytes = train.memory_usage(deep=True).sum()\n",
    "memory_mb = memory_bytes / (1024 ** 2)\n",
    "print(f\"Размер DataFrame в памяти: {memory_mb:.2f} МБ\")"
   ],
   "metadata": {
    "collapsed": false,
    "ExecuteTime": {
     "end_time": "2025-08-05T01:18:05.614926500Z",
     "start_time": "2025-08-05T01:18:03.033798300Z"
    }
   },
   "id": "99077c753c35aaff",
   "execution_count": 134
  },
  {
   "cell_type": "code",
   "outputs": [],
   "source": [
    "current_dir = os.getcwd()\n",
    "folder_name = os.path.basename(current_dir)\n",
    "\n",
    "train_path = f\"{folder_name}_train.parquet\"\n",
    "test_path = f\"{folder_name}_test.parquet\""
   ],
   "metadata": {
    "collapsed": false,
    "ExecuteTime": {
     "end_time": "2025-08-05T01:18:05.631236100Z",
     "start_time": "2025-08-05T01:18:05.609152800Z"
    }
   },
   "id": "f9683df7695f3e8b",
   "execution_count": 135
  },
  {
   "cell_type": "code",
   "outputs": [],
   "source": [
    "train.to_parquet(train_path, index=False)\n",
    "test.to_parquet(test_path, index=False)"
   ],
   "metadata": {
    "collapsed": false,
    "ExecuteTime": {
     "end_time": "2025-08-05T01:18:40.510377900Z",
     "start_time": "2025-08-05T01:18:05.624383600Z"
    }
   },
   "id": "1c1b405f70bcb182",
   "execution_count": 136
  },
  {
   "cell_type": "code",
   "outputs": [
    {
     "data": {
      "text/plain": "'1_train.parquet'"
     },
     "execution_count": 137,
     "metadata": {},
     "output_type": "execute_result"
    }
   ],
   "source": [
    "train_path"
   ],
   "metadata": {
    "collapsed": false,
    "ExecuteTime": {
     "end_time": "2025-08-05T01:18:40.532723800Z",
     "start_time": "2025-08-05T01:18:40.511499100Z"
    }
   },
   "id": "a37c8d397bfa15e",
   "execution_count": 137
  },
  {
   "cell_type": "code",
   "outputs": [
    {
     "data": {
      "text/plain": "'C:\\\\Users\\\\Николай\\\\PycharmProjects\\\\FlightRank_2025\\\\mydata\\\\1'"
     },
     "execution_count": 138,
     "metadata": {},
     "output_type": "execute_result"
    }
   ],
   "source": [
    "current_dir"
   ],
   "metadata": {
    "collapsed": false,
    "ExecuteTime": {
     "end_time": "2025-08-05T01:18:40.612886800Z",
     "start_time": "2025-08-05T01:18:40.525331500Z"
    }
   },
   "id": "69d0dc81b582a5ca",
   "execution_count": 138
  },
  {
   "cell_type": "code",
   "outputs": [],
   "source": [],
   "metadata": {
    "collapsed": false,
    "ExecuteTime": {
     "end_time": "2025-08-05T01:18:40.630679700Z",
     "start_time": "2025-08-05T01:18:40.541278500Z"
    }
   },
   "id": "c08bec27e7284c87",
   "execution_count": 138
  }
 ],
 "metadata": {
  "kernelspec": {
   "display_name": "Python 3",
   "language": "python",
   "name": "python3"
  },
  "language_info": {
   "codemirror_mode": {
    "name": "ipython",
    "version": 2
   },
   "file_extension": ".py",
   "mimetype": "text/x-python",
   "name": "python",
   "nbconvert_exporter": "python",
   "pygments_lexer": "ipython2",
   "version": "2.7.6"
  }
 },
 "nbformat": 4,
 "nbformat_minor": 5
}
