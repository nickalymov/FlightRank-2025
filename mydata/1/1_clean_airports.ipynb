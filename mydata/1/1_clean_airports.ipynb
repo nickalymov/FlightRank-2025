{
 "cells": [
  {
   "cell_type": "code",
   "outputs": [],
   "source": [
    "import pandas as pd\n",
    "from tqdm import tqdm\n",
    "tqdm.pandas()\n",
    "import json\n",
    "import os\n",
    "\n",
    "pd.set_option('future.no_silent_downcasting', True)"
   ],
   "metadata": {
    "collapsed": false,
    "ExecuteTime": {
     "end_time": "2025-08-07T02:26:03.113577900Z",
     "start_time": "2025-08-07T02:26:02.882666700Z"
    }
   },
   "id": "f5befc63da22fbe6",
   "execution_count": 1
  },
  {
   "cell_type": "code",
   "outputs": [],
   "source": [
    "airports = pd.read_csv('C:/Users/Николай/PycharmProjects/FlightRank_2025/data/airports.csv')"
   ],
   "metadata": {
    "collapsed": false,
    "ExecuteTime": {
     "end_time": "2025-08-07T02:26:03.143854800Z",
     "start_time": "2025-08-07T02:26:03.114723800Z"
    }
   },
   "id": "85757aab9d3c01d5",
   "execution_count": 2
  },
  {
   "cell_type": "code",
   "outputs": [],
   "source": [
    "airports1 = pd.read_csv('C:/Users/Николай/PycharmProjects/FlightRank_2025/data/airports (1).csv')"
   ],
   "metadata": {
    "collapsed": false,
    "ExecuteTime": {
     "end_time": "2025-08-07T02:26:03.314441400Z",
     "start_time": "2025-08-07T02:26:03.144930600Z"
    }
   },
   "id": "70c15c2a9ce07431",
   "execution_count": 3
  },
  {
   "cell_type": "code",
   "outputs": [],
   "source": [
    "train = pd.read_parquet('C:/Users/Николай/PycharmProjects/FlightRank_2025/data/train.parquet', engine='pyarrow',\n",
    "                        columns=['legs0_segments0_departureFrom_airport_iata',\n",
    "                                 'legs0_segments1_departureFrom_airport_iata',\n",
    "                                 'legs0_segments2_departureFrom_airport_iata',\n",
    "                                 'legs0_segments3_departureFrom_airport_iata',\n",
    "                                 'legs1_segments0_departureFrom_airport_iata',\n",
    "                                 'legs1_segments1_departureFrom_airport_iata',\n",
    "                                 'legs1_segments2_departureFrom_airport_iata',\n",
    "                                 'legs1_segments3_departureFrom_airport_iata',\n",
    "                                 \n",
    "                                 'legs0_segments0_arrivalTo_airport_iata',\n",
    "                                 'legs0_segments1_arrivalTo_airport_iata',\n",
    "                                 'legs0_segments2_arrivalTo_airport_iata',\n",
    "                                 'legs0_segments3_arrivalTo_airport_iata',\n",
    "                                 'legs1_segments0_arrivalTo_airport_iata',\n",
    "                                 'legs1_segments1_arrivalTo_airport_iata',\n",
    "                                 'legs1_segments2_arrivalTo_airport_iata',\n",
    "                                 'legs1_segments3_arrivalTo_airport_iata',\n",
    "                                 ])\n",
    "\n",
    "test = pd.read_parquet('C:/Users/Николай/PycharmProjects/FlightRank_2025/data/test.parquet', engine='pyarrow',\n",
    "                        columns=['legs0_segments0_departureFrom_airport_iata',\n",
    "                                 'legs0_segments1_departureFrom_airport_iata',\n",
    "                                 'legs0_segments2_departureFrom_airport_iata',\n",
    "                                 'legs0_segments3_departureFrom_airport_iata',\n",
    "                                 'legs1_segments0_departureFrom_airport_iata',\n",
    "                                 'legs1_segments1_departureFrom_airport_iata',\n",
    "                                 'legs1_segments2_departureFrom_airport_iata',\n",
    "                                 'legs1_segments3_departureFrom_airport_iata',\n",
    "                                 \n",
    "                                 'legs0_segments0_arrivalTo_airport_iata',\n",
    "                                 'legs0_segments1_arrivalTo_airport_iata',\n",
    "                                 'legs0_segments2_arrivalTo_airport_iata',\n",
    "                                 'legs0_segments3_arrivalTo_airport_iata',\n",
    "                                 'legs1_segments0_arrivalTo_airport_iata',\n",
    "                                 'legs1_segments1_arrivalTo_airport_iata',\n",
    "                                 'legs1_segments2_arrivalTo_airport_iata',\n",
    "                                 'legs1_segments3_arrivalTo_airport_iata',\n",
    "                                 ])"
   ],
   "metadata": {
    "collapsed": false,
    "ExecuteTime": {
     "end_time": "2025-08-07T02:26:07.555064900Z",
     "start_time": "2025-08-07T02:26:03.319039Z"
    }
   },
   "id": "a0e8b3ba63289b9",
   "execution_count": 4
  },
  {
   "cell_type": "code",
   "outputs": [],
   "source": [
    "del airports['AirportName']\n",
    "del airports['ICAO']\n",
    "del airports['TimeZone']\n",
    "del airports['City_IATA']\n",
    "del airports['UTC_Offset_Seconds']\n",
    "del airports['Country_CodeA2']\n",
    "del airports['Country_CodeA3']\n",
    "del airports['GeoPointLat']\n",
    "del airports['GeoPointLong']\n",
    "del airports['UTC_Offset_Hours']\n",
    "airports = airports.dropna(subset=['IATA'])\n",
    "\n",
    "del airports1['id']\n",
    "del airports1['ident']\n",
    "del airports1['name']\n",
    "del airports1['iso_country']\n",
    "del airports1['scheduled_service']\n",
    "del airports1['icao_code']\n",
    "del airports1['gps_code']\n",
    "del airports1['local_code']\n",
    "del airports1['home_link']\n",
    "del airports1['wikipedia_link']\n",
    "del airports1['keywords']\n",
    "del airports1['elevation_ft']\n",
    "del airports1['iso_region']\n",
    "del airports1['municipality']"
   ],
   "metadata": {
    "collapsed": false,
    "ExecuteTime": {
     "end_time": "2025-08-07T02:26:07.570983100Z",
     "start_time": "2025-08-07T02:26:07.560327800Z"
    }
   },
   "id": "631b3fcef9b46989",
   "execution_count": 5
  },
  {
   "cell_type": "code",
   "outputs": [],
   "source": [
    "iata_unique = set()\n",
    "for col in train.columns:\n",
    "    iata_unique.update(train[col].dropna().unique())\n",
    "for col in test.columns:\n",
    "    iata_unique.update(test[col].dropna().unique())\n",
    "\n",
    "airports = airports[airports['IATA'].isin(iata_unique)]"
   ],
   "metadata": {
    "collapsed": false,
    "ExecuteTime": {
     "end_time": "2025-08-07T02:26:21.902150500Z",
     "start_time": "2025-08-07T02:26:14.883763700Z"
    }
   },
   "id": "778bff313233a37d",
   "execution_count": 6
  },
  {
   "cell_type": "code",
   "outputs": [],
   "source": [
    "airports = airports.merge(\n",
    "    airports1,\n",
    "    left_on='IATA',\n",
    "    right_on='iata_code',\n",
    "    how='left'\n",
    ")\n",
    "del airports['iata_code']"
   ],
   "metadata": {
    "collapsed": false,
    "ExecuteTime": {
     "end_time": "2025-08-07T02:26:40.870026Z",
     "start_time": "2025-08-07T02:26:40.848448900Z"
    }
   },
   "id": "c6feb692f959e36a",
   "execution_count": 10
  },
  {
   "cell_type": "code",
   "outputs": [],
   "source": [
    "fill_values = {\n",
    "    'DFW': {'continent': 'NA'},\n",
    "    'XIK': {'latitude_deg': 45.29, 'longitude_deg': 9.12, 'continent': 'EU'},\n",
    "    'IMR': {'latitude_deg': 45.43, 'longitude_deg': 9.23, 'continent': 'EU'},\n",
    "    'QKL': {'latitude_deg': 50.94, 'longitude_deg': 6.95, 'continent': 'EU'},\n",
    "    'QKU': {'latitude_deg': 50.94, 'longitude_deg': 6.97, 'continent': 'EU'},\n",
    "    'ZYR': {'latitude_deg': 50.5, 'longitude_deg': 4.20, 'continent': 'EU'},\n",
    "    'DMS': {'latitude_deg': 26.47, 'longitude_deg': 49.79, 'continent': 'AS'},\n",
    "    'ZLP': {'latitude_deg': 47.27, 'longitude_deg': 8.32, 'continent': 'EU'},\n",
    "    'XVQ': {'latitude_deg': 45.26, 'longitude_deg': 12.19, 'continent': 'EU'},\n",
    "    'XVY': {'latitude_deg': 45.30, 'longitude_deg': 12.21, 'continent': 'EU'},\n",
    "    'PTY': {'continent': 'NA'},\n",
    "    'YJB': {'latitude_deg': 41.38, 'longitude_deg': 2.14, 'continent': 'EU'},\n",
    "    'ZYA': {'latitude_deg': 52.37, 'longitude_deg': 4.9, 'continent': 'EU'},\n",
    "    'CUN': {'continent': 'NA'},\n",
    "    'YUL': {'continent': 'NA'},\n",
    "    'SAN': {'continent': 'NA'},\n",
    "    'NHR': {'latitude_deg': 40.53, 'longitude_deg': 14.17, 'continent': 'EU'},\n",
    "    'INP': {'latitude_deg': 40.85, 'longitude_deg': 14.27, 'continent': 'EU'},\n",
    "    'ZMU': {'latitude_deg': 48.35, 'longitude_deg': 11.79, 'continent': 'EU'},\n",
    "    'QQM': {'latitude_deg': 53.5, 'longitude_deg': -2.25, 'continent': 'EU'},\n",
    "    'XWC': {'latitude_deg': 48.15, 'longitude_deg': 16.25, 'continent': 'EU'},\n",
    "    'BOS': {'continent': 'NA'},\n",
    "    'IBT': {'latitude_deg': 44.32, 'longitude_deg': 44.53, 'continent': 'EU'},\n",
    "    'MTY': {'continent': 'NA'},\n",
    "    'ZBA': {'latitude_deg': 47.35, 'longitude_deg': 7.31, 'continent': 'EU'},\n",
    "    'SJO': {'continent': 'NA'},\n",
    "    'IAD': {'continent': 'NA'},\n",
    "    'YJV': {'latitude_deg': 39.48, 'longitude_deg': -0.48, 'continent': 'EU'},\n",
    "    'HAV': {'continent': 'NA'},\n",
    "    'LGA': {'continent': 'NA'},\n",
    "    'JFK': {'continent': 'NA'},\n",
    "    'EWR': {'continent': 'NA'},\n",
    "    'ZVR': {'latitude_deg': 52.37, 'longitude_deg': 9.73, 'continent': 'EU'},\n",
    "    'YYZ': {'continent': 'NA'},\n",
    "    'MIA': {'continent': 'NA'},\n",
    "    'OAX': {'continent': 'NA'},\n",
    "    'IAH': {'continent': 'NA'},\n",
    "    'SJU': {'continent': 'NA'},\n",
    "    'XTI': {'latitude_deg': 40.47, 'longitude_deg': -3.68, 'continent': 'EU'},\n",
    "    'XOC': {'latitude_deg': 40.41, 'longitude_deg': -3.7, 'continent': 'EU'},\n",
    "    'QDU': {'latitude_deg': 51.22, 'longitude_deg': 6.79, 'continent': 'EU'},\n",
    "    'VRA': {'continent': 'NA'},\n",
    "    'ZDN': {'latitude_deg': 49.09, 'longitude_deg': 16.41, 'continent': 'EU'},\n",
    "    'ZAQ': {'latitude_deg': 49.29, 'longitude_deg': 11.04, 'continent': 'EU'},\n",
    "    'ZWS': {'latitude_deg': 48.41, 'longitude_deg': 09.13, 'continent': 'EU'},\n",
    "    'IRT': {'latitude_deg': 41.48, 'longitude_deg': 12.14, 'continent': 'EU'},\n",
    "    'XRJ': {'latitude_deg': 41.47, 'longitude_deg': 12.35, 'continent': 'EU'},\n",
    "    'SAL': {'continent': 'NA'},\n",
    "    'MCO': {'continent': 'NA'},\n",
    "    'ATL': {'continent': 'NA'},\n",
    "    'DEN': {'continent': 'NA'},\n",
    "    'PHX': {'continent': 'NA'},\n",
    "    'ORD': {'continent': 'NA'},\n",
    "    'ZVJ': {'latitude_deg': 24.25, 'longitude_deg': 54.39, 'continent': 'AS'},\n",
    "    'BUR': {'continent': 'NA'},\n",
    "    'HHL': {'latitude_deg': 40.28, 'longitude_deg': 111.34, 'continent': 'AS'},\n",
    "    'HZD': {'latitude_deg': 35.03, 'longitude_deg': 115.23, 'continent': 'AS'},\n",
    "    'DTW': {'continent': 'NA'},\n",
    "    'ZSB': {'latitude_deg': 47.47, 'longitude_deg': 13.0, 'continent': 'EU'},\n",
    "    'XXQ': {'latitude_deg': 47.3, 'longitude_deg': 19.05, 'continent': 'EU'},\n",
    "    'SEA': {'continent': 'NA'},\n",
    "    'XYD': {'latitude_deg': 45.76, 'longitude_deg': 4.83, 'continent': 'EU'},\n",
    "    'SFO': {'continent': 'NA'},\n",
    "    'XYG': {'latitude_deg': 50.4, 'longitude_deg': 14.26, 'continent': 'EU'},\n",
    "    'LAS': {'continent': 'NA'},\n",
    "    'CLT': {'continent': 'NA'},\n",
    "    'YVR': {'continent': 'NA'},\n",
    "    'ONT': {'continent': 'NA'},\n",
    "    'ZMB': {'latitude_deg': 53.37, 'longitude_deg': 09.59, 'continent': 'EU'},\n",
    "    'XNB': {'latitude_deg': 25.25, 'longitude_deg': 55.33, 'continent': 'AS'},\n",
    "    'ZDH': {'latitude_deg': 47.35, 'longitude_deg': 07.31, 'continent': 'EU'},\n",
    "    'MLH': {'latitude_deg': 47.35, 'longitude_deg': 07.31, 'continent': 'EU'},\n",
    "    'MEX': {'continent': 'NA'},\n",
    "    'NLU': {'continent': 'NA'},\n",
    "    'QPP': {'latitude_deg': 52.52, 'longitude_deg': 13.37, 'continent': 'EU'},\n",
    "    'PHL': {'continent': 'NA'},\n",
    "    'LAX': {'continent': 'NA'},\n",
    "    'AGY': {'latitude_deg': 48.25, 'longitude_deg': 48.42, 'continent': 'EU'},\n",
    "    'HOU': {'continent': 'NA'},\n",
    "    'ZFQ': {'latitude_deg': 44.83, 'longitude_deg': -0.56, 'continent': 'EU'},\n",
    "    'SJC': {'continent': 'NA'},\n",
    "    'SNA': {'continent': 'NA'},\n",
    "    'QLS': {'latitude_deg': 46.54, 'longitude_deg': 6.61, 'continent': 'EU'},\n",
    "    'MSP': {'continent': 'NA'},\n",
    "    'DHC': {'latitude_deg': 53.04, 'longitude_deg': 53.02, 'continent': 'EU'},\n",
    "    'WUB': {'latitude_deg': 31.29, 'longitude_deg': 31.49, 'continent': 'AS'},\n",
    "    'XIX': {'latitude_deg': 45.23, 'longitude_deg': 10.53, 'continent': 'EU'},\n",
    "    'YJM': {'latitude_deg': 36.675, 'longitude_deg': -4.499, 'continent': 'EU'},\n",
    "    'QRO': {'continent': 'NA'},\n",
    "}\n",
    "\n",
    "for iata, values in fill_values.items():\n",
    "    idx = airports[airports['IATA'] == iata].index\n",
    "    if not idx.empty:\n",
    "        for col, val in values.items():\n",
    "            airports.at[idx[0], col] = val"
   ],
   "metadata": {
    "collapsed": false,
    "ExecuteTime": {
     "end_time": "2025-08-07T02:35:15.893407100Z",
     "start_time": "2025-08-07T02:35:15.847631400Z"
    }
   },
   "id": "19921e512237f9d5",
   "execution_count": 19
  },
  {
   "cell_type": "code",
   "outputs": [
    {
     "name": "stderr",
     "output_type": "stream",
     "text": [
      "C:\\Users\\Николай\\AppData\\Local\\Temp\\ipykernel_5276\\125646077.py:1: FutureWarning: A value is trying to be set on a copy of a DataFrame or Series through chained assignment using an inplace method.\n",
      "The behavior will change in pandas 3.0. This inplace method will never work because the intermediate object on which we are setting values always behaves as a copy.\n",
      "\n",
      "For example, when doing 'df[col].method(value, inplace=True)', try using 'df.method({col: value}, inplace=True)' or df[col] = df[col].method(value) instead, to perform the operation inplace on the original object.\n",
      "\n",
      "\n",
      "  airports['type'].fillna('RAILWAY', inplace=True)\n"
     ]
    }
   ],
   "source": [
    "airports['type'].fillna('RAILWAY', inplace=True)"
   ],
   "metadata": {
    "collapsed": false,
    "ExecuteTime": {
     "end_time": "2025-08-07T02:35:25.863484Z",
     "start_time": "2025-08-07T02:35:25.838618Z"
    }
   },
   "id": "818f39361f20203c",
   "execution_count": 21
  },
  {
   "cell_type": "code",
   "outputs": [],
   "source": [
    "airports['IATA'] = airports['IATA'].astype('category')\n",
    "airports['City_Name'] = airports['City_Name'].astype('category')\n",
    "airports['Country_Name'] = airports['Country_Name'].astype('category')\n",
    "airports['type'] = airports['type'].astype('category')\n",
    "airports['latitude_deg'] = airports['latitude_deg'].round()\n",
    "airports['longitude_deg'] = airports['longitude_deg'].round()\n",
    "airports['latitude_deg'] = airports['latitude_deg'].astype('int16')\n",
    "airports['longitude_deg'] = airports['longitude_deg'].astype('int16')\n",
    "airports['continent'] = airports['continent'].astype('category')"
   ],
   "metadata": {
    "collapsed": false,
    "ExecuteTime": {
     "end_time": "2025-08-07T02:35:32.302770700Z",
     "start_time": "2025-08-07T02:35:32.267930200Z"
    }
   },
   "id": "df5bc5d224a5fc5d",
   "execution_count": 23
  },
  {
   "cell_type": "code",
   "outputs": [],
   "source": [
    "legs0_segments0_arrivalTo_airport_iata_map = {old_id: new_id for new_id, old_id in enumerate(train['legs0_segments0_arrivalTo_airport_iata'].unique())}\n",
    "legs0_segments1_arrivalTo_airport_iata_map = {old_id: new_id for new_id, old_id in enumerate(train['legs0_segments1_arrivalTo_airport_iata'].unique())}\n",
    "legs0_segments2_arrivalTo_airport_iata_map = {old_id: new_id for new_id, old_id in enumerate(train['legs0_segments2_arrivalTo_airport_iata'].unique())}\n",
    "legs0_segments3_arrivalTo_airport_iata_map = {old_id: new_id for new_id, old_id in enumerate(train['legs0_segments3_arrivalTo_airport_iata'].unique())}\n",
    "\n",
    "legs1_segments0_arrivalTo_airport_iata_map = {old_id: new_id for new_id, old_id in enumerate(train['legs1_segments0_arrivalTo_airport_iata'].unique())}\n",
    "legs1_segments1_arrivalTo_airport_iata_map = {old_id: new_id for new_id, old_id in enumerate(train['legs1_segments1_arrivalTo_airport_iata'].unique())}\n",
    "legs1_segments2_arrivalTo_airport_iata_map = {old_id: new_id for new_id, old_id in enumerate(train['legs1_segments2_arrivalTo_airport_iata'].unique())}\n",
    "legs1_segments3_arrivalTo_airport_iata_map = {old_id: new_id for new_id, old_id in enumerate(train['legs1_segments3_arrivalTo_airport_iata'].unique())}\n",
    "\n",
    "legs0_segments0_departureFrom_airport_iata_map = {old_id: new_id for new_id, old_id in enumerate(train['legs0_segments0_departureFrom_airport_iata'].unique())}\n",
    "legs0_segments1_departureFrom_airport_iata_map = {old_id: new_id for new_id, old_id in enumerate(train['legs0_segments1_departureFrom_airport_iata'].unique())}\n",
    "legs0_segments2_departureFrom_airport_iata_map = {old_id: new_id for new_id, old_id in enumerate(train['legs0_segments2_departureFrom_airport_iata'].unique())}\n",
    "legs0_segments3_departureFrom_airport_iata_map = {old_id: new_id for new_id, old_id in enumerate(train['legs0_segments3_departureFrom_airport_iata'].unique())}\n",
    "\n",
    "legs1_segments0_departureFrom_airport_iata_map = {old_id: new_id for new_id, old_id in enumerate(train['legs1_segments0_departureFrom_airport_iata'].unique())}\n",
    "legs1_segments1_departureFrom_airport_iata_map = {old_id: new_id for new_id, old_id in enumerate(train['legs1_segments1_departureFrom_airport_iata'].unique())}\n",
    "legs1_segments2_departureFrom_airport_iata_map = {old_id: new_id for new_id, old_id in enumerate(train['legs1_segments2_departureFrom_airport_iata'].unique())}\n",
    "legs1_segments3_departureFrom_airport_iata_map = {old_id: new_id for new_id, old_id in enumerate(train['legs1_segments3_departureFrom_airport_iata'].unique())}"
   ],
   "metadata": {
    "collapsed": false,
    "ExecuteTime": {
     "end_time": "2025-08-07T02:37:37.879641400Z",
     "start_time": "2025-08-07T02:37:34.755467600Z"
    }
   },
   "id": "50be308527da02ed",
   "execution_count": 25
  },
  {
   "cell_type": "code",
   "outputs": [],
   "source": [
    "maps = {\n",
    "    \"legs0_segments0_arrivalTo_airport_iata_map\": legs0_segments0_arrivalTo_airport_iata_map,\n",
    "    \"legs0_segments1_arrivalTo_airport_iata_map\": legs0_segments1_arrivalTo_airport_iata_map,\n",
    "    \"legs0_segments2_arrivalTo_airport_iata_map\": legs0_segments2_arrivalTo_airport_iata_map,\n",
    "    \"legs0_segments3_arrivalTo_airport_iata_map\": legs0_segments3_arrivalTo_airport_iata_map,\n",
    "    \n",
    "    \"legs1_segments0_arrivalTo_airport_iata_map\": legs1_segments0_arrivalTo_airport_iata_map,\n",
    "    \"legs1_segments1_arrivalTo_airport_iata_map\": legs1_segments1_arrivalTo_airport_iata_map,\n",
    "    \"legs1_segments2_arrivalTo_airport_iata_map\": legs1_segments2_arrivalTo_airport_iata_map,\n",
    "    \"legs1_segments3_arrivalTo_airport_iata_map\": legs1_segments3_arrivalTo_airport_iata_map,\n",
    "    \n",
    "    \"legs0_segments0_departureFrom_airport_iata_map\": legs0_segments0_departureFrom_airport_iata_map,\n",
    "    \"legs0_segments1_departureFrom_airport_iata_map\": legs0_segments1_departureFrom_airport_iata_map,\n",
    "    \"legs0_segments2_departureFrom_airport_iata_map\": legs0_segments2_departureFrom_airport_iata_map,\n",
    "    \"legs0_segments3_departureFrom_airport_iata_map\": legs0_segments3_departureFrom_airport_iata_map,\n",
    "    \n",
    "    \"legs1_segments0_departureFrom_airport_iata_map\": legs1_segments0_departureFrom_airport_iata_map,\n",
    "    \"legs1_segments1_departureFrom_airport_iata_map\": legs1_segments1_departureFrom_airport_iata_map,\n",
    "    \"legs1_segments2_departureFrom_airport_iata_map\": legs1_segments2_departureFrom_airport_iata_map,\n",
    "    \"legs1_segments3_departureFrom_airport_iata_map\": legs1_segments3_departureFrom_airport_iata_map\n",
    "}"
   ],
   "metadata": {
    "collapsed": false,
    "ExecuteTime": {
     "end_time": "2025-08-07T02:37:40.616048900Z",
     "start_time": "2025-08-07T02:37:40.594378100Z"
    }
   },
   "id": "3a94efaf492a0149",
   "execution_count": 26
  },
  {
   "cell_type": "code",
   "outputs": [],
   "source": [
    "current_dir = os.getcwd()\n",
    "folder_name = os.path.basename(current_dir)\n",
    "\n",
    "airports_path = f\"{folder_name}_airports.csv\"\n",
    "airports.to_csv(airports_path, index=False)\n",
    "\n",
    "with open(f\"{folder_name}_airport_iata_maps.json\", \"w\", encoding=\"utf-8\") as f:\n",
    "    json.dump(maps, f, ensure_ascii=False, indent=2)"
   ],
   "metadata": {
    "collapsed": false,
    "ExecuteTime": {
     "end_time": "2025-08-07T02:40:26.842190600Z",
     "start_time": "2025-08-07T02:40:26.827181500Z"
    }
   },
   "id": "9856f1a0c7db8dfb",
   "execution_count": 28
  },
  {
   "cell_type": "code",
   "outputs": [
    {
     "data": {
      "text/plain": "    IATA          City_Name        Country_Name            type  latitude_deg  \\\n0    NRT              Tokyo               Japan   large_airport            36   \n1    HND              Tokyo               Japan   large_airport            36   \n2    VNS           Varanasi               India  medium_airport            25   \n3    BAV             Baotou               China  medium_airport            41   \n4    BMV         Banmethuot            Viet Nam  medium_airport            13   \n..   ...                ...                 ...             ...           ...   \n686  WDS             Shiyan               China  medium_airport            33   \n687  BZX            BAZHONG               China   small_airport            32   \n688  NBS            Baishan               China  medium_airport            42   \n689  EYK  Beloyarsky (HMAO)  Russian Federation  medium_airport            64   \n690  YLX     Yulin (Guanxi)               China  medium_airport            22   \n\n     longitude_deg continent  \n0              140        AS  \n1              140        AS  \n2               83        AS  \n3              110        AS  \n4              108        AS  \n..             ...       ...  \n686            111        AS  \n687            107        AS  \n688            128        AS  \n689             67        EU  \n690            110        AS  \n\n[691 rows x 7 columns]",
      "text/html": "<div>\n<style scoped>\n    .dataframe tbody tr th:only-of-type {\n        vertical-align: middle;\n    }\n\n    .dataframe tbody tr th {\n        vertical-align: top;\n    }\n\n    .dataframe thead th {\n        text-align: right;\n    }\n</style>\n<table border=\"1\" class=\"dataframe\">\n  <thead>\n    <tr style=\"text-align: right;\">\n      <th></th>\n      <th>IATA</th>\n      <th>City_Name</th>\n      <th>Country_Name</th>\n      <th>type</th>\n      <th>latitude_deg</th>\n      <th>longitude_deg</th>\n      <th>continent</th>\n    </tr>\n  </thead>\n  <tbody>\n    <tr>\n      <th>0</th>\n      <td>NRT</td>\n      <td>Tokyo</td>\n      <td>Japan</td>\n      <td>large_airport</td>\n      <td>36</td>\n      <td>140</td>\n      <td>AS</td>\n    </tr>\n    <tr>\n      <th>1</th>\n      <td>HND</td>\n      <td>Tokyo</td>\n      <td>Japan</td>\n      <td>large_airport</td>\n      <td>36</td>\n      <td>140</td>\n      <td>AS</td>\n    </tr>\n    <tr>\n      <th>2</th>\n      <td>VNS</td>\n      <td>Varanasi</td>\n      <td>India</td>\n      <td>medium_airport</td>\n      <td>25</td>\n      <td>83</td>\n      <td>AS</td>\n    </tr>\n    <tr>\n      <th>3</th>\n      <td>BAV</td>\n      <td>Baotou</td>\n      <td>China</td>\n      <td>medium_airport</td>\n      <td>41</td>\n      <td>110</td>\n      <td>AS</td>\n    </tr>\n    <tr>\n      <th>4</th>\n      <td>BMV</td>\n      <td>Banmethuot</td>\n      <td>Viet Nam</td>\n      <td>medium_airport</td>\n      <td>13</td>\n      <td>108</td>\n      <td>AS</td>\n    </tr>\n    <tr>\n      <th>...</th>\n      <td>...</td>\n      <td>...</td>\n      <td>...</td>\n      <td>...</td>\n      <td>...</td>\n      <td>...</td>\n      <td>...</td>\n    </tr>\n    <tr>\n      <th>686</th>\n      <td>WDS</td>\n      <td>Shiyan</td>\n      <td>China</td>\n      <td>medium_airport</td>\n      <td>33</td>\n      <td>111</td>\n      <td>AS</td>\n    </tr>\n    <tr>\n      <th>687</th>\n      <td>BZX</td>\n      <td>BAZHONG</td>\n      <td>China</td>\n      <td>small_airport</td>\n      <td>32</td>\n      <td>107</td>\n      <td>AS</td>\n    </tr>\n    <tr>\n      <th>688</th>\n      <td>NBS</td>\n      <td>Baishan</td>\n      <td>China</td>\n      <td>medium_airport</td>\n      <td>42</td>\n      <td>128</td>\n      <td>AS</td>\n    </tr>\n    <tr>\n      <th>689</th>\n      <td>EYK</td>\n      <td>Beloyarsky (HMAO)</td>\n      <td>Russian Federation</td>\n      <td>medium_airport</td>\n      <td>64</td>\n      <td>67</td>\n      <td>EU</td>\n    </tr>\n    <tr>\n      <th>690</th>\n      <td>YLX</td>\n      <td>Yulin (Guanxi)</td>\n      <td>China</td>\n      <td>medium_airport</td>\n      <td>22</td>\n      <td>110</td>\n      <td>AS</td>\n    </tr>\n  </tbody>\n</table>\n<p>691 rows × 7 columns</p>\n</div>"
     },
     "execution_count": 29,
     "metadata": {},
     "output_type": "execute_result"
    }
   ],
   "source": [
    "airports"
   ],
   "metadata": {
    "collapsed": false,
    "ExecuteTime": {
     "end_time": "2025-08-07T02:43:40.457454100Z",
     "start_time": "2025-08-07T02:43:40.435131200Z"
    }
   },
   "id": "a4c5413b46fa0851",
   "execution_count": 29
  },
  {
   "cell_type": "code",
   "outputs": [],
   "source": [],
   "metadata": {
    "collapsed": false
   },
   "id": "e6f2ee68c7d372e1"
  }
 ],
 "metadata": {
  "kernelspec": {
   "display_name": "Python 3",
   "language": "python",
   "name": "python3"
  },
  "language_info": {
   "codemirror_mode": {
    "name": "ipython",
    "version": 2
   },
   "file_extension": ".py",
   "mimetype": "text/x-python",
   "name": "python",
   "nbconvert_exporter": "python",
   "pygments_lexer": "ipython2",
   "version": "2.7.6"
  }
 },
 "nbformat": 4,
 "nbformat_minor": 5
}
